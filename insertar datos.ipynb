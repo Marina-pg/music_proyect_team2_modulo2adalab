{
 "cells": [
  {
   "cell_type": "code",
   "execution_count": 172,
   "metadata": {},
   "outputs": [],
   "source": [
    "import json\n",
    "import pandas as pd"
   ]
  },
  {
   "cell_type": "code",
   "execution_count": 159,
   "metadata": {},
   "outputs": [],
   "source": [
    "import mysql.connector\n",
    "from mysql.connector import errorcode"
   ]
  },
  {
   "cell_type": "markdown",
   "metadata": {},
   "source": [
    "Conectarse a la bbdd"
   ]
  },
  {
   "cell_type": "code",
   "execution_count": 160,
   "metadata": {},
   "outputs": [],
   "source": [
    "cnx = mysql.connector.connect(user='root', password='AlumnaAdalab',\n",
    "host='127.0.0.1',\n",
    "database='musicstream', \n",
    "auth_plugin ='mysql_native_password')"
   ]
  },
  {
   "cell_type": "code",
   "execution_count": 161,
   "metadata": {},
   "outputs": [],
   "source": [
    "mycursor = cnx.cursor()"
   ]
  },
  {
   "cell_type": "markdown",
   "metadata": {},
   "source": [
    "Añadir a la bbdd las zonas"
   ]
  },
  {
   "cell_type": "code",
   "execution_count": 162,
   "metadata": {},
   "outputs": [],
   "source": [
    "query = \"INSERT INTO zonas(nombre_zona) VALUES(%s)\"\n",
    "val = [[('mediterraneo')], [('norte')], [('centro')], [('este')]]\n",
    "mycursor.executemany(query, val)\n",
    "cnx.commit()"
   ]
  },
  {
   "cell_type": "code",
   "execution_count": 139,
   "metadata": {},
   "outputs": [],
   "source": [
    "paises_mediterraneos = {\n",
    "    \"ES\": \"España\",\n",
    "    \"FR\": \"Francia\",\n",
    "    \"MC\": \"Mónaco\",\n",
    "    \"IT\": \"Italia\",\n",
    "    \"SI\": \"Eslovenia\",\n",
    "    \"HR\": \"Croacia\",\n",
    "    \"BA\": \"Bosnia y Herzegovina\",\n",
    "    \"ME\": \"Montenegro\",\n",
    "    \"AL\": \"Albania\",\n",
    "    \"GR\": \"Grecia\",\n",
    "    \"MT\": \"Malta\",\n",
    "    \"CY\": \"Chipre\"}\n",
    "paises_este_europa = {\n",
    "    \"BY\": \"Bielorrusia\",\n",
    "    \"BG\": \"Bulgaria\",\n",
    "    \"CZ\": \"Chequia\",\n",
    "    \"SK\": \"Eslovaquia\",\n",
    "    \"HU\": \"Hungría\",\n",
    "    \"MD\": \"Moldavia\",\n",
    "    \"PL\": \"Polonia\",\n",
    "    \"RO\": \"Rumanía\",\n",
    "    \"UA\": \"Ucrania\"}\n",
    "paises_norte_europa = {\n",
    "    \"DK\": \"Dinamarca\",\n",
    "    \"EE\": \"Estonia\",\n",
    "    \"FI\": \"Finlandia\",\n",
    "    \"IS\": \"Islandia\",\n",
    "    \"IE\": \"Irlanda\",\n",
    "    \"LT\": \"Lituania\",\n",
    "    \"LV\": \"Letonia\",\n",
    "    \"NO\": \"Noruega\",\n",
    "    \"SE\": \"Suecia\",\n",
    "    \"GB\": \"Reino Unido\"}\n",
    "paises_europa_central = {\n",
    "    \"AT\": \"Austria\",\n",
    "    \"DE\": \"Alemania\",\n",
    "    \"CH\": \"Suiza\",\n",
    "    \"LI\": \"Liechtenstein\",\n",
    "    \"BE\": \"Bélgica\",\n",
    "    \"LU\": \"Luxemburgo\",\n",
    "    \"NL\": \"Países Bajos\"}"
   ]
  },
  {
   "cell_type": "code",
   "execution_count": null,
   "metadata": {},
   "outputs": [],
   "source": [
    "# ID_ZONA: 1 mediterraneo, 2\tnorte, 3 centro, 4 este "
   ]
  },
  {
   "cell_type": "code",
   "execution_count": 163,
   "metadata": {},
   "outputs": [],
   "source": [
    "def añadir_pais(diccionario, id_zona):\n",
    "    for id, pais in diccionario.items():\n",
    "        query = \"INSERT INTO paises(id_pais, nombre_pais, id_zona) VALUES(%s, %s, %s)\"\n",
    "        val = [(id, pais, id_zona)] \n",
    "        mycursor.executemany(query, val)\n",
    "        cnx.commit()"
   ]
  },
  {
   "cell_type": "code",
   "execution_count": null,
   "metadata": {},
   "outputs": [],
   "source": [
    "añadir_pais(paises_este_europa, 4)\n",
    "#esto hacerlo  para cada diccionario"
   ]
  },
  {
   "cell_type": "markdown",
   "metadata": {},
   "source": [
    "Añadir rango años"
   ]
  },
  {
   "cell_type": "code",
   "execution_count": 165,
   "metadata": {},
   "outputs": [],
   "source": [
    "query_años = \"INSERT INTO años(rango_años) VALUES(%s)\"\n",
    "val_años = [[('2000-2004')], [('2005-2009')], [('2010-2014')], [('2015-2019')], [('2020-2024')]]\n",
    "mycursor.executemany(query_años, val_años)\n",
    "cnx.commit()"
   ]
  },
  {
   "cell_type": "markdown",
   "metadata": {},
   "source": [
    "Añadir artistas"
   ]
  },
  {
   "cell_type": "markdown",
   "metadata": {},
   "source": [
    "Convertir csv en df y Añadir datos de los df a la bbdd"
   ]
  },
  {
   "cell_type": "code",
   "execution_count": 180,
   "metadata": {},
   "outputs": [],
   "source": [
    "def convertir_csv(zona, años):\n",
    "    df = pd.read_csv(f'archivos_csv/paises_{zona}_{años}.csv',index_col = 0)\n",
    "    return df"
   ]
  },
  {
   "cell_type": "code",
   "execution_count": 181,
   "metadata": {},
   "outputs": [],
   "source": [
    "df_este_00_04 = convertir_csv('este_europa', '2000_2004')"
   ]
  },
  {
   "cell_type": "code",
   "execution_count": null,
   "metadata": {},
   "outputs": [],
   "source": [
    "# crear una lista por zona y año\n",
    "lt_art_med = []"
   ]
  },
  {
   "cell_type": "code",
   "execution_count": 168,
   "metadata": {},
   "outputs": [],
   "source": [
    "for i in df_mediterraneos.itertuples(name=None, index=False):\n",
    "    lt_art_med.append(([i[2]]))\n"
   ]
  },
  {
   "cell_type": "code",
   "execution_count": 169,
   "metadata": {},
   "outputs": [],
   "source": [
    "query_artistas = \"INSERT INTO artistas(nombre_artista) VALUES(%s)\"\n",
    "for art in lt_art_med:\n",
    "    try:\n",
    "     mycursor.execute(query_artistas, art)\n",
    "     cnx.commit()\n",
    "    except:\n",
    "      continue\n",
    "cnx.close()"
   ]
  }
 ],
 "metadata": {
  "kernelspec": {
   "display_name": "base",
   "language": "python",
   "name": "python3"
  },
  "language_info": {
   "codemirror_mode": {
    "name": "ipython",
    "version": 3
   },
   "file_extension": ".py",
   "mimetype": "text/x-python",
   "name": "python",
   "nbconvert_exporter": "python",
   "pygments_lexer": "ipython3",
   "version": "3.12.7"
  }
 },
 "nbformat": 4,
 "nbformat_minor": 2
}
