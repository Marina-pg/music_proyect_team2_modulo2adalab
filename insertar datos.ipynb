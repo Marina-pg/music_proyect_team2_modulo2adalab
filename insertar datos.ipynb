{
 "cells": [
  {
   "cell_type": "code",
   "execution_count": 1,
   "metadata": {},
   "outputs": [],
   "source": [
    "import json\n",
    "import pandas as pd"
   ]
  },
  {
   "cell_type": "code",
   "execution_count": 2,
   "metadata": {},
   "outputs": [],
   "source": [
    "import mysql.connector\n",
    "from mysql.connector import errorcode"
   ]
  },
  {
   "cell_type": "markdown",
   "metadata": {},
   "source": [
    "Conectarse a la bbdd"
   ]
  },
  {
   "cell_type": "code",
   "execution_count": 3,
   "metadata": {},
   "outputs": [],
   "source": [
    "cnx = mysql.connector.connect(user='root', password='AlumnaAdalab',\n",
    "host='127.0.0.1',\n",
    "database='musicstream', \n",
    "auth_plugin ='mysql_native_password')"
   ]
  },
  {
   "cell_type": "code",
   "execution_count": 4,
   "metadata": {},
   "outputs": [],
   "source": [
    "mycursor = cnx.cursor()"
   ]
  },
  {
   "cell_type": "markdown",
   "metadata": {},
   "source": [
    "Añadir a la bbdd las zonas"
   ]
  },
  {
   "cell_type": "code",
   "execution_count": 162,
   "metadata": {},
   "outputs": [],
   "source": [
    "query = \"INSERT INTO zonas(nombre_zona) VALUES(%s)\"\n",
    "val = [[('mediterraneo')], [('norte')], [('centro')], [('este')]]\n",
    "mycursor.executemany(query, val)\n",
    "cnx.commit()"
   ]
  },
  {
   "cell_type": "code",
   "execution_count": 6,
   "metadata": {},
   "outputs": [],
   "source": [
    "paises_mediterraneos = {\n",
    "    \"ES\": \"España\",\n",
    "    \"FR\": \"Francia\",\n",
    "    \"MC\": \"Mónaco\",\n",
    "    \"IT\": \"Italia\",\n",
    "    \"SI\": \"Eslovenia\",\n",
    "    \"HR\": \"Croacia\",\n",
    "    \"BA\": \"Bosnia y Herzegovina\",\n",
    "    \"ME\": \"Montenegro\",\n",
    "    \"AL\": \"Albania\",\n",
    "    \"GR\": \"Grecia\",\n",
    "    \"MT\": \"Malta\",\n",
    "    \"CY\": \"Chipre\"}\n",
    "paises_este_europa = {\n",
    "    \"BY\": \"Bielorrusia\",\n",
    "    \"BG\": \"Bulgaria\",\n",
    "    \"CZ\": \"Chequia\",\n",
    "    \"SK\": \"Eslovaquia\",\n",
    "    \"HU\": \"Hungría\",\n",
    "    \"MD\": \"Moldavia\",\n",
    "    \"PL\": \"Polonia\",\n",
    "    \"RO\": \"Rumanía\",\n",
    "    \"UA\": \"Ucrania\"}\n",
    "paises_norte_europa = {\n",
    "    \"DK\": \"Dinamarca\",\n",
    "    \"EE\": \"Estonia\",\n",
    "    \"FI\": \"Finlandia\",\n",
    "    \"IS\": \"Islandia\",\n",
    "    \"IE\": \"Irlanda\",\n",
    "    \"LT\": \"Lituania\",\n",
    "    \"LV\": \"Letonia\",\n",
    "    \"NO\": \"Noruega\",\n",
    "    \"SE\": \"Suecia\",\n",
    "    \"GB\": \"Reino Unido\"}\n",
    "paises_europa_central = {\n",
    "    \"AT\": \"Austria\",\n",
    "    \"DE\": \"Alemania\",\n",
    "    \"CH\": \"Suiza\",\n",
    "    \"LI\": \"Liechtenstein\",\n",
    "    \"BE\": \"Bélgica\",\n",
    "    \"LU\": \"Luxemburgo\",\n",
    "    \"NL\": \"Países Bajos\"}"
   ]
  },
  {
   "cell_type": "code",
   "execution_count": null,
   "metadata": {},
   "outputs": [],
   "source": [
    "# ID_ZONA: 1 mediterraneo, 2\tnorte, 3 centro, 4 este "
   ]
  },
  {
   "cell_type": "code",
   "execution_count": 4,
   "metadata": {},
   "outputs": [],
   "source": [
    "def añadir_pais(diccionario, id_zona):\n",
    "    for id, pais in diccionario.items():\n",
    "        query = \"INSERT INTO paises(id_pais, nombre_pais, id_zona) VALUES(%s, %s, %s)\"\n",
    "        val = [(id, pais, id_zona)] \n",
    "        mycursor.executemany(query, val)\n",
    "        cnx.commit()"
   ]
  },
  {
   "cell_type": "code",
   "execution_count": null,
   "metadata": {},
   "outputs": [],
   "source": [
    "añadir_pais(paises_este_europa, 4)\n",
    "#esto hacerlo  para cada diccionario\n",
    "#    "
   ]
  },
  {
   "cell_type": "code",
   "execution_count": 13,
   "metadata": {},
   "outputs": [],
   "source": [
    "añadir_pais(paises_mediterraneos,1)"
   ]
  },
  {
   "cell_type": "markdown",
   "metadata": {},
   "source": [
    "Añadir rango años"
   ]
  },
  {
   "cell_type": "code",
   "execution_count": 165,
   "metadata": {},
   "outputs": [],
   "source": [
    "query_años = \"INSERT INTO años(rango_años) VALUES(%s)\"\n",
    "val_años = [[('2000-2004')], [('2005-2009')], [('2010-2014')], [('2015-2019')], [('2020-2024')]]\n",
    "mycursor.executemany(query_años, val_años)\n",
    "cnx.commit()"
   ]
  },
  {
   "cell_type": "markdown",
   "metadata": {},
   "source": [
    "Añadir artistas"
   ]
  },
  {
   "cell_type": "markdown",
   "metadata": {},
   "source": [
    "Convertir csv en df y Añadir datos de los df a la bbdd"
   ]
  },
  {
   "cell_type": "code",
   "execution_count": 6,
   "metadata": {},
   "outputs": [],
   "source": [
    "def convertir_csv(zona, años):\n",
    "    df = pd.read_csv(f'archivos_csv/paises_{zona}_{años}.csv',index_col = 0)\n",
    "    return df"
   ]
  },
  {
   "cell_type": "code",
   "execution_count": 7,
   "metadata": {},
   "outputs": [],
   "source": [
    "df_este_00_04 = convertir_csv('este_europa', '2000_2004')"
   ]
  },
  {
   "cell_type": "code",
   "execution_count": 8,
   "metadata": {},
   "outputs": [
    {
     "data": {
      "text/html": [
       "<div>\n",
       "<style scoped>\n",
       "    .dataframe tbody tr th:only-of-type {\n",
       "        vertical-align: middle;\n",
       "    }\n",
       "\n",
       "    .dataframe tbody tr th {\n",
       "        vertical-align: top;\n",
       "    }\n",
       "\n",
       "    .dataframe thead th {\n",
       "        text-align: right;\n",
       "    }\n",
       "</style>\n",
       "<table border=\"1\" class=\"dataframe\">\n",
       "  <thead>\n",
       "    <tr style=\"text-align: right;\">\n",
       "      <th></th>\n",
       "      <th>nombre</th>\n",
       "      <th>popularity</th>\n",
       "      <th>artista</th>\n",
       "      <th>pais</th>\n",
       "      <th>genero</th>\n",
       "    </tr>\n",
       "    <tr>\n",
       "      <th>id</th>\n",
       "      <th></th>\n",
       "      <th></th>\n",
       "      <th></th>\n",
       "      <th></th>\n",
       "      <th></th>\n",
       "    </tr>\n",
       "  </thead>\n",
       "  <tbody>\n",
       "    <tr>\n",
       "      <th>0</th>\n",
       "      <td>Сукины дети</td>\n",
       "      <td>52</td>\n",
       "      <td>1.Kla$</td>\n",
       "      <td>BY</td>\n",
       "      <td>NaN</td>\n",
       "    </tr>\n",
       "    <tr>\n",
       "      <th>1</th>\n",
       "      <td>Angel</td>\n",
       "      <td>28</td>\n",
       "      <td>Shaggy, Rayvon</td>\n",
       "      <td>BY</td>\n",
       "      <td>NaN</td>\n",
       "    </tr>\n",
       "    <tr>\n",
       "      <th>2</th>\n",
       "      <td>Sonne</td>\n",
       "      <td>73</td>\n",
       "      <td>Rammstein</td>\n",
       "      <td>BY</td>\n",
       "      <td>industrial metal</td>\n",
       "    </tr>\n",
       "    <tr>\n",
       "      <th>3</th>\n",
       "      <td>Cabelo Raspadinho</td>\n",
       "      <td>2</td>\n",
       "      <td>Chiclete Com Banana</td>\n",
       "      <td>BY</td>\n",
       "      <td>brasil</td>\n",
       "    </tr>\n",
       "    <tr>\n",
       "      <th>4</th>\n",
       "      <td>Without Me</td>\n",
       "      <td>83</td>\n",
       "      <td>Eminem</td>\n",
       "      <td>BY</td>\n",
       "      <td>rap</td>\n",
       "    </tr>\n",
       "    <tr>\n",
       "      <th>...</th>\n",
       "      <td>...</td>\n",
       "      <td>...</td>\n",
       "      <td>...</td>\n",
       "      <td>...</td>\n",
       "      <td>...</td>\n",
       "    </tr>\n",
       "    <tr>\n",
       "      <th>445</th>\n",
       "      <td>The Way I Am</td>\n",
       "      <td>0</td>\n",
       "      <td>Eminem</td>\n",
       "      <td>UA</td>\n",
       "      <td>rap</td>\n",
       "    </tr>\n",
       "    <tr>\n",
       "      <th>446</th>\n",
       "      <td>Seven Nation Army</td>\n",
       "      <td>78</td>\n",
       "      <td>The White Stripes</td>\n",
       "      <td>UA</td>\n",
       "      <td>rock</td>\n",
       "    </tr>\n",
       "    <tr>\n",
       "      <th>447</th>\n",
       "      <td>Rama Hare - From \"Soothradharan\"</td>\n",
       "      <td>0</td>\n",
       "      <td>Raveendran, Edappal Viswan, Gayathri Ashokan</td>\n",
       "      <td>UA</td>\n",
       "      <td>NaN</td>\n",
       "    </tr>\n",
       "    <tr>\n",
       "      <th>448</th>\n",
       "      <td>Bitches</td>\n",
       "      <td>67</td>\n",
       "      <td>Mindless Self Indulgence</td>\n",
       "      <td>UA</td>\n",
       "      <td>industrial</td>\n",
       "    </tr>\n",
       "    <tr>\n",
       "      <th>449</th>\n",
       "      <td>Oceano - Ao Vivo</td>\n",
       "      <td>0</td>\n",
       "      <td>Djavan</td>\n",
       "      <td>UA</td>\n",
       "      <td>NaN</td>\n",
       "    </tr>\n",
       "  </tbody>\n",
       "</table>\n",
       "<p>450 rows × 5 columns</p>\n",
       "</div>"
      ],
      "text/plain": [
       "                               nombre  popularity  \\\n",
       "id                                                  \n",
       "0                         Сукины дети          52   \n",
       "1                               Angel          28   \n",
       "2                               Sonne          73   \n",
       "3                   Cabelo Raspadinho           2   \n",
       "4                          Without Me          83   \n",
       "..                                ...         ...   \n",
       "445                      The Way I Am           0   \n",
       "446                 Seven Nation Army          78   \n",
       "447  Rama Hare - From \"Soothradharan\"           0   \n",
       "448                           Bitches          67   \n",
       "449                  Oceano - Ao Vivo           0   \n",
       "\n",
       "                                          artista pais            genero  \n",
       "id                                                                        \n",
       "0                                          1.Kla$   BY               NaN  \n",
       "1                                  Shaggy, Rayvon   BY               NaN  \n",
       "2                                       Rammstein   BY  industrial metal  \n",
       "3                             Chiclete Com Banana   BY            brasil  \n",
       "4                                          Eminem   BY               rap  \n",
       "..                                            ...  ...               ...  \n",
       "445                                        Eminem   UA               rap  \n",
       "446                             The White Stripes   UA              rock  \n",
       "447  Raveendran, Edappal Viswan, Gayathri Ashokan   UA               NaN  \n",
       "448                      Mindless Self Indulgence   UA        industrial  \n",
       "449                                        Djavan   UA               NaN  \n",
       "\n",
       "[450 rows x 5 columns]"
      ]
     },
     "execution_count": 8,
     "metadata": {},
     "output_type": "execute_result"
    }
   ],
   "source": [
    "df_este_00_04"
   ]
  },
  {
   "cell_type": "code",
   "execution_count": 9,
   "metadata": {},
   "outputs": [],
   "source": [
    "# crear una lista por zona y año\n",
    "lt_art_med = []"
   ]
  },
  {
   "cell_type": "code",
   "execution_count": 10,
   "metadata": {},
   "outputs": [],
   "source": [
    "for i in df_este_00_04.itertuples(name=None, index=False):\n",
    "    lt_art_med.append(([i[2]]))\n"
   ]
  },
  {
   "cell_type": "code",
   "execution_count": 169,
   "metadata": {},
   "outputs": [],
   "source": [
    "query_artistas = \"INSERT INTO artistas(nombre_artista) VALUES(%s)\"\n",
    "for art in lt_art_med:\n",
    "    try:\n",
    "     mycursor.execute(query_artistas, art)\n",
    "     cnx.commit()\n",
    "    except:\n",
    "      continue\n",
    "cnx.close()"
   ]
  },
  {
   "cell_type": "markdown",
   "metadata": {},
   "source": [
    "Insertar en tabla canciones"
   ]
  },
  {
   "cell_type": "code",
   "execution_count": 11,
   "metadata": {},
   "outputs": [],
   "source": [
    "c_g_p = {'cancion': [], 'genero': [], 'popularidad': [], 'id_pais': []}"
   ]
  },
  {
   "cell_type": "code",
   "execution_count": 12,
   "metadata": {},
   "outputs": [],
   "source": [
    "for i in df_este_00_04.itertuples(name=None, index=False):\n",
    "    c_g_p['cancion'].append(([i[0]]))\n",
    "    c_g_p['genero'].append(([i[4]]))\n",
    "    c_g_p['popularidad'].append(([i[1]]))\n",
    "    c_g_p['id_pais'].append(([i[3]]))\n",
    "\n"
   ]
  },
  {
   "cell_type": "code",
   "execution_count": 13,
   "metadata": {},
   "outputs": [],
   "source": [
    "query_canciones = \"INSERT INTO canciones(cancion, genero, popularidad, id_lustro, id_pais) VALUES(%s, %s, %s, %s, %s)\""
   ]
  },
  {
   "cell_type": "code",
   "execution_count": 32,
   "metadata": {},
   "outputs": [],
   "source": [
    "def añadir_canciones(diccionario, id_lustro):\n",
    "    for i in range(len(diccionario['cancion'])):\n",
    "        query = \"INSERT INTO paises(id_pais, nombre_pais, id_lustro, id_pais) VALUES(%s, %s, %s)\"\n",
    "        val = [(diccionario['cancion'][i], diccionario['genero'][i], diccionario['popularidad'][i], id_lustro, diccionario['id_pais'][i])]\n",
    "        mycursor.executemany(query, val)\n",
    "        cnx.commit()"
   ]
  },
  {
   "cell_type": "code",
   "execution_count": 33,
   "metadata": {},
   "outputs": [
    {
     "ename": "InterfaceError",
     "evalue": "Failed executing the operation; Python type list cannot be converted",
     "output_type": "error",
     "traceback": [
      "\u001b[1;31m---------------------------------------------------------------------------\u001b[0m",
      "\u001b[1;31mInterfaceError\u001b[0m                            Traceback (most recent call last)",
      "Cell \u001b[1;32mIn[33], line 1\u001b[0m\n\u001b[1;32m----> 1\u001b[0m añadir_canciones(c_g_p, \u001b[38;5;241m1\u001b[39m)\n",
      "Cell \u001b[1;32mIn[32], line 5\u001b[0m, in \u001b[0;36mañadir_canciones\u001b[1;34m(diccionario, id_lustro)\u001b[0m\n\u001b[0;32m      3\u001b[0m query \u001b[38;5;241m=\u001b[39m \u001b[38;5;124m\"\u001b[39m\u001b[38;5;124mINSERT INTO paises(id_pais, nombre_pais, id_lustro, id_pais) VALUES(\u001b[39m\u001b[38;5;132;01m%s\u001b[39;00m\u001b[38;5;124m, \u001b[39m\u001b[38;5;132;01m%s\u001b[39;00m\u001b[38;5;124m, \u001b[39m\u001b[38;5;132;01m%s\u001b[39;00m\u001b[38;5;124m)\u001b[39m\u001b[38;5;124m\"\u001b[39m\n\u001b[0;32m      4\u001b[0m val \u001b[38;5;241m=\u001b[39m [(diccionario[\u001b[38;5;124m'\u001b[39m\u001b[38;5;124mcancion\u001b[39m\u001b[38;5;124m'\u001b[39m][i], diccionario[\u001b[38;5;124m'\u001b[39m\u001b[38;5;124mgenero\u001b[39m\u001b[38;5;124m'\u001b[39m][i], diccionario[\u001b[38;5;124m'\u001b[39m\u001b[38;5;124mpopularidad\u001b[39m\u001b[38;5;124m'\u001b[39m][i], id_lustro, diccionario[\u001b[38;5;124m'\u001b[39m\u001b[38;5;124mid_pais\u001b[39m\u001b[38;5;124m'\u001b[39m][i])]\n\u001b[1;32m----> 5\u001b[0m mycursor\u001b[38;5;241m.\u001b[39mexecutemany(query, val)\n\u001b[0;32m      6\u001b[0m cnx\u001b[38;5;241m.\u001b[39mcommit()\n",
      "File \u001b[1;32mc:\\Users\\maria\\anaconda3\\Lib\\site-packages\\mysql\\connector\\cursor_cext.py:466\u001b[0m, in \u001b[0;36mCMySQLCursor.executemany\u001b[1;34m(self, operation, seq_params)\u001b[0m\n\u001b[0;32m    464\u001b[0m     \u001b[38;5;28mself\u001b[39m\u001b[38;5;241m.\u001b[39m_rowcount \u001b[38;5;241m=\u001b[39m \u001b[38;5;241m0\u001b[39m\n\u001b[0;32m    465\u001b[0m     \u001b[38;5;28;01mreturn\u001b[39;00m \u001b[38;5;28;01mNone\u001b[39;00m\n\u001b[1;32m--> 466\u001b[0m stmt \u001b[38;5;241m=\u001b[39m \u001b[38;5;28mself\u001b[39m\u001b[38;5;241m.\u001b[39m_batch_insert(operation, seq_params)\n\u001b[0;32m    467\u001b[0m \u001b[38;5;28;01mif\u001b[39;00m stmt \u001b[38;5;129;01mis\u001b[39;00m \u001b[38;5;129;01mnot\u001b[39;00m \u001b[38;5;28;01mNone\u001b[39;00m:\n\u001b[0;32m    468\u001b[0m     \u001b[38;5;28mself\u001b[39m\u001b[38;5;241m.\u001b[39m_executed \u001b[38;5;241m=\u001b[39m stmt\n",
      "File \u001b[1;32mc:\\Users\\maria\\anaconda3\\Lib\\site-packages\\mysql\\connector\\cursor_cext.py:420\u001b[0m, in \u001b[0;36mCMySQLCursor._batch_insert\u001b[1;34m(self, operation, seq_params)\u001b[0m\n\u001b[0;32m    418\u001b[0m     \u001b[38;5;28;01mraise\u001b[39;00m ProgrammingError(\u001b[38;5;28mstr\u001b[39m(err)) \u001b[38;5;28;01mfrom\u001b[39;00m \u001b[38;5;21;01merr\u001b[39;00m\n\u001b[0;32m    419\u001b[0m \u001b[38;5;28;01mexcept\u001b[39;00m \u001b[38;5;167;01mException\u001b[39;00m \u001b[38;5;28;01mas\u001b[39;00m err:\n\u001b[1;32m--> 420\u001b[0m     \u001b[38;5;28;01mraise\u001b[39;00m InterfaceError(\u001b[38;5;124mf\u001b[39m\u001b[38;5;124m\"\u001b[39m\u001b[38;5;124mFailed executing the operation; \u001b[39m\u001b[38;5;132;01m{\u001b[39;00merr\u001b[38;5;132;01m}\u001b[39;00m\u001b[38;5;124m\"\u001b[39m) \u001b[38;5;28;01mfrom\u001b[39;00m \u001b[38;5;28;01mNone\u001b[39;00m\n",
      "\u001b[1;31mInterfaceError\u001b[0m: Failed executing the operation; Python type list cannot be converted"
     ]
    }
   ],
   "source": [
    "añadir_canciones(c_g_p, 1)"
   ]
  }
 ],
 "metadata": {
  "kernelspec": {
   "display_name": "base",
   "language": "python",
   "name": "python3"
  },
  "language_info": {
   "codemirror_mode": {
    "name": "ipython",
    "version": 3
   },
   "file_extension": ".py",
   "mimetype": "text/x-python",
   "name": "python",
   "nbconvert_exporter": "python",
   "pygments_lexer": "ipython3",
   "version": "3.12.7"
  }
 },
 "nbformat": 4,
 "nbformat_minor": 2
}
