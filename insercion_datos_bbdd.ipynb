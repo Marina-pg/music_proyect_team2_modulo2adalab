{
 "cells": [
  {
   "cell_type": "markdown",
   "metadata": {},
   "source": [
    "# 🛜 Set-up para la conexión entre mysql y python 🛜"
   ]
  },
  {
   "cell_type": "code",
   "execution_count": 1,
   "metadata": {},
   "outputs": [],
   "source": [
    "import json\n",
    "import pandas as pd\n",
    "import mysql.connector\n",
    "from mysql.connector import errorcode"
   ]
  },
  {
   "cell_type": "markdown",
   "metadata": {},
   "source": [
    "1. Nos conectamos a la base de datos (script de creación en _schema_bbdd.sql_)"
   ]
  },
  {
   "cell_type": "code",
   "execution_count": 2,
   "metadata": {},
   "outputs": [],
   "source": [
    "cnx = mysql.connector.connect(user='root', password='AlumnaAdalab',\n",
    "host='127.0.0.1',\n",
    "database='musicstream', \n",
    "auth_plugin ='mysql_native_password')"
   ]
  },
  {
   "cell_type": "markdown",
   "metadata": {},
   "source": [
    "2. Creamos el cursor"
   ]
  },
  {
   "cell_type": "code",
   "execution_count": 3,
   "metadata": {},
   "outputs": [],
   "source": [
    "mycursor = cnx.cursor()"
   ]
  },
  {
   "cell_type": "markdown",
   "metadata": {},
   "source": [
    "# 🏗️ Añadiendo datos desde los ficheros .csv 🏗️"
   ]
  },
  {
   "cell_type": "markdown",
   "metadata": {},
   "source": [
    "### Añadimos los datos a la tabla zonas"
   ]
  },
  {
   "cell_type": "code",
   "execution_count": 4,
   "metadata": {},
   "outputs": [],
   "source": [
    "query = \"INSERT INTO zonas(nombre_zona) VALUES(%s)\"\n",
    "val = [[('mediterraneo')], [('norte')], [('centro')], [('este')]]\n",
    "mycursor.executemany(query, val)\n",
    "cnx.commit()"
   ]
  },
  {
   "cell_type": "markdown",
   "metadata": {},
   "source": [
    "### Añadimos los datos a la tabla países"
   ]
  },
  {
   "cell_type": "markdown",
   "metadata": {},
   "source": [
    "1. Definimos los diccionarios con los paises para cada zona"
   ]
  },
  {
   "cell_type": "code",
   "execution_count": 5,
   "metadata": {},
   "outputs": [],
   "source": [
    "paises_mediterraneos = {\n",
    "    \"ES\": \"España\",\n",
    "    \"FR\": \"Francia\",\n",
    "    \"MC\": \"Mónaco\",\n",
    "    \"IT\": \"Italia\",\n",
    "    \"SI\": \"Eslovenia\",\n",
    "    \"HR\": \"Croacia\",\n",
    "    \"BA\": \"Bosnia y Herzegovina\",\n",
    "    \"ME\": \"Montenegro\",\n",
    "    \"AL\": \"Albania\",\n",
    "    \"GR\": \"Grecia\",\n",
    "    \"MT\": \"Malta\",\n",
    "    \"CY\": \"Chipre\"}\n",
    "paises_este_europa = {\n",
    "    \"BY\": \"Bielorrusia\",\n",
    "    \"BG\": \"Bulgaria\",\n",
    "    \"CZ\": \"Chequia\",\n",
    "    \"SK\": \"Eslovaquia\",\n",
    "    \"HU\": \"Hungría\",\n",
    "    \"MD\": \"Moldavia\",\n",
    "    \"PL\": \"Polonia\",\n",
    "    \"RO\": \"Rumanía\",\n",
    "    \"UA\": \"Ucrania\"}\n",
    "paises_norte_europa = {\n",
    "    \"DK\": \"Dinamarca\",\n",
    "    \"EE\": \"Estonia\",\n",
    "    \"FI\": \"Finlandia\",\n",
    "    \"IS\": \"Islandia\",\n",
    "    \"IE\": \"Irlanda\",\n",
    "    \"LT\": \"Lituania\",\n",
    "    \"LV\": \"Letonia\",\n",
    "    \"NO\": \"Noruega\",\n",
    "    \"SE\": \"Suecia\",\n",
    "    \"GB\": \"Reino Unido\"}\n",
    "paises_europa_central = {\n",
    "    \"AT\": \"Austria\",\n",
    "    \"DE\": \"Alemania\",\n",
    "    \"CH\": \"Suiza\",\n",
    "    \"LI\": \"Liechtenstein\",\n",
    "    \"BE\": \"Bélgica\",\n",
    "    \"LU\": \"Luxemburgo\",\n",
    "    \"NL\": \"Países Bajos\"}"
   ]
  },
  {
   "cell_type": "markdown",
   "metadata": {},
   "source": [
    "2. Definimos la función `añadir_pais`"
   ]
  },
  {
   "cell_type": "code",
   "execution_count": 6,
   "metadata": {},
   "outputs": [],
   "source": [
    "def añadir_pais(diccionario, id_zona):\n",
    "    ''' Añade datos a la tabla de paises.\n",
    "\n",
    "        Args: \n",
    "            diccionario (dict): Un diccionario de los definidos para cada zona donde se recogen los países y sus códigos.\n",
    "            id_zona (int): Número asignado a cada zona de europa en la tabla zonas. \n",
    "\n",
    "    '''\n",
    "    for id, pais in diccionario.items():\n",
    "        query = \"INSERT INTO paises(id_pais, nombre_pais, id_zona) VALUES(%s, %s, %s)\"\n",
    "        val = [(id, pais, id_zona)] \n",
    "        mycursor.executemany(query, val)\n",
    "        cnx.commit()"
   ]
  },
  {
   "cell_type": "markdown",
   "metadata": {},
   "source": [
    "Los id_zona quedan entonces como: \n",
    "- 1 mediterraneo\n",
    "- 2 norte\n",
    "- 3 centro \n",
    "- 4 este "
   ]
  },
  {
   "cell_type": "markdown",
   "metadata": {},
   "source": [
    "3. Llamamos a la función en bucle para añadir los países de cada zona de una sola vez. "
   ]
  },
  {
   "cell_type": "code",
   "execution_count": 7,
   "metadata": {},
   "outputs": [],
   "source": [
    "# Definimos estas dos listas, que nos van a servir para poder llamar en bucle a la función. Es MUY IMPORTANTE el orden, debe coincidir el nombre del diccionario con el id_zona asignado a cada zona.\n",
    "lista_diccionarios = [paises_mediterraneos, paises_norte_europa, paises_europa_central, paises_este_europa]\n",
    "lista_zonas = [i for i in range(1,5)]"
   ]
  },
  {
   "cell_type": "code",
   "execution_count": 8,
   "metadata": {},
   "outputs": [],
   "source": [
    "for i in range(len(lista_diccionarios)):\n",
    "    añadir_pais(lista_diccionarios[i], lista_zonas[i])"
   ]
  },
  {
   "cell_type": "markdown",
   "metadata": {},
   "source": [
    "### Añadimos los datos a la tabla años"
   ]
  },
  {
   "cell_type": "code",
   "execution_count": 9,
   "metadata": {},
   "outputs": [],
   "source": [
    "query_años = \"INSERT INTO años(rango_años) VALUES(%s)\"\n",
    "val_años = [[('2000-2004')], [('2005-2009')], [('2010-2014')], [('2015-2019')], [('2020-2024')]]\n",
    "mycursor.executemany(query_años, val_años)\n",
    "cnx.commit()"
   ]
  },
  {
   "cell_type": "markdown",
   "metadata": {},
   "source": [
    "### Añadimos los datos a la tabla artistas"
   ]
  },
  {
   "cell_type": "markdown",
   "metadata": {},
   "source": [
    "1. Definimos la función `convertir_csv`, que convierte cada uno de los csv que hemos creado en un DataFrame."
   ]
  },
  {
   "cell_type": "code",
   "execution_count": 10,
   "metadata": {},
   "outputs": [],
   "source": [
    "def convertir_csv(zona, años):\n",
    "    ''' Convierte el csv de cada zona y rango de años en un DataFrame.\n",
    "    \n",
    "        Args:\n",
    "            zona (str): Nombre de la zona.\n",
    "            años (str): Rango de años en la forma 0000_0000. \n",
    "        Returns: \n",
    "            El DataFrame creado.\n",
    "    '''\n",
    "    df = pd.read_csv(f'archivos_csv/paises_{zona}_{años}.csv',index_col = 0)\n",
    "    return df"
   ]
  },
  {
   "cell_type": "markdown",
   "metadata": {},
   "source": [
    "2. Llamamos a la función una vez por cada csv que debemos convertir."
   ]
  },
  {
   "cell_type": "code",
   "execution_count": 11,
   "metadata": {},
   "outputs": [],
   "source": [
    "# Definimos estas dos listas, que nos van a servir para poder llamar a la función.\n",
    "lista_nombre_zona = [\"este_europa\", \"europa_central\", \"mediterraneos\", \"norte_europa\"]\n",
    "lista_años = [\"2000_2004\", \"2005_2009\", \"2010_2014\", \"2015_2019\", \"2020_2024\"]"
   ]
  },
  {
   "cell_type": "code",
   "execution_count": 12,
   "metadata": {},
   "outputs": [],
   "source": [
    "# Países del este\n",
    "df_este_2000_2004 = convertir_csv(lista_nombre_zona[0], lista_años[0])\n",
    "df_este_2005_2009 = convertir_csv(lista_nombre_zona[0], lista_años[1])\n",
    "df_este_2010_2014 = convertir_csv(lista_nombre_zona[0], lista_años[2])\n",
    "df_este_2015_2019 = convertir_csv(lista_nombre_zona[0], lista_años[3])\n",
    "df_este_2020_2024 = convertir_csv(lista_nombre_zona[0], lista_años[4])"
   ]
  },
  {
   "cell_type": "code",
   "execution_count": 13,
   "metadata": {},
   "outputs": [],
   "source": [
    "# Países del centro\n",
    "df_centro_2000_2004 = convertir_csv(lista_nombre_zona[1], lista_años[0])\n",
    "df_centro_2005_2009 = convertir_csv(lista_nombre_zona[1], lista_años[1])\n",
    "df_centro_2010_2014 = convertir_csv(lista_nombre_zona[1], lista_años[2])\n",
    "df_centro_2015_2019 = convertir_csv(lista_nombre_zona[1], lista_años[3])\n",
    "df_centro_2020_2024 = convertir_csv(lista_nombre_zona[1], lista_años[4])"
   ]
  },
  {
   "cell_type": "code",
   "execution_count": 14,
   "metadata": {},
   "outputs": [],
   "source": [
    "# Países mediterráneos\n",
    "df_medit_2000_2004 = convertir_csv(lista_nombre_zona[2], lista_años[0])\n",
    "df_medit_2005_2009 = convertir_csv(lista_nombre_zona[2], lista_años[1])\n",
    "df_medit_2010_2014 = convertir_csv(lista_nombre_zona[2], lista_años[2])\n",
    "df_medit_2015_2019 = convertir_csv(lista_nombre_zona[2], lista_años[3])\n",
    "df_medit_2020_2024 = convertir_csv(lista_nombre_zona[2], lista_años[4])"
   ]
  },
  {
   "cell_type": "code",
   "execution_count": 15,
   "metadata": {},
   "outputs": [],
   "source": [
    "# Países del norte\n",
    "df_norte_2000_2004 = convertir_csv(lista_nombre_zona[3], lista_años[0])\n",
    "df_norte_2005_2009 = convertir_csv(lista_nombre_zona[3], lista_años[1])\n",
    "df_norte_2010_2014 = convertir_csv(lista_nombre_zona[3], lista_años[2])\n",
    "df_norte_2015_2019 = convertir_csv(lista_nombre_zona[3], lista_años[3])\n",
    "df_norte_2020_2024 = convertir_csv(lista_nombre_zona[3], lista_años[4])"
   ]
  },
  {
   "cell_type": "code",
   "execution_count": 16,
   "metadata": {},
   "outputs": [],
   "source": [
    "lista_df_csv = [df_este_2000_2004, df_este_2005_2009, df_este_2010_2014, df_este_2015_2019, df_este_2020_2024, df_centro_2000_2004, df_centro_2005_2009, df_centro_2010_2014,\n",
    "                df_centro_2015_2019, df_centro_2020_2024, df_medit_2000_2004, df_medit_2005_2009, df_medit_2010_2014, df_medit_2015_2019, df_medit_2020_2024,df_norte_2000_2004,\n",
    "                df_norte_2005_2009, df_norte_2010_2014, df_norte_2015_2019, df_norte_2020_2024]"
   ]
  },
  {
   "cell_type": "markdown",
   "metadata": {},
   "source": [
    "Ordenamos los valores de DataFrame por orden decrediente de popularidad de las canciones, y filtramos para quedarnos solamente con las 50 primeras."
   ]
  },
  {
   "cell_type": "code",
   "execution_count": 17,
   "metadata": {},
   "outputs": [],
   "source": [
    "lista_df_ordenados = []\n",
    "for l in lista_df_csv:\n",
    "    var = l.sort_values(['popularity'], axis=0, ascending=False, ignore_index=True)[0:50]\n",
    "    lista_df_ordenados.append(var)"
   ]
  },
  {
   "cell_type": "markdown",
   "metadata": {},
   "source": [
    "3. Con el siguiente bucle, convertimos cada artista en una lista y lo añadimos a la lista artistas."
   ]
  },
  {
   "cell_type": "code",
   "execution_count": 18,
   "metadata": {},
   "outputs": [],
   "source": [
    "lista_artistas = []\n",
    "for df in lista_df_ordenados:\n",
    "    for i in range(len(df)):\n",
    "        lista_artistas.append(df['artista'][i])\n",
    "artistas = set(lista_artistas) # Así evitamos que haya artistas duplicados."
   ]
  },
  {
   "cell_type": "markdown",
   "metadata": {},
   "source": [
    "4. Ejecutamos la inserción "
   ]
  },
  {
   "cell_type": "code",
   "execution_count": 19,
   "metadata": {},
   "outputs": [],
   "source": [
    "query_artistas = \"INSERT INTO artistas(nombre_artista) VALUES(%s)\"\n",
    "\n",
    "for artista in artistas:\n",
    "    artista = [artista]\n",
    "    try:\n",
    "     mycursor.execute(query_artistas, artista)\n",
    "     cnx.commit()\n",
    "    except:\n",
    "      print(\"MEC\")\n",
    "      continue\n",
    "cnx.close()"
   ]
  },
  {
   "cell_type": "markdown",
   "metadata": {},
   "source": [
    "### Añadimos los datos a la tabla canciones "
   ]
  },
  {
   "cell_type": "markdown",
   "metadata": {},
   "source": [
    "Recordemos los id_lustro para cada conjunto de 5 años: \n",
    "- 1 = 2000-2004\n",
    "- 2 = 2005-2009\n",
    "- 3 = 2010-2014\n",
    "- 4 = 2015-2019\n",
    "- 5 = 2020-2024"
   ]
  },
  {
   "cell_type": "markdown",
   "metadata": {},
   "source": [
    "Volvemos a abrir la conexión y a definir el cursor"
   ]
  },
  {
   "cell_type": "code",
   "execution_count": 20,
   "metadata": {},
   "outputs": [],
   "source": [
    "cnx = mysql.connector.connect(user='root', password='AlumnaAdalab', host='127.0.0.1',\n",
    "                                    database='musicstream', \n",
    "                                    auth_plugin ='mysql_native_password')\n",
    "mycursor = cnx.cursor()"
   ]
  },
  {
   "cell_type": "markdown",
   "metadata": {},
   "source": [
    "Hay algunos datos que son `NaN`, y MySQL no los reconoce, por lo que hay que convertirlos a None. \n",
    "\n",
    "Para ello, creamos la función `eliminar_nan`"
   ]
  },
  {
   "cell_type": "code",
   "execution_count": 21,
   "metadata": {},
   "outputs": [],
   "source": [
    "def eliminar_nan (df):\n",
    "    ''' Sustituye los valores NaN por None\n",
    "    \n",
    "        Args: \n",
    "            DataFrame a convertir\n",
    "        Returns:\n",
    "            DataFrame limpio.'''\n",
    "            \n",
    "    df_limpio = df.replace({float('NaN'): None})\n",
    "    return df_limpio"
   ]
  },
  {
   "cell_type": "markdown",
   "metadata": {},
   "source": [
    "Limpiamos los df y los metemos en la lista `lista_df_limpios` "
   ]
  },
  {
   "cell_type": "code",
   "execution_count": 22,
   "metadata": {},
   "outputs": [],
   "source": [
    "lista_df_limpios = []\n",
    "\n",
    "for data in lista_df_ordenados:\n",
    "    df_limpio = eliminar_nan(data)\n",
    "    lista_df_limpios.append(df_limpio)\n",
    "    "
   ]
  },
  {
   "cell_type": "markdown",
   "metadata": {},
   "source": [
    "Definimos una función para insertar las canciones"
   ]
  },
  {
   "cell_type": "code",
   "execution_count": 23,
   "metadata": {},
   "outputs": [],
   "source": [
    "def insertar_canciones (df):\n",
    "    ''' Crea las queries necesarias para insertar las canciones. \n",
    "    \n",
    "        Args:\n",
    "            DataFrame limpio.\n",
    "        Returns:\n",
    "            Una lista de tuplas con las quieries'''\n",
    "            \n",
    "    lista_querys = []\n",
    "    for i in range(len(df)):\n",
    "        tupla_insercion = (str(df['nombre'][i]), str(df['genero'][i]), int(df['popularity'][i]))\n",
    "        lista_querys.append(tupla_insercion)\n",
    "    return lista_querys"
   ]
  },
  {
   "cell_type": "markdown",
   "metadata": {},
   "source": [
    "Creamos la lista de tuplas para insertar, descartando aquellas canciones que coinciden en todos los campos."
   ]
  },
  {
   "cell_type": "code",
   "execution_count": 24,
   "metadata": {},
   "outputs": [],
   "source": [
    "lista_de_tuplas = []\n",
    "\n",
    "for df in lista_df_limpios:    \n",
    "    tuplas = insertar_canciones(df)\n",
    "    for t in tuplas:\n",
    "        if t not in lista_de_tuplas:\n",
    "            lista_de_tuplas.append(t)   \n",
    "    "
   ]
  },
  {
   "cell_type": "markdown",
   "metadata": {},
   "source": [
    "Definimos la query canciones:"
   ]
  },
  {
   "cell_type": "code",
   "execution_count": 25,
   "metadata": {},
   "outputs": [],
   "source": [
    "query_canciones = \"INSERT INTO canciones(cancion, genero, popularidad) VALUES(%s, %s, %s)\""
   ]
  },
  {
   "cell_type": "code",
   "execution_count": 26,
   "metadata": {},
   "outputs": [],
   "source": [
    "mycursor.executemany(query_canciones, lista_de_tuplas)\n",
    "cnx.commit()"
   ]
  },
  {
   "cell_type": "code",
   "execution_count": 27,
   "metadata": {},
   "outputs": [],
   "source": [
    "cnx.close()"
   ]
  },
  {
   "cell_type": "markdown",
   "metadata": {},
   "source": [
    "### Añadimos los datos a las tablas intermedias "
   ]
  },
  {
   "cell_type": "markdown",
   "metadata": {},
   "source": [
    "Primero, pais en cancion:"
   ]
  },
  {
   "cell_type": "code",
   "execution_count": 28,
   "metadata": {},
   "outputs": [],
   "source": [
    "contador = 0\n",
    "queries_pais_cancion = []\n",
    "for t in lista_de_tuplas:\n",
    "    contador += 1\n",
    "    for df in lista_df_limpios:\n",
    "        for i in range(len(df)):\n",
    "            if df['nombre'][i] in t:\n",
    "                tupla_pais_cancion = (df['pais'][i], contador)\n",
    "                queries_pais_cancion.append(tupla_pais_cancion)\n",
    "                "
   ]
  },
  {
   "cell_type": "code",
   "execution_count": 29,
   "metadata": {},
   "outputs": [],
   "source": [
    "query_pais_en_cancion = \"INSERT INTO pais_en_cancion(id_pais, id_cancion) VALUES(%s, %s)\""
   ]
  },
  {
   "cell_type": "code",
   "execution_count": 30,
   "metadata": {},
   "outputs": [],
   "source": [
    "cnx = mysql.connector.connect(user='root', password='AlumnaAdalab', host='127.0.0.1',\n",
    "                                    database='musicstream', \n",
    "                                    auth_plugin ='mysql_native_password')\n",
    "mycursor = cnx.cursor()"
   ]
  },
  {
   "cell_type": "code",
   "execution_count": 31,
   "metadata": {},
   "outputs": [
    {
     "name": "stdout",
     "output_type": "stream",
     "text": [
      "La entrada ('RO', 54) está repetida\n",
      "La entrada ('BY', 54) está repetida\n",
      "La entrada ('RO', 54) está repetida\n",
      "La entrada ('RO', 57) está repetida\n",
      "La entrada ('BY', 57) está repetida\n",
      "La entrada ('RO', 57) está repetida\n"
     ]
    }
   ],
   "source": [
    "for q in queries_pais_cancion:\n",
    "    try:\n",
    "        mycursor.execute(query_pais_en_cancion, q)\n",
    "        cnx.commit()\n",
    "    except:\n",
    "        print(f\"La entrada {q} está repetida\")\n",
    "        "
   ]
  },
  {
   "cell_type": "code",
   "execution_count": 32,
   "metadata": {},
   "outputs": [],
   "source": [
    "cnx.close()"
   ]
  },
  {
   "cell_type": "markdown",
   "metadata": {},
   "source": [
    "Ahora, lo mismo con artista en cancion:"
   ]
  },
  {
   "cell_type": "code",
   "execution_count": null,
   "metadata": {},
   "outputs": [],
   "source": [
    "queries_artista_cancion = []\n",
    "for t in lista_de_tuplas:\n",
    "    for df in lista_df_limpios:\n",
    "        for i in range(len(df)):\n",
    "            if df['nombre'][i] in t:\n",
    "                q_id_artista = f\"SELECT id_artista FROM artistas WHERE nombre_artista = '{df['artista'][i]}';\"\n",
    "                q_id_cancion = f\"SELECT id_cancion FROM canciones WHERE cancion = '{df['nombre'][i]}';\"\n",
    "                \n",
    "                mycursor.execute(q_id_artista)\n",
    "                id_artista = mycursor.fetchone()[0]\n",
    "                mycursor.execute(q_id_cancion)\n",
    "                id_cancion = mycursor.fetchone()[0]\n",
    "                query = (id_artista, id_cancion)\n",
    "                queries_artista_cancion.append(query)\n",
    "                "
   ]
  },
  {
   "cell_type": "code",
   "execution_count": 142,
   "metadata": {},
   "outputs": [
    {
     "data": {
      "text/plain": [
       "[(20, 1)]"
      ]
     },
     "execution_count": 142,
     "metadata": {},
     "output_type": "execute_result"
    }
   ],
   "source": [
    "queries_artista_cancion"
   ]
  },
  {
   "cell_type": "markdown",
   "metadata": {},
   "source": [
    "Por último ,metemos lustro en cancion:"
   ]
  }
 ],
 "metadata": {
  "kernelspec": {
   "display_name": "base",
   "language": "python",
   "name": "python3"
  },
  "language_info": {
   "codemirror_mode": {
    "name": "ipython",
    "version": 3
   },
   "file_extension": ".py",
   "mimetype": "text/x-python",
   "name": "python",
   "nbconvert_exporter": "python",
   "pygments_lexer": "ipython3",
   "version": "3.12.7"
  }
 },
 "nbformat": 4,
 "nbformat_minor": 2
}
