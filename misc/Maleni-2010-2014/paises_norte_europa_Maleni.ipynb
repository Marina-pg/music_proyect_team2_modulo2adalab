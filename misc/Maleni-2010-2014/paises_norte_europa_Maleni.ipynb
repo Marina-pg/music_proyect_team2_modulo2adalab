{
 "cells": [
  {
   "cell_type": "code",
   "execution_count": 2,
   "metadata": {},
   "outputs": [],
   "source": [
    "import spotipy\n",
    "\n",
    "from spotipy.oauth2 import SpotifyClientCredentials"
   ]
  },
  {
   "cell_type": "code",
   "execution_count": 3,
   "metadata": {},
   "outputs": [],
   "source": [
    "# Coloca tus credenciales aquí\n",
    "CLIENT_ID = \"ab80ec144a1147ff8e7d16a6209e1268\"\n",
    "CLIENT_SECRET = \"a59b22d834b94af293d6cac49c6548ba\"\n",
    "# Autenticación\n",
    "auth_manager = SpotifyClientCredentials(client_id=CLIENT_ID, client_secret=CLIENT_SECRET)\n",
    "sp = spotipy.Spotify(auth_manager=auth_manager)"
   ]
  },
  {
   "cell_type": "code",
   "execution_count": 4,
   "metadata": {},
   "outputs": [],
   "source": [
    "paises_mediterraneos = {\n",
    "    \"ES\": \"España\",\n",
    "    \"FR\": \"Francia\",\n",
    "    \"MC\": \"Mónaco\",\n",
    "    \"IT\": \"Italia\",\n",
    "    \"SI\": \"Eslovenia\",\n",
    "    \"HR\": \"Croacia\",\n",
    "    \"BA\": \"Bosnia y Herzegovina\",\n",
    "    \"ME\": \"Montenegro\",\n",
    "    \"AL\": \"Albania\",\n",
    "    \"GR\": \"Grecia\",\n",
    "    \"MT\": \"Malta\",\n",
    "    \"CY\": \"Chipre\"}\n",
    "paises_este_europa = {\n",
    "    \"BY\": \"Bielorrusia\",\n",
    "    \"BG\": \"Bulgaria\",\n",
    "    \"CZ\": \"Chequia\",\n",
    "    \"SK\": \"Eslovaquia\",\n",
    "    \"HU\": \"Hungría\",\n",
    "    \"MD\": \"Moldavia\",\n",
    "    \"PL\": \"Polonia\",\n",
    "    \"RO\": \"Rumanía\",\n",
    "    \"UA\": \"Ucrania\"}\n",
    "paises_norte_europa = {\n",
    "    \"DK\": \"Dinamarca\",\n",
    "    \"EE\": \"Estonia\",\n",
    "    \"FI\": \"Finlandia\",\n",
    "    \"IS\": \"Islandia\",\n",
    "    \"IE\": \"Irlanda\",\n",
    "    \"LT\": \"Lituania\",\n",
    "    \"LV\": \"Letonia\",\n",
    "    \"NO\": \"Noruega\",\n",
    "    \"SE\": \"Suecia\",\n",
    "    \"GB\": \"Reino Unido\"}\n",
    "paises_europa_central = {\n",
    "    \"AT\": \"Austria\",\n",
    "    \"DE\": \"Alemania\",\n",
    "    \"CH\": \"Suiza\",\n",
    "    \"LI\": \"Liechtenstein\",\n",
    "    \"BE\": \"Bélgica\",\n",
    "    \"LU\": \"Luxemburgo\",\n",
    "    \"NL\": \"Países Bajos\"}"
   ]
  },
  {
   "cell_type": "code",
   "execution_count": 5,
   "metadata": {},
   "outputs": [],
   "source": [
    "datos_rango = sp.search(q = \"year:2010-2014\", limit=50, offset=0, type='track', market=\"ES\")"
   ]
  },
  {
   "cell_type": "code",
   "execution_count": 6,
   "metadata": {},
   "outputs": [],
   "source": [
    "def extraccion_por_paises(diccionario_zonas, años):\n",
    "    todos_los_datos = [] # Esto es una lista de dicts donde se van guardando los diccionarios de cada país\n",
    "    for pais in diccionario_zonas.keys():\n",
    "        datos_rango = sp.search(q = f'year:{años}', limit=50, offset=0, type='track', market={pais}) # Cada una tiene que cambiar en q el rango de años\n",
    "        datos_por_pais = {}\n",
    "        datos_por_pais['pais'] = pais\n",
    "        datos_por_pais['datos'] = datos_rango\n",
    "        todos_los_datos.append(datos_por_pais)\n",
    "    return todos_los_datos"
   ]
  },
  {
   "cell_type": "code",
   "execution_count": 7,
   "metadata": {},
   "outputs": [],
   "source": [
    "paises_norte_europa = extraccion_por_paises(paises_norte_europa, \"2010-2014\")"
   ]
  },
  {
   "cell_type": "code",
   "execution_count": 8,
   "metadata": {},
   "outputs": [],
   "source": [
    "prueba = {'nombre': [], 'popularity': [], 'artista': [], 'pais': [], 'genero': []}"
   ]
  },
  {
   "cell_type": "code",
   "execution_count": 9,
   "metadata": {},
   "outputs": [],
   "source": [
    "datos_paises_norte_europa = {'nombre': [], 'popularity': [], 'artista': [], 'pais': [], 'genero': []}"
   ]
  },
  {
   "cell_type": "code",
   "execution_count": 11,
   "metadata": {},
   "outputs": [],
   "source": [
    "for datos_pais in paises_norte_europa:\n",
    "    for element in datos_pais['datos']['tracks']['items']:\n",
    "        prueba['pais'].append(datos_pais['pais'])\n",
    "        prueba['popularity'].append(element['popularity'])\n",
    "        prueba['nombre'].append(element['name'])\n",
    "        artistas = []\n",
    "        for artista in element['artists']:\n",
    "            artistas.append(artista['name'])   \n",
    "        artistas_str = ', '.join(artistas)\n",
    "        prueba['artista'].append(artistas_str)"
   ]
  },
  {
   "cell_type": "code",
   "execution_count": 12,
   "metadata": {},
   "outputs": [
    {
     "name": "stdout",
     "output_type": "stream",
     "text": [
      "{'nombre': ['Just the Way You Are', 'Lågsus (feat. Medina)', 'Lost', 'Cheri Cheri Lady (Peters Pop-Show 30.11.1985) - Live from Peters Pop Show, 1985', 'Locked out of Heaven', 'My Girl (feat. Trevor Jackson)', 'Gennem Byen', 'Plastic Dreams 2003', 'Neonlys', 'Atlantis Is Calling (Na, sowas! 17.05.1986) - Live from Na, sowas!, 1986', 'LoveHate Thing (feat. Sam Dew)', 'Heaven Will Know (Peters Pop-Show 30.11.1985) - Live from Peters Pop Show, 1985', 'Under Stjernerne På Himlen', \"Geronimo's Cadillac (Peters Pop-Show 06.12.1986) - Live from Peters Pop-Show, 1986\", 'Another Love', 'My Love a Piece of My Love (feat. Snoop Dogg)', 'Wake Me Up', 'You Can Win If You Want (Wetten, dass...? 18.05.1985) - Live from Wetten, dass...?, 1985', 'A Sky Full of Stars', 'Wind Song', 'Grenade', '25 ปี (มีหวัง)', 'Novembervej', 'Byłem (feat. As)', 'Someone Like You', 'Pani Da Rang (From \"Vicky Donor\") - Male Vocals', 'Take Me To Church', 'You Are Not Alone (Wetten, dass...? 20.02.1999) - Live from Wetten, dass...?, 1999', 'When I Was Your Man', 'Ballada o Janku Wisniewskim', 'Give Me Everything (feat. Nayer)', 'Now Is the Time (feat. Jasmine V)', 'Sweater Weather', 'Bede Z Toba', 'Thinkin Bout You', 'Bede Z Toba - Hangout Live', 'Mod Solnedgangen', 'Iré tras de ti', 'We Found Love', 'Il fait chaud', 'All of Me', \"Fragile (Director's Cut)\", 'Timber', 'The Real Slim Shady - Edited', 'Øde Ø', 'Smile', 'Olivia', 'G.U.Y. - An ARTPOP Film', 'Story of My Life', '好不好', 'Sweater Weather', 'Cheri Cheri Lady (Peters Pop-Show 30.11.1985) - Live from Peters Pop Show, 1985', 'LVL', 'Ballada o Janku Wisniewskim', 'Lovers Rock', 'Atlantis Is Calling (Na, sowas! 17.05.1986) - Live from Na, sowas!, 1986', 'Money Trees', \"Geronimo's Cadillac (Peters Pop-Show 06.12.1986) - Live from Peters Pop-Show, 1986\", 'I Wanna Be Yours', 'You Can Win If You Want (Wetten, dass...? 18.05.1985) - Live from Wetten, dass...?, 1985', 'She Will', 'Heaven Will Know (Peters Pop-Show 30.11.1985) - Live from Peters Pop Show, 1985', 'Give Me Everything (feat. Nayer)', 'Il fait chaud', 'Les', 'My Girl (feat. Trevor Jackson)', 'Ainult unustamiseks', 'Bede Z Toba', 'LoveHate Thing (feat. Sam Dew)', 'Plastic Dreams 2003', 'Swimming Pools (Drank)', 'Bede Z Toba - Hangout Live', 'No Role Modelz', 'You Are Not Alone (Wetten, dass...? 20.02.1999) - Live from Wetten, dass...?, 1999', 'Heartbeat', 'Iré tras de ti', 'Fashion Killa', 'Lågsus (feat. Medina)', 'Stolen Dance', 'Pani Da Rang (From \"Vicky Donor\") - Male Vocals', 'Wake Me Up', '25 ปี (มีหวัง)', 'Armastan ma luuserit', \"Fragile (Director's Cut)\", 'i was all over her', 'The Real Slim Shady - Edited', 'Mojito', 'Smile', 'The Spins', 'G.U.Y. - An ARTPOP Film', 'A.V.R.', '好不好', 'Do I Wanna Know?', 'Samba Pras Moças', 'Another Love', 'Hardkor i disko', 'Love Me', 'Red Light (feat. Snoop Lion)', 'Memories (feat. Kid Cudi)', 'Losing You', 'Häissä (feat. Märkä-Simo)', 'Cheri Cheri Lady (Peters Pop-Show 30.11.1985) - Live from Peters Pop Show, 1985', 'Sweater Weather', 'Now Is the Time (feat. Jasmine V)', 'I Wanna Be Yours', 'Plastic Dreams 2003', 'Judas', 'Bede Z Toba', 'Another Love', \"Geronimo's Cadillac (Peters Pop-Show 06.12.1986) - Live from Peters Pop-Show, 1986\", 'Jos Mun Pokka Pettää', 'Atlantis Is Calling (Na, sowas! 17.05.1986) - Live from Na, sowas!, 1986', 'Wake Me Up', 'Heaven Will Know (Peters Pop-Show 30.11.1985) - Live from Peters Pop Show, 1985', 'Jippikayjei', 'You Can Win If You Want (Wetten, dass...? 18.05.1985) - Live from Wetten, dass...?, 1985', 'Only Girl (In The World)', 'My Girl (feat. Trevor Jackson)', 'Olet puolisoni nyt', '25 ปี (มีหวัง)', 'Timantit on ikuisia', 'Ballada o Janku Wisniewskim', 'She Will', 'Crack the Skye', 'Give Me Everything (feat. Nayer)', 'Us Against the World', 'A Sky Full of Stars', 'Bede Z Toba - Hangout Live', 'Kesäyö', 'You Are Not Alone (Wetten, dass...? 20.02.1999) - Live from Wetten, dass...?, 1999', 'No Role Modelz', 'Iré tras de ti', 'Kran Turismo (feat. Raappana)', 'Il fait chaud', 'Syypää sun hymyyn (feat. Yasmine Yamajako)', 'Lågsus (feat. Medina)', 'Money Trees', 'Pani Da Rang (From \"Vicky Donor\") - Male Vocals', 'S&M', \"Fragile (Director's Cut)\", 'Vapaus käteen jää', 'The Real Slim Shady - Edited', 'International Love (feat. Chris Brown)', 'Smile', 'Set Fire to the Rain', 'G.U.Y. - An ARTPOP Film', 'Love The Way You Lie', '好不好', 'Summertime Sadness', 'Samba Pras Moças', 'Dvel ég í draumahöll', 'Bede Z Toba', 'Litlar stjörnur', 'Cheri Cheri Lady (Peters Pop-Show 30.11.1985) - Live from Peters Pop Show, 1985', 'Óskasteinar', 'Heaven Will Know (Peters Pop-Show 30.11.1985) - Live from Peters Pop Show, 1985', 'Sofðu unga ástin mín', 'Plastic Dreams 2003', 'Bíum bíum bambaló', 'Bede Z Toba - Hangout Live', 'Sofa urtubörn', 'Ballada o Janku Wisniewskim', 'Ljós', 'You Are Not Alone (Wetten, dass...? 20.02.1999) - Live from Wetten, dass...?, 1999', 'Ævintýralönd', 'Iré tras de ti', 'Nóttin læðist inn', 'Il fait chaud', 'Góða nótt', 'Now Is the Time (feat. Jasmine V)', 'Bí bí og blaka', 'Lågsus (feat. Medina)', 'Frost er úti fuglinn minn', 'Pani Da Rang (From \"Vicky Donor\") - Male Vocals', 'Sofðu', 'You Can Win If You Want (Wetten, dass...? 18.05.1985) - Live from Wetten, dass...?, 1985', 'Þú ert', '25 ปี (มีหวัง)', 'Sólskin', \"Geronimo's Cadillac (Peters Pop-Show 06.12.1986) - Live from Peters Pop-Show, 1986\", 'Stingum Af', \"Fragile (Director's Cut)\", 'Money Trees', 'The Real Slim Shady - Edited', 'She Will', 'Smile', 'Thinkin Bout You', 'Atlantis Is Calling (Na, sowas! 17.05.1986) - Live from Na, sowas!, 1986', 'Another Love', 'G.U.Y. - An ARTPOP Film', 'Lost', '好不好', 'Take Me To Church', 'Samba Pras Moças', 'Gúanó Stelpan', 'Hardkor i disko', 'Yfir Borgina', 'Red Light (feat. Snoop Lion)', 'Just the Way You Are', 'Losing You', 'A Sky Full of Stars', 'Plastic Dreams 2003', 'Take Me To Church', 'Thoda Thoda', 'Do I Wanna Know? - Live At the BBC', 'Bede Z Toba', 'Give Me Everything (feat. Nayer)', 'Cheri Cheri Lady (Peters Pop-Show 30.11.1985) - Live from Peters Pop Show, 1985', 'Timber', 'Ballada o Janku Wisniewskim', 'Wake Me Up', 'Bede Z Toba - Hangout Live', 'Another Love', 'Byłem (feat. As)', 'Someone New', 'You Can Win If You Want (Wetten, dass...? 18.05.1985) - Live from Wetten, dass...?, 1985', 'Shut Up and Dance', 'Pani Da Rang (From \"Vicky Donor\") - Male Vocals', \"Can't Hold Us (feat. Ray Dalton)\", 'My Love a Piece of My Love (feat. Snoop Dogg)', 'Work Song', 'Atlantis Is Calling (Na, sowas! 17.05.1986) - Live from Na, sowas!, 1986', 'Budapest', \"Geronimo's Cadillac (Peters Pop-Show 06.12.1986) - Live from Peters Pop-Show, 1986\", 'Locked out of Heaven', 'You Are Not Alone (Wetten, dass...? 20.02.1999) - Live from Wetten, dass...?, 1999', 'Just the Way You Are', \"Let Me Love You (Until You Learn To Love Yourself) - Director's Cut (Explicit)\", 'Titanium (feat. Sia)', 'Iré tras de ti', 'Ho Hey', 'Il fait chaud', 'Only Girl (In The World)', 'Lågsus (feat. Medina)', 'Story of My Life', '25 ปี (มีหวัง)', 'Money Trees', \"Fragile (Director's Cut)\", 'Night Changes', 'The Real Slim Shady - Edited', 'I Wanna Be Yours', 'Smile', 'LoveHate Thing (feat. Sam Dew)', 'G.U.Y. - An ARTPOP Film', 'Counting Stars', 'Heaven Will Know (Peters Pop-Show 30.11.1985) - Live from Peters Pop Show, 1985', 'Stubborn Love', '好不好', 'No Role Modelz', 'Hardkor i disko', 'LoveHate Thing (feat. Sam Dew)', 'Cheri Cheri Lady (Peters Pop-Show 30.11.1985) - Live from Peters Pop Show, 1985', 'Sweater Weather', 'Heaven Will Know (Peters Pop-Show 30.11.1985) - Live from Peters Pop Show, 1985', 'Perlai', \"Geronimo's Cadillac (Peters Pop-Show 06.12.1986) - Live from Peters Pop-Show, 1986\", 'Nes Aš Tik Vėjas', 'Atlantis Is Calling (Na, sowas! 17.05.1986) - Live from Na, sowas!, 1986', 'Les', 'Bede Z Toba - Hangout Live', 'Money Trees', 'You Can Win If You Want (Wetten, dass...? 18.05.1985) - Live from Wetten, dass...?, 1985', 'I Wanna Be Yours', 'Polished Stone Live at the Electric Ballroom 6/9/99', 'Lovers Rock', 'Bede Z Toba', 'LVL', 'Plastic Dreams 2003', 'No Role Modelz', 'Ballada o Janku Wisniewskim', 'Champagne Coast', 'You Are Not Alone (Wetten, dass...? 20.02.1999) - Live from Wetten, dass...?, 1999', 'i was all over her', 'Iré tras de ti', 'Swimming Pools (Drank)', 'Il fait chaud', 'Do I Wanna Know?', 'Lågsus (feat. Medina)', 'Stolen Dance', 'Pani Da Rang (From \"Vicky Donor\") - Male Vocals', 'Heartbeat', '25 ปี (มีหวัง)', 'No. 1 Party Anthem', \"Fragile (Director's Cut)\", 'My Love', 'The Real Slim Shady - Edited', 'Ne Vakar', 'Smile', 'She Will', 'G.U.Y. - An ARTPOP Film', 'Give Me Everything (feat. Nayer)', '好不好', \"Why'd You Only Call Me When You're High?\", 'Samba Pras Moças', 'Fashion Killa', 'Hardkor i disko', 'The Spins', 'Red Light (feat. Snoop Lion)', 'Laikas Keistis', 'Losing You', 'Sweater Weather', 'Plastic Dreams 2003', 'LVL', 'Cheri Cheri Lady (Peters Pop-Show 30.11.1985) - Live from Peters Pop Show, 1985', 'LoveHate Thing (feat. Sam Dew)', \"Geronimo's Cadillac (Peters Pop-Show 06.12.1986) - Live from Peters Pop-Show, 1986\", 'No Role Modelz', 'You Can Win If You Want (Wetten, dass...? 18.05.1985) - Live from Wetten, dass...?, 1985', 'Money Trees', 'Atlantis Is Calling (Na, sowas! 17.05.1986) - Live from Na, sowas!, 1986', 'I Wanna Be Yours', 'Heaven Will Know (Peters Pop-Show 30.11.1985) - Live from Peters Pop Show, 1985', 'Fashion Killa', 'Bede Z Toba', 'She Will', 'Bede Z Toba - Hangout Live', 'Les', 'Ballada o Janku Wisniewskim', 'Swimming Pools (Drank)', 'You Are Not Alone (Wetten, dass...? 20.02.1999) - Live from Wetten, dass...?, 1999', 'Lovers Rock', 'Iré tras de ti', 'Give Me Everything (feat. Nayer)', 'Il fait chaud', 'The Spins', 'Lågsus (feat. Medina)', 'Stolen Dance', 'Pani Da Rang (From \"Vicky Donor\") - Male Vocals', 'Love Me', '25 ปี (มีหวัง)', 'Do I Wanna Know?', \"Fragile (Director's Cut)\", 'Heartbeat', 'The Real Slim Shady - Edited', 'Locked out of Heaven', 'Smile', 'Another Love', 'G.U.Y. - An ARTPOP Film', 'Champagne Coast', '好不好', 'Take Me To Church', 'Samba Pras Moças', 'i was all over her', 'Hardkor i disko', 'A Sky Full of Stars', 'Red Light (feat. Snoop Lion)', 'Bound 2', 'Losing You', 'Counting Stars', 'Byłem (feat. As)', 'Another Love', 'You Are Not Alone (Wetten, dass...? 20.02.1999) - Live from Wetten, dass...?, 1999', 'Hjerteknuser', 'Bede Z Toba', 'Give Me Everything (feat. Nayer)', 'Layla - Live', 'I Wanna Be Yours', 'Cheri Cheri Lady (Peters Pop-Show 30.11.1985) - Live from Peters Pop Show, 1985', 'Sweater Weather', 'Ballada o Janku Wisniewskim', 'Take Me To Church', '25 ปี (มีหวัง)', 'Händerna mot himlen', 'Bede Z Toba - Hangout Live', 'Wake Me Up', 'Lågsus (feat. Medina)', 'LoveHate Thing (feat. Sam Dew)', 'Plastic Dreams 2003', 'A Sky Full of Stars', 'Smile', 'Locked out of Heaven', 'Losing You', 'Bordet', 'Atlantis Is Calling (Na, sowas! 17.05.1986) - Live from Na, sowas!, 1986', 'No Role Modelz', 'Pani Da Rang (From \"Vicky Donor\") - Male Vocals', 'Timber', 'Blur on Beetlebum HD', 'Just the Way You Are', 'You Can Win If You Want (Wetten, dass...? 18.05.1985) - Live from Wetten, dass...?, 1985', 'Only Girl (In The World)', \"Geronimo's Cadillac (Peters Pop-Show 06.12.1986) - Live from Peters Pop-Show, 1986\", 'La La La', 'Byłem (feat. As)', 'Je te laisserai des mots', 'Heaven Will Know (Peters Pop-Show 30.11.1985) - Live from Peters Pop Show, 1985', 'Time of Our Lives', 'Rum Whisky (From \"Vicky Donor\")', 'She Will', 'My Love a Piece of My Love (feat. Snoop Dogg)', 'Young And Beautiful', 'Now Is the Time (feat. Jasmine V)', 'Someone Like You', 'Summer of Roses / December Day', 'Ring meg', 'Iré tras de ti', 'When I Was Your Man', 'Il fait chaud', 'Set Fire to the Rain', \"Fragile (Director's Cut)\", 'Wake Me Up', 'Cheri Cheri Lady (Peters Pop-Show 30.11.1985) - Live from Peters Pop Show, 1985', 'Nu i ro slumra in', 'Red Light (feat. Snoop Lion)', 'Välkommen in', 'Del sur', 'Another Love', 'Love In Any Language - Live', 'Trädgården en fredag', 'Hello, My Name Is - Live', 'Strövtåg i hembygden', 'Now Is the Time (feat. Jasmine V)', 'Sov alla', \"Geronimo's Cadillac (Peters Pop-Show 06.12.1986) - Live from Peters Pop-Show, 1986\", 'Levels - Radio Edit', '25 ปี (มีหวัง)', 'Händerna mot himlen', 'Il fait chaud', 'Det kommer aldrig va över för mig', 'My Love a Piece of My Love (feat. Snoop Dogg)', 'Vart jag än går', 'Atlantis Is Calling (Na, sowas! 17.05.1986) - Live from Na, sowas!, 1986', 'Miss Decibel', 'Lågsus (feat. Medina)', 'Jag kommer', 'Iré tras de ti', 'Tandtråd', 'You Can Win If You Want (Wetten, dass...? 18.05.1985) - Live from Wetten, dass...?, 1985', 'Take Me To Church', 'Heaven Will Know (Peters Pop-Show 30.11.1985) - Live from Peters Pop Show, 1985', 'Sweater Weather', 'Bede Z Toba - Hangout Live', 'Someone Like You', 'Wind Song', 'A Sky Full of Stars', 'Blur on Leisure', 'LoveHate Thing (feat. Sam Dew)', 'I Wanna Be Free - Short Edit', 'Från och med Du', 'Это дороже денег', 'Inga kläder', 'Die Koenige (ZDF Drehscheibe 7.1.1973) - VOD', 'I Wanna Be Yours', 'My Girl (feat. Trevor Jackson)', 'Set Fire to the Rain', 'Plastic Dreams 2003', 'Just the Way You Are', \"Sing About Me, I'm Dying Of Thirst - Part 1\", 'Hela huset', 'Bede Z Toba', 'Take Me To Church', 'Plastic Dreams 2003', 'I Wanna Be Yours', 'Bede Z Toba', 'A Sky Full of Stars', 'Cheri Cheri Lady (Peters Pop-Show 30.11.1985) - Live from Peters Pop Show, 1985', 'Do I Wanna Know?', 'The Real Slim Shady - Edited', 'Locked out of Heaven', 'Ballada o Janku Wisniewskim', 'Sweater Weather', 'Bede Z Toba - Hangout Live', 'No. 1 Party Anthem', 'G.U.Y. - An ARTPOP Film', 'Shut Up and Dance', \"Cups (Pitch Perfect’s “When I’m Gone”) - Director's Cut / Closed-Captioned\", 'Just the Way You Are', 'Like A Rolling Stone (from Winterland)', 'Another Love', '25 ปี (มีหวัง)', \"Why'd You Only Call Me When You're High?\", 'Muskurane (Film Version) [From \"Citylights\"]', 'Lovers Rock', 'Pani Da Rang (From \"Vicky Donor\") - Male Vocals', 'No Role Modelz', 'Thoda Thoda', 'Give Me Everything (feat. Nayer)', 'My Girl (feat. Trevor Jackson)', 'Money Trees', 'Wind Song', 'Wake Me Up', 'Il fait chaud', 'Budapest', \"Sing About Me, I'm Dying Of Thirst - Part 1\", 'Someone Like You', 'Cloud 9 - From \"Cloud 9\" / Original TV Movie Soundtrack', 'Counting Stars', 'Losing You', 'Do I Wanna Know? - Live At the BBC', 'Bleeding Hearts Club', 'Thinkin Bout You', 'You Can Win If You Want (Wetten, dass...? 18.05.1985) - Live from Wetten, dass...?, 1985', 'Lost', 'Atlantis Is Calling (Na, sowas! 17.05.1986) - Live from Na, sowas!, 1986', 'Sure Thing', 'Wild Out Anthem (feat. Jay Colin)', 'When I Was Your Man', 'Helena - Outtake Version', 'Someone New', 'Welcome to the Black Parade - Outtake Version'], 'popularity': [78, 0, 78, 2, 85, 0, 48, 2, 48, 0, 76, 0, 47, 0, 82, 0, 82, 0, 83, 0, 77, 0, 47, 0, 77, 0, 78, 0, 83, 1, 82, 0, 85, 9, 81, 2, 46, 0, 73, 0, 81, 0, 80, 0, 46, 0, 46, 0, 81, 0, 85, 2, 76, 1, 82, 0, 79, 0, 86, 0, 75, 0, 82, 0, 79, 0, 33, 9, 76, 2, 77, 2, 81, 0, 77, 0, 75, 0, 75, 0, 82, 0, 32, 0, 77, 0, 32, 0, 78, 0, 31, 0, 82, 0, 82, 0, 80, 0, 75, 0, 47, 2, 85, 0, 86, 2, 76, 9, 82, 0, 44, 0, 82, 0, 44, 0, 79, 0, 44, 0, 43, 1, 75, 0, 82, 0, 83, 2, 43, 0, 81, 0, 43, 0, 43, 0, 79, 0, 78, 0, 42, 0, 77, 0, 77, 0, 80, 0, 78, 0, 44, 9, 41, 2, 41, 0, 41, 2, 40, 2, 40, 1, 40, 0, 40, 0, 40, 0, 39, 0, 39, 0, 39, 0, 39, 0, 38, 0, 38, 0, 34, 0, 79, 0, 75, 0, 81, 0, 82, 0, 78, 0, 78, 0, 31, 0, 31, 0, 78, 0, 83, 2, 78, 0, 73, 9, 82, 2, 80, 1, 82, 2, 82, 0, 69, 0, 80, 0, 80, 0, 70, 0, 78, 0, 85, 0, 78, 0, 61, 0, 77, 0, 79, 0, 81, 0, 79, 0, 83, 0, 86, 0, 60, 0, 82, 0, 72, 0, 81, 0, 76, 2, 85, 0, 39, 0, 39, 0, 79, 2, 79, 0, 86, 0, 82, 9, 76, 2, 81, 1, 71, 0, 77, 0, 77, 0, 82, 0, 75, 0, 77, 0, 84, 0, 72, 0, 36, 0, 75, 0, 82, 0, 80, 0, 75, 0, 78, 0, 35, 0, 85, 2, 76, 2, 76, 0, 81, 0, 79, 0, 86, 0, 75, 9, 75, 2, 79, 1, 77, 0, 82, 0, 82, 0, 78, 0, 75, 0, 80, 0, 82, 0, 77, 0, 85, 0, 82, 0, 71, 0, 78, 0, 77, 0, 83, 0, 78, 0, 82, 0, 82, 0, 49, 9, 82, 0, 86, 2, 85, 1, 78, 0, 56, 2, 82, 0, 76, 2, 83, 0, 85, 0, 48, 0, 81, 0, 80, 0, 78, 0, 79, 0, 77, 0, 78, 0, 78, 0, 75, 0, 80, 0, 77, 0, 47, 0, 83, 0, 77, 0, 82, 2, 54, 0, 55, 0, 82, 0, 55, 0, 54, 0, 53, 0, 76, 0, 56, 0, 53, 0, 52, 0, 53, 0, 54, 0, 54, 0, 53, 0, 85, 2, 77, 0, 83, 0, 76, 0, 52, 0, 53, 0, 86, 0, 77, 2, 78, 0, 51, 9, 78, 2, 86, 9, 83, 2, 82, 0, 85, 1, 64, 2, 84, 0, 80, 0, 78, 0, 82, 0, 80, 0, 82, 0, 81, 0, 82, 0, 79, 0, 82, 0, 78, 0, 77, 0, 82, 0, 73, 0, 81, 0, 78, 0, 81, 0, 83, 0, 69, 0], 'artista': ['Bruno Mars', 'Specktors, Medina', 'Frank Ocean', 'Modern Talking', 'Bruno Mars', 'Diggy, Trevor Jackson', 'Ukendt Kunstner', 'JayDee', 'Ukendt Kunstner', 'Modern Talking', 'Wale, Sam Dew', 'Modern Talking', 'Rasmus Seebach', 'Modern Talking', 'Tom Odell', 'Abel The Kid, Julio Iglesias Jr.', 'Avicii', 'Modern Talking', 'Coldplay', 'Revolver', 'Bruno Mars', 'พงษ์สิทธิ์ คำภีร์', 'Nik & Jay', 'Pezet, As', 'Adele', 'Abhishek - Akshay, Ayushmann Khurrana', 'Hozier', 'Modern Talking', 'Bruno Mars', 'Kazik', 'Pitbull, AFROJACK, Ne-Yo, Nayer', 'Wally Lopez', 'The Neighbourhood', 'Lemon', 'Frank Ocean', 'Lemon', 'Nik & Jay', 'Mr.', 'Rihanna, Calvin Harris', 'Patrick Sébastien', 'John Legend', 'Tech N9ne, Kendrick Lamar, ¡MAYDAY!, Kendall Morgan', 'Pitbull, Kesha', 'Eminem', 'Rasmus Seebach', 'Abel The Kid, Julio Iglesias Jr.', 'Rasmus Seebach', 'Lady Gaga', 'One Direction', 'Evan Yo', 'The Neighbourhood', 'Modern Talking', 'A$AP Rocky', 'Kazik', 'TV Girl', 'Modern Talking', 'Kendrick Lamar, Jay Rock', 'Modern Talking', 'Arctic Monkeys', 'Modern Talking', 'Lil Wayne, Drake', 'Modern Talking', 'Pitbull, AFROJACK, Ne-Yo, Nayer', 'Patrick Sébastien', 'Childish Gambino', 'Diggy, Trevor Jackson', 'Smilers', 'Lemon', 'Wale, Sam Dew', 'JayDee', 'Kendrick Lamar', 'Lemon', 'J. Cole', 'Modern Talking', 'Childish Gambino', 'Mr.', 'A$AP Rocky', 'Specktors, Medina', 'Milky Chance', 'Abhishek - Akshay, Ayushmann Khurrana', 'Avicii', 'พงษ์สิทธิ์ คำภีร์', 'Smilers', 'Tech N9ne, Kendrick Lamar, ¡MAYDAY!, Kendall Morgan', 'salvia palth', 'Eminem', 'Smilers', 'Abel The Kid, Julio Iglesias Jr.', 'Mac Miller, Empire Of The Sun', 'Lady Gaga', 'Suur Papa', 'Evan Yo', 'Arctic Monkeys', 'Mariene De Castro', 'Tom Odell', 'Sofa', 'Lil Wayne, Drake, Future', 'Eddie Murphy, Snoop Lion', 'David Guetta, Kid Cudi', 'Revolver', 'JVG, Märkä-Simo', 'Modern Talking', 'The Neighbourhood', 'Wally Lopez', 'Arctic Monkeys', 'JayDee', 'Lady Gaga', 'Lemon', 'Tom Odell', 'Modern Talking', 'Haloo Helsinki!', 'Modern Talking', 'Avicii', 'Modern Talking', 'Cheek', 'Modern Talking', 'Rihanna', 'Diggy, Trevor Jackson', 'Samuli Putro', 'พงษ์สิทธิ์ คำภีร์', 'Cheek', 'Kazik', 'Lil Wayne, Drake', 'Mastodon', 'Pitbull, AFROJACK, Ne-Yo, Nayer', 'Steve Harris', 'Coldplay', 'Lemon', 'Pariisin Kevät', 'Modern Talking', 'J. Cole', 'Mr.', 'JVG, Raappana', 'Patrick Sébastien', 'Cheek, Yasmine Yamajako', 'Specktors, Medina', 'Kendrick Lamar, Jay Rock', 'Abhishek - Akshay, Ayushmann Khurrana', 'Rihanna', 'Tech N9ne, Kendrick Lamar, ¡MAYDAY!, Kendall Morgan', 'Haloo Helsinki!', 'Eminem', 'Pitbull, Chris Brown', 'Abel The Kid, Julio Iglesias Jr.', 'Adele', 'Lady Gaga', 'Eminem, Rihanna', 'Evan Yo', 'Lana Del Rey', 'Mariene De Castro', 'Hafdís Huld', 'Lemon', 'Hafdís Huld', 'Modern Talking', 'Hafdís Huld', 'Modern Talking', 'Hafdís Huld', 'JayDee', 'Hafdís Huld', 'Lemon', 'Hafdís Huld', 'Kazik', 'Hafdís Huld', 'Modern Talking', 'Hafdís Huld', 'Mr.', 'Hafdís Huld', 'Patrick Sébastien', 'Hafdís Huld', 'Wally Lopez', 'Hafdís Huld', 'Specktors, Medina', 'Hafdís Huld', 'Abhishek - Akshay, Ayushmann Khurrana', 'Hafdís Huld', 'Modern Talking', 'Hafdís Huld', 'พงษ์สิทธิ์ คำภีร์', 'Hafdís Huld', 'Modern Talking', 'Mugison', 'Tech N9ne, Kendrick Lamar, ¡MAYDAY!, Kendall Morgan', 'Kendrick Lamar, Jay Rock', 'Eminem', 'Lil Wayne, Drake', 'Abel The Kid, Julio Iglesias Jr.', 'Frank Ocean', 'Modern Talking', 'Tom Odell', 'Lady Gaga', 'Frank Ocean', 'Evan Yo', 'Hozier', 'Mariene De Castro', 'Mugison', 'Sofa', 'Valdimar', 'Eddie Murphy, Snoop Lion', 'Bruno Mars', 'Revolver', 'Coldplay', 'JayDee', 'Hozier', 'Shreya Ghoshal, Sachin', 'Hozier', 'Lemon', 'Pitbull, AFROJACK, Ne-Yo, Nayer', 'Modern Talking', 'Pitbull, Kesha', 'Kazik', 'Avicii', 'Lemon', 'Tom Odell', 'Pezet, As', 'Hozier', 'Modern Talking', 'WALK THE MOON', 'Abhishek - Akshay, Ayushmann Khurrana', 'Macklemore, Ryan Lewis, Macklemore & Ryan Lewis, Ray Dalton', 'Abel The Kid, Julio Iglesias Jr.', 'Hozier', 'Modern Talking', 'George Ezra', 'Modern Talking', 'Bruno Mars', 'Modern Talking', 'Bruno Mars', 'Ne-Yo', 'David Guetta, Sia', 'Mr.', 'The Lumineers', 'Patrick Sébastien', 'Rihanna', 'Specktors, Medina', 'One Direction', 'พงษ์สิทธิ์ คำภีร์', 'Kendrick Lamar, Jay Rock', 'Tech N9ne, Kendrick Lamar, ¡MAYDAY!, Kendall Morgan', 'One Direction', 'Eminem', 'Arctic Monkeys', 'Abel The Kid, Julio Iglesias Jr.', 'Wale, Sam Dew', 'Lady Gaga', 'OneRepublic', 'Modern Talking', 'The Lumineers', 'Evan Yo', 'J. Cole', 'Sofa', 'Wale, Sam Dew', 'Modern Talking', 'The Neighbourhood', 'Modern Talking', 'Sel', 'Modern Talking', 'Sel', 'Modern Talking', 'Childish Gambino', 'Lemon', 'Kendrick Lamar, Jay Rock', 'Modern Talking', 'Arctic Monkeys', 'Blur', 'TV Girl', 'Lemon', 'A$AP Rocky', 'JayDee', 'J. Cole', 'Kazik', 'Blood Orange', 'Modern Talking', 'salvia palth', 'Mr.', 'Kendrick Lamar', 'Patrick Sébastien', 'Arctic Monkeys', 'Specktors, Medina', 'Milky Chance', 'Abhishek - Akshay, Ayushmann Khurrana', 'Childish Gambino', 'พงษ์สิทธิ์ คำภีร์', 'Arctic Monkeys', 'Tech N9ne, Kendrick Lamar, ¡MAYDAY!, Kendall Morgan', 'Route 94, Jess Glynne', 'Eminem', 'Sel', 'Abel The Kid, Julio Iglesias Jr.', 'Lil Wayne, Drake', 'Lady Gaga', 'Pitbull, AFROJACK, Ne-Yo, Nayer', 'Evan Yo', 'Arctic Monkeys', 'Mariene De Castro', 'A$AP Rocky', 'Sofa', 'Mac Miller, Empire Of The Sun', 'Eddie Murphy, Snoop Lion', 'G&G Sindikatas', 'Revolver', 'The Neighbourhood', 'JayDee', 'A$AP Rocky', 'Modern Talking', 'Wale, Sam Dew', 'Modern Talking', 'J. Cole', 'Modern Talking', 'Kendrick Lamar, Jay Rock', 'Modern Talking', 'Arctic Monkeys', 'Modern Talking', 'A$AP Rocky', 'Lemon', 'Lil Wayne, Drake', 'Lemon', 'Childish Gambino', 'Kazik', 'Kendrick Lamar', 'Modern Talking', 'TV Girl', 'Mr.', 'Pitbull, AFROJACK, Ne-Yo, Nayer', 'Patrick Sébastien', 'Mac Miller, Empire Of The Sun', 'Specktors, Medina', 'Milky Chance', 'Abhishek - Akshay, Ayushmann Khurrana', 'Lil Wayne, Drake, Future', 'พงษ์สิทธิ์ คำภีร์', 'Arctic Monkeys', 'Tech N9ne, Kendrick Lamar, ¡MAYDAY!, Kendall Morgan', 'Childish Gambino', 'Eminem', 'Bruno Mars', 'Abel The Kid, Julio Iglesias Jr.', 'Tom Odell', 'Lady Gaga', 'Blood Orange', 'Evan Yo', 'Hozier', 'Mariene De Castro', 'salvia palth', 'Sofa', 'Coldplay', 'Eddie Murphy, Snoop Lion', 'Kanye West', 'Revolver', 'OneRepublic', 'Pezet, As', 'Tom Odell', 'Modern Talking', 'Kaizers Orchestra', 'Lemon', 'Pitbull, AFROJACK, Ne-Yo, Nayer', 'Eric Clapton', 'Arctic Monkeys', 'Modern Talking', 'The Neighbourhood', 'Kazik', 'Hozier', 'พงษ์สิทธิ์ คำภีร์', 'Petra Marklund', 'Lemon', 'Avicii', 'Specktors, Medina', 'Wale, Sam Dew', 'JayDee', 'Coldplay', 'Abel The Kid, Julio Iglesias Jr.', 'Bruno Mars', 'Revolver', 'Gabrielle', 'Modern Talking', 'J. Cole', 'Abhishek - Akshay, Ayushmann Khurrana', 'Pitbull, Kesha', 'Blur', 'Bruno Mars', 'Modern Talking', 'Rihanna', 'Modern Talking', 'Naughty Boy, Sam Smith', 'Pezet, As', 'Patrick Watson', 'Modern Talking', 'Pitbull, Ne-Yo', 'Abhishek - Akshay, Akshay Verma', 'Lil Wayne, Drake', 'Abel The Kid, Julio Iglesias Jr.', 'Lana Del Rey', 'Wally Lopez', 'Adele', 'Willie Nelson, Sister Bobbie', 'Gabrielle', 'Mr.', 'Bruno Mars', 'Patrick Sébastien', 'Adele', 'Tech N9ne, Kendrick Lamar, ¡MAYDAY!, Kendall Morgan', 'Avicii', 'Modern Talking', 'My & Mats', 'Eddie Murphy, Snoop Lion', 'Veronica Maggio', 'Vargas Blues Band', 'Tom Odell', 'Bill & Gloria Gaither, Sandi Patty, Jessy Dixon', 'Veronica Maggio', 'Matthew West', 'Mando Diao', 'Wally Lopez', 'My & Mats', 'Modern Talking', 'Avicii', 'พงษ์สิทธิ์ คำภีร์', 'Petra Marklund', 'Patrick Sébastien', 'Håkan Hellström', 'Abel The Kid, Julio Iglesias Jr.', 'Stiftelsen', 'Modern Talking', 'Medina', 'Specktors, Medina', 'Veronica Maggio', 'Mr.', 'Tjuvjakt', 'Modern Talking', 'Hozier', 'Modern Talking', 'The Neighbourhood', 'Lemon', 'Adele', 'Revolver', 'Coldplay', 'Blur', 'Wale, Sam Dew', 'Voltaj, Deepside Deejays', 'Oskar Linnros', 'Basta', 'Veronica Maggio', 'Rudolf Schock', 'Arctic Monkeys', 'Diggy, Trevor Jackson', 'Adele', 'JayDee', 'Bruno Mars', 'Kendrick Lamar', 'Veronica Maggio, Håkan Hellström', 'Lemon', 'Hozier', 'JayDee', 'Arctic Monkeys', 'Lemon', 'Coldplay', 'Modern Talking', 'Arctic Monkeys', 'Eminem', 'Bruno Mars', 'Kazik', 'The Neighbourhood', 'Lemon', 'Arctic Monkeys', 'Lady Gaga', 'WALK THE MOON', 'Anna Kendrick', 'Bruno Mars', 'Jimi Hendrix', 'Tom Odell', 'พงษ์สิทธิ์ คำภีร์', 'Arctic Monkeys', 'Jeet Gannguli, Arijit Singh', 'TV Girl', 'Abhishek - Akshay, Ayushmann Khurrana', 'J. Cole', 'Shreya Ghoshal, Sachin', 'Pitbull, AFROJACK, Ne-Yo, Nayer', 'Diggy, Trevor Jackson', 'Kendrick Lamar, Jay Rock', 'Revolver', 'Avicii', 'Patrick Sébastien', 'George Ezra', 'Kendrick Lamar', 'Adele', 'Dove Cameron, Luke Benward', 'OneRepublic', 'Revolver', 'Hozier', 'P.O.S', 'Frank Ocean', 'Modern Talking', 'Frank Ocean', 'Modern Talking', 'Miguel', 'Wally Lopez', 'Bruno Mars', 'My Chemical Romance', 'Hozier', 'My Chemical Romance'], 'pais': ['DK', 'DK', 'DK', 'DK', 'DK', 'DK', 'DK', 'DK', 'DK', 'DK', 'DK', 'DK', 'DK', 'DK', 'DK', 'DK', 'DK', 'DK', 'DK', 'DK', 'DK', 'DK', 'DK', 'DK', 'DK', 'DK', 'DK', 'DK', 'DK', 'DK', 'DK', 'DK', 'DK', 'DK', 'DK', 'DK', 'DK', 'DK', 'DK', 'DK', 'DK', 'DK', 'DK', 'DK', 'DK', 'DK', 'DK', 'DK', 'DK', 'DK', 'EE', 'EE', 'EE', 'EE', 'EE', 'EE', 'EE', 'EE', 'EE', 'EE', 'EE', 'EE', 'EE', 'EE', 'EE', 'EE', 'EE', 'EE', 'EE', 'EE', 'EE', 'EE', 'EE', 'EE', 'EE', 'EE', 'EE', 'EE', 'EE', 'EE', 'EE', 'EE', 'EE', 'EE', 'EE', 'EE', 'EE', 'EE', 'EE', 'EE', 'EE', 'EE', 'EE', 'EE', 'EE', 'EE', 'EE', 'EE', 'EE', 'EE', 'FI', 'FI', 'FI', 'FI', 'FI', 'FI', 'FI', 'FI', 'FI', 'FI', 'FI', 'FI', 'FI', 'FI', 'FI', 'FI', 'FI', 'FI', 'FI', 'FI', 'FI', 'FI', 'FI', 'FI', 'FI', 'FI', 'FI', 'FI', 'FI', 'FI', 'FI', 'FI', 'FI', 'FI', 'FI', 'FI', 'FI', 'FI', 'FI', 'FI', 'FI', 'FI', 'FI', 'FI', 'FI', 'FI', 'FI', 'FI', 'FI', 'FI', 'IS', 'IS', 'IS', 'IS', 'IS', 'IS', 'IS', 'IS', 'IS', 'IS', 'IS', 'IS', 'IS', 'IS', 'IS', 'IS', 'IS', 'IS', 'IS', 'IS', 'IS', 'IS', 'IS', 'IS', 'IS', 'IS', 'IS', 'IS', 'IS', 'IS', 'IS', 'IS', 'IS', 'IS', 'IS', 'IS', 'IS', 'IS', 'IS', 'IS', 'IS', 'IS', 'IS', 'IS', 'IS', 'IS', 'IS', 'IS', 'IS', 'IS', 'IE', 'IE', 'IE', 'IE', 'IE', 'IE', 'IE', 'IE', 'IE', 'IE', 'IE', 'IE', 'IE', 'IE', 'IE', 'IE', 'IE', 'IE', 'IE', 'IE', 'IE', 'IE', 'IE', 'IE', 'IE', 'IE', 'IE', 'IE', 'IE', 'IE', 'IE', 'IE', 'IE', 'IE', 'IE', 'IE', 'IE', 'IE', 'IE', 'IE', 'IE', 'IE', 'IE', 'IE', 'IE', 'IE', 'IE', 'IE', 'IE', 'IE', 'LT', 'LT', 'LT', 'LT', 'LT', 'LT', 'LT', 'LT', 'LT', 'LT', 'LT', 'LT', 'LT', 'LT', 'LT', 'LT', 'LT', 'LT', 'LT', 'LT', 'LT', 'LT', 'LT', 'LT', 'LT', 'LT', 'LT', 'LT', 'LT', 'LT', 'LT', 'LT', 'LT', 'LT', 'LT', 'LT', 'LT', 'LT', 'LT', 'LT', 'LT', 'LT', 'LT', 'LT', 'LT', 'LT', 'LT', 'LT', 'LT', 'LT', 'LV', 'LV', 'LV', 'LV', 'LV', 'LV', 'LV', 'LV', 'LV', 'LV', 'LV', 'LV', 'LV', 'LV', 'LV', 'LV', 'LV', 'LV', 'LV', 'LV', 'LV', 'LV', 'LV', 'LV', 'LV', 'LV', 'LV', 'LV', 'LV', 'LV', 'LV', 'LV', 'LV', 'LV', 'LV', 'LV', 'LV', 'LV', 'LV', 'LV', 'LV', 'LV', 'LV', 'LV', 'LV', 'LV', 'LV', 'LV', 'LV', 'LV', 'NO', 'NO', 'NO', 'NO', 'NO', 'NO', 'NO', 'NO', 'NO', 'NO', 'NO', 'NO', 'NO', 'NO', 'NO', 'NO', 'NO', 'NO', 'NO', 'NO', 'NO', 'NO', 'NO', 'NO', 'NO', 'NO', 'NO', 'NO', 'NO', 'NO', 'NO', 'NO', 'NO', 'NO', 'NO', 'NO', 'NO', 'NO', 'NO', 'NO', 'NO', 'NO', 'NO', 'NO', 'NO', 'NO', 'NO', 'NO', 'NO', 'NO', 'SE', 'SE', 'SE', 'SE', 'SE', 'SE', 'SE', 'SE', 'SE', 'SE', 'SE', 'SE', 'SE', 'SE', 'SE', 'SE', 'SE', 'SE', 'SE', 'SE', 'SE', 'SE', 'SE', 'SE', 'SE', 'SE', 'SE', 'SE', 'SE', 'SE', 'SE', 'SE', 'SE', 'SE', 'SE', 'SE', 'SE', 'SE', 'SE', 'SE', 'SE', 'SE', 'SE', 'SE', 'SE', 'SE', 'SE', 'SE', 'SE', 'SE', 'GB', 'GB', 'GB', 'GB', 'GB', 'GB', 'GB', 'GB', 'GB', 'GB', 'GB', 'GB', 'GB', 'GB', 'GB', 'GB', 'GB', 'GB', 'GB', 'GB', 'GB', 'GB', 'GB', 'GB', 'GB', 'GB', 'GB', 'GB', 'GB', 'GB', 'GB', 'GB', 'GB', 'GB', 'GB', 'GB', 'GB', 'GB', 'GB', 'GB', 'GB', 'GB', 'GB', 'GB', 'GB', 'GB', 'GB', 'GB', 'GB', 'GB'], 'genero': []}\n"
     ]
    }
   ],
   "source": [
    "print(prueba)"
   ]
  },
  {
   "cell_type": "code",
   "execution_count": 13,
   "metadata": {},
   "outputs": [],
   "source": [
    "def filtro_de_datos(lista_datos_zonas, datos):\n",
    "    for datos_pais in lista_datos_zonas:\n",
    "        for element in datos_pais['datos']['tracks']['items']:\n",
    "            datos['pais'].append(datos_pais['pais'])\n",
    "            datos['popularity'].append(element['popularity'])\n",
    "            datos['nombre'].append(element['name'])\n",
    "            artistas = []\n",
    "            for artista in element['artists']:\n",
    "                artistas.append(artista['name'])   \n",
    "            artistas_str = ', '.join(artistas)\n",
    "            datos['artista'].append(artistas_str)"
   ]
  },
  {
   "cell_type": "code",
   "execution_count": 14,
   "metadata": {},
   "outputs": [],
   "source": [
    "filtro_de_datos (paises_norte_europa, datos_paises_norte_europa)"
   ]
  },
  {
   "cell_type": "code",
   "execution_count": 15,
   "metadata": {},
   "outputs": [
    {
     "name": "stdout",
     "output_type": "stream",
     "text": [
      "{'nombre': ['Just the Way You Are', 'Lågsus (feat. Medina)', 'Lost', 'Cheri Cheri Lady (Peters Pop-Show 30.11.1985) - Live from Peters Pop Show, 1985', 'Locked out of Heaven', 'My Girl (feat. Trevor Jackson)', 'Gennem Byen', 'Plastic Dreams 2003', 'Neonlys', 'Atlantis Is Calling (Na, sowas! 17.05.1986) - Live from Na, sowas!, 1986', 'LoveHate Thing (feat. Sam Dew)', 'Heaven Will Know (Peters Pop-Show 30.11.1985) - Live from Peters Pop Show, 1985', 'Under Stjernerne På Himlen', \"Geronimo's Cadillac (Peters Pop-Show 06.12.1986) - Live from Peters Pop-Show, 1986\", 'Another Love', 'My Love a Piece of My Love (feat. Snoop Dogg)', 'Wake Me Up', 'You Can Win If You Want (Wetten, dass...? 18.05.1985) - Live from Wetten, dass...?, 1985', 'A Sky Full of Stars', 'Wind Song', 'Grenade', '25 ปี (มีหวัง)', 'Novembervej', 'Byłem (feat. As)', 'Someone Like You', 'Pani Da Rang (From \"Vicky Donor\") - Male Vocals', 'Take Me To Church', 'You Are Not Alone (Wetten, dass...? 20.02.1999) - Live from Wetten, dass...?, 1999', 'When I Was Your Man', 'Ballada o Janku Wisniewskim', 'Give Me Everything (feat. Nayer)', 'Now Is the Time (feat. Jasmine V)', 'Sweater Weather', 'Bede Z Toba', 'Thinkin Bout You', 'Bede Z Toba - Hangout Live', 'Mod Solnedgangen', 'Iré tras de ti', 'We Found Love', 'Il fait chaud', 'All of Me', \"Fragile (Director's Cut)\", 'Timber', 'The Real Slim Shady - Edited', 'Øde Ø', 'Smile', 'Olivia', 'G.U.Y. - An ARTPOP Film', 'Story of My Life', '好不好', 'Sweater Weather', 'Cheri Cheri Lady (Peters Pop-Show 30.11.1985) - Live from Peters Pop Show, 1985', 'LVL', 'Ballada o Janku Wisniewskim', 'Lovers Rock', 'Atlantis Is Calling (Na, sowas! 17.05.1986) - Live from Na, sowas!, 1986', 'Money Trees', \"Geronimo's Cadillac (Peters Pop-Show 06.12.1986) - Live from Peters Pop-Show, 1986\", 'I Wanna Be Yours', 'You Can Win If You Want (Wetten, dass...? 18.05.1985) - Live from Wetten, dass...?, 1985', 'She Will', 'Heaven Will Know (Peters Pop-Show 30.11.1985) - Live from Peters Pop Show, 1985', 'Give Me Everything (feat. Nayer)', 'Il fait chaud', 'Les', 'My Girl (feat. Trevor Jackson)', 'Ainult unustamiseks', 'Bede Z Toba', 'LoveHate Thing (feat. Sam Dew)', 'Plastic Dreams 2003', 'Swimming Pools (Drank)', 'Bede Z Toba - Hangout Live', 'No Role Modelz', 'You Are Not Alone (Wetten, dass...? 20.02.1999) - Live from Wetten, dass...?, 1999', 'Heartbeat', 'Iré tras de ti', 'Fashion Killa', 'Lågsus (feat. Medina)', 'Stolen Dance', 'Pani Da Rang (From \"Vicky Donor\") - Male Vocals', 'Wake Me Up', '25 ปี (มีหวัง)', 'Armastan ma luuserit', \"Fragile (Director's Cut)\", 'i was all over her', 'The Real Slim Shady - Edited', 'Mojito', 'Smile', 'The Spins', 'G.U.Y. - An ARTPOP Film', 'A.V.R.', '好不好', 'Do I Wanna Know?', 'Samba Pras Moças', 'Another Love', 'Hardkor i disko', 'Love Me', 'Red Light (feat. Snoop Lion)', 'Memories (feat. Kid Cudi)', 'Losing You', 'Häissä (feat. Märkä-Simo)', 'Cheri Cheri Lady (Peters Pop-Show 30.11.1985) - Live from Peters Pop Show, 1985', 'Sweater Weather', 'Now Is the Time (feat. Jasmine V)', 'I Wanna Be Yours', 'Plastic Dreams 2003', 'Judas', 'Bede Z Toba', 'Another Love', \"Geronimo's Cadillac (Peters Pop-Show 06.12.1986) - Live from Peters Pop-Show, 1986\", 'Jos Mun Pokka Pettää', 'Atlantis Is Calling (Na, sowas! 17.05.1986) - Live from Na, sowas!, 1986', 'Wake Me Up', 'Heaven Will Know (Peters Pop-Show 30.11.1985) - Live from Peters Pop Show, 1985', 'Jippikayjei', 'You Can Win If You Want (Wetten, dass...? 18.05.1985) - Live from Wetten, dass...?, 1985', 'Only Girl (In The World)', 'My Girl (feat. Trevor Jackson)', 'Olet puolisoni nyt', '25 ปี (มีหวัง)', 'Timantit on ikuisia', 'Ballada o Janku Wisniewskim', 'She Will', 'Crack the Skye', 'Give Me Everything (feat. Nayer)', 'Us Against the World', 'A Sky Full of Stars', 'Bede Z Toba - Hangout Live', 'Kesäyö', 'You Are Not Alone (Wetten, dass...? 20.02.1999) - Live from Wetten, dass...?, 1999', 'No Role Modelz', 'Iré tras de ti', 'Kran Turismo (feat. Raappana)', 'Il fait chaud', 'Syypää sun hymyyn (feat. Yasmine Yamajako)', 'Lågsus (feat. Medina)', 'Money Trees', 'Pani Da Rang (From \"Vicky Donor\") - Male Vocals', 'S&M', \"Fragile (Director's Cut)\", 'Vapaus käteen jää', 'The Real Slim Shady - Edited', 'International Love (feat. Chris Brown)', 'Smile', 'Set Fire to the Rain', 'G.U.Y. - An ARTPOP Film', 'Love The Way You Lie', '好不好', 'Summertime Sadness', 'Samba Pras Moças', 'Dvel ég í draumahöll', 'Bede Z Toba', 'Litlar stjörnur', 'Cheri Cheri Lady (Peters Pop-Show 30.11.1985) - Live from Peters Pop Show, 1985', 'Óskasteinar', 'Heaven Will Know (Peters Pop-Show 30.11.1985) - Live from Peters Pop Show, 1985', 'Sofðu unga ástin mín', 'Plastic Dreams 2003', 'Bíum bíum bambaló', 'Bede Z Toba - Hangout Live', 'Sofa urtubörn', 'Ballada o Janku Wisniewskim', 'Ljós', 'You Are Not Alone (Wetten, dass...? 20.02.1999) - Live from Wetten, dass...?, 1999', 'Ævintýralönd', 'Iré tras de ti', 'Nóttin læðist inn', 'Il fait chaud', 'Góða nótt', 'Now Is the Time (feat. Jasmine V)', 'Bí bí og blaka', 'Lågsus (feat. Medina)', 'Frost er úti fuglinn minn', 'Pani Da Rang (From \"Vicky Donor\") - Male Vocals', 'Sofðu', 'You Can Win If You Want (Wetten, dass...? 18.05.1985) - Live from Wetten, dass...?, 1985', 'Þú ert', '25 ปี (มีหวัง)', 'Sólskin', \"Geronimo's Cadillac (Peters Pop-Show 06.12.1986) - Live from Peters Pop-Show, 1986\", 'Stingum Af', \"Fragile (Director's Cut)\", 'Money Trees', 'The Real Slim Shady - Edited', 'She Will', 'Smile', 'Thinkin Bout You', 'Atlantis Is Calling (Na, sowas! 17.05.1986) - Live from Na, sowas!, 1986', 'Another Love', 'G.U.Y. - An ARTPOP Film', 'Lost', '好不好', 'Take Me To Church', 'Samba Pras Moças', 'Gúanó Stelpan', 'Hardkor i disko', 'Yfir Borgina', 'Red Light (feat. Snoop Lion)', 'Just the Way You Are', 'Losing You', 'A Sky Full of Stars', 'Plastic Dreams 2003', 'Take Me To Church', 'Thoda Thoda', 'Do I Wanna Know? - Live At the BBC', 'Bede Z Toba', 'Give Me Everything (feat. Nayer)', 'Cheri Cheri Lady (Peters Pop-Show 30.11.1985) - Live from Peters Pop Show, 1985', 'Timber', 'Ballada o Janku Wisniewskim', 'Wake Me Up', 'Bede Z Toba - Hangout Live', 'Another Love', 'Byłem (feat. As)', 'Someone New', 'You Can Win If You Want (Wetten, dass...? 18.05.1985) - Live from Wetten, dass...?, 1985', 'Shut Up and Dance', 'Pani Da Rang (From \"Vicky Donor\") - Male Vocals', \"Can't Hold Us (feat. Ray Dalton)\", 'My Love a Piece of My Love (feat. Snoop Dogg)', 'Work Song', 'Atlantis Is Calling (Na, sowas! 17.05.1986) - Live from Na, sowas!, 1986', 'Budapest', \"Geronimo's Cadillac (Peters Pop-Show 06.12.1986) - Live from Peters Pop-Show, 1986\", 'Locked out of Heaven', 'You Are Not Alone (Wetten, dass...? 20.02.1999) - Live from Wetten, dass...?, 1999', 'Just the Way You Are', \"Let Me Love You (Until You Learn To Love Yourself) - Director's Cut (Explicit)\", 'Titanium (feat. Sia)', 'Iré tras de ti', 'Ho Hey', 'Il fait chaud', 'Only Girl (In The World)', 'Lågsus (feat. Medina)', 'Story of My Life', '25 ปี (มีหวัง)', 'Money Trees', \"Fragile (Director's Cut)\", 'Night Changes', 'The Real Slim Shady - Edited', 'I Wanna Be Yours', 'Smile', 'LoveHate Thing (feat. Sam Dew)', 'G.U.Y. - An ARTPOP Film', 'Counting Stars', 'Heaven Will Know (Peters Pop-Show 30.11.1985) - Live from Peters Pop Show, 1985', 'Stubborn Love', '好不好', 'No Role Modelz', 'Hardkor i disko', 'LoveHate Thing (feat. Sam Dew)', 'Cheri Cheri Lady (Peters Pop-Show 30.11.1985) - Live from Peters Pop Show, 1985', 'Sweater Weather', 'Heaven Will Know (Peters Pop-Show 30.11.1985) - Live from Peters Pop Show, 1985', 'Perlai', \"Geronimo's Cadillac (Peters Pop-Show 06.12.1986) - Live from Peters Pop-Show, 1986\", 'Nes Aš Tik Vėjas', 'Atlantis Is Calling (Na, sowas! 17.05.1986) - Live from Na, sowas!, 1986', 'Les', 'Bede Z Toba - Hangout Live', 'Money Trees', 'You Can Win If You Want (Wetten, dass...? 18.05.1985) - Live from Wetten, dass...?, 1985', 'I Wanna Be Yours', 'Polished Stone Live at the Electric Ballroom 6/9/99', 'Lovers Rock', 'Bede Z Toba', 'LVL', 'Plastic Dreams 2003', 'No Role Modelz', 'Ballada o Janku Wisniewskim', 'Champagne Coast', 'You Are Not Alone (Wetten, dass...? 20.02.1999) - Live from Wetten, dass...?, 1999', 'i was all over her', 'Iré tras de ti', 'Swimming Pools (Drank)', 'Il fait chaud', 'Do I Wanna Know?', 'Lågsus (feat. Medina)', 'Stolen Dance', 'Pani Da Rang (From \"Vicky Donor\") - Male Vocals', 'Heartbeat', '25 ปี (มีหวัง)', 'No. 1 Party Anthem', \"Fragile (Director's Cut)\", 'My Love', 'The Real Slim Shady - Edited', 'Ne Vakar', 'Smile', 'She Will', 'G.U.Y. - An ARTPOP Film', 'Give Me Everything (feat. Nayer)', '好不好', \"Why'd You Only Call Me When You're High?\", 'Samba Pras Moças', 'Fashion Killa', 'Hardkor i disko', 'The Spins', 'Red Light (feat. Snoop Lion)', 'Laikas Keistis', 'Losing You', 'Sweater Weather', 'Plastic Dreams 2003', 'LVL', 'Cheri Cheri Lady (Peters Pop-Show 30.11.1985) - Live from Peters Pop Show, 1985', 'LoveHate Thing (feat. Sam Dew)', \"Geronimo's Cadillac (Peters Pop-Show 06.12.1986) - Live from Peters Pop-Show, 1986\", 'No Role Modelz', 'You Can Win If You Want (Wetten, dass...? 18.05.1985) - Live from Wetten, dass...?, 1985', 'Money Trees', 'Atlantis Is Calling (Na, sowas! 17.05.1986) - Live from Na, sowas!, 1986', 'I Wanna Be Yours', 'Heaven Will Know (Peters Pop-Show 30.11.1985) - Live from Peters Pop Show, 1985', 'Fashion Killa', 'Bede Z Toba', 'She Will', 'Bede Z Toba - Hangout Live', 'Les', 'Ballada o Janku Wisniewskim', 'Swimming Pools (Drank)', 'You Are Not Alone (Wetten, dass...? 20.02.1999) - Live from Wetten, dass...?, 1999', 'Lovers Rock', 'Iré tras de ti', 'Give Me Everything (feat. Nayer)', 'Il fait chaud', 'The Spins', 'Lågsus (feat. Medina)', 'Stolen Dance', 'Pani Da Rang (From \"Vicky Donor\") - Male Vocals', 'Love Me', '25 ปี (มีหวัง)', 'Do I Wanna Know?', \"Fragile (Director's Cut)\", 'Heartbeat', 'The Real Slim Shady - Edited', 'Locked out of Heaven', 'Smile', 'Another Love', 'G.U.Y. - An ARTPOP Film', 'Champagne Coast', '好不好', 'Take Me To Church', 'Samba Pras Moças', 'i was all over her', 'Hardkor i disko', 'A Sky Full of Stars', 'Red Light (feat. Snoop Lion)', 'Bound 2', 'Losing You', 'Counting Stars', 'Byłem (feat. As)', 'Another Love', 'You Are Not Alone (Wetten, dass...? 20.02.1999) - Live from Wetten, dass...?, 1999', 'Hjerteknuser', 'Bede Z Toba', 'Give Me Everything (feat. Nayer)', 'Layla - Live', 'I Wanna Be Yours', 'Cheri Cheri Lady (Peters Pop-Show 30.11.1985) - Live from Peters Pop Show, 1985', 'Sweater Weather', 'Ballada o Janku Wisniewskim', 'Take Me To Church', '25 ปี (มีหวัง)', 'Händerna mot himlen', 'Bede Z Toba - Hangout Live', 'Wake Me Up', 'Lågsus (feat. Medina)', 'LoveHate Thing (feat. Sam Dew)', 'Plastic Dreams 2003', 'A Sky Full of Stars', 'Smile', 'Locked out of Heaven', 'Losing You', 'Bordet', 'Atlantis Is Calling (Na, sowas! 17.05.1986) - Live from Na, sowas!, 1986', 'No Role Modelz', 'Pani Da Rang (From \"Vicky Donor\") - Male Vocals', 'Timber', 'Blur on Beetlebum HD', 'Just the Way You Are', 'You Can Win If You Want (Wetten, dass...? 18.05.1985) - Live from Wetten, dass...?, 1985', 'Only Girl (In The World)', \"Geronimo's Cadillac (Peters Pop-Show 06.12.1986) - Live from Peters Pop-Show, 1986\", 'La La La', 'Byłem (feat. As)', 'Je te laisserai des mots', 'Heaven Will Know (Peters Pop-Show 30.11.1985) - Live from Peters Pop Show, 1985', 'Time of Our Lives', 'Rum Whisky (From \"Vicky Donor\")', 'She Will', 'My Love a Piece of My Love (feat. Snoop Dogg)', 'Young And Beautiful', 'Now Is the Time (feat. Jasmine V)', 'Someone Like You', 'Summer of Roses / December Day', 'Ring meg', 'Iré tras de ti', 'When I Was Your Man', 'Il fait chaud', 'Set Fire to the Rain', \"Fragile (Director's Cut)\", 'Wake Me Up', 'Cheri Cheri Lady (Peters Pop-Show 30.11.1985) - Live from Peters Pop Show, 1985', 'Nu i ro slumra in', 'Red Light (feat. Snoop Lion)', 'Välkommen in', 'Del sur', 'Another Love', 'Love In Any Language - Live', 'Trädgården en fredag', 'Hello, My Name Is - Live', 'Strövtåg i hembygden', 'Now Is the Time (feat. Jasmine V)', 'Sov alla', \"Geronimo's Cadillac (Peters Pop-Show 06.12.1986) - Live from Peters Pop-Show, 1986\", 'Levels - Radio Edit', '25 ปี (มีหวัง)', 'Händerna mot himlen', 'Il fait chaud', 'Det kommer aldrig va över för mig', 'My Love a Piece of My Love (feat. Snoop Dogg)', 'Vart jag än går', 'Atlantis Is Calling (Na, sowas! 17.05.1986) - Live from Na, sowas!, 1986', 'Miss Decibel', 'Lågsus (feat. Medina)', 'Jag kommer', 'Iré tras de ti', 'Tandtråd', 'You Can Win If You Want (Wetten, dass...? 18.05.1985) - Live from Wetten, dass...?, 1985', 'Take Me To Church', 'Heaven Will Know (Peters Pop-Show 30.11.1985) - Live from Peters Pop Show, 1985', 'Sweater Weather', 'Bede Z Toba - Hangout Live', 'Someone Like You', 'Wind Song', 'A Sky Full of Stars', 'Blur on Leisure', 'LoveHate Thing (feat. Sam Dew)', 'I Wanna Be Free - Short Edit', 'Från och med Du', 'Это дороже денег', 'Inga kläder', 'Die Koenige (ZDF Drehscheibe 7.1.1973) - VOD', 'I Wanna Be Yours', 'My Girl (feat. Trevor Jackson)', 'Set Fire to the Rain', 'Plastic Dreams 2003', 'Just the Way You Are', \"Sing About Me, I'm Dying Of Thirst - Part 1\", 'Hela huset', 'Bede Z Toba', 'Take Me To Church', 'Plastic Dreams 2003', 'I Wanna Be Yours', 'Bede Z Toba', 'A Sky Full of Stars', 'Cheri Cheri Lady (Peters Pop-Show 30.11.1985) - Live from Peters Pop Show, 1985', 'Do I Wanna Know?', 'The Real Slim Shady - Edited', 'Locked out of Heaven', 'Ballada o Janku Wisniewskim', 'Sweater Weather', 'Bede Z Toba - Hangout Live', 'No. 1 Party Anthem', 'G.U.Y. - An ARTPOP Film', 'Shut Up and Dance', \"Cups (Pitch Perfect’s “When I’m Gone”) - Director's Cut / Closed-Captioned\", 'Just the Way You Are', 'Like A Rolling Stone (from Winterland)', 'Another Love', '25 ปี (มีหวัง)', \"Why'd You Only Call Me When You're High?\", 'Muskurane (Film Version) [From \"Citylights\"]', 'Lovers Rock', 'Pani Da Rang (From \"Vicky Donor\") - Male Vocals', 'No Role Modelz', 'Thoda Thoda', 'Give Me Everything (feat. Nayer)', 'My Girl (feat. Trevor Jackson)', 'Money Trees', 'Wind Song', 'Wake Me Up', 'Il fait chaud', 'Budapest', \"Sing About Me, I'm Dying Of Thirst - Part 1\", 'Someone Like You', 'Cloud 9 - From \"Cloud 9\" / Original TV Movie Soundtrack', 'Counting Stars', 'Losing You', 'Do I Wanna Know? - Live At the BBC', 'Bleeding Hearts Club', 'Thinkin Bout You', 'You Can Win If You Want (Wetten, dass...? 18.05.1985) - Live from Wetten, dass...?, 1985', 'Lost', 'Atlantis Is Calling (Na, sowas! 17.05.1986) - Live from Na, sowas!, 1986', 'Sure Thing', 'Wild Out Anthem (feat. Jay Colin)', 'When I Was Your Man', 'Helena - Outtake Version', 'Someone New', 'Welcome to the Black Parade - Outtake Version'], 'popularity': [78, 0, 78, 2, 85, 0, 48, 2, 48, 0, 76, 0, 47, 0, 82, 0, 82, 0, 83, 0, 77, 0, 47, 0, 77, 0, 78, 0, 83, 1, 82, 0, 85, 9, 81, 2, 46, 0, 73, 0, 81, 0, 80, 0, 46, 0, 46, 0, 81, 0, 85, 2, 76, 1, 82, 0, 79, 0, 86, 0, 75, 0, 82, 0, 79, 0, 33, 9, 76, 2, 77, 2, 81, 0, 77, 0, 75, 0, 75, 0, 82, 0, 32, 0, 77, 0, 32, 0, 78, 0, 31, 0, 82, 0, 82, 0, 80, 0, 75, 0, 47, 2, 85, 0, 86, 2, 76, 9, 82, 0, 44, 0, 82, 0, 44, 0, 79, 0, 44, 0, 43, 1, 75, 0, 82, 0, 83, 2, 43, 0, 81, 0, 43, 0, 43, 0, 79, 0, 78, 0, 42, 0, 77, 0, 77, 0, 80, 0, 78, 0, 44, 9, 41, 2, 41, 0, 41, 2, 40, 2, 40, 1, 40, 0, 40, 0, 40, 0, 39, 0, 39, 0, 39, 0, 39, 0, 38, 0, 38, 0, 34, 0, 79, 0, 75, 0, 81, 0, 82, 0, 78, 0, 78, 0, 31, 0, 31, 0, 78, 0, 83, 2, 78, 0, 73, 9, 82, 2, 80, 1, 82, 2, 82, 0, 69, 0, 80, 0, 80, 0, 70, 0, 78, 0, 85, 0, 78, 0, 61, 0, 77, 0, 79, 0, 81, 0, 79, 0, 83, 0, 86, 0, 60, 0, 82, 0, 72, 0, 81, 0, 76, 2, 85, 0, 39, 0, 39, 0, 79, 2, 79, 0, 86, 0, 82, 9, 76, 2, 81, 1, 71, 0, 77, 0, 77, 0, 82, 0, 75, 0, 77, 0, 84, 0, 72, 0, 36, 0, 75, 0, 82, 0, 80, 0, 75, 0, 78, 0, 35, 0, 85, 2, 76, 2, 76, 0, 81, 0, 79, 0, 86, 0, 75, 9, 75, 2, 79, 1, 77, 0, 82, 0, 82, 0, 78, 0, 75, 0, 80, 0, 82, 0, 77, 0, 85, 0, 82, 0, 71, 0, 78, 0, 77, 0, 83, 0, 78, 0, 82, 0, 82, 0, 49, 9, 82, 0, 86, 2, 85, 1, 78, 0, 56, 2, 82, 0, 76, 2, 83, 0, 85, 0, 48, 0, 81, 0, 80, 0, 78, 0, 79, 0, 77, 0, 78, 0, 78, 0, 75, 0, 80, 0, 77, 0, 47, 0, 83, 0, 77, 0, 82, 2, 54, 0, 55, 0, 82, 0, 55, 0, 54, 0, 53, 0, 76, 0, 56, 0, 53, 0, 52, 0, 53, 0, 54, 0, 54, 0, 53, 0, 85, 2, 77, 0, 83, 0, 76, 0, 52, 0, 53, 0, 86, 0, 77, 2, 78, 0, 51, 9, 78, 2, 86, 9, 83, 2, 82, 0, 85, 1, 64, 2, 84, 0, 80, 0, 78, 0, 82, 0, 80, 0, 82, 0, 81, 0, 82, 0, 79, 0, 82, 0, 78, 0, 77, 0, 82, 0, 73, 0, 81, 0, 78, 0, 81, 0, 83, 0, 69, 0], 'artista': ['Bruno Mars', 'Specktors, Medina', 'Frank Ocean', 'Modern Talking', 'Bruno Mars', 'Diggy, Trevor Jackson', 'Ukendt Kunstner', 'JayDee', 'Ukendt Kunstner', 'Modern Talking', 'Wale, Sam Dew', 'Modern Talking', 'Rasmus Seebach', 'Modern Talking', 'Tom Odell', 'Abel The Kid, Julio Iglesias Jr.', 'Avicii', 'Modern Talking', 'Coldplay', 'Revolver', 'Bruno Mars', 'พงษ์สิทธิ์ คำภีร์', 'Nik & Jay', 'Pezet, As', 'Adele', 'Abhishek - Akshay, Ayushmann Khurrana', 'Hozier', 'Modern Talking', 'Bruno Mars', 'Kazik', 'Pitbull, AFROJACK, Ne-Yo, Nayer', 'Wally Lopez', 'The Neighbourhood', 'Lemon', 'Frank Ocean', 'Lemon', 'Nik & Jay', 'Mr.', 'Rihanna, Calvin Harris', 'Patrick Sébastien', 'John Legend', 'Tech N9ne, Kendrick Lamar, ¡MAYDAY!, Kendall Morgan', 'Pitbull, Kesha', 'Eminem', 'Rasmus Seebach', 'Abel The Kid, Julio Iglesias Jr.', 'Rasmus Seebach', 'Lady Gaga', 'One Direction', 'Evan Yo', 'The Neighbourhood', 'Modern Talking', 'A$AP Rocky', 'Kazik', 'TV Girl', 'Modern Talking', 'Kendrick Lamar, Jay Rock', 'Modern Talking', 'Arctic Monkeys', 'Modern Talking', 'Lil Wayne, Drake', 'Modern Talking', 'Pitbull, AFROJACK, Ne-Yo, Nayer', 'Patrick Sébastien', 'Childish Gambino', 'Diggy, Trevor Jackson', 'Smilers', 'Lemon', 'Wale, Sam Dew', 'JayDee', 'Kendrick Lamar', 'Lemon', 'J. Cole', 'Modern Talking', 'Childish Gambino', 'Mr.', 'A$AP Rocky', 'Specktors, Medina', 'Milky Chance', 'Abhishek - Akshay, Ayushmann Khurrana', 'Avicii', 'พงษ์สิทธิ์ คำภีร์', 'Smilers', 'Tech N9ne, Kendrick Lamar, ¡MAYDAY!, Kendall Morgan', 'salvia palth', 'Eminem', 'Smilers', 'Abel The Kid, Julio Iglesias Jr.', 'Mac Miller, Empire Of The Sun', 'Lady Gaga', 'Suur Papa', 'Evan Yo', 'Arctic Monkeys', 'Mariene De Castro', 'Tom Odell', 'Sofa', 'Lil Wayne, Drake, Future', 'Eddie Murphy, Snoop Lion', 'David Guetta, Kid Cudi', 'Revolver', 'JVG, Märkä-Simo', 'Modern Talking', 'The Neighbourhood', 'Wally Lopez', 'Arctic Monkeys', 'JayDee', 'Lady Gaga', 'Lemon', 'Tom Odell', 'Modern Talking', 'Haloo Helsinki!', 'Modern Talking', 'Avicii', 'Modern Talking', 'Cheek', 'Modern Talking', 'Rihanna', 'Diggy, Trevor Jackson', 'Samuli Putro', 'พงษ์สิทธิ์ คำภีร์', 'Cheek', 'Kazik', 'Lil Wayne, Drake', 'Mastodon', 'Pitbull, AFROJACK, Ne-Yo, Nayer', 'Steve Harris', 'Coldplay', 'Lemon', 'Pariisin Kevät', 'Modern Talking', 'J. Cole', 'Mr.', 'JVG, Raappana', 'Patrick Sébastien', 'Cheek, Yasmine Yamajako', 'Specktors, Medina', 'Kendrick Lamar, Jay Rock', 'Abhishek - Akshay, Ayushmann Khurrana', 'Rihanna', 'Tech N9ne, Kendrick Lamar, ¡MAYDAY!, Kendall Morgan', 'Haloo Helsinki!', 'Eminem', 'Pitbull, Chris Brown', 'Abel The Kid, Julio Iglesias Jr.', 'Adele', 'Lady Gaga', 'Eminem, Rihanna', 'Evan Yo', 'Lana Del Rey', 'Mariene De Castro', 'Hafdís Huld', 'Lemon', 'Hafdís Huld', 'Modern Talking', 'Hafdís Huld', 'Modern Talking', 'Hafdís Huld', 'JayDee', 'Hafdís Huld', 'Lemon', 'Hafdís Huld', 'Kazik', 'Hafdís Huld', 'Modern Talking', 'Hafdís Huld', 'Mr.', 'Hafdís Huld', 'Patrick Sébastien', 'Hafdís Huld', 'Wally Lopez', 'Hafdís Huld', 'Specktors, Medina', 'Hafdís Huld', 'Abhishek - Akshay, Ayushmann Khurrana', 'Hafdís Huld', 'Modern Talking', 'Hafdís Huld', 'พงษ์สิทธิ์ คำภีร์', 'Hafdís Huld', 'Modern Talking', 'Mugison', 'Tech N9ne, Kendrick Lamar, ¡MAYDAY!, Kendall Morgan', 'Kendrick Lamar, Jay Rock', 'Eminem', 'Lil Wayne, Drake', 'Abel The Kid, Julio Iglesias Jr.', 'Frank Ocean', 'Modern Talking', 'Tom Odell', 'Lady Gaga', 'Frank Ocean', 'Evan Yo', 'Hozier', 'Mariene De Castro', 'Mugison', 'Sofa', 'Valdimar', 'Eddie Murphy, Snoop Lion', 'Bruno Mars', 'Revolver', 'Coldplay', 'JayDee', 'Hozier', 'Shreya Ghoshal, Sachin', 'Hozier', 'Lemon', 'Pitbull, AFROJACK, Ne-Yo, Nayer', 'Modern Talking', 'Pitbull, Kesha', 'Kazik', 'Avicii', 'Lemon', 'Tom Odell', 'Pezet, As', 'Hozier', 'Modern Talking', 'WALK THE MOON', 'Abhishek - Akshay, Ayushmann Khurrana', 'Macklemore, Ryan Lewis, Macklemore & Ryan Lewis, Ray Dalton', 'Abel The Kid, Julio Iglesias Jr.', 'Hozier', 'Modern Talking', 'George Ezra', 'Modern Talking', 'Bruno Mars', 'Modern Talking', 'Bruno Mars', 'Ne-Yo', 'David Guetta, Sia', 'Mr.', 'The Lumineers', 'Patrick Sébastien', 'Rihanna', 'Specktors, Medina', 'One Direction', 'พงษ์สิทธิ์ คำภีร์', 'Kendrick Lamar, Jay Rock', 'Tech N9ne, Kendrick Lamar, ¡MAYDAY!, Kendall Morgan', 'One Direction', 'Eminem', 'Arctic Monkeys', 'Abel The Kid, Julio Iglesias Jr.', 'Wale, Sam Dew', 'Lady Gaga', 'OneRepublic', 'Modern Talking', 'The Lumineers', 'Evan Yo', 'J. Cole', 'Sofa', 'Wale, Sam Dew', 'Modern Talking', 'The Neighbourhood', 'Modern Talking', 'Sel', 'Modern Talking', 'Sel', 'Modern Talking', 'Childish Gambino', 'Lemon', 'Kendrick Lamar, Jay Rock', 'Modern Talking', 'Arctic Monkeys', 'Blur', 'TV Girl', 'Lemon', 'A$AP Rocky', 'JayDee', 'J. Cole', 'Kazik', 'Blood Orange', 'Modern Talking', 'salvia palth', 'Mr.', 'Kendrick Lamar', 'Patrick Sébastien', 'Arctic Monkeys', 'Specktors, Medina', 'Milky Chance', 'Abhishek - Akshay, Ayushmann Khurrana', 'Childish Gambino', 'พงษ์สิทธิ์ คำภีร์', 'Arctic Monkeys', 'Tech N9ne, Kendrick Lamar, ¡MAYDAY!, Kendall Morgan', 'Route 94, Jess Glynne', 'Eminem', 'Sel', 'Abel The Kid, Julio Iglesias Jr.', 'Lil Wayne, Drake', 'Lady Gaga', 'Pitbull, AFROJACK, Ne-Yo, Nayer', 'Evan Yo', 'Arctic Monkeys', 'Mariene De Castro', 'A$AP Rocky', 'Sofa', 'Mac Miller, Empire Of The Sun', 'Eddie Murphy, Snoop Lion', 'G&G Sindikatas', 'Revolver', 'The Neighbourhood', 'JayDee', 'A$AP Rocky', 'Modern Talking', 'Wale, Sam Dew', 'Modern Talking', 'J. Cole', 'Modern Talking', 'Kendrick Lamar, Jay Rock', 'Modern Talking', 'Arctic Monkeys', 'Modern Talking', 'A$AP Rocky', 'Lemon', 'Lil Wayne, Drake', 'Lemon', 'Childish Gambino', 'Kazik', 'Kendrick Lamar', 'Modern Talking', 'TV Girl', 'Mr.', 'Pitbull, AFROJACK, Ne-Yo, Nayer', 'Patrick Sébastien', 'Mac Miller, Empire Of The Sun', 'Specktors, Medina', 'Milky Chance', 'Abhishek - Akshay, Ayushmann Khurrana', 'Lil Wayne, Drake, Future', 'พงษ์สิทธิ์ คำภีร์', 'Arctic Monkeys', 'Tech N9ne, Kendrick Lamar, ¡MAYDAY!, Kendall Morgan', 'Childish Gambino', 'Eminem', 'Bruno Mars', 'Abel The Kid, Julio Iglesias Jr.', 'Tom Odell', 'Lady Gaga', 'Blood Orange', 'Evan Yo', 'Hozier', 'Mariene De Castro', 'salvia palth', 'Sofa', 'Coldplay', 'Eddie Murphy, Snoop Lion', 'Kanye West', 'Revolver', 'OneRepublic', 'Pezet, As', 'Tom Odell', 'Modern Talking', 'Kaizers Orchestra', 'Lemon', 'Pitbull, AFROJACK, Ne-Yo, Nayer', 'Eric Clapton', 'Arctic Monkeys', 'Modern Talking', 'The Neighbourhood', 'Kazik', 'Hozier', 'พงษ์สิทธิ์ คำภีร์', 'Petra Marklund', 'Lemon', 'Avicii', 'Specktors, Medina', 'Wale, Sam Dew', 'JayDee', 'Coldplay', 'Abel The Kid, Julio Iglesias Jr.', 'Bruno Mars', 'Revolver', 'Gabrielle', 'Modern Talking', 'J. Cole', 'Abhishek - Akshay, Ayushmann Khurrana', 'Pitbull, Kesha', 'Blur', 'Bruno Mars', 'Modern Talking', 'Rihanna', 'Modern Talking', 'Naughty Boy, Sam Smith', 'Pezet, As', 'Patrick Watson', 'Modern Talking', 'Pitbull, Ne-Yo', 'Abhishek - Akshay, Akshay Verma', 'Lil Wayne, Drake', 'Abel The Kid, Julio Iglesias Jr.', 'Lana Del Rey', 'Wally Lopez', 'Adele', 'Willie Nelson, Sister Bobbie', 'Gabrielle', 'Mr.', 'Bruno Mars', 'Patrick Sébastien', 'Adele', 'Tech N9ne, Kendrick Lamar, ¡MAYDAY!, Kendall Morgan', 'Avicii', 'Modern Talking', 'My & Mats', 'Eddie Murphy, Snoop Lion', 'Veronica Maggio', 'Vargas Blues Band', 'Tom Odell', 'Bill & Gloria Gaither, Sandi Patty, Jessy Dixon', 'Veronica Maggio', 'Matthew West', 'Mando Diao', 'Wally Lopez', 'My & Mats', 'Modern Talking', 'Avicii', 'พงษ์สิทธิ์ คำภีร์', 'Petra Marklund', 'Patrick Sébastien', 'Håkan Hellström', 'Abel The Kid, Julio Iglesias Jr.', 'Stiftelsen', 'Modern Talking', 'Medina', 'Specktors, Medina', 'Veronica Maggio', 'Mr.', 'Tjuvjakt', 'Modern Talking', 'Hozier', 'Modern Talking', 'The Neighbourhood', 'Lemon', 'Adele', 'Revolver', 'Coldplay', 'Blur', 'Wale, Sam Dew', 'Voltaj, Deepside Deejays', 'Oskar Linnros', 'Basta', 'Veronica Maggio', 'Rudolf Schock', 'Arctic Monkeys', 'Diggy, Trevor Jackson', 'Adele', 'JayDee', 'Bruno Mars', 'Kendrick Lamar', 'Veronica Maggio, Håkan Hellström', 'Lemon', 'Hozier', 'JayDee', 'Arctic Monkeys', 'Lemon', 'Coldplay', 'Modern Talking', 'Arctic Monkeys', 'Eminem', 'Bruno Mars', 'Kazik', 'The Neighbourhood', 'Lemon', 'Arctic Monkeys', 'Lady Gaga', 'WALK THE MOON', 'Anna Kendrick', 'Bruno Mars', 'Jimi Hendrix', 'Tom Odell', 'พงษ์สิทธิ์ คำภีร์', 'Arctic Monkeys', 'Jeet Gannguli, Arijit Singh', 'TV Girl', 'Abhishek - Akshay, Ayushmann Khurrana', 'J. Cole', 'Shreya Ghoshal, Sachin', 'Pitbull, AFROJACK, Ne-Yo, Nayer', 'Diggy, Trevor Jackson', 'Kendrick Lamar, Jay Rock', 'Revolver', 'Avicii', 'Patrick Sébastien', 'George Ezra', 'Kendrick Lamar', 'Adele', 'Dove Cameron, Luke Benward', 'OneRepublic', 'Revolver', 'Hozier', 'P.O.S', 'Frank Ocean', 'Modern Talking', 'Frank Ocean', 'Modern Talking', 'Miguel', 'Wally Lopez', 'Bruno Mars', 'My Chemical Romance', 'Hozier', 'My Chemical Romance'], 'pais': ['DK', 'DK', 'DK', 'DK', 'DK', 'DK', 'DK', 'DK', 'DK', 'DK', 'DK', 'DK', 'DK', 'DK', 'DK', 'DK', 'DK', 'DK', 'DK', 'DK', 'DK', 'DK', 'DK', 'DK', 'DK', 'DK', 'DK', 'DK', 'DK', 'DK', 'DK', 'DK', 'DK', 'DK', 'DK', 'DK', 'DK', 'DK', 'DK', 'DK', 'DK', 'DK', 'DK', 'DK', 'DK', 'DK', 'DK', 'DK', 'DK', 'DK', 'EE', 'EE', 'EE', 'EE', 'EE', 'EE', 'EE', 'EE', 'EE', 'EE', 'EE', 'EE', 'EE', 'EE', 'EE', 'EE', 'EE', 'EE', 'EE', 'EE', 'EE', 'EE', 'EE', 'EE', 'EE', 'EE', 'EE', 'EE', 'EE', 'EE', 'EE', 'EE', 'EE', 'EE', 'EE', 'EE', 'EE', 'EE', 'EE', 'EE', 'EE', 'EE', 'EE', 'EE', 'EE', 'EE', 'EE', 'EE', 'EE', 'EE', 'FI', 'FI', 'FI', 'FI', 'FI', 'FI', 'FI', 'FI', 'FI', 'FI', 'FI', 'FI', 'FI', 'FI', 'FI', 'FI', 'FI', 'FI', 'FI', 'FI', 'FI', 'FI', 'FI', 'FI', 'FI', 'FI', 'FI', 'FI', 'FI', 'FI', 'FI', 'FI', 'FI', 'FI', 'FI', 'FI', 'FI', 'FI', 'FI', 'FI', 'FI', 'FI', 'FI', 'FI', 'FI', 'FI', 'FI', 'FI', 'FI', 'FI', 'IS', 'IS', 'IS', 'IS', 'IS', 'IS', 'IS', 'IS', 'IS', 'IS', 'IS', 'IS', 'IS', 'IS', 'IS', 'IS', 'IS', 'IS', 'IS', 'IS', 'IS', 'IS', 'IS', 'IS', 'IS', 'IS', 'IS', 'IS', 'IS', 'IS', 'IS', 'IS', 'IS', 'IS', 'IS', 'IS', 'IS', 'IS', 'IS', 'IS', 'IS', 'IS', 'IS', 'IS', 'IS', 'IS', 'IS', 'IS', 'IS', 'IS', 'IE', 'IE', 'IE', 'IE', 'IE', 'IE', 'IE', 'IE', 'IE', 'IE', 'IE', 'IE', 'IE', 'IE', 'IE', 'IE', 'IE', 'IE', 'IE', 'IE', 'IE', 'IE', 'IE', 'IE', 'IE', 'IE', 'IE', 'IE', 'IE', 'IE', 'IE', 'IE', 'IE', 'IE', 'IE', 'IE', 'IE', 'IE', 'IE', 'IE', 'IE', 'IE', 'IE', 'IE', 'IE', 'IE', 'IE', 'IE', 'IE', 'IE', 'LT', 'LT', 'LT', 'LT', 'LT', 'LT', 'LT', 'LT', 'LT', 'LT', 'LT', 'LT', 'LT', 'LT', 'LT', 'LT', 'LT', 'LT', 'LT', 'LT', 'LT', 'LT', 'LT', 'LT', 'LT', 'LT', 'LT', 'LT', 'LT', 'LT', 'LT', 'LT', 'LT', 'LT', 'LT', 'LT', 'LT', 'LT', 'LT', 'LT', 'LT', 'LT', 'LT', 'LT', 'LT', 'LT', 'LT', 'LT', 'LT', 'LT', 'LV', 'LV', 'LV', 'LV', 'LV', 'LV', 'LV', 'LV', 'LV', 'LV', 'LV', 'LV', 'LV', 'LV', 'LV', 'LV', 'LV', 'LV', 'LV', 'LV', 'LV', 'LV', 'LV', 'LV', 'LV', 'LV', 'LV', 'LV', 'LV', 'LV', 'LV', 'LV', 'LV', 'LV', 'LV', 'LV', 'LV', 'LV', 'LV', 'LV', 'LV', 'LV', 'LV', 'LV', 'LV', 'LV', 'LV', 'LV', 'LV', 'LV', 'NO', 'NO', 'NO', 'NO', 'NO', 'NO', 'NO', 'NO', 'NO', 'NO', 'NO', 'NO', 'NO', 'NO', 'NO', 'NO', 'NO', 'NO', 'NO', 'NO', 'NO', 'NO', 'NO', 'NO', 'NO', 'NO', 'NO', 'NO', 'NO', 'NO', 'NO', 'NO', 'NO', 'NO', 'NO', 'NO', 'NO', 'NO', 'NO', 'NO', 'NO', 'NO', 'NO', 'NO', 'NO', 'NO', 'NO', 'NO', 'NO', 'NO', 'SE', 'SE', 'SE', 'SE', 'SE', 'SE', 'SE', 'SE', 'SE', 'SE', 'SE', 'SE', 'SE', 'SE', 'SE', 'SE', 'SE', 'SE', 'SE', 'SE', 'SE', 'SE', 'SE', 'SE', 'SE', 'SE', 'SE', 'SE', 'SE', 'SE', 'SE', 'SE', 'SE', 'SE', 'SE', 'SE', 'SE', 'SE', 'SE', 'SE', 'SE', 'SE', 'SE', 'SE', 'SE', 'SE', 'SE', 'SE', 'SE', 'SE', 'GB', 'GB', 'GB', 'GB', 'GB', 'GB', 'GB', 'GB', 'GB', 'GB', 'GB', 'GB', 'GB', 'GB', 'GB', 'GB', 'GB', 'GB', 'GB', 'GB', 'GB', 'GB', 'GB', 'GB', 'GB', 'GB', 'GB', 'GB', 'GB', 'GB', 'GB', 'GB', 'GB', 'GB', 'GB', 'GB', 'GB', 'GB', 'GB', 'GB', 'GB', 'GB', 'GB', 'GB', 'GB', 'GB', 'GB', 'GB', 'GB', 'GB'], 'genero': []}\n"
     ]
    }
   ],
   "source": [
    "print(datos_paises_norte_europa)"
   ]
  },
  {
   "cell_type": "code",
   "execution_count": 16,
   "metadata": {},
   "outputs": [],
   "source": [
    "import pandas as pd"
   ]
  },
  {
   "cell_type": "code",
   "execution_count": 17,
   "metadata": {},
   "outputs": [],
   "source": [
    "import requests"
   ]
  },
  {
   "cell_type": "markdown",
   "metadata": {},
   "source": [
    "Incluimos el API de LastFM para incluir el género"
   ]
  },
  {
   "cell_type": "code",
   "execution_count": 18,
   "metadata": {},
   "outputs": [],
   "source": [
    "CLIENT_ID = ''\n",
    "API_KEY = '11c5e60a4dfdfb5041552fadd375d31e'\n",
    "\n",
    "last_fm_connect = requests.get(f\"http://www.last.fm/api/auth/?api_key={API_KEY}\")"
   ]
  },
  {
   "cell_type": "code",
   "execution_count": 19,
   "metadata": {},
   "outputs": [],
   "source": [
    "test_2 = requests.get(f\"https://ws.audioscrobbler.com/2.0/?method=track.gettoptags&artist=Sasha&track=here+she+comes+again&api_key={API_KEY}&autocorrect=1&format=json\")"
   ]
  },
  {
   "cell_type": "code",
   "execution_count": 20,
   "metadata": {},
   "outputs": [
    {
     "data": {
      "text/plain": [
       "'pop'"
      ]
     },
     "execution_count": 20,
     "metadata": {},
     "output_type": "execute_result"
    }
   ],
   "source": [
    "test_2.json()['toptags']['tag'][0]['name'] "
   ]
  },
  {
   "cell_type": "code",
   "execution_count": 21,
   "metadata": {},
   "outputs": [],
   "source": [
    "lista_nombres_norte_europa= list(datos_paises_norte_europa.values())[0]\n",
    "lista_artistas_norte_europa = list(datos_paises_norte_europa.values())[2]"
   ]
  },
  {
   "cell_type": "code",
   "execution_count": 23,
   "metadata": {},
   "outputs": [
    {
     "data": {
      "text/plain": [
       "'Just the Way You Are'"
      ]
     },
     "execution_count": 23,
     "metadata": {},
     "output_type": "execute_result"
    }
   ],
   "source": [
    "lista_nombres_norte_europa[0]"
   ]
  },
  {
   "cell_type": "code",
   "execution_count": 24,
   "metadata": {},
   "outputs": [
    {
     "data": {
      "text/plain": [
       "'Bruno Mars'"
      ]
     },
     "execution_count": 24,
     "metadata": {},
     "output_type": "execute_result"
    }
   ],
   "source": [
    "lista_artistas_norte_europa [0]"
   ]
  },
  {
   "cell_type": "code",
   "execution_count": 25,
   "metadata": {},
   "outputs": [],
   "source": [
    "def llamada_lastfm(lista_nombres, lista_artistas,datos):\n",
    "    for i in range(len(lista_nombres)):\n",
    "        nombre = str(lista_nombres[i]).replace(' ', '+')\n",
    "        artista = lista_artistas[i].replace(' ', '+').replace(',', '+&')\n",
    "        llamada_genero = requests.get(f\"https://ws.audioscrobbler.com/2.0/?method=track.gettoptags&artist={artista}&track={nombre}&api_key={API_KEY}&autocorrect=1&format=json\")\n",
    "        try:\n",
    "            genero_cancion = llamada_genero.json()['toptags']['tag'][0]['name']\n",
    "            datos['genero'].append(genero_cancion)\n",
    "        except KeyError:\n",
    "            datos['genero'].append(\"NULL\")\n",
    "            print(f\"La canción {lista_nombres[i]} no está registrada en lastfm\")\n",
    "            \n",
    "        except IndexError:\n",
    "            datos['genero'].append(\"NULL\")\n",
    "            print(f\"La canción {lista_nombres[i]} no tiene tags\")"
   ]
  },
  {
   "cell_type": "code",
   "execution_count": 26,
   "metadata": {},
   "outputs": [
    {
     "name": "stdout",
     "output_type": "stream",
     "text": [
      "La canción Lågsus (feat. Medina) no está registrada en lastfm\n",
      "La canción Cheri Cheri Lady (Peters Pop-Show 30.11.1985) - Live from Peters Pop Show, 1985 no está registrada en lastfm\n",
      "La canción My Girl (feat. Trevor Jackson) no está registrada en lastfm\n",
      "La canción Plastic Dreams 2003 no tiene tags\n",
      "La canción Atlantis Is Calling (Na, sowas! 17.05.1986) - Live from Na, sowas!, 1986 no está registrada en lastfm\n",
      "La canción LoveHate Thing (feat. Sam Dew) no está registrada en lastfm\n",
      "La canción Heaven Will Know (Peters Pop-Show 30.11.1985) - Live from Peters Pop Show, 1985 no está registrada en lastfm\n",
      "La canción Geronimo's Cadillac (Peters Pop-Show 06.12.1986) - Live from Peters Pop-Show, 1986 no está registrada en lastfm\n",
      "La canción My Love a Piece of My Love (feat. Snoop Dogg) no está registrada en lastfm\n",
      "La canción You Can Win If You Want (Wetten, dass...? 18.05.1985) - Live from Wetten, dass...?, 1985 no está registrada en lastfm\n",
      "La canción 25 ปี (มีหวัง) no tiene tags\n",
      "La canción Novembervej no está registrada en lastfm\n",
      "La canción Byłem (feat. As) no está registrada en lastfm\n",
      "La canción Pani Da Rang (From \"Vicky Donor\") - Male Vocals no está registrada en lastfm\n",
      "La canción You Are Not Alone (Wetten, dass...? 20.02.1999) - Live from Wetten, dass...?, 1999 no está registrada en lastfm\n",
      "La canción Give Me Everything (feat. Nayer) no está registrada en lastfm\n",
      "La canción Now Is the Time (feat. Jasmine V) no tiene tags\n",
      "La canción Bede Z Toba no tiene tags\n",
      "La canción Bede Z Toba - Hangout Live no tiene tags\n",
      "La canción Mod Solnedgangen no está registrada en lastfm\n",
      "La canción Iré tras de ti no está registrada en lastfm\n",
      "La canción We Found Love no está registrada en lastfm\n",
      "La canción Fragile (Director's Cut) no está registrada en lastfm\n",
      "La canción Timber no está registrada en lastfm\n",
      "La canción The Real Slim Shady - Edited no tiene tags\n",
      "La canción Øde Ø no tiene tags\n",
      "La canción Smile no está registrada en lastfm\n",
      "La canción Cheri Cheri Lady (Peters Pop-Show 30.11.1985) - Live from Peters Pop Show, 1985 no está registrada en lastfm\n",
      "La canción Atlantis Is Calling (Na, sowas! 17.05.1986) - Live from Na, sowas!, 1986 no está registrada en lastfm\n",
      "La canción Money Trees no está registrada en lastfm\n",
      "La canción Geronimo's Cadillac (Peters Pop-Show 06.12.1986) - Live from Peters Pop-Show, 1986 no está registrada en lastfm\n",
      "La canción You Can Win If You Want (Wetten, dass...? 18.05.1985) - Live from Wetten, dass...?, 1985 no está registrada en lastfm\n",
      "La canción She Will no está registrada en lastfm\n",
      "La canción Heaven Will Know (Peters Pop-Show 30.11.1985) - Live from Peters Pop Show, 1985 no está registrada en lastfm\n",
      "La canción Give Me Everything (feat. Nayer) no está registrada en lastfm\n",
      "La canción My Girl (feat. Trevor Jackson) no está registrada en lastfm\n",
      "La canción Bede Z Toba no tiene tags\n",
      "La canción LoveHate Thing (feat. Sam Dew) no está registrada en lastfm\n",
      "La canción Plastic Dreams 2003 no tiene tags\n",
      "La canción Bede Z Toba - Hangout Live no tiene tags\n",
      "La canción You Are Not Alone (Wetten, dass...? 20.02.1999) - Live from Wetten, dass...?, 1999 no está registrada en lastfm\n",
      "La canción Iré tras de ti no está registrada en lastfm\n",
      "La canción Lågsus (feat. Medina) no está registrada en lastfm\n",
      "La canción Pani Da Rang (From \"Vicky Donor\") - Male Vocals no está registrada en lastfm\n",
      "La canción 25 ปี (มีหวัง) no tiene tags\n",
      "La canción Armastan ma luuserit no tiene tags\n",
      "La canción Fragile (Director's Cut) no está registrada en lastfm\n",
      "La canción The Real Slim Shady - Edited no tiene tags\n",
      "La canción Mojito no tiene tags\n",
      "La canción Smile no está registrada en lastfm\n",
      "La canción The Spins no está registrada en lastfm\n",
      "La canción A.V.R. no tiene tags\n",
      "La canción Samba Pras Moças no tiene tags\n",
      "La canción Love Me no está registrada en lastfm\n",
      "La canción Red Light (feat. Snoop Lion) no está registrada en lastfm\n",
      "La canción Memories (feat. Kid Cudi) no está registrada en lastfm\n",
      "La canción Häissä (feat. Märkä-Simo) no está registrada en lastfm\n",
      "La canción Cheri Cheri Lady (Peters Pop-Show 30.11.1985) - Live from Peters Pop Show, 1985 no está registrada en lastfm\n",
      "La canción Now Is the Time (feat. Jasmine V) no tiene tags\n",
      "La canción Plastic Dreams 2003 no tiene tags\n",
      "La canción Bede Z Toba no tiene tags\n",
      "La canción Geronimo's Cadillac (Peters Pop-Show 06.12.1986) - Live from Peters Pop-Show, 1986 no está registrada en lastfm\n",
      "La canción Atlantis Is Calling (Na, sowas! 17.05.1986) - Live from Na, sowas!, 1986 no está registrada en lastfm\n",
      "La canción Heaven Will Know (Peters Pop-Show 30.11.1985) - Live from Peters Pop Show, 1985 no está registrada en lastfm\n",
      "La canción You Can Win If You Want (Wetten, dass...? 18.05.1985) - Live from Wetten, dass...?, 1985 no está registrada en lastfm\n",
      "La canción My Girl (feat. Trevor Jackson) no está registrada en lastfm\n",
      "La canción 25 ปี (มีหวัง) no tiene tags\n",
      "La canción She Will no está registrada en lastfm\n",
      "La canción Give Me Everything (feat. Nayer) no está registrada en lastfm\n",
      "La canción Bede Z Toba - Hangout Live no tiene tags\n",
      "La canción You Are Not Alone (Wetten, dass...? 20.02.1999) - Live from Wetten, dass...?, 1999 no está registrada en lastfm\n",
      "La canción Iré tras de ti no está registrada en lastfm\n",
      "La canción Kran Turismo (feat. Raappana) no está registrada en lastfm\n",
      "La canción Syypää sun hymyyn (feat. Yasmine Yamajako) no está registrada en lastfm\n",
      "La canción Lågsus (feat. Medina) no está registrada en lastfm\n",
      "La canción Money Trees no está registrada en lastfm\n",
      "La canción Pani Da Rang (From \"Vicky Donor\") - Male Vocals no está registrada en lastfm\n",
      "La canción Fragile (Director's Cut) no está registrada en lastfm\n",
      "La canción The Real Slim Shady - Edited no tiene tags\n",
      "La canción International Love (feat. Chris Brown) no está registrada en lastfm\n",
      "La canción Smile no está registrada en lastfm\n",
      "La canción Love The Way You Lie no está registrada en lastfm\n",
      "La canción Samba Pras Moças no tiene tags\n",
      "La canción Dvel ég í draumahöll no tiene tags\n",
      "La canción Bede Z Toba no tiene tags\n",
      "La canción Litlar stjörnur no tiene tags\n",
      "La canción Cheri Cheri Lady (Peters Pop-Show 30.11.1985) - Live from Peters Pop Show, 1985 no está registrada en lastfm\n",
      "La canción Óskasteinar no tiene tags\n",
      "La canción Heaven Will Know (Peters Pop-Show 30.11.1985) - Live from Peters Pop Show, 1985 no está registrada en lastfm\n",
      "La canción Sofðu unga ástin mín no tiene tags\n",
      "La canción Plastic Dreams 2003 no tiene tags\n",
      "La canción Bíum bíum bambaló no tiene tags\n",
      "La canción Bede Z Toba - Hangout Live no tiene tags\n",
      "La canción Sofa urtubörn no tiene tags\n",
      "La canción Ljós no tiene tags\n",
      "La canción You Are Not Alone (Wetten, dass...? 20.02.1999) - Live from Wetten, dass...?, 1999 no está registrada en lastfm\n",
      "La canción Ævintýralönd no tiene tags\n",
      "La canción Iré tras de ti no está registrada en lastfm\n",
      "La canción Nóttin læðist inn no tiene tags\n",
      "La canción Góða nótt no tiene tags\n",
      "La canción Now Is the Time (feat. Jasmine V) no tiene tags\n",
      "La canción Bí bí og blaka no tiene tags\n",
      "La canción Lågsus (feat. Medina) no está registrada en lastfm\n",
      "La canción Frost er úti fuglinn minn no tiene tags\n",
      "La canción Pani Da Rang (From \"Vicky Donor\") - Male Vocals no está registrada en lastfm\n",
      "La canción Sofðu no tiene tags\n",
      "La canción You Can Win If You Want (Wetten, dass...? 18.05.1985) - Live from Wetten, dass...?, 1985 no está registrada en lastfm\n",
      "La canción Þú ert no tiene tags\n",
      "La canción 25 ปี (มีหวัง) no tiene tags\n",
      "La canción Sólskin no tiene tags\n",
      "La canción Geronimo's Cadillac (Peters Pop-Show 06.12.1986) - Live from Peters Pop-Show, 1986 no está registrada en lastfm\n",
      "La canción Fragile (Director's Cut) no está registrada en lastfm\n",
      "La canción Money Trees no está registrada en lastfm\n",
      "La canción The Real Slim Shady - Edited no tiene tags\n",
      "La canción She Will no está registrada en lastfm\n",
      "La canción Smile no está registrada en lastfm\n",
      "La canción Atlantis Is Calling (Na, sowas! 17.05.1986) - Live from Na, sowas!, 1986 no está registrada en lastfm\n",
      "La canción Samba Pras Moças no tiene tags\n",
      "La canción Gúanó Stelpan no tiene tags\n",
      "La canción Yfir Borgina no tiene tags\n",
      "La canción Red Light (feat. Snoop Lion) no está registrada en lastfm\n",
      "La canción Plastic Dreams 2003 no tiene tags\n",
      "La canción Thoda Thoda no está registrada en lastfm\n",
      "La canción Bede Z Toba no tiene tags\n",
      "La canción Give Me Everything (feat. Nayer) no está registrada en lastfm\n",
      "La canción Cheri Cheri Lady (Peters Pop-Show 30.11.1985) - Live from Peters Pop Show, 1985 no está registrada en lastfm\n",
      "La canción Timber no está registrada en lastfm\n",
      "La canción Bede Z Toba - Hangout Live no tiene tags\n",
      "La canción Byłem (feat. As) no está registrada en lastfm\n",
      "La canción You Can Win If You Want (Wetten, dass...? 18.05.1985) - Live from Wetten, dass...?, 1985 no está registrada en lastfm\n",
      "La canción Pani Da Rang (From \"Vicky Donor\") - Male Vocals no está registrada en lastfm\n",
      "La canción Can't Hold Us (feat. Ray Dalton) no está registrada en lastfm\n",
      "La canción My Love a Piece of My Love (feat. Snoop Dogg) no está registrada en lastfm\n",
      "La canción Atlantis Is Calling (Na, sowas! 17.05.1986) - Live from Na, sowas!, 1986 no está registrada en lastfm\n",
      "La canción Geronimo's Cadillac (Peters Pop-Show 06.12.1986) - Live from Peters Pop-Show, 1986 no está registrada en lastfm\n",
      "La canción You Are Not Alone (Wetten, dass...? 20.02.1999) - Live from Wetten, dass...?, 1999 no está registrada en lastfm\n",
      "La canción Let Me Love You (Until You Learn To Love Yourself) - Director's Cut (Explicit) no tiene tags\n",
      "La canción Titanium (feat. Sia) no está registrada en lastfm\n",
      "La canción Iré tras de ti no está registrada en lastfm\n",
      "La canción Lågsus (feat. Medina) no está registrada en lastfm\n",
      "La canción 25 ปี (มีหวัง) no tiene tags\n",
      "La canción Money Trees no está registrada en lastfm\n",
      "La canción Fragile (Director's Cut) no está registrada en lastfm\n",
      "La canción The Real Slim Shady - Edited no tiene tags\n",
      "La canción Smile no está registrada en lastfm\n",
      "La canción LoveHate Thing (feat. Sam Dew) no está registrada en lastfm\n",
      "La canción Heaven Will Know (Peters Pop-Show 30.11.1985) - Live from Peters Pop Show, 1985 no está registrada en lastfm\n",
      "La canción LoveHate Thing (feat. Sam Dew) no está registrada en lastfm\n",
      "La canción Cheri Cheri Lady (Peters Pop-Show 30.11.1985) - Live from Peters Pop Show, 1985 no está registrada en lastfm\n",
      "La canción Heaven Will Know (Peters Pop-Show 30.11.1985) - Live from Peters Pop Show, 1985 no está registrada en lastfm\n",
      "La canción Geronimo's Cadillac (Peters Pop-Show 06.12.1986) - Live from Peters Pop-Show, 1986 no está registrada en lastfm\n",
      "La canción Atlantis Is Calling (Na, sowas! 17.05.1986) - Live from Na, sowas!, 1986 no está registrada en lastfm\n",
      "La canción Bede Z Toba - Hangout Live no tiene tags\n",
      "La canción Money Trees no está registrada en lastfm\n",
      "La canción You Can Win If You Want (Wetten, dass...? 18.05.1985) - Live from Wetten, dass...?, 1985 no está registrada en lastfm\n",
      "La canción Polished Stone Live at the Electric Ballroom 6/9/99 no tiene tags\n",
      "La canción Bede Z Toba no tiene tags\n",
      "La canción Plastic Dreams 2003 no tiene tags\n",
      "La canción You Are Not Alone (Wetten, dass...? 20.02.1999) - Live from Wetten, dass...?, 1999 no está registrada en lastfm\n",
      "La canción Iré tras de ti no está registrada en lastfm\n",
      "La canción Lågsus (feat. Medina) no está registrada en lastfm\n",
      "La canción Pani Da Rang (From \"Vicky Donor\") - Male Vocals no está registrada en lastfm\n",
      "La canción 25 ปี (มีหวัง) no tiene tags\n",
      "La canción Fragile (Director's Cut) no está registrada en lastfm\n",
      "La canción My Love no está registrada en lastfm\n",
      "La canción The Real Slim Shady - Edited no tiene tags\n",
      "La canción Smile no está registrada en lastfm\n",
      "La canción She Will no está registrada en lastfm\n",
      "La canción Give Me Everything (feat. Nayer) no está registrada en lastfm\n",
      "La canción Samba Pras Moças no tiene tags\n",
      "La canción The Spins no está registrada en lastfm\n",
      "La canción Red Light (feat. Snoop Lion) no está registrada en lastfm\n",
      "La canción Laikas Keistis no tiene tags\n",
      "La canción Plastic Dreams 2003 no tiene tags\n",
      "La canción Cheri Cheri Lady (Peters Pop-Show 30.11.1985) - Live from Peters Pop Show, 1985 no está registrada en lastfm\n",
      "La canción LoveHate Thing (feat. Sam Dew) no está registrada en lastfm\n",
      "La canción Geronimo's Cadillac (Peters Pop-Show 06.12.1986) - Live from Peters Pop-Show, 1986 no está registrada en lastfm\n",
      "La canción You Can Win If You Want (Wetten, dass...? 18.05.1985) - Live from Wetten, dass...?, 1985 no está registrada en lastfm\n",
      "La canción Money Trees no está registrada en lastfm\n",
      "La canción Atlantis Is Calling (Na, sowas! 17.05.1986) - Live from Na, sowas!, 1986 no está registrada en lastfm\n",
      "La canción Heaven Will Know (Peters Pop-Show 30.11.1985) - Live from Peters Pop Show, 1985 no está registrada en lastfm\n",
      "La canción Bede Z Toba no tiene tags\n",
      "La canción She Will no está registrada en lastfm\n",
      "La canción Bede Z Toba - Hangout Live no tiene tags\n",
      "La canción You Are Not Alone (Wetten, dass...? 20.02.1999) - Live from Wetten, dass...?, 1999 no está registrada en lastfm\n",
      "La canción Iré tras de ti no está registrada en lastfm\n",
      "La canción Give Me Everything (feat. Nayer) no está registrada en lastfm\n",
      "La canción The Spins no está registrada en lastfm\n",
      "La canción Lågsus (feat. Medina) no está registrada en lastfm\n",
      "La canción Pani Da Rang (From \"Vicky Donor\") - Male Vocals no está registrada en lastfm\n",
      "La canción Love Me no está registrada en lastfm\n",
      "La canción 25 ปี (มีหวัง) no tiene tags\n",
      "La canción Fragile (Director's Cut) no está registrada en lastfm\n",
      "La canción The Real Slim Shady - Edited no tiene tags\n",
      "La canción Smile no está registrada en lastfm\n",
      "La canción Samba Pras Moças no tiene tags\n",
      "La canción Red Light (feat. Snoop Lion) no está registrada en lastfm\n",
      "La canción Byłem (feat. As) no está registrada en lastfm\n",
      "La canción You Are Not Alone (Wetten, dass...? 20.02.1999) - Live from Wetten, dass...?, 1999 no está registrada en lastfm\n",
      "La canción Bede Z Toba no tiene tags\n",
      "La canción Give Me Everything (feat. Nayer) no está registrada en lastfm\n",
      "La canción Layla - Live no tiene tags\n",
      "La canción Cheri Cheri Lady (Peters Pop-Show 30.11.1985) - Live from Peters Pop Show, 1985 no está registrada en lastfm\n",
      "La canción 25 ปี (มีหวัง) no tiene tags\n",
      "La canción Bede Z Toba - Hangout Live no tiene tags\n",
      "La canción Lågsus (feat. Medina) no está registrada en lastfm\n",
      "La canción LoveHate Thing (feat. Sam Dew) no está registrada en lastfm\n",
      "La canción Plastic Dreams 2003 no tiene tags\n",
      "La canción Smile no está registrada en lastfm\n",
      "La canción Atlantis Is Calling (Na, sowas! 17.05.1986) - Live from Na, sowas!, 1986 no está registrada en lastfm\n",
      "La canción Pani Da Rang (From \"Vicky Donor\") - Male Vocals no está registrada en lastfm\n",
      "La canción Timber no está registrada en lastfm\n",
      "La canción Blur on Beetlebum HD no tiene tags\n",
      "La canción You Can Win If You Want (Wetten, dass...? 18.05.1985) - Live from Wetten, dass...?, 1985 no está registrada en lastfm\n",
      "La canción Geronimo's Cadillac (Peters Pop-Show 06.12.1986) - Live from Peters Pop-Show, 1986 no está registrada en lastfm\n",
      "La canción La La La no está registrada en lastfm\n",
      "La canción Byłem (feat. As) no está registrada en lastfm\n",
      "La canción Heaven Will Know (Peters Pop-Show 30.11.1985) - Live from Peters Pop Show, 1985 no está registrada en lastfm\n",
      "La canción Time of Our Lives no está registrada en lastfm\n",
      "La canción Rum Whisky (From \"Vicky Donor\") no está registrada en lastfm\n",
      "La canción She Will no está registrada en lastfm\n",
      "La canción My Love a Piece of My Love (feat. Snoop Dogg) no está registrada en lastfm\n",
      "La canción Now Is the Time (feat. Jasmine V) no tiene tags\n",
      "La canción Summer of Roses / December Day no está registrada en lastfm\n",
      "La canción Iré tras de ti no está registrada en lastfm\n",
      "La canción Fragile (Director's Cut) no está registrada en lastfm\n",
      "La canción Cheri Cheri Lady (Peters Pop-Show 30.11.1985) - Live from Peters Pop Show, 1985 no está registrada en lastfm\n",
      "La canción Nu i ro slumra in no está registrada en lastfm\n",
      "La canción Red Light (feat. Snoop Lion) no está registrada en lastfm\n",
      "La canción Love In Any Language - Live no está registrada en lastfm\n",
      "La canción Hello, My Name Is - Live no está registrada en lastfm\n",
      "La canción Now Is the Time (feat. Jasmine V) no tiene tags\n",
      "La canción Sov alla no está registrada en lastfm\n",
      "La canción Geronimo's Cadillac (Peters Pop-Show 06.12.1986) - Live from Peters Pop-Show, 1986 no está registrada en lastfm\n",
      "La canción 25 ปี (มีหวัง) no tiene tags\n",
      "La canción My Love a Piece of My Love (feat. Snoop Dogg) no está registrada en lastfm\n",
      "La canción Atlantis Is Calling (Na, sowas! 17.05.1986) - Live from Na, sowas!, 1986 no está registrada en lastfm\n",
      "La canción Lågsus (feat. Medina) no está registrada en lastfm\n",
      "La canción Iré tras de ti no está registrada en lastfm\n",
      "La canción Tandtråd no tiene tags\n",
      "La canción You Can Win If You Want (Wetten, dass...? 18.05.1985) - Live from Wetten, dass...?, 1985 no está registrada en lastfm\n",
      "La canción Heaven Will Know (Peters Pop-Show 30.11.1985) - Live from Peters Pop Show, 1985 no está registrada en lastfm\n",
      "La canción Bede Z Toba - Hangout Live no tiene tags\n",
      "La canción Blur on Leisure no tiene tags\n",
      "La canción LoveHate Thing (feat. Sam Dew) no está registrada en lastfm\n",
      "La canción I Wanna Be Free - Short Edit no está registrada en lastfm\n",
      "La canción Это дороже денег no tiene tags\n",
      "La canción Die Koenige (ZDF Drehscheibe 7.1.1973) - VOD no está registrada en lastfm\n",
      "La canción My Girl (feat. Trevor Jackson) no está registrada en lastfm\n",
      "La canción Plastic Dreams 2003 no tiene tags\n",
      "La canción Sing About Me, I'm Dying Of Thirst - Part 1 no tiene tags\n",
      "La canción Hela huset no está registrada en lastfm\n",
      "La canción Bede Z Toba no tiene tags\n",
      "La canción Plastic Dreams 2003 no tiene tags\n",
      "La canción Bede Z Toba no tiene tags\n",
      "La canción Cheri Cheri Lady (Peters Pop-Show 30.11.1985) - Live from Peters Pop Show, 1985 no está registrada en lastfm\n",
      "La canción The Real Slim Shady - Edited no tiene tags\n",
      "La canción Bede Z Toba - Hangout Live no tiene tags\n",
      "La canción Cups (Pitch Perfect’s “When I’m Gone”) - Director's Cut / Closed-Captioned no tiene tags\n",
      "La canción Like A Rolling Stone (from Winterland) no tiene tags\n",
      "La canción 25 ปี (มีหวัง) no tiene tags\n",
      "La canción Muskurane (Film Version) [From \"Citylights\"] no está registrada en lastfm\n",
      "La canción Pani Da Rang (From \"Vicky Donor\") - Male Vocals no está registrada en lastfm\n",
      "La canción Thoda Thoda no está registrada en lastfm\n",
      "La canción Give Me Everything (feat. Nayer) no está registrada en lastfm\n",
      "La canción My Girl (feat. Trevor Jackson) no está registrada en lastfm\n",
      "La canción Money Trees no está registrada en lastfm\n",
      "La canción Sing About Me, I'm Dying Of Thirst - Part 1 no tiene tags\n",
      "La canción Cloud 9 - From \"Cloud 9\" / Original TV Movie Soundtrack no está registrada en lastfm\n",
      "La canción You Can Win If You Want (Wetten, dass...? 18.05.1985) - Live from Wetten, dass...?, 1985 no está registrada en lastfm\n",
      "La canción Atlantis Is Calling (Na, sowas! 17.05.1986) - Live from Na, sowas!, 1986 no está registrada en lastfm\n",
      "La canción Wild Out Anthem (feat. Jay Colin) no tiene tags\n",
      "La canción Helena - Outtake Version no tiene tags\n",
      "La canción Welcome to the Black Parade - Outtake Version no tiene tags\n"
     ]
    }
   ],
   "source": [
    "llamada_lastfm(lista_nombres_norte_europa, lista_artistas_norte_europa,datos_paises_norte_europa)"
   ]
  },
  {
   "cell_type": "code",
   "execution_count": 27,
   "metadata": {},
   "outputs": [],
   "source": [
    "import pandas as pd"
   ]
  },
  {
   "cell_type": "code",
   "execution_count": 28,
   "metadata": {},
   "outputs": [],
   "source": [
    "CANCIONES_2010_2014_PAISES_NORTE_EUROPA_DF = pd.DataFrame(datos_paises_norte_europa)"
   ]
  },
  {
   "cell_type": "code",
   "execution_count": 29,
   "metadata": {},
   "outputs": [
    {
     "data": {
      "text/html": [
       "<div>\n",
       "<style scoped>\n",
       "    .dataframe tbody tr th:only-of-type {\n",
       "        vertical-align: middle;\n",
       "    }\n",
       "\n",
       "    .dataframe tbody tr th {\n",
       "        vertical-align: top;\n",
       "    }\n",
       "\n",
       "    .dataframe thead th {\n",
       "        text-align: right;\n",
       "    }\n",
       "</style>\n",
       "<table border=\"1\" class=\"dataframe\">\n",
       "  <thead>\n",
       "    <tr style=\"text-align: right;\">\n",
       "      <th></th>\n",
       "      <th>nombre</th>\n",
       "      <th>popularity</th>\n",
       "      <th>artista</th>\n",
       "      <th>pais</th>\n",
       "      <th>genero</th>\n",
       "    </tr>\n",
       "  </thead>\n",
       "  <tbody>\n",
       "    <tr>\n",
       "      <th>0</th>\n",
       "      <td>Just the Way You Are</td>\n",
       "      <td>78</td>\n",
       "      <td>Bruno Mars</td>\n",
       "      <td>DK</td>\n",
       "      <td>pop</td>\n",
       "    </tr>\n",
       "    <tr>\n",
       "      <th>1</th>\n",
       "      <td>Lågsus (feat. Medina)</td>\n",
       "      <td>0</td>\n",
       "      <td>Specktors, Medina</td>\n",
       "      <td>DK</td>\n",
       "      <td>NULL</td>\n",
       "    </tr>\n",
       "    <tr>\n",
       "      <th>2</th>\n",
       "      <td>Lost</td>\n",
       "      <td>78</td>\n",
       "      <td>Frank Ocean</td>\n",
       "      <td>DK</td>\n",
       "      <td>rnb</td>\n",
       "    </tr>\n",
       "    <tr>\n",
       "      <th>3</th>\n",
       "      <td>Cheri Cheri Lady (Peters Pop-Show 30.11.1985) ...</td>\n",
       "      <td>2</td>\n",
       "      <td>Modern Talking</td>\n",
       "      <td>DK</td>\n",
       "      <td>NULL</td>\n",
       "    </tr>\n",
       "    <tr>\n",
       "      <th>4</th>\n",
       "      <td>Locked out of Heaven</td>\n",
       "      <td>85</td>\n",
       "      <td>Bruno Mars</td>\n",
       "      <td>DK</td>\n",
       "      <td>pop</td>\n",
       "    </tr>\n",
       "    <tr>\n",
       "      <th>...</th>\n",
       "      <td>...</td>\n",
       "      <td>...</td>\n",
       "      <td>...</td>\n",
       "      <td>...</td>\n",
       "      <td>...</td>\n",
       "    </tr>\n",
       "    <tr>\n",
       "      <th>495</th>\n",
       "      <td>Wild Out Anthem (feat. Jay Colin)</td>\n",
       "      <td>0</td>\n",
       "      <td>Wally Lopez</td>\n",
       "      <td>GB</td>\n",
       "      <td>NULL</td>\n",
       "    </tr>\n",
       "    <tr>\n",
       "      <th>496</th>\n",
       "      <td>When I Was Your Man</td>\n",
       "      <td>83</td>\n",
       "      <td>Bruno Mars</td>\n",
       "      <td>GB</td>\n",
       "      <td>pop</td>\n",
       "    </tr>\n",
       "    <tr>\n",
       "      <th>497</th>\n",
       "      <td>Helena - Outtake Version</td>\n",
       "      <td>0</td>\n",
       "      <td>My Chemical Romance</td>\n",
       "      <td>GB</td>\n",
       "      <td>NULL</td>\n",
       "    </tr>\n",
       "    <tr>\n",
       "      <th>498</th>\n",
       "      <td>Someone New</td>\n",
       "      <td>69</td>\n",
       "      <td>Hozier</td>\n",
       "      <td>GB</td>\n",
       "      <td>soul</td>\n",
       "    </tr>\n",
       "    <tr>\n",
       "      <th>499</th>\n",
       "      <td>Welcome to the Black Parade - Outtake Version</td>\n",
       "      <td>0</td>\n",
       "      <td>My Chemical Romance</td>\n",
       "      <td>GB</td>\n",
       "      <td>NULL</td>\n",
       "    </tr>\n",
       "  </tbody>\n",
       "</table>\n",
       "<p>500 rows × 5 columns</p>\n",
       "</div>"
      ],
      "text/plain": [
       "                                                nombre  popularity  \\\n",
       "0                                 Just the Way You Are          78   \n",
       "1                                Lågsus (feat. Medina)           0   \n",
       "2                                                 Lost          78   \n",
       "3    Cheri Cheri Lady (Peters Pop-Show 30.11.1985) ...           2   \n",
       "4                                 Locked out of Heaven          85   \n",
       "..                                                 ...         ...   \n",
       "495                  Wild Out Anthem (feat. Jay Colin)           0   \n",
       "496                                When I Was Your Man          83   \n",
       "497                           Helena - Outtake Version           0   \n",
       "498                                        Someone New          69   \n",
       "499      Welcome to the Black Parade - Outtake Version           0   \n",
       "\n",
       "                 artista pais genero  \n",
       "0             Bruno Mars   DK    pop  \n",
       "1      Specktors, Medina   DK   NULL  \n",
       "2            Frank Ocean   DK    rnb  \n",
       "3         Modern Talking   DK   NULL  \n",
       "4             Bruno Mars   DK    pop  \n",
       "..                   ...  ...    ...  \n",
       "495          Wally Lopez   GB   NULL  \n",
       "496           Bruno Mars   GB    pop  \n",
       "497  My Chemical Romance   GB   NULL  \n",
       "498               Hozier   GB   soul  \n",
       "499  My Chemical Romance   GB   NULL  \n",
       "\n",
       "[500 rows x 5 columns]"
      ]
     },
     "execution_count": 29,
     "metadata": {},
     "output_type": "execute_result"
    }
   ],
   "source": [
    "CANCIONES_2010_2014_PAISES_NORTE_EUROPA_DF"
   ]
  },
  {
   "cell_type": "code",
   "execution_count": 30,
   "metadata": {},
   "outputs": [],
   "source": [
    "CANCIONES_2010_2014_PAISES_NORTE_EUROPA_DF.to_csv(\"paises_norte_europa-2010-2014.csv\")\n"
   ]
  }
 ],
 "metadata": {
  "kernelspec": {
   "display_name": "base",
   "language": "python",
   "name": "python3"
  },
  "language_info": {
   "codemirror_mode": {
    "name": "ipython",
    "version": 3
   },
   "file_extension": ".py",
   "mimetype": "text/x-python",
   "name": "python",
   "nbconvert_exporter": "python",
   "pygments_lexer": "ipython3",
   "version": "3.12.7"
  }
 },
 "nbformat": 4,
 "nbformat_minor": 2
}
