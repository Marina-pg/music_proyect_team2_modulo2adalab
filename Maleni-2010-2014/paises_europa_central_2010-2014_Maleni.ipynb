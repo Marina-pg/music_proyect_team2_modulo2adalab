{
 "cells": [
  {
   "cell_type": "code",
   "execution_count": 1,
   "metadata": {},
   "outputs": [],
   "source": [
    "import spotipy\n",
    "\n",
    "from spotipy.oauth2 import SpotifyClientCredentials"
   ]
  },
  {
   "cell_type": "code",
   "execution_count": 2,
   "metadata": {},
   "outputs": [],
   "source": [
    "# Coloca tus credenciales aquí\n",
    "CLIENT_ID = \"ab80ec144a1147ff8e7d16a6209e1268\"\n",
    "CLIENT_SECRET = \"a59b22d834b94af293d6cac49c6548ba\"\n",
    "# Autenticación\n",
    "auth_manager = SpotifyClientCredentials(client_id=CLIENT_ID, client_secret=CLIENT_SECRET)\n",
    "sp = spotipy.Spotify(auth_manager=auth_manager)"
   ]
  },
  {
   "cell_type": "code",
   "execution_count": 3,
   "metadata": {},
   "outputs": [],
   "source": [
    "paises_mediterraneos = {\n",
    "    \"ES\": \"España\",\n",
    "    \"FR\": \"Francia\",\n",
    "    \"MC\": \"Mónaco\",\n",
    "    \"IT\": \"Italia\",\n",
    "    \"SI\": \"Eslovenia\",\n",
    "    \"HR\": \"Croacia\",\n",
    "    \"BA\": \"Bosnia y Herzegovina\",\n",
    "    \"ME\": \"Montenegro\",\n",
    "    \"AL\": \"Albania\",\n",
    "    \"GR\": \"Grecia\",\n",
    "    \"MT\": \"Malta\",\n",
    "    \"CY\": \"Chipre\"}\n",
    "paises_este_europa = {\n",
    "    \"BY\": \"Bielorrusia\",\n",
    "    \"BG\": \"Bulgaria\",\n",
    "    \"CZ\": \"Chequia\",\n",
    "    \"SK\": \"Eslovaquia\",\n",
    "    \"HU\": \"Hungría\",\n",
    "    \"MD\": \"Moldavia\",\n",
    "    \"PL\": \"Polonia\",\n",
    "    \"RO\": \"Rumanía\",\n",
    "    \"UA\": \"Ucrania\"}\n",
    "paises_norte_europa = {\n",
    "    \"DK\": \"Dinamarca\",\n",
    "    \"EE\": \"Estonia\",\n",
    "    \"FI\": \"Finlandia\",\n",
    "    \"IS\": \"Islandia\",\n",
    "    \"IE\": \"Irlanda\",\n",
    "    \"LT\": \"Lituania\",\n",
    "    \"LV\": \"Letonia\",\n",
    "    \"NO\": \"Noruega\",\n",
    "    \"SE\": \"Suecia\",\n",
    "    \"GB\": \"Reino Unido\"}\n",
    "paises_europa_central = {\n",
    "    \"AT\": \"Austria\",\n",
    "    \"DE\": \"Alemania\",\n",
    "    \"CH\": \"Suiza\",\n",
    "    \"LI\": \"Liechtenstein\",\n",
    "    \"BE\": \"Bélgica\",\n",
    "    \"LU\": \"Luxemburgo\",\n",
    "    \"NL\": \"Países Bajos\"}"
   ]
  },
  {
   "cell_type": "code",
   "execution_count": 4,
   "metadata": {},
   "outputs": [],
   "source": [
    "datos_rango = sp.search(q = \"year:2010-2014\", limit=50, offset=0, type='track', market=\"ES\")"
   ]
  },
  {
   "cell_type": "code",
   "execution_count": 5,
   "metadata": {},
   "outputs": [],
   "source": [
    "def extraccion_por_paises(diccionario_zonas, años):\n",
    "    todos_los_datos = [] # Esto es una lista de dicts donde se van guardando los diccionarios de cada país\n",
    "    for pais in diccionario_zonas.keys():\n",
    "        datos_rango = sp.search(q = f'year:{años}', limit=50, offset=0, type='track', market={pais}) # Cada una tiene que cambiar en q el rango de años\n",
    "        datos_por_pais = {}\n",
    "        datos_por_pais['pais'] = pais\n",
    "        datos_por_pais['datos'] = datos_rango\n",
    "        todos_los_datos.append(datos_por_pais)\n",
    "    return todos_los_datos"
   ]
  },
  {
   "cell_type": "code",
   "execution_count": 6,
   "metadata": {},
   "outputs": [],
   "source": [
    "paises_europa_central = extraccion_por_paises(paises_europa_central, \"2010-2014\")"
   ]
  },
  {
   "cell_type": "code",
   "execution_count": 7,
   "metadata": {},
   "outputs": [],
   "source": [
    "prueba = {'nombre': [], 'popularity': [], 'artista': [], 'pais': [], 'genero': []}"
   ]
  },
  {
   "cell_type": "code",
   "execution_count": 8,
   "metadata": {},
   "outputs": [],
   "source": [
    "datos_paises_europa_central = {'nombre': [], 'popularity': [], 'artista': [], 'pais': [], 'genero': []}"
   ]
  },
  {
   "cell_type": "code",
   "execution_count": 10,
   "metadata": {},
   "outputs": [],
   "source": [
    "for datos_pais in paises_europa_central:\n",
    "    for element in datos_pais['datos']['tracks']['items']:\n",
    "        prueba['pais'].append(datos_pais['pais'])\n",
    "        prueba['popularity'].append(element['popularity'])\n",
    "        prueba['nombre'].append(element['name'])\n",
    "        artistas = []\n",
    "        for artista in element['artists']:\n",
    "            artistas.append(artista['name'])   \n",
    "        artistas_str = ', '.join(artistas)\n",
    "        prueba['artista'].append(artistas_str)"
   ]
  },
  {
   "cell_type": "code",
   "execution_count": 11,
   "metadata": {},
   "outputs": [
    {
     "name": "stdout",
     "output_type": "stream",
     "text": [
      "{'nombre': ['Sweater Weather', 'Hazey - Live', 'Another Love', 'Cheri Cheri Lady (Peters Pop-Show 30.11.1985) - Live from Peters Pop Show, 1985', 'LoveHate Thing (feat. Sam Dew)', 'Smile', 'Danza Kuduro', 'Plastic Dreams 2003', 'Wake Me Up', 'Losing You', 'Shut Up and Dance', \"Geronimo's Cadillac (Peters Pop-Show 06.12.1986) - Live from Peters Pop-Show, 1986\", 'Give Me Everything (feat. Nayer)', 'You Can Win If You Want (Wetten, dass...? 18.05.1985) - Live from Wetten, dass...?, 1985', \"Can't Hold Us (feat. Ray Dalton)\", 'Atlantis Is Calling (Na, sowas! 17.05.1986) - Live from Na, sowas!, 1986', 'Locked out of Heaven', 'Il fait chaud', 'Timber', 'Bede Z Toba - Hangout Live', 'Einmal um die Welt', 'Byłem (feat. As)', 'Counting Stars', 'Pani Da Rang (From \"Vicky Donor\") - Male Vocals', 'A Sky Full of Stars', 'Heaven Will Know (Peters Pop-Show 30.11.1985) - Live from Peters Pop Show, 1985', 'La La La', 'Bede Z Toba', 'I Wanna Be Yours', 'Ballada o Janku Wisniewskim', 'Stolen Dance', 'You Are Not Alone (Wetten, dass...? 20.02.1999) - Live from Wetten, dass...?, 1999', 'Call Me Maybe', 'Lågsus (feat. Medina)', 'We Found Love', '25 ปี (มีหวัง)', 'Just the Way You Are', \"Fragile (Director's Cut)\", 'Take Me To Church', 'The Real Slim Shady - Edited', 'TiK ToK', 'No Risk, No Fun', 'Traum', 'G.U.Y. - An ARTPOP Film', 'Ein Teil', '好不好', 'Drive By', 'Samba Pras Moças', 'Titanium (feat. Sia)', 'Hardkor i disko', 'LoveHate Thing (feat. Sam Dew)', 'Plastic Dreams 2003', 'Sweater Weather', 'Cheri Cheri Lady (Peters Pop-Show 30.11.1985) - Live from Peters Pop Show, 1985', 'Another Love', 'You Can Win If You Want (Wetten, dass...? 18.05.1985) - Live from Wetten, dass...?, 1985', 'Kölsche Jung - Party Edit', \"Fragile (Director's Cut)\", 'Give Me Everything (feat. Nayer)', 'Bede Z Toba', 'Danza Kuduro', 'No Risk, No Fun', 'Et jitt kei Wood', 'Bede Z Toba - Hangout Live', 'La La La', 'Samba Pras Moças', 'Timber', \"Geronimo's Cadillac (Peters Pop-Show 06.12.1986) - Live from Peters Pop-Show, 1986\", 'Ein Teil', 'Kruhy', 'Einmal um die Welt', 'Cloud 9 - From \"Cloud 9\" / Original TV Movie Soundtrack', 'Shut Up and Dance', \"Verlieben, verloren, vergessen, verzeih'n (ZDF Hitparade 30.01.1992) - VOD\", 'Locked out of Heaven', 'All By Myself (ZDF Tele-Illustrierte 17.01.1989) - VOD', 'Willst du', 'Atlantis Is Calling (Na, sowas! 17.05.1986) - Live from Na, sowas!, 1986', 'Pirate', 'Rock mi', 'I Wanna Be Yours', 'The Real Slim Shady - Edited', \"DJ Got Us Fallin' In Love (feat. Pitbull)\", 'Ballada o Janku Wisniewskim', 'We Found Love', 'Red Light (feat. Snoop Lion)', 'Counting Stars', 'Die Zeit hält nur in Träumen an (Song)', 'Wake Me Up', 'Mona Lisa (ZDF Länderjournal 25.10.1991) - VOD', \"Can't Hold Us (feat. Ray Dalton)\", 'Teenage Dream', 'TiK ToK', 'The Sick Note', 'Call Me Maybe', 'Guiding Light', 'Traum', 'Muskurane (Film Version) [From \"Citylights\"]', \"She Doesn't Mind\", 'Heaven Will Know (Peters Pop-Show 30.11.1985) - Live from Peters Pop Show, 1985', 'Another Love', 'Il fait chaud', \"Can't Hold Us (feat. Ray Dalton)\", 'Plastic Dreams 2003', 'Sweater Weather', 'The Real Slim Shady - Edited', 'LoveHate Thing (feat. Sam Dew)', 'Cheri Cheri Lady (Peters Pop-Show 30.11.1985) - Live from Peters Pop Show, 1985', 'Wake Me Up', 'Ballada o Janku Wisniewskim', 'A Sky Full of Stars', 'Bede Z Toba - Hangout Live', 'La La La', 'Wind Song', 'Demons', '25 ปี (มีหวัง)', 'Counting Stars', 'La Cage aux oiseaux', 'I Wanna Be Yours', \"Geronimo's Cadillac (Peters Pop-Show 06.12.1986) - Live from Peters Pop-Show, 1986\", 'Locked out of Heaven', 'Atlantis Is Calling (Na, sowas! 17.05.1986) - Live from Na, sowas!, 1986', 'All of Me', 'Pani Da Rang (From \"Vicky Donor\") - Male Vocals', 'Give Me Everything (feat. Nayer)', 'Bede Z Toba', 'Just the Way You Are', 'Heaven Will Know (Peters Pop-Show 30.11.1985) - Live from Peters Pop Show, 1985', 'Stolen Dance', 'You Can Win If You Want (Wetten, dass...? 18.05.1985) - Live from Wetten, dass...?, 1985', 'Take Me To Church', 'Smooth Criminal', 'Timber', 'Mealor: Peace', 'Someone Like You', 'Losing You', 'Titanium (feat. Sia)', \"You've Changed - Live at Blues Alley, January 1996\", 'Shut Up and Dance', 'Stoned In Love', 'We Found Love', 'You Are Not Alone (Wetten, dass...? 20.02.1999) - Live from Wetten, dass...?, 1999', 'Set Fire to the Rain', 'Lågsus (feat. Medina)', 'Je te laisserai des mots', \"Fragile (Director's Cut)\", 'Call Me Maybe', 'Smile', 'She Will', 'No Risk, No Fun', 'I Wanna Be Yours', 'Bede Z Toba', 'Sweater Weather', 'Cheri Cheri Lady (Peters Pop-Show 30.11.1985) - Live from Peters Pop Show, 1985', 'Locked out of Heaven', 'Plastic Dreams 2003', 'No. 1 Party Anthem', 'Bede Z Toba - Hangout Live', 'When I Was Your Man', 'Ballada o Janku Wisniewskim', 'A Sky Full of Stars', 'You Are Not Alone (Wetten, dass...? 20.02.1999) - Live from Wetten, dass...?, 1999', 'Night Changes', 'Il fait chaud', 'Give Me Everything (feat. Nayer)', 'Lågsus (feat. Medina)', 'Lovers Rock', 'Pani Da Rang (From \"Vicky Donor\") - Male Vocals', 'I Love You So', 'You Can Win If You Want (Wetten, dass...? 18.05.1985) - Live from Wetten, dass...?, 1985', 'Another Love', '25 ปี (มีหวัง)', 'Do I Wanna Know?', \"Geronimo's Cadillac (Peters Pop-Show 06.12.1986) - Live from Peters Pop-Show, 1986\", 'Counting Stars', \"Fragile (Director's Cut)\", 'Wake Me Up', 'The Real Slim Shady - Edited', 'All of Me', 'Smile', 'Story of My Life', 'Atlantis Is Calling (Na, sowas! 17.05.1986) - Live from Na, sowas!, 1986', 'No Role Modelz', 'G.U.Y. - An ARTPOP Film', 'Sure Thing', 'Heaven Will Know (Peters Pop-Show 30.11.1985) - Live from Peters Pop Show, 1985', 'Thinkin Bout You', '好不好', 'Young And Beautiful', 'Hardkor i disko', 'Love Me', 'Red Light (feat. Snoop Lion)', 'Shut Up and Dance', 'Losing You', 'Skyfall', 'Byłem (feat. As)', \"Why'd You Only Call Me When You're High?\", 'Rum Whisky (From \"Vicky Donor\")', 'Pumped Up Kicks', 'Wind Song', 'Another Love', 'Il fait chaud', 'Sweater Weather', 'Plastic Dreams 2003', 'Someone Like You', 'Now Is the Time (feat. Jasmine V)', \"Can't Hold Us (feat. Ray Dalton)\", 'Wind Song', 'Take Me To Church', 'Losing You', 'A Sky Full of Stars', 'Cheri Cheri Lady (Peters Pop-Show 30.11.1985) - Live from Peters Pop Show, 1985', 'Wake Me Up', 'Bede Z Toba', 'Locked out of Heaven', '25 ปี (มีหวัง)', 'All of Me', 'Atlantis Is Calling (Na, sowas! 17.05.1986) - Live from Na, sowas!, 1986', 'Titanium (feat. Sia)', 'Bede Z Toba - Hangout Live', 'Just the Way You Are', 'Heaven Will Know (Peters Pop-Show 30.11.1985) - Live from Peters Pop Show, 1985', 'We Found Love', 'You Can Win If You Want (Wetten, dass...? 18.05.1985) - Live from Wetten, dass...?, 1985', 'I Wanna Be Yours', 'Ehssas', 'LoveHate Thing (feat. Sam Dew)', \"Geronimo's Cadillac (Peters Pop-Show 06.12.1986) - Live from Peters Pop-Show, 1986\", 'Give Me Everything (feat. Nayer)', 'Pani Da Rang (From \"Vicky Donor\") - Male Vocals', 'Timber', 'Thoda Thoda', 'Demons', 'La Cage aux oiseaux', 'Set Fire to the Rain', 'Smile', 'Je te laisserai des mots', 'Libera Nos', 'Counting Stars', 'Ballada o Janku Wisniewskim', 'When I Was Your Man', 'You Are Not Alone (Wetten, dass...? 20.02.1999) - Live from Wetten, dass...?, 1999', 'Grenade', 'Iré tras de ti', 'Rolling in the Deep', 'Lågsus (feat. Medina)', 'Shut Up and Dance', \"Fragile (Director's Cut)\", 'Stolen Dance', 'The Real Slim Shady - Edited', 'Another Love', 'Il fait chaud', 'Sweater Weather', 'Cheri Cheri Lady (Peters Pop-Show 30.11.1985) - Live from Peters Pop Show, 1985', 'A Sky Full of Stars', 'Losing You', 'Just the Way You Are', 'Wind Song', 'I Wanna Be Yours', 'You Can Win If You Want (Wetten, dass...? 18.05.1985) - Live from Wetten, dass...?, 1985', 'Locked out of Heaven', 'Heaven Will Know (Peters Pop-Show 30.11.1985) - Live from Peters Pop Show, 1985', 'Wake Me Up', \"Geronimo's Cadillac (Peters Pop-Show 06.12.1986) - Live from Peters Pop-Show, 1986\", 'LoveHate Thing (feat. Sam Dew)', 'Bede Z Toba', 'All of Me', 'Plastic Dreams 2003', \"Can't Hold Us (feat. Ray Dalton)\", 'Bede Z Toba - Hangout Live', 'Counting Stars', 'Ballada o Janku Wisniewskim', 'Take Me To Church', 'You Are Not Alone (Wetten, dass...? 20.02.1999) - Live from Wetten, dass...?, 1999', 'Demons', 'Iré tras de ti', 'Give Me Everything (feat. Nayer)', 'Now Is the Time (feat. Jasmine V)', 'Someone Like You', 'Lågsus (feat. Medina)', 'Titanium (feat. Sia)', 'Pani Da Rang (From \"Vicky Donor\") - Male Vocals', 'We Found Love', '25 ปี (มีหวัง)', 'Timber', \"Fragile (Director's Cut)\", 'Money Trees', 'The Real Slim Shady - Edited', 'Set Fire to the Rain', 'Smile', 'Shut Up and Dance', 'Atlantis Is Calling (Na, sowas! 17.05.1986) - Live from Na, sowas!, 1986', 'When I Was Your Man', 'G.U.Y. - An ARTPOP Film', 'Je te laisserai des mots', '好不好', 'Grenade', 'Hardkor i disko', 'No Role Modelz', 'Red Light (feat. Snoop Lion)', 'Oceaan', 'Plastic Dreams 2003', 'LoveHate Thing (feat. Sam Dew)', 'Bede Z Toba', 'Another Love', 'Cheri Cheri Lady (Peters Pop-Show 30.11.1985) - Live from Peters Pop Show, 1985', 'Someone Like You', '¿Qué sería?', 'A Sky Full of Stars', 'Het Kuikentje Piep', 'Locked out of Heaven', \"When We Don't Exist Reissue (Learn Your Place)\", 'Just the Way You Are', 'Now Is the Time (feat. Jasmine V)', 'All of Me', 'Tú y yo - Enjoy', 'Wake Me Up', 'Es lo que es, hay lo que hay - Enjoy', 'Sweater Weather', 'No va más - Enjoy', 'Set Fire to the Rain', 'Muskurane (Film Version) [From \"Citylights\"]', 'Sterrenstof', 'You Can Win If You Want (Wetten, dass...? 18.05.1985) - Live from Wetten, dass...?, 1985', 'Take Me To Church', 'Ballada o Janku Wisniewskim', 'Give Me Everything (feat. Nayer)', 'Iré tras de ti', 'When I Was Your Man', 'Il fait chaud', 'Shut Up and Dance', 'Atlantis Is Calling (Na, sowas! 17.05.1986) - Live from Na, sowas!, 1986', 'Grenade', '好不好', 'Timber', 'Thoda Thoda', 'Counting Stars', \"Geronimo's Cadillac (Peters Pop-Show 06.12.1986) - Live from Peters Pop-Show, 1986\", 'Budapest', 'Heaven Will Know (Peters Pop-Show 30.11.1985) - Live from Peters Pop Show, 1985', 'Titanium (feat. Sia)', 'Pani Da Rang (From \"Vicky Donor\") - Male Vocals', 'Home', 'My Love a Piece of My Love (feat. Snoop Dogg)', 'Rolling in the Deep', 'Wees Maar Niet Bang', 'Je te laisserai des mots', 'Bede Z Toba - Hangout Live', 'I Wanna Be Yours', \"Sing About Me, I'm Dying Of Thirst - Part 1\"], 'popularity': [85, 0, 82, 2, 76, 0, 71, 2, 82, 0, 80, 0, 82, 0, 80, 0, 85, 0, 80, 2, 63, 0, 82, 0, 83, 0, 77, 9, 86, 1, 75, 0, 76, 0, 73, 0, 78, 0, 78, 0, 79, 0, 62, 0, 63, 0, 76, 0, 77, 0, 76, 2, 85, 2, 82, 0, 63, 0, 82, 9, 71, 0, 62, 2, 77, 0, 80, 0, 63, 0, 63, 0, 80, 0, 85, 0, 62, 0, 61, 0, 86, 0, 79, 1, 73, 0, 82, 0, 82, 0, 80, 0, 79, 0, 76, 0, 62, 0, 70, 0, 82, 0, 80, 2, 85, 0, 76, 2, 82, 1, 83, 2, 77, 0, 79, 0, 82, 0, 86, 0, 85, 0, 81, 0, 82, 9, 78, 0, 75, 0, 78, 0, 80, 0, 77, 0, 77, 0, 80, 0, 73, 0, 77, 0, 78, 0, 76, 0, 75, 0, 86, 9, 85, 2, 85, 2, 84, 2, 83, 1, 83, 0, 83, 0, 82, 0, 82, 0, 82, 0, 82, 0, 82, 0, 82, 0, 82, 0, 81, 0, 81, 0, 81, 0, 81, 0, 81, 0, 80, 0, 80, 0, 80, 0, 80, 0, 80, 0, 80, 0, 82, 0, 85, 2, 77, 0, 80, 0, 78, 0, 83, 2, 82, 9, 85, 0, 81, 0, 77, 2, 78, 0, 73, 0, 86, 0, 76, 0, 82, 0, 80, 0, 79, 0, 77, 0, 78, 0, 82, 1, 83, 0, 77, 0, 76, 0, 80, 0, 75, 0, 82, 0, 85, 2, 83, 0, 78, 0, 86, 0, 85, 0, 82, 0, 76, 9, 81, 2, 80, 2, 82, 1, 78, 0, 79, 0, 82, 0, 77, 0, 77, 0, 73, 0, 80, 0, 79, 0, 77, 0, 80, 0, 83, 0, 78, 0, 77, 0, 81, 0, 60, 2, 76, 9, 82, 2, 77, 0, 83, 0, 85, 0, 78, 0, 81, 0, 82, 0, 85, 0, 77, 0, 55, 0, 78, 1, 82, 0, 83, 0, 80, 0, 77, 0, 80, 0, 82, 0, 78, 0, 77, 0, 63, 0, 76, 0, 78, 2, 86, 0], 'artista': ['The Neighbourhood', 'Glass Animals', 'Tom Odell', 'Modern Talking', 'Wale, Sam Dew', 'Abel The Kid, Julio Iglesias Jr.', 'Don Omar, Lucenzo', 'JayDee', 'Avicii', 'Revolver', 'WALK THE MOON', 'Modern Talking', 'Pitbull, AFROJACK, Ne-Yo, Nayer', 'Modern Talking', 'Macklemore, Ryan Lewis, Macklemore & Ryan Lewis, Ray Dalton', 'Modern Talking', 'Bruno Mars', 'Patrick Sébastien', 'Pitbull, Kesha', 'Lemon', 'CRO', 'Pezet, As', 'OneRepublic', 'Abhishek - Akshay, Ayushmann Khurrana', 'Coldplay', 'Modern Talking', 'Naughty Boy, Sam Smith', 'Lemon', 'Arctic Monkeys', 'Kazik', 'Milky Chance', 'Modern Talking', 'Carly Rae Jepsen', 'Specktors, Medina', 'Rihanna, Calvin Harris', 'พงษ์สิทธิ์ คำภีร์', 'Bruno Mars', 'Tech N9ne, Kendrick Lamar, ¡MAYDAY!, Kendall Morgan', 'Hozier', 'Eminem', 'Kesha', 'LINA, Emilio Moutaoukkil', 'CRO', 'Lady Gaga', 'CRO', 'Evan Yo', 'Train', 'Mariene De Castro', 'David Guetta, Sia', 'Sofa', 'Wale, Sam Dew', 'JayDee', 'The Neighbourhood', 'Modern Talking', 'Tom Odell', 'Modern Talking', 'Brings', 'Tech N9ne, Kendrick Lamar, ¡MAYDAY!, Kendall Morgan', 'Pitbull, AFROJACK, Ne-Yo, Nayer', 'Lemon', 'Don Omar, Lucenzo', 'LINA, Emilio Moutaoukkil', 'Cat Ballou', 'Lemon', 'Naughty Boy, Sam Smith', 'Mariene De Castro', 'Pitbull, Kesha', 'Modern Talking', 'CRO', 'Lipo, Yanna', 'CRO', 'Dove Cameron, Luke Benward', 'WALK THE MOON', 'Wolfgang Petry', 'Bruno Mars', 'Peter Hofmann', 'Alligatoah', 'Modern Talking', 'Kasalla', 'voXXclub', 'Arctic Monkeys', 'Eminem', 'USHER, Pitbull', 'Kazik', 'Rihanna, Calvin Harris', 'Eddie Murphy, Snoop Lion', 'OneRepublic', 'Peter Maffay, Tabaluga', 'Avicii', 'Die Flippers', 'Macklemore, Ryan Lewis, Macklemore & Ryan Lewis, Ray Dalton', 'Katy Perry', 'Kesha', 'The Dubliners', 'Carly Rae Jepsen', 'Mark Wonder, Sizzla', 'CRO', 'Jeet Gannguli, Arijit Singh', 'Sean Paul', 'Modern Talking', 'Tom Odell', 'Patrick Sébastien', 'Macklemore, Ryan Lewis, Macklemore & Ryan Lewis, Ray Dalton', 'JayDee', 'The Neighbourhood', 'Eminem', 'Wale, Sam Dew', 'Modern Talking', 'Avicii', 'Kazik', 'Coldplay', 'Lemon', 'Naughty Boy, Sam Smith', 'Revolver', 'Imagine Dragons', 'พงษ์สิทธิ์ คำภีร์', 'OneRepublic', \"Les P'tits Pierrots\", 'Arctic Monkeys', 'Modern Talking', 'Bruno Mars', 'Modern Talking', 'John Legend', 'Abhishek - Akshay, Ayushmann Khurrana', 'Pitbull, AFROJACK, Ne-Yo, Nayer', 'Lemon', 'Bruno Mars', 'Modern Talking', 'Milky Chance', 'Modern Talking', 'Hozier', 'Michael Jackson', 'Pitbull, Kesha', 'Paul Mealor, Tenebrae, Nigel Short', 'Adele', 'Revolver', 'David Guetta, Sia', 'Eva Cassidy', 'WALK THE MOON', 'Chicane, Tom Jones', 'Rihanna, Calvin Harris', 'Modern Talking', 'Adele', 'Specktors, Medina', 'Patrick Watson', 'Tech N9ne, Kendrick Lamar, ¡MAYDAY!, Kendall Morgan', 'Carly Rae Jepsen', 'Abel The Kid, Julio Iglesias Jr.', 'Lil Wayne, Drake', 'LINA, Emilio Moutaoukkil', 'Arctic Monkeys', 'Lemon', 'The Neighbourhood', 'Modern Talking', 'Bruno Mars', 'JayDee', 'Arctic Monkeys', 'Lemon', 'Bruno Mars', 'Kazik', 'Coldplay', 'Modern Talking', 'One Direction', 'Patrick Sébastien', 'Pitbull, AFROJACK, Ne-Yo, Nayer', 'Specktors, Medina', 'TV Girl', 'Abhishek - Akshay, Ayushmann Khurrana', 'The Walters', 'Modern Talking', 'Tom Odell', 'พงษ์สิทธิ์ คำภีร์', 'Arctic Monkeys', 'Modern Talking', 'OneRepublic', 'Tech N9ne, Kendrick Lamar, ¡MAYDAY!, Kendall Morgan', 'Avicii', 'Eminem', 'John Legend', 'Abel The Kid, Julio Iglesias Jr.', 'One Direction', 'Modern Talking', 'J. Cole', 'Lady Gaga', 'Miguel', 'Modern Talking', 'Frank Ocean', 'Evan Yo', 'Lana Del Rey', 'Sofa', 'Lil Wayne, Drake, Future', 'Eddie Murphy, Snoop Lion', 'WALK THE MOON', 'Revolver', 'Adele', 'Pezet, As', 'Arctic Monkeys', 'Abhishek - Akshay, Akshay Verma', 'Foster The People', 'Revolver', 'Tom Odell', 'Patrick Sébastien', 'The Neighbourhood', 'JayDee', 'Adele', 'Wally Lopez', 'Macklemore, Ryan Lewis, Macklemore & Ryan Lewis, Ray Dalton', 'Revolver', 'Hozier', 'Revolver', 'Coldplay', 'Modern Talking', 'Avicii', 'Lemon', 'Bruno Mars', 'พงษ์สิทธิ์ คำภีร์', 'John Legend', 'Modern Talking', 'David Guetta, Sia', 'Lemon', 'Bruno Mars', 'Modern Talking', 'Rihanna, Calvin Harris', 'Modern Talking', 'Arctic Monkeys', 'Carole Samaha', 'Wale, Sam Dew', 'Modern Talking', 'Pitbull, AFROJACK, Ne-Yo, Nayer', 'Abhishek - Akshay, Ayushmann Khurrana', 'Pitbull, Kesha', 'Shreya Ghoshal, Sachin', 'Imagine Dragons', \"Les P'tits Pierrots\", 'Adele', 'Abel The Kid, Julio Iglesias Jr.', 'Patrick Watson', 'John Sheppard, The Sixteen, Harry Christophers', 'OneRepublic', 'Kazik', 'Bruno Mars', 'Modern Talking', 'Bruno Mars', 'Mr.', 'Adele', 'Specktors, Medina', 'WALK THE MOON', 'Tech N9ne, Kendrick Lamar, ¡MAYDAY!, Kendall Morgan', 'Milky Chance', 'Eminem', 'Tom Odell', 'Patrick Sébastien', 'The Neighbourhood', 'Modern Talking', 'Coldplay', 'Revolver', 'Bruno Mars', 'Revolver', 'Arctic Monkeys', 'Modern Talking', 'Bruno Mars', 'Modern Talking', 'Avicii', 'Modern Talking', 'Wale, Sam Dew', 'Lemon', 'John Legend', 'JayDee', 'Macklemore, Ryan Lewis, Macklemore & Ryan Lewis, Ray Dalton', 'Lemon', 'OneRepublic', 'Kazik', 'Hozier', 'Modern Talking', 'Imagine Dragons', 'Mr.', 'Pitbull, AFROJACK, Ne-Yo, Nayer', 'Wally Lopez', 'Adele', 'Specktors, Medina', 'David Guetta, Sia', 'Abhishek - Akshay, Ayushmann Khurrana', 'Rihanna, Calvin Harris', 'พงษ์สิทธิ์ คำภีร์', 'Pitbull, Kesha', 'Tech N9ne, Kendrick Lamar, ¡MAYDAY!, Kendall Morgan', 'Kendrick Lamar, Jay Rock', 'Eminem', 'Adele', 'Abel The Kid, Julio Iglesias Jr.', 'WALK THE MOON', 'Modern Talking', 'Bruno Mars', 'Lady Gaga', 'Patrick Watson', 'Evan Yo', 'Bruno Mars', 'Sofa', 'J. Cole', 'Eddie Murphy, Snoop Lion', 'Racoon', 'JayDee', 'Wale, Sam Dew', 'Lemon', 'Tom Odell', 'Modern Talking', 'Adele', 'David Cavazos', 'Coldplay', 'Pulcino Pio', 'Bruno Mars', 'Like Moths To Flames', 'Bruno Mars', 'Wally Lopez', 'John Legend', 'Revolver', 'Avicii', 'Revolver', 'The Neighbourhood', 'Revolver', 'Adele', 'Jeet Gannguli, Arijit Singh', 'De Jeugd Van Tegenwoordig', 'Modern Talking', 'Hozier', 'Kazik', 'Pitbull, AFROJACK, Ne-Yo, Nayer', 'Mr.', 'Bruno Mars', 'Patrick Sébastien', 'WALK THE MOON', 'Modern Talking', 'Bruno Mars', 'Evan Yo', 'Pitbull, Kesha', 'Shreya Ghoshal, Sachin', 'OneRepublic', 'Modern Talking', 'George Ezra', 'Modern Talking', 'David Guetta, Sia', 'Abhishek - Akshay, Ayushmann Khurrana', 'Dotan', 'Abel The Kid, Julio Iglesias Jr.', 'Adele', 'Guus Meeuwis', 'Patrick Watson', 'Lemon', 'Arctic Monkeys', 'Kendrick Lamar'], 'pais': ['AT', 'AT', 'AT', 'AT', 'AT', 'AT', 'AT', 'AT', 'AT', 'AT', 'AT', 'AT', 'AT', 'AT', 'AT', 'AT', 'AT', 'AT', 'AT', 'AT', 'AT', 'AT', 'AT', 'AT', 'AT', 'AT', 'AT', 'AT', 'AT', 'AT', 'AT', 'AT', 'AT', 'AT', 'AT', 'AT', 'AT', 'AT', 'AT', 'AT', 'AT', 'AT', 'AT', 'AT', 'AT', 'AT', 'AT', 'AT', 'AT', 'AT', 'DE', 'DE', 'DE', 'DE', 'DE', 'DE', 'DE', 'DE', 'DE', 'DE', 'DE', 'DE', 'DE', 'DE', 'DE', 'DE', 'DE', 'DE', 'DE', 'DE', 'DE', 'DE', 'DE', 'DE', 'DE', 'DE', 'DE', 'DE', 'DE', 'DE', 'DE', 'DE', 'DE', 'DE', 'DE', 'DE', 'DE', 'DE', 'DE', 'DE', 'DE', 'DE', 'DE', 'DE', 'DE', 'DE', 'DE', 'DE', 'DE', 'DE', 'CH', 'CH', 'CH', 'CH', 'CH', 'CH', 'CH', 'CH', 'CH', 'CH', 'CH', 'CH', 'CH', 'CH', 'CH', 'CH', 'CH', 'CH', 'CH', 'CH', 'CH', 'CH', 'CH', 'CH', 'CH', 'CH', 'CH', 'CH', 'CH', 'CH', 'CH', 'CH', 'CH', 'CH', 'CH', 'CH', 'CH', 'CH', 'CH', 'CH', 'CH', 'CH', 'CH', 'CH', 'CH', 'CH', 'CH', 'CH', 'CH', 'CH', 'LI', 'LI', 'LI', 'LI', 'LI', 'LI', 'LI', 'LI', 'LI', 'LI', 'LI', 'LI', 'LI', 'LI', 'LI', 'LI', 'LI', 'LI', 'LI', 'LI', 'LI', 'LI', 'LI', 'LI', 'LI', 'LI', 'LI', 'LI', 'LI', 'LI', 'LI', 'LI', 'LI', 'LI', 'LI', 'LI', 'LI', 'LI', 'LI', 'LI', 'LI', 'LI', 'LI', 'LI', 'LI', 'LI', 'LI', 'LI', 'LI', 'LI', 'BE', 'BE', 'BE', 'BE', 'BE', 'BE', 'BE', 'BE', 'BE', 'BE', 'BE', 'BE', 'BE', 'BE', 'BE', 'BE', 'BE', 'BE', 'BE', 'BE', 'BE', 'BE', 'BE', 'BE', 'BE', 'BE', 'BE', 'BE', 'BE', 'BE', 'BE', 'BE', 'BE', 'BE', 'BE', 'BE', 'BE', 'BE', 'BE', 'BE', 'BE', 'BE', 'BE', 'BE', 'BE', 'BE', 'BE', 'BE', 'BE', 'BE', 'LU', 'LU', 'LU', 'LU', 'LU', 'LU', 'LU', 'LU', 'LU', 'LU', 'LU', 'LU', 'LU', 'LU', 'LU', 'LU', 'LU', 'LU', 'LU', 'LU', 'LU', 'LU', 'LU', 'LU', 'LU', 'LU', 'LU', 'LU', 'LU', 'LU', 'LU', 'LU', 'LU', 'LU', 'LU', 'LU', 'LU', 'LU', 'LU', 'LU', 'LU', 'LU', 'LU', 'LU', 'LU', 'LU', 'LU', 'LU', 'LU', 'LU', 'NL', 'NL', 'NL', 'NL', 'NL', 'NL', 'NL', 'NL', 'NL', 'NL', 'NL', 'NL', 'NL', 'NL', 'NL', 'NL', 'NL', 'NL', 'NL', 'NL', 'NL', 'NL', 'NL', 'NL', 'NL', 'NL', 'NL', 'NL', 'NL', 'NL', 'NL', 'NL', 'NL', 'NL', 'NL', 'NL', 'NL', 'NL', 'NL', 'NL', 'NL', 'NL', 'NL', 'NL', 'NL', 'NL', 'NL', 'NL', 'NL', 'NL'], 'genero': []}\n"
     ]
    }
   ],
   "source": [
    "print(prueba)"
   ]
  },
  {
   "cell_type": "code",
   "execution_count": 12,
   "metadata": {},
   "outputs": [],
   "source": [
    "def filtro_de_datos(lista_datos_zonas, datos):\n",
    "    for datos_pais in lista_datos_zonas:\n",
    "        for element in datos_pais['datos']['tracks']['items']:\n",
    "            datos['pais'].append(datos_pais['pais'])\n",
    "            datos['popularity'].append(element['popularity'])\n",
    "            datos['nombre'].append(element['name'])\n",
    "            artistas = []\n",
    "            for artista in element['artists']:\n",
    "                artistas.append(artista['name'])   \n",
    "            artistas_str = ', '.join(artistas)\n",
    "            datos['artista'].append(artistas_str)"
   ]
  },
  {
   "cell_type": "code",
   "execution_count": 13,
   "metadata": {},
   "outputs": [],
   "source": [
    "filtro_de_datos (paises_europa_central, datos_paises_europa_central)"
   ]
  },
  {
   "cell_type": "code",
   "execution_count": 14,
   "metadata": {},
   "outputs": [
    {
     "name": "stdout",
     "output_type": "stream",
     "text": [
      "{'nombre': ['Sweater Weather', 'Hazey - Live', 'Another Love', 'Cheri Cheri Lady (Peters Pop-Show 30.11.1985) - Live from Peters Pop Show, 1985', 'LoveHate Thing (feat. Sam Dew)', 'Smile', 'Danza Kuduro', 'Plastic Dreams 2003', 'Wake Me Up', 'Losing You', 'Shut Up and Dance', \"Geronimo's Cadillac (Peters Pop-Show 06.12.1986) - Live from Peters Pop-Show, 1986\", 'Give Me Everything (feat. Nayer)', 'You Can Win If You Want (Wetten, dass...? 18.05.1985) - Live from Wetten, dass...?, 1985', \"Can't Hold Us (feat. Ray Dalton)\", 'Atlantis Is Calling (Na, sowas! 17.05.1986) - Live from Na, sowas!, 1986', 'Locked out of Heaven', 'Il fait chaud', 'Timber', 'Bede Z Toba - Hangout Live', 'Einmal um die Welt', 'Byłem (feat. As)', 'Counting Stars', 'Pani Da Rang (From \"Vicky Donor\") - Male Vocals', 'A Sky Full of Stars', 'Heaven Will Know (Peters Pop-Show 30.11.1985) - Live from Peters Pop Show, 1985', 'La La La', 'Bede Z Toba', 'I Wanna Be Yours', 'Ballada o Janku Wisniewskim', 'Stolen Dance', 'You Are Not Alone (Wetten, dass...? 20.02.1999) - Live from Wetten, dass...?, 1999', 'Call Me Maybe', 'Lågsus (feat. Medina)', 'We Found Love', '25 ปี (มีหวัง)', 'Just the Way You Are', \"Fragile (Director's Cut)\", 'Take Me To Church', 'The Real Slim Shady - Edited', 'TiK ToK', 'No Risk, No Fun', 'Traum', 'G.U.Y. - An ARTPOP Film', 'Ein Teil', '好不好', 'Drive By', 'Samba Pras Moças', 'Titanium (feat. Sia)', 'Hardkor i disko', 'LoveHate Thing (feat. Sam Dew)', 'Plastic Dreams 2003', 'Sweater Weather', 'Cheri Cheri Lady (Peters Pop-Show 30.11.1985) - Live from Peters Pop Show, 1985', 'Another Love', 'You Can Win If You Want (Wetten, dass...? 18.05.1985) - Live from Wetten, dass...?, 1985', 'Kölsche Jung - Party Edit', \"Fragile (Director's Cut)\", 'Give Me Everything (feat. Nayer)', 'Bede Z Toba', 'Danza Kuduro', 'No Risk, No Fun', 'Et jitt kei Wood', 'Bede Z Toba - Hangout Live', 'La La La', 'Samba Pras Moças', 'Timber', \"Geronimo's Cadillac (Peters Pop-Show 06.12.1986) - Live from Peters Pop-Show, 1986\", 'Ein Teil', 'Kruhy', 'Einmal um die Welt', 'Cloud 9 - From \"Cloud 9\" / Original TV Movie Soundtrack', 'Shut Up and Dance', \"Verlieben, verloren, vergessen, verzeih'n (ZDF Hitparade 30.01.1992) - VOD\", 'Locked out of Heaven', 'All By Myself (ZDF Tele-Illustrierte 17.01.1989) - VOD', 'Willst du', 'Atlantis Is Calling (Na, sowas! 17.05.1986) - Live from Na, sowas!, 1986', 'Pirate', 'Rock mi', 'I Wanna Be Yours', 'The Real Slim Shady - Edited', \"DJ Got Us Fallin' In Love (feat. Pitbull)\", 'Ballada o Janku Wisniewskim', 'We Found Love', 'Red Light (feat. Snoop Lion)', 'Counting Stars', 'Die Zeit hält nur in Träumen an (Song)', 'Wake Me Up', 'Mona Lisa (ZDF Länderjournal 25.10.1991) - VOD', \"Can't Hold Us (feat. Ray Dalton)\", 'Teenage Dream', 'TiK ToK', 'The Sick Note', 'Call Me Maybe', 'Guiding Light', 'Traum', 'Muskurane (Film Version) [From \"Citylights\"]', \"She Doesn't Mind\", 'Heaven Will Know (Peters Pop-Show 30.11.1985) - Live from Peters Pop Show, 1985', 'Another Love', 'Il fait chaud', \"Can't Hold Us (feat. Ray Dalton)\", 'Plastic Dreams 2003', 'Sweater Weather', 'The Real Slim Shady - Edited', 'LoveHate Thing (feat. Sam Dew)', 'Cheri Cheri Lady (Peters Pop-Show 30.11.1985) - Live from Peters Pop Show, 1985', 'Wake Me Up', 'Ballada o Janku Wisniewskim', 'A Sky Full of Stars', 'Bede Z Toba - Hangout Live', 'La La La', 'Wind Song', 'Demons', '25 ปี (มีหวัง)', 'Counting Stars', 'La Cage aux oiseaux', 'I Wanna Be Yours', \"Geronimo's Cadillac (Peters Pop-Show 06.12.1986) - Live from Peters Pop-Show, 1986\", 'Locked out of Heaven', 'Atlantis Is Calling (Na, sowas! 17.05.1986) - Live from Na, sowas!, 1986', 'All of Me', 'Pani Da Rang (From \"Vicky Donor\") - Male Vocals', 'Give Me Everything (feat. Nayer)', 'Bede Z Toba', 'Just the Way You Are', 'Heaven Will Know (Peters Pop-Show 30.11.1985) - Live from Peters Pop Show, 1985', 'Stolen Dance', 'You Can Win If You Want (Wetten, dass...? 18.05.1985) - Live from Wetten, dass...?, 1985', 'Take Me To Church', 'Smooth Criminal', 'Timber', 'Mealor: Peace', 'Someone Like You', 'Losing You', 'Titanium (feat. Sia)', \"You've Changed - Live at Blues Alley, January 1996\", 'Shut Up and Dance', 'Stoned In Love', 'We Found Love', 'You Are Not Alone (Wetten, dass...? 20.02.1999) - Live from Wetten, dass...?, 1999', 'Set Fire to the Rain', 'Lågsus (feat. Medina)', 'Je te laisserai des mots', \"Fragile (Director's Cut)\", 'Call Me Maybe', 'Smile', 'She Will', 'No Risk, No Fun', 'I Wanna Be Yours', 'Bede Z Toba', 'Sweater Weather', 'Cheri Cheri Lady (Peters Pop-Show 30.11.1985) - Live from Peters Pop Show, 1985', 'Locked out of Heaven', 'Plastic Dreams 2003', 'No. 1 Party Anthem', 'Bede Z Toba - Hangout Live', 'When I Was Your Man', 'Ballada o Janku Wisniewskim', 'A Sky Full of Stars', 'You Are Not Alone (Wetten, dass...? 20.02.1999) - Live from Wetten, dass...?, 1999', 'Night Changes', 'Il fait chaud', 'Give Me Everything (feat. Nayer)', 'Lågsus (feat. Medina)', 'Lovers Rock', 'Pani Da Rang (From \"Vicky Donor\") - Male Vocals', 'I Love You So', 'You Can Win If You Want (Wetten, dass...? 18.05.1985) - Live from Wetten, dass...?, 1985', 'Another Love', '25 ปี (มีหวัง)', 'Do I Wanna Know?', \"Geronimo's Cadillac (Peters Pop-Show 06.12.1986) - Live from Peters Pop-Show, 1986\", 'Counting Stars', \"Fragile (Director's Cut)\", 'Wake Me Up', 'The Real Slim Shady - Edited', 'All of Me', 'Smile', 'Story of My Life', 'Atlantis Is Calling (Na, sowas! 17.05.1986) - Live from Na, sowas!, 1986', 'No Role Modelz', 'G.U.Y. - An ARTPOP Film', 'Sure Thing', 'Heaven Will Know (Peters Pop-Show 30.11.1985) - Live from Peters Pop Show, 1985', 'Thinkin Bout You', '好不好', 'Young And Beautiful', 'Hardkor i disko', 'Love Me', 'Red Light (feat. Snoop Lion)', 'Shut Up and Dance', 'Losing You', 'Skyfall', 'Byłem (feat. As)', \"Why'd You Only Call Me When You're High?\", 'Rum Whisky (From \"Vicky Donor\")', 'Pumped Up Kicks', 'Wind Song', 'Another Love', 'Il fait chaud', 'Sweater Weather', 'Plastic Dreams 2003', 'Someone Like You', 'Now Is the Time (feat. Jasmine V)', \"Can't Hold Us (feat. Ray Dalton)\", 'Wind Song', 'Take Me To Church', 'Losing You', 'A Sky Full of Stars', 'Cheri Cheri Lady (Peters Pop-Show 30.11.1985) - Live from Peters Pop Show, 1985', 'Wake Me Up', 'Bede Z Toba', 'Locked out of Heaven', '25 ปี (มีหวัง)', 'All of Me', 'Atlantis Is Calling (Na, sowas! 17.05.1986) - Live from Na, sowas!, 1986', 'Titanium (feat. Sia)', 'Bede Z Toba - Hangout Live', 'Just the Way You Are', 'Heaven Will Know (Peters Pop-Show 30.11.1985) - Live from Peters Pop Show, 1985', 'We Found Love', 'You Can Win If You Want (Wetten, dass...? 18.05.1985) - Live from Wetten, dass...?, 1985', 'I Wanna Be Yours', 'Ehssas', 'LoveHate Thing (feat. Sam Dew)', \"Geronimo's Cadillac (Peters Pop-Show 06.12.1986) - Live from Peters Pop-Show, 1986\", 'Give Me Everything (feat. Nayer)', 'Pani Da Rang (From \"Vicky Donor\") - Male Vocals', 'Timber', 'Thoda Thoda', 'Demons', 'La Cage aux oiseaux', 'Set Fire to the Rain', 'Smile', 'Je te laisserai des mots', 'Libera Nos', 'Counting Stars', 'Ballada o Janku Wisniewskim', 'When I Was Your Man', 'You Are Not Alone (Wetten, dass...? 20.02.1999) - Live from Wetten, dass...?, 1999', 'Grenade', 'Iré tras de ti', 'Rolling in the Deep', 'Lågsus (feat. Medina)', 'Shut Up and Dance', \"Fragile (Director's Cut)\", 'Stolen Dance', 'The Real Slim Shady - Edited', 'Another Love', 'Il fait chaud', 'Sweater Weather', 'Cheri Cheri Lady (Peters Pop-Show 30.11.1985) - Live from Peters Pop Show, 1985', 'A Sky Full of Stars', 'Losing You', 'Just the Way You Are', 'Wind Song', 'I Wanna Be Yours', 'You Can Win If You Want (Wetten, dass...? 18.05.1985) - Live from Wetten, dass...?, 1985', 'Locked out of Heaven', 'Heaven Will Know (Peters Pop-Show 30.11.1985) - Live from Peters Pop Show, 1985', 'Wake Me Up', \"Geronimo's Cadillac (Peters Pop-Show 06.12.1986) - Live from Peters Pop-Show, 1986\", 'LoveHate Thing (feat. Sam Dew)', 'Bede Z Toba', 'All of Me', 'Plastic Dreams 2003', \"Can't Hold Us (feat. Ray Dalton)\", 'Bede Z Toba - Hangout Live', 'Counting Stars', 'Ballada o Janku Wisniewskim', 'Take Me To Church', 'You Are Not Alone (Wetten, dass...? 20.02.1999) - Live from Wetten, dass...?, 1999', 'Demons', 'Iré tras de ti', 'Give Me Everything (feat. Nayer)', 'Now Is the Time (feat. Jasmine V)', 'Someone Like You', 'Lågsus (feat. Medina)', 'Titanium (feat. Sia)', 'Pani Da Rang (From \"Vicky Donor\") - Male Vocals', 'We Found Love', '25 ปี (มีหวัง)', 'Timber', \"Fragile (Director's Cut)\", 'Money Trees', 'The Real Slim Shady - Edited', 'Set Fire to the Rain', 'Smile', 'Shut Up and Dance', 'Atlantis Is Calling (Na, sowas! 17.05.1986) - Live from Na, sowas!, 1986', 'When I Was Your Man', 'G.U.Y. - An ARTPOP Film', 'Je te laisserai des mots', '好不好', 'Grenade', 'Hardkor i disko', 'No Role Modelz', 'Red Light (feat. Snoop Lion)', 'Oceaan', 'Plastic Dreams 2003', 'LoveHate Thing (feat. Sam Dew)', 'Bede Z Toba', 'Another Love', 'Cheri Cheri Lady (Peters Pop-Show 30.11.1985) - Live from Peters Pop Show, 1985', 'Someone Like You', '¿Qué sería?', 'A Sky Full of Stars', 'Het Kuikentje Piep', 'Locked out of Heaven', \"When We Don't Exist Reissue (Learn Your Place)\", 'Just the Way You Are', 'Now Is the Time (feat. Jasmine V)', 'All of Me', 'Tú y yo - Enjoy', 'Wake Me Up', 'Es lo que es, hay lo que hay - Enjoy', 'Sweater Weather', 'No va más - Enjoy', 'Set Fire to the Rain', 'Muskurane (Film Version) [From \"Citylights\"]', 'Sterrenstof', 'You Can Win If You Want (Wetten, dass...? 18.05.1985) - Live from Wetten, dass...?, 1985', 'Take Me To Church', 'Ballada o Janku Wisniewskim', 'Give Me Everything (feat. Nayer)', 'Iré tras de ti', 'When I Was Your Man', 'Il fait chaud', 'Shut Up and Dance', 'Atlantis Is Calling (Na, sowas! 17.05.1986) - Live from Na, sowas!, 1986', 'Grenade', '好不好', 'Timber', 'Thoda Thoda', 'Counting Stars', \"Geronimo's Cadillac (Peters Pop-Show 06.12.1986) - Live from Peters Pop-Show, 1986\", 'Budapest', 'Heaven Will Know (Peters Pop-Show 30.11.1985) - Live from Peters Pop Show, 1985', 'Titanium (feat. Sia)', 'Pani Da Rang (From \"Vicky Donor\") - Male Vocals', 'Home', 'My Love a Piece of My Love (feat. Snoop Dogg)', 'Rolling in the Deep', 'Wees Maar Niet Bang', 'Je te laisserai des mots', 'Bede Z Toba - Hangout Live', 'I Wanna Be Yours', \"Sing About Me, I'm Dying Of Thirst - Part 1\"], 'popularity': [85, 0, 82, 2, 76, 0, 71, 2, 82, 0, 80, 0, 82, 0, 80, 0, 85, 0, 80, 2, 63, 0, 82, 0, 83, 0, 77, 9, 86, 1, 75, 0, 76, 0, 73, 0, 78, 0, 78, 0, 79, 0, 62, 0, 63, 0, 76, 0, 77, 0, 76, 2, 85, 2, 82, 0, 63, 0, 82, 9, 71, 0, 62, 2, 77, 0, 80, 0, 63, 0, 63, 0, 80, 0, 85, 0, 62, 0, 61, 0, 86, 0, 79, 1, 73, 0, 82, 0, 82, 0, 80, 0, 79, 0, 76, 0, 62, 0, 70, 0, 82, 0, 80, 2, 85, 0, 76, 2, 82, 1, 83, 2, 77, 0, 79, 0, 82, 0, 86, 0, 85, 0, 81, 0, 82, 9, 78, 0, 75, 0, 78, 0, 80, 0, 77, 0, 77, 0, 80, 0, 73, 0, 77, 0, 78, 0, 76, 0, 75, 0, 86, 9, 85, 2, 85, 2, 84, 2, 83, 1, 83, 0, 83, 0, 82, 0, 82, 0, 82, 0, 82, 0, 82, 0, 82, 0, 82, 0, 81, 0, 81, 0, 81, 0, 81, 0, 81, 0, 80, 0, 80, 0, 80, 0, 80, 0, 80, 0, 80, 0, 82, 0, 85, 2, 77, 0, 80, 0, 78, 0, 83, 2, 82, 9, 85, 0, 81, 0, 77, 2, 78, 0, 73, 0, 86, 0, 76, 0, 82, 0, 80, 0, 79, 0, 77, 0, 78, 0, 82, 1, 83, 0, 77, 0, 76, 0, 80, 0, 75, 0, 82, 0, 85, 2, 83, 0, 78, 0, 86, 0, 85, 0, 82, 0, 76, 9, 81, 2, 80, 2, 82, 1, 78, 0, 79, 0, 82, 0, 77, 0, 77, 0, 73, 0, 80, 0, 79, 0, 77, 0, 80, 0, 83, 0, 78, 0, 77, 0, 81, 0, 60, 2, 76, 9, 82, 2, 77, 0, 83, 0, 85, 0, 78, 0, 81, 0, 82, 0, 85, 0, 77, 0, 55, 0, 78, 1, 82, 0, 83, 0, 80, 0, 77, 0, 80, 0, 82, 0, 78, 0, 77, 0, 63, 0, 76, 0, 78, 2, 86, 0], 'artista': ['The Neighbourhood', 'Glass Animals', 'Tom Odell', 'Modern Talking', 'Wale, Sam Dew', 'Abel The Kid, Julio Iglesias Jr.', 'Don Omar, Lucenzo', 'JayDee', 'Avicii', 'Revolver', 'WALK THE MOON', 'Modern Talking', 'Pitbull, AFROJACK, Ne-Yo, Nayer', 'Modern Talking', 'Macklemore, Ryan Lewis, Macklemore & Ryan Lewis, Ray Dalton', 'Modern Talking', 'Bruno Mars', 'Patrick Sébastien', 'Pitbull, Kesha', 'Lemon', 'CRO', 'Pezet, As', 'OneRepublic', 'Abhishek - Akshay, Ayushmann Khurrana', 'Coldplay', 'Modern Talking', 'Naughty Boy, Sam Smith', 'Lemon', 'Arctic Monkeys', 'Kazik', 'Milky Chance', 'Modern Talking', 'Carly Rae Jepsen', 'Specktors, Medina', 'Rihanna, Calvin Harris', 'พงษ์สิทธิ์ คำภีร์', 'Bruno Mars', 'Tech N9ne, Kendrick Lamar, ¡MAYDAY!, Kendall Morgan', 'Hozier', 'Eminem', 'Kesha', 'LINA, Emilio Moutaoukkil', 'CRO', 'Lady Gaga', 'CRO', 'Evan Yo', 'Train', 'Mariene De Castro', 'David Guetta, Sia', 'Sofa', 'Wale, Sam Dew', 'JayDee', 'The Neighbourhood', 'Modern Talking', 'Tom Odell', 'Modern Talking', 'Brings', 'Tech N9ne, Kendrick Lamar, ¡MAYDAY!, Kendall Morgan', 'Pitbull, AFROJACK, Ne-Yo, Nayer', 'Lemon', 'Don Omar, Lucenzo', 'LINA, Emilio Moutaoukkil', 'Cat Ballou', 'Lemon', 'Naughty Boy, Sam Smith', 'Mariene De Castro', 'Pitbull, Kesha', 'Modern Talking', 'CRO', 'Lipo, Yanna', 'CRO', 'Dove Cameron, Luke Benward', 'WALK THE MOON', 'Wolfgang Petry', 'Bruno Mars', 'Peter Hofmann', 'Alligatoah', 'Modern Talking', 'Kasalla', 'voXXclub', 'Arctic Monkeys', 'Eminem', 'USHER, Pitbull', 'Kazik', 'Rihanna, Calvin Harris', 'Eddie Murphy, Snoop Lion', 'OneRepublic', 'Peter Maffay, Tabaluga', 'Avicii', 'Die Flippers', 'Macklemore, Ryan Lewis, Macklemore & Ryan Lewis, Ray Dalton', 'Katy Perry', 'Kesha', 'The Dubliners', 'Carly Rae Jepsen', 'Mark Wonder, Sizzla', 'CRO', 'Jeet Gannguli, Arijit Singh', 'Sean Paul', 'Modern Talking', 'Tom Odell', 'Patrick Sébastien', 'Macklemore, Ryan Lewis, Macklemore & Ryan Lewis, Ray Dalton', 'JayDee', 'The Neighbourhood', 'Eminem', 'Wale, Sam Dew', 'Modern Talking', 'Avicii', 'Kazik', 'Coldplay', 'Lemon', 'Naughty Boy, Sam Smith', 'Revolver', 'Imagine Dragons', 'พงษ์สิทธิ์ คำภีร์', 'OneRepublic', \"Les P'tits Pierrots\", 'Arctic Monkeys', 'Modern Talking', 'Bruno Mars', 'Modern Talking', 'John Legend', 'Abhishek - Akshay, Ayushmann Khurrana', 'Pitbull, AFROJACK, Ne-Yo, Nayer', 'Lemon', 'Bruno Mars', 'Modern Talking', 'Milky Chance', 'Modern Talking', 'Hozier', 'Michael Jackson', 'Pitbull, Kesha', 'Paul Mealor, Tenebrae, Nigel Short', 'Adele', 'Revolver', 'David Guetta, Sia', 'Eva Cassidy', 'WALK THE MOON', 'Chicane, Tom Jones', 'Rihanna, Calvin Harris', 'Modern Talking', 'Adele', 'Specktors, Medina', 'Patrick Watson', 'Tech N9ne, Kendrick Lamar, ¡MAYDAY!, Kendall Morgan', 'Carly Rae Jepsen', 'Abel The Kid, Julio Iglesias Jr.', 'Lil Wayne, Drake', 'LINA, Emilio Moutaoukkil', 'Arctic Monkeys', 'Lemon', 'The Neighbourhood', 'Modern Talking', 'Bruno Mars', 'JayDee', 'Arctic Monkeys', 'Lemon', 'Bruno Mars', 'Kazik', 'Coldplay', 'Modern Talking', 'One Direction', 'Patrick Sébastien', 'Pitbull, AFROJACK, Ne-Yo, Nayer', 'Specktors, Medina', 'TV Girl', 'Abhishek - Akshay, Ayushmann Khurrana', 'The Walters', 'Modern Talking', 'Tom Odell', 'พงษ์สิทธิ์ คำภีร์', 'Arctic Monkeys', 'Modern Talking', 'OneRepublic', 'Tech N9ne, Kendrick Lamar, ¡MAYDAY!, Kendall Morgan', 'Avicii', 'Eminem', 'John Legend', 'Abel The Kid, Julio Iglesias Jr.', 'One Direction', 'Modern Talking', 'J. Cole', 'Lady Gaga', 'Miguel', 'Modern Talking', 'Frank Ocean', 'Evan Yo', 'Lana Del Rey', 'Sofa', 'Lil Wayne, Drake, Future', 'Eddie Murphy, Snoop Lion', 'WALK THE MOON', 'Revolver', 'Adele', 'Pezet, As', 'Arctic Monkeys', 'Abhishek - Akshay, Akshay Verma', 'Foster The People', 'Revolver', 'Tom Odell', 'Patrick Sébastien', 'The Neighbourhood', 'JayDee', 'Adele', 'Wally Lopez', 'Macklemore, Ryan Lewis, Macklemore & Ryan Lewis, Ray Dalton', 'Revolver', 'Hozier', 'Revolver', 'Coldplay', 'Modern Talking', 'Avicii', 'Lemon', 'Bruno Mars', 'พงษ์สิทธิ์ คำภีร์', 'John Legend', 'Modern Talking', 'David Guetta, Sia', 'Lemon', 'Bruno Mars', 'Modern Talking', 'Rihanna, Calvin Harris', 'Modern Talking', 'Arctic Monkeys', 'Carole Samaha', 'Wale, Sam Dew', 'Modern Talking', 'Pitbull, AFROJACK, Ne-Yo, Nayer', 'Abhishek - Akshay, Ayushmann Khurrana', 'Pitbull, Kesha', 'Shreya Ghoshal, Sachin', 'Imagine Dragons', \"Les P'tits Pierrots\", 'Adele', 'Abel The Kid, Julio Iglesias Jr.', 'Patrick Watson', 'John Sheppard, The Sixteen, Harry Christophers', 'OneRepublic', 'Kazik', 'Bruno Mars', 'Modern Talking', 'Bruno Mars', 'Mr.', 'Adele', 'Specktors, Medina', 'WALK THE MOON', 'Tech N9ne, Kendrick Lamar, ¡MAYDAY!, Kendall Morgan', 'Milky Chance', 'Eminem', 'Tom Odell', 'Patrick Sébastien', 'The Neighbourhood', 'Modern Talking', 'Coldplay', 'Revolver', 'Bruno Mars', 'Revolver', 'Arctic Monkeys', 'Modern Talking', 'Bruno Mars', 'Modern Talking', 'Avicii', 'Modern Talking', 'Wale, Sam Dew', 'Lemon', 'John Legend', 'JayDee', 'Macklemore, Ryan Lewis, Macklemore & Ryan Lewis, Ray Dalton', 'Lemon', 'OneRepublic', 'Kazik', 'Hozier', 'Modern Talking', 'Imagine Dragons', 'Mr.', 'Pitbull, AFROJACK, Ne-Yo, Nayer', 'Wally Lopez', 'Adele', 'Specktors, Medina', 'David Guetta, Sia', 'Abhishek - Akshay, Ayushmann Khurrana', 'Rihanna, Calvin Harris', 'พงษ์สิทธิ์ คำภีร์', 'Pitbull, Kesha', 'Tech N9ne, Kendrick Lamar, ¡MAYDAY!, Kendall Morgan', 'Kendrick Lamar, Jay Rock', 'Eminem', 'Adele', 'Abel The Kid, Julio Iglesias Jr.', 'WALK THE MOON', 'Modern Talking', 'Bruno Mars', 'Lady Gaga', 'Patrick Watson', 'Evan Yo', 'Bruno Mars', 'Sofa', 'J. Cole', 'Eddie Murphy, Snoop Lion', 'Racoon', 'JayDee', 'Wale, Sam Dew', 'Lemon', 'Tom Odell', 'Modern Talking', 'Adele', 'David Cavazos', 'Coldplay', 'Pulcino Pio', 'Bruno Mars', 'Like Moths To Flames', 'Bruno Mars', 'Wally Lopez', 'John Legend', 'Revolver', 'Avicii', 'Revolver', 'The Neighbourhood', 'Revolver', 'Adele', 'Jeet Gannguli, Arijit Singh', 'De Jeugd Van Tegenwoordig', 'Modern Talking', 'Hozier', 'Kazik', 'Pitbull, AFROJACK, Ne-Yo, Nayer', 'Mr.', 'Bruno Mars', 'Patrick Sébastien', 'WALK THE MOON', 'Modern Talking', 'Bruno Mars', 'Evan Yo', 'Pitbull, Kesha', 'Shreya Ghoshal, Sachin', 'OneRepublic', 'Modern Talking', 'George Ezra', 'Modern Talking', 'David Guetta, Sia', 'Abhishek - Akshay, Ayushmann Khurrana', 'Dotan', 'Abel The Kid, Julio Iglesias Jr.', 'Adele', 'Guus Meeuwis', 'Patrick Watson', 'Lemon', 'Arctic Monkeys', 'Kendrick Lamar'], 'pais': ['AT', 'AT', 'AT', 'AT', 'AT', 'AT', 'AT', 'AT', 'AT', 'AT', 'AT', 'AT', 'AT', 'AT', 'AT', 'AT', 'AT', 'AT', 'AT', 'AT', 'AT', 'AT', 'AT', 'AT', 'AT', 'AT', 'AT', 'AT', 'AT', 'AT', 'AT', 'AT', 'AT', 'AT', 'AT', 'AT', 'AT', 'AT', 'AT', 'AT', 'AT', 'AT', 'AT', 'AT', 'AT', 'AT', 'AT', 'AT', 'AT', 'AT', 'DE', 'DE', 'DE', 'DE', 'DE', 'DE', 'DE', 'DE', 'DE', 'DE', 'DE', 'DE', 'DE', 'DE', 'DE', 'DE', 'DE', 'DE', 'DE', 'DE', 'DE', 'DE', 'DE', 'DE', 'DE', 'DE', 'DE', 'DE', 'DE', 'DE', 'DE', 'DE', 'DE', 'DE', 'DE', 'DE', 'DE', 'DE', 'DE', 'DE', 'DE', 'DE', 'DE', 'DE', 'DE', 'DE', 'DE', 'DE', 'DE', 'DE', 'CH', 'CH', 'CH', 'CH', 'CH', 'CH', 'CH', 'CH', 'CH', 'CH', 'CH', 'CH', 'CH', 'CH', 'CH', 'CH', 'CH', 'CH', 'CH', 'CH', 'CH', 'CH', 'CH', 'CH', 'CH', 'CH', 'CH', 'CH', 'CH', 'CH', 'CH', 'CH', 'CH', 'CH', 'CH', 'CH', 'CH', 'CH', 'CH', 'CH', 'CH', 'CH', 'CH', 'CH', 'CH', 'CH', 'CH', 'CH', 'CH', 'CH', 'LI', 'LI', 'LI', 'LI', 'LI', 'LI', 'LI', 'LI', 'LI', 'LI', 'LI', 'LI', 'LI', 'LI', 'LI', 'LI', 'LI', 'LI', 'LI', 'LI', 'LI', 'LI', 'LI', 'LI', 'LI', 'LI', 'LI', 'LI', 'LI', 'LI', 'LI', 'LI', 'LI', 'LI', 'LI', 'LI', 'LI', 'LI', 'LI', 'LI', 'LI', 'LI', 'LI', 'LI', 'LI', 'LI', 'LI', 'LI', 'LI', 'LI', 'BE', 'BE', 'BE', 'BE', 'BE', 'BE', 'BE', 'BE', 'BE', 'BE', 'BE', 'BE', 'BE', 'BE', 'BE', 'BE', 'BE', 'BE', 'BE', 'BE', 'BE', 'BE', 'BE', 'BE', 'BE', 'BE', 'BE', 'BE', 'BE', 'BE', 'BE', 'BE', 'BE', 'BE', 'BE', 'BE', 'BE', 'BE', 'BE', 'BE', 'BE', 'BE', 'BE', 'BE', 'BE', 'BE', 'BE', 'BE', 'BE', 'BE', 'LU', 'LU', 'LU', 'LU', 'LU', 'LU', 'LU', 'LU', 'LU', 'LU', 'LU', 'LU', 'LU', 'LU', 'LU', 'LU', 'LU', 'LU', 'LU', 'LU', 'LU', 'LU', 'LU', 'LU', 'LU', 'LU', 'LU', 'LU', 'LU', 'LU', 'LU', 'LU', 'LU', 'LU', 'LU', 'LU', 'LU', 'LU', 'LU', 'LU', 'LU', 'LU', 'LU', 'LU', 'LU', 'LU', 'LU', 'LU', 'LU', 'LU', 'NL', 'NL', 'NL', 'NL', 'NL', 'NL', 'NL', 'NL', 'NL', 'NL', 'NL', 'NL', 'NL', 'NL', 'NL', 'NL', 'NL', 'NL', 'NL', 'NL', 'NL', 'NL', 'NL', 'NL', 'NL', 'NL', 'NL', 'NL', 'NL', 'NL', 'NL', 'NL', 'NL', 'NL', 'NL', 'NL', 'NL', 'NL', 'NL', 'NL', 'NL', 'NL', 'NL', 'NL', 'NL', 'NL', 'NL', 'NL', 'NL', 'NL'], 'genero': []}\n"
     ]
    }
   ],
   "source": [
    "print(datos_paises_europa_central)"
   ]
  },
  {
   "cell_type": "code",
   "execution_count": 15,
   "metadata": {},
   "outputs": [],
   "source": [
    "import pandas as pd"
   ]
  },
  {
   "cell_type": "code",
   "execution_count": 16,
   "metadata": {},
   "outputs": [],
   "source": [
    "import requests"
   ]
  },
  {
   "cell_type": "code",
   "execution_count": 17,
   "metadata": {},
   "outputs": [],
   "source": [
    "# Coloca tus credenciales de lastfm aquí\n",
    "CLIENT_ID = ''\n",
    "API_KEY = '11c5e60a4dfdfb5041552fadd375d31e'\n",
    "\n",
    "last_fm_connect = requests.get(f\"http://www.last.fm/api/auth/?api_key={API_KEY}\")"
   ]
  },
  {
   "cell_type": "code",
   "execution_count": 18,
   "metadata": {},
   "outputs": [],
   "source": [
    "test_2 = requests.get(f\"https://ws.audioscrobbler.com/2.0/?method=track.gettoptags&artist=Sasha&track=here+she+comes+again&api_key={API_KEY}&autocorrect=1&format=json\")"
   ]
  },
  {
   "cell_type": "code",
   "execution_count": 19,
   "metadata": {},
   "outputs": [
    {
     "data": {
      "text/plain": [
       "'pop'"
      ]
     },
     "execution_count": 19,
     "metadata": {},
     "output_type": "execute_result"
    }
   ],
   "source": [
    "test_2.json()['toptags']['tag'][0]['name'] "
   ]
  },
  {
   "cell_type": "code",
   "execution_count": 21,
   "metadata": {},
   "outputs": [],
   "source": [
    "lista_nombres_paises_europa_central = list(datos_paises_europa_central.values())[0]\n",
    "lista_artistas_paises_europa_central = list(datos_paises_europa_central.values())[2]"
   ]
  },
  {
   "cell_type": "code",
   "execution_count": 22,
   "metadata": {},
   "outputs": [
    {
     "data": {
      "text/plain": [
       "'Sweater Weather'"
      ]
     },
     "execution_count": 22,
     "metadata": {},
     "output_type": "execute_result"
    }
   ],
   "source": [
    "lista_nombres_paises_europa_central[0]"
   ]
  },
  {
   "cell_type": "code",
   "execution_count": 23,
   "metadata": {},
   "outputs": [
    {
     "data": {
      "text/plain": [
       "'The Neighbourhood'"
      ]
     },
     "execution_count": 23,
     "metadata": {},
     "output_type": "execute_result"
    }
   ],
   "source": [
    "lista_artistas_paises_europa_central[0]"
   ]
  },
  {
   "cell_type": "code",
   "execution_count": 24,
   "metadata": {},
   "outputs": [],
   "source": [
    "def llamada_lastfm(lista_nombres, lista_artistas,datos):\n",
    "    for i in range(len(lista_nombres)):\n",
    "        nombre = str(lista_nombres[i]).replace(' ', '+')\n",
    "        artista = lista_artistas[i].replace(' ', '+').replace(',', '+&')\n",
    "        llamada_genero = requests.get(f\"https://ws.audioscrobbler.com/2.0/?method=track.gettoptags&artist={artista}&track={nombre}&api_key={API_KEY}&autocorrect=1&format=json\")\n",
    "        try:\n",
    "            genero_cancion = llamada_genero.json()['toptags']['tag'][0]['name']\n",
    "            datos['genero'].append(genero_cancion)\n",
    "        except KeyError:\n",
    "            datos['genero'].append(\"NULL\")\n",
    "            print(f\"La canción {lista_nombres[i]} no está registrada en lastfm\")\n",
    "            \n",
    "        except IndexError:\n",
    "            datos['genero'].append(\"NULL\")\n",
    "            print(f\"La canción {lista_nombres[i]} no tiene tags\")"
   ]
  },
  {
   "cell_type": "code",
   "execution_count": 25,
   "metadata": {},
   "outputs": [
    {
     "name": "stdout",
     "output_type": "stream",
     "text": [
      "La canción Hazey - Live no está registrada en lastfm\n",
      "La canción Cheri Cheri Lady (Peters Pop-Show 30.11.1985) - Live from Peters Pop Show, 1985 no está registrada en lastfm\n",
      "La canción LoveHate Thing (feat. Sam Dew) no está registrada en lastfm\n",
      "La canción Smile no está registrada en lastfm\n",
      "La canción Danza Kuduro no está registrada en lastfm\n",
      "La canción Plastic Dreams 2003 no tiene tags\n",
      "La canción Geronimo's Cadillac (Peters Pop-Show 06.12.1986) - Live from Peters Pop-Show, 1986 no está registrada en lastfm\n",
      "La canción Give Me Everything (feat. Nayer) no está registrada en lastfm\n",
      "La canción You Can Win If You Want (Wetten, dass...? 18.05.1985) - Live from Wetten, dass...?, 1985 no está registrada en lastfm\n",
      "La canción Can't Hold Us (feat. Ray Dalton) no está registrada en lastfm\n",
      "La canción Atlantis Is Calling (Na, sowas! 17.05.1986) - Live from Na, sowas!, 1986 no está registrada en lastfm\n",
      "La canción Timber no está registrada en lastfm\n",
      "La canción Bede Z Toba - Hangout Live no tiene tags\n",
      "La canción Byłem (feat. As) no está registrada en lastfm\n",
      "La canción Pani Da Rang (From \"Vicky Donor\") - Male Vocals no está registrada en lastfm\n",
      "La canción Heaven Will Know (Peters Pop-Show 30.11.1985) - Live from Peters Pop Show, 1985 no está registrada en lastfm\n",
      "La canción La La La no está registrada en lastfm\n",
      "La canción Bede Z Toba no tiene tags\n",
      "La canción You Are Not Alone (Wetten, dass...? 20.02.1999) - Live from Wetten, dass...?, 1999 no está registrada en lastfm\n",
      "La canción Lågsus (feat. Medina) no está registrada en lastfm\n",
      "La canción We Found Love no está registrada en lastfm\n",
      "La canción 25 ปี (มีหวัง) no tiene tags\n",
      "La canción Fragile (Director's Cut) no está registrada en lastfm\n",
      "La canción The Real Slim Shady - Edited no tiene tags\n",
      "La canción No Risk, No Fun no está registrada en lastfm\n",
      "La canción Samba Pras Moças no tiene tags\n",
      "La canción Titanium (feat. Sia) no está registrada en lastfm\n",
      "La canción LoveHate Thing (feat. Sam Dew) no está registrada en lastfm\n",
      "La canción Plastic Dreams 2003 no tiene tags\n",
      "La canción Cheri Cheri Lady (Peters Pop-Show 30.11.1985) - Live from Peters Pop Show, 1985 no está registrada en lastfm\n",
      "La canción You Can Win If You Want (Wetten, dass...? 18.05.1985) - Live from Wetten, dass...?, 1985 no está registrada en lastfm\n",
      "La canción Kölsche Jung - Party Edit no tiene tags\n",
      "La canción Fragile (Director's Cut) no está registrada en lastfm\n",
      "La canción Give Me Everything (feat. Nayer) no está registrada en lastfm\n",
      "La canción Bede Z Toba no tiene tags\n",
      "La canción Danza Kuduro no está registrada en lastfm\n",
      "La canción No Risk, No Fun no está registrada en lastfm\n",
      "La canción Et jitt kei Wood no tiene tags\n",
      "La canción Bede Z Toba - Hangout Live no tiene tags\n",
      "La canción La La La no está registrada en lastfm\n",
      "La canción Samba Pras Moças no tiene tags\n",
      "La canción Timber no está registrada en lastfm\n",
      "La canción Geronimo's Cadillac (Peters Pop-Show 06.12.1986) - Live from Peters Pop-Show, 1986 no está registrada en lastfm\n",
      "La canción Kruhy no está registrada en lastfm\n",
      "La canción Cloud 9 - From \"Cloud 9\" / Original TV Movie Soundtrack no está registrada en lastfm\n",
      "La canción Verlieben, verloren, vergessen, verzeih'n (ZDF Hitparade 30.01.1992) - VOD no está registrada en lastfm\n",
      "La canción All By Myself (ZDF Tele-Illustrierte 17.01.1989) - VOD no está registrada en lastfm\n",
      "La canción Atlantis Is Calling (Na, sowas! 17.05.1986) - Live from Na, sowas!, 1986 no está registrada en lastfm\n",
      "La canción The Real Slim Shady - Edited no tiene tags\n",
      "La canción DJ Got Us Fallin' In Love (feat. Pitbull) no está registrada en lastfm\n",
      "La canción We Found Love no está registrada en lastfm\n",
      "La canción Red Light (feat. Snoop Lion) no está registrada en lastfm\n",
      "La canción Die Zeit hält nur in Träumen an (Song) no está registrada en lastfm\n",
      "La canción Mona Lisa (ZDF Länderjournal 25.10.1991) - VOD no está registrada en lastfm\n",
      "La canción Can't Hold Us (feat. Ray Dalton) no está registrada en lastfm\n",
      "La canción Guiding Light no está registrada en lastfm\n",
      "La canción Muskurane (Film Version) [From \"Citylights\"] no está registrada en lastfm\n",
      "La canción Heaven Will Know (Peters Pop-Show 30.11.1985) - Live from Peters Pop Show, 1985 no está registrada en lastfm\n",
      "La canción Can't Hold Us (feat. Ray Dalton) no está registrada en lastfm\n",
      "La canción Plastic Dreams 2003 no tiene tags\n",
      "La canción The Real Slim Shady - Edited no tiene tags\n",
      "La canción LoveHate Thing (feat. Sam Dew) no está registrada en lastfm\n",
      "La canción Cheri Cheri Lady (Peters Pop-Show 30.11.1985) - Live from Peters Pop Show, 1985 no está registrada en lastfm\n",
      "La canción Bede Z Toba - Hangout Live no tiene tags\n",
      "La canción La La La no está registrada en lastfm\n",
      "La canción 25 ปี (มีหวัง) no tiene tags\n",
      "La canción La Cage aux oiseaux no tiene tags\n",
      "La canción Geronimo's Cadillac (Peters Pop-Show 06.12.1986) - Live from Peters Pop-Show, 1986 no está registrada en lastfm\n",
      "La canción Atlantis Is Calling (Na, sowas! 17.05.1986) - Live from Na, sowas!, 1986 no está registrada en lastfm\n",
      "La canción Pani Da Rang (From \"Vicky Donor\") - Male Vocals no está registrada en lastfm\n",
      "La canción Give Me Everything (feat. Nayer) no está registrada en lastfm\n",
      "La canción Bede Z Toba no tiene tags\n",
      "La canción Heaven Will Know (Peters Pop-Show 30.11.1985) - Live from Peters Pop Show, 1985 no está registrada en lastfm\n",
      "La canción You Can Win If You Want (Wetten, dass...? 18.05.1985) - Live from Wetten, dass...?, 1985 no está registrada en lastfm\n",
      "La canción Timber no está registrada en lastfm\n",
      "La canción Mealor: Peace no está registrada en lastfm\n",
      "La canción Titanium (feat. Sia) no está registrada en lastfm\n",
      "La canción You've Changed - Live at Blues Alley, January 1996 no está registrada en lastfm\n",
      "La canción Stoned In Love no está registrada en lastfm\n",
      "La canción We Found Love no está registrada en lastfm\n",
      "La canción You Are Not Alone (Wetten, dass...? 20.02.1999) - Live from Wetten, dass...?, 1999 no está registrada en lastfm\n",
      "La canción Lågsus (feat. Medina) no está registrada en lastfm\n",
      "La canción Fragile (Director's Cut) no está registrada en lastfm\n",
      "La canción Smile no está registrada en lastfm\n",
      "La canción She Will no está registrada en lastfm\n",
      "La canción No Risk, No Fun no está registrada en lastfm\n",
      "La canción Bede Z Toba no tiene tags\n",
      "La canción Cheri Cheri Lady (Peters Pop-Show 30.11.1985) - Live from Peters Pop Show, 1985 no está registrada en lastfm\n",
      "La canción Plastic Dreams 2003 no tiene tags\n",
      "La canción Bede Z Toba - Hangout Live no tiene tags\n",
      "La canción You Are Not Alone (Wetten, dass...? 20.02.1999) - Live from Wetten, dass...?, 1999 no está registrada en lastfm\n",
      "La canción Give Me Everything (feat. Nayer) no está registrada en lastfm\n",
      "La canción Lågsus (feat. Medina) no está registrada en lastfm\n",
      "La canción Pani Da Rang (From \"Vicky Donor\") - Male Vocals no está registrada en lastfm\n",
      "La canción You Can Win If You Want (Wetten, dass...? 18.05.1985) - Live from Wetten, dass...?, 1985 no está registrada en lastfm\n",
      "La canción 25 ปี (มีหวัง) no tiene tags\n",
      "La canción Geronimo's Cadillac (Peters Pop-Show 06.12.1986) - Live from Peters Pop-Show, 1986 no está registrada en lastfm\n",
      "La canción Fragile (Director's Cut) no está registrada en lastfm\n",
      "La canción The Real Slim Shady - Edited no tiene tags\n",
      "La canción Smile no está registrada en lastfm\n",
      "La canción Atlantis Is Calling (Na, sowas! 17.05.1986) - Live from Na, sowas!, 1986 no está registrada en lastfm\n",
      "La canción Heaven Will Know (Peters Pop-Show 30.11.1985) - Live from Peters Pop Show, 1985 no está registrada en lastfm\n",
      "La canción Love Me no está registrada en lastfm\n",
      "La canción Red Light (feat. Snoop Lion) no está registrada en lastfm\n",
      "La canción Byłem (feat. As) no está registrada en lastfm\n",
      "La canción Rum Whisky (From \"Vicky Donor\") no está registrada en lastfm\n",
      "La canción Plastic Dreams 2003 no tiene tags\n",
      "La canción Now Is the Time (feat. Jasmine V) no tiene tags\n",
      "La canción Can't Hold Us (feat. Ray Dalton) no está registrada en lastfm\n",
      "La canción Cheri Cheri Lady (Peters Pop-Show 30.11.1985) - Live from Peters Pop Show, 1985 no está registrada en lastfm\n",
      "La canción Bede Z Toba no tiene tags\n",
      "La canción 25 ปี (มีหวัง) no tiene tags\n",
      "La canción Atlantis Is Calling (Na, sowas! 17.05.1986) - Live from Na, sowas!, 1986 no está registrada en lastfm\n",
      "La canción Titanium (feat. Sia) no está registrada en lastfm\n",
      "La canción Bede Z Toba - Hangout Live no tiene tags\n",
      "La canción Heaven Will Know (Peters Pop-Show 30.11.1985) - Live from Peters Pop Show, 1985 no está registrada en lastfm\n",
      "La canción We Found Love no está registrada en lastfm\n",
      "La canción You Can Win If You Want (Wetten, dass...? 18.05.1985) - Live from Wetten, dass...?, 1985 no está registrada en lastfm\n",
      "La canción Ehssas no tiene tags\n",
      "La canción LoveHate Thing (feat. Sam Dew) no está registrada en lastfm\n",
      "La canción Geronimo's Cadillac (Peters Pop-Show 06.12.1986) - Live from Peters Pop-Show, 1986 no está registrada en lastfm\n",
      "La canción Give Me Everything (feat. Nayer) no está registrada en lastfm\n",
      "La canción Pani Da Rang (From \"Vicky Donor\") - Male Vocals no está registrada en lastfm\n",
      "La canción Timber no está registrada en lastfm\n",
      "La canción Thoda Thoda no está registrada en lastfm\n",
      "La canción La Cage aux oiseaux no tiene tags\n",
      "La canción Smile no está registrada en lastfm\n",
      "La canción Libera Nos no está registrada en lastfm\n",
      "La canción You Are Not Alone (Wetten, dass...? 20.02.1999) - Live from Wetten, dass...?, 1999 no está registrada en lastfm\n",
      "La canción Iré tras de ti no está registrada en lastfm\n",
      "La canción Lågsus (feat. Medina) no está registrada en lastfm\n",
      "La canción Fragile (Director's Cut) no está registrada en lastfm\n",
      "La canción The Real Slim Shady - Edited no tiene tags\n",
      "La canción Cheri Cheri Lady (Peters Pop-Show 30.11.1985) - Live from Peters Pop Show, 1985 no está registrada en lastfm\n",
      "La canción You Can Win If You Want (Wetten, dass...? 18.05.1985) - Live from Wetten, dass...?, 1985 no está registrada en lastfm\n",
      "La canción Heaven Will Know (Peters Pop-Show 30.11.1985) - Live from Peters Pop Show, 1985 no está registrada en lastfm\n",
      "La canción Geronimo's Cadillac (Peters Pop-Show 06.12.1986) - Live from Peters Pop-Show, 1986 no está registrada en lastfm\n",
      "La canción LoveHate Thing (feat. Sam Dew) no está registrada en lastfm\n",
      "La canción Bede Z Toba no tiene tags\n",
      "La canción Plastic Dreams 2003 no tiene tags\n",
      "La canción Can't Hold Us (feat. Ray Dalton) no está registrada en lastfm\n",
      "La canción Bede Z Toba - Hangout Live no tiene tags\n",
      "La canción You Are Not Alone (Wetten, dass...? 20.02.1999) - Live from Wetten, dass...?, 1999 no está registrada en lastfm\n",
      "La canción Iré tras de ti no está registrada en lastfm\n",
      "La canción Give Me Everything (feat. Nayer) no está registrada en lastfm\n",
      "La canción Now Is the Time (feat. Jasmine V) no tiene tags\n",
      "La canción Lågsus (feat. Medina) no está registrada en lastfm\n",
      "La canción Titanium (feat. Sia) no está registrada en lastfm\n",
      "La canción Pani Da Rang (From \"Vicky Donor\") - Male Vocals no está registrada en lastfm\n",
      "La canción We Found Love no está registrada en lastfm\n",
      "La canción 25 ปี (มีหวัง) no tiene tags\n",
      "La canción Timber no está registrada en lastfm\n",
      "La canción Fragile (Director's Cut) no está registrada en lastfm\n",
      "La canción Money Trees no está registrada en lastfm\n",
      "La canción The Real Slim Shady - Edited no tiene tags\n",
      "La canción Smile no está registrada en lastfm\n",
      "La canción Atlantis Is Calling (Na, sowas! 17.05.1986) - Live from Na, sowas!, 1986 no está registrada en lastfm\n",
      "La canción Red Light (feat. Snoop Lion) no está registrada en lastfm\n",
      "La canción Plastic Dreams 2003 no tiene tags\n",
      "La canción LoveHate Thing (feat. Sam Dew) no está registrada en lastfm\n",
      "La canción Bede Z Toba no tiene tags\n",
      "La canción Cheri Cheri Lady (Peters Pop-Show 30.11.1985) - Live from Peters Pop Show, 1985 no está registrada en lastfm\n",
      "La canción ¿Qué sería? no está registrada en lastfm\n",
      "La canción Het Kuikentje Piep no tiene tags\n",
      "La canción When We Don't Exist Reissue (Learn Your Place) no está registrada en lastfm\n",
      "La canción Now Is the Time (feat. Jasmine V) no tiene tags\n",
      "La canción Tú y yo - Enjoy no está registrada en lastfm\n",
      "La canción Es lo que es, hay lo que hay - Enjoy no está registrada en lastfm\n",
      "La canción No va más - Enjoy no está registrada en lastfm\n",
      "La canción Muskurane (Film Version) [From \"Citylights\"] no está registrada en lastfm\n",
      "La canción You Can Win If You Want (Wetten, dass...? 18.05.1985) - Live from Wetten, dass...?, 1985 no está registrada en lastfm\n",
      "La canción Give Me Everything (feat. Nayer) no está registrada en lastfm\n",
      "La canción Iré tras de ti no está registrada en lastfm\n",
      "La canción Atlantis Is Calling (Na, sowas! 17.05.1986) - Live from Na, sowas!, 1986 no está registrada en lastfm\n",
      "La canción Timber no está registrada en lastfm\n",
      "La canción Thoda Thoda no está registrada en lastfm\n",
      "La canción Geronimo's Cadillac (Peters Pop-Show 06.12.1986) - Live from Peters Pop-Show, 1986 no está registrada en lastfm\n",
      "La canción Heaven Will Know (Peters Pop-Show 30.11.1985) - Live from Peters Pop Show, 1985 no está registrada en lastfm\n",
      "La canción Titanium (feat. Sia) no está registrada en lastfm\n",
      "La canción Pani Da Rang (From \"Vicky Donor\") - Male Vocals no está registrada en lastfm\n",
      "La canción My Love a Piece of My Love (feat. Snoop Dogg) no está registrada en lastfm\n",
      "La canción Bede Z Toba - Hangout Live no tiene tags\n",
      "La canción Sing About Me, I'm Dying Of Thirst - Part 1 no tiene tags\n"
     ]
    }
   ],
   "source": [
    "llamada_lastfm(lista_nombres_paises_europa_central, lista_artistas_paises_europa_central,datos_paises_europa_central)"
   ]
  },
  {
   "cell_type": "code",
   "execution_count": 26,
   "metadata": {},
   "outputs": [],
   "source": [
    "import pandas as pd"
   ]
  },
  {
   "cell_type": "code",
   "execution_count": 27,
   "metadata": {},
   "outputs": [],
   "source": [
    "CANCIONES_2010_2014_PAISES_EUROPA_CENTRAL_DF = pd.DataFrame(datos_paises_europa_central)"
   ]
  },
  {
   "cell_type": "code",
   "execution_count": 28,
   "metadata": {},
   "outputs": [
    {
     "data": {
      "text/html": [
       "<div>\n",
       "<style scoped>\n",
       "    .dataframe tbody tr th:only-of-type {\n",
       "        vertical-align: middle;\n",
       "    }\n",
       "\n",
       "    .dataframe tbody tr th {\n",
       "        vertical-align: top;\n",
       "    }\n",
       "\n",
       "    .dataframe thead th {\n",
       "        text-align: right;\n",
       "    }\n",
       "</style>\n",
       "<table border=\"1\" class=\"dataframe\">\n",
       "  <thead>\n",
       "    <tr style=\"text-align: right;\">\n",
       "      <th></th>\n",
       "      <th>nombre</th>\n",
       "      <th>popularity</th>\n",
       "      <th>artista</th>\n",
       "      <th>pais</th>\n",
       "      <th>genero</th>\n",
       "    </tr>\n",
       "  </thead>\n",
       "  <tbody>\n",
       "    <tr>\n",
       "      <th>0</th>\n",
       "      <td>Sweater Weather</td>\n",
       "      <td>85</td>\n",
       "      <td>The Neighbourhood</td>\n",
       "      <td>AT</td>\n",
       "      <td>indie</td>\n",
       "    </tr>\n",
       "    <tr>\n",
       "      <th>1</th>\n",
       "      <td>Hazey - Live</td>\n",
       "      <td>0</td>\n",
       "      <td>Glass Animals</td>\n",
       "      <td>AT</td>\n",
       "      <td>NULL</td>\n",
       "    </tr>\n",
       "    <tr>\n",
       "      <th>2</th>\n",
       "      <td>Another Love</td>\n",
       "      <td>82</td>\n",
       "      <td>Tom Odell</td>\n",
       "      <td>AT</td>\n",
       "      <td>indie</td>\n",
       "    </tr>\n",
       "    <tr>\n",
       "      <th>3</th>\n",
       "      <td>Cheri Cheri Lady (Peters Pop-Show 30.11.1985) ...</td>\n",
       "      <td>2</td>\n",
       "      <td>Modern Talking</td>\n",
       "      <td>AT</td>\n",
       "      <td>NULL</td>\n",
       "    </tr>\n",
       "    <tr>\n",
       "      <th>4</th>\n",
       "      <td>LoveHate Thing (feat. Sam Dew)</td>\n",
       "      <td>76</td>\n",
       "      <td>Wale, Sam Dew</td>\n",
       "      <td>AT</td>\n",
       "      <td>NULL</td>\n",
       "    </tr>\n",
       "    <tr>\n",
       "      <th>...</th>\n",
       "      <td>...</td>\n",
       "      <td>...</td>\n",
       "      <td>...</td>\n",
       "      <td>...</td>\n",
       "      <td>...</td>\n",
       "    </tr>\n",
       "    <tr>\n",
       "      <th>345</th>\n",
       "      <td>Wees Maar Niet Bang</td>\n",
       "      <td>0</td>\n",
       "      <td>Guus Meeuwis</td>\n",
       "      <td>NL</td>\n",
       "      <td>Nederpop</td>\n",
       "    </tr>\n",
       "    <tr>\n",
       "      <th>346</th>\n",
       "      <td>Je te laisserai des mots</td>\n",
       "      <td>78</td>\n",
       "      <td>Patrick Watson</td>\n",
       "      <td>NL</td>\n",
       "      <td>french</td>\n",
       "    </tr>\n",
       "    <tr>\n",
       "      <th>347</th>\n",
       "      <td>Bede Z Toba - Hangout Live</td>\n",
       "      <td>2</td>\n",
       "      <td>Lemon</td>\n",
       "      <td>NL</td>\n",
       "      <td>NULL</td>\n",
       "    </tr>\n",
       "    <tr>\n",
       "      <th>348</th>\n",
       "      <td>I Wanna Be Yours</td>\n",
       "      <td>86</td>\n",
       "      <td>Arctic Monkeys</td>\n",
       "      <td>NL</td>\n",
       "      <td>indie rock</td>\n",
       "    </tr>\n",
       "    <tr>\n",
       "      <th>349</th>\n",
       "      <td>Sing About Me, I'm Dying Of Thirst - Part 1</td>\n",
       "      <td>0</td>\n",
       "      <td>Kendrick Lamar</td>\n",
       "      <td>NL</td>\n",
       "      <td>NULL</td>\n",
       "    </tr>\n",
       "  </tbody>\n",
       "</table>\n",
       "<p>350 rows × 5 columns</p>\n",
       "</div>"
      ],
      "text/plain": [
       "                                                nombre  popularity  \\\n",
       "0                                      Sweater Weather          85   \n",
       "1                                         Hazey - Live           0   \n",
       "2                                         Another Love          82   \n",
       "3    Cheri Cheri Lady (Peters Pop-Show 30.11.1985) ...           2   \n",
       "4                       LoveHate Thing (feat. Sam Dew)          76   \n",
       "..                                                 ...         ...   \n",
       "345                                Wees Maar Niet Bang           0   \n",
       "346                           Je te laisserai des mots          78   \n",
       "347                         Bede Z Toba - Hangout Live           2   \n",
       "348                                   I Wanna Be Yours          86   \n",
       "349        Sing About Me, I'm Dying Of Thirst - Part 1           0   \n",
       "\n",
       "               artista pais      genero  \n",
       "0    The Neighbourhood   AT       indie  \n",
       "1        Glass Animals   AT        NULL  \n",
       "2            Tom Odell   AT       indie  \n",
       "3       Modern Talking   AT        NULL  \n",
       "4        Wale, Sam Dew   AT        NULL  \n",
       "..                 ...  ...         ...  \n",
       "345       Guus Meeuwis   NL    Nederpop  \n",
       "346     Patrick Watson   NL      french  \n",
       "347              Lemon   NL        NULL  \n",
       "348     Arctic Monkeys   NL  indie rock  \n",
       "349     Kendrick Lamar   NL        NULL  \n",
       "\n",
       "[350 rows x 5 columns]"
      ]
     },
     "execution_count": 28,
     "metadata": {},
     "output_type": "execute_result"
    }
   ],
   "source": [
    "CANCIONES_2010_2014_PAISES_EUROPA_CENTRAL_DF"
   ]
  },
  {
   "cell_type": "code",
   "execution_count": 29,
   "metadata": {},
   "outputs": [],
   "source": [
    "CANCIONES_2010_2014_PAISES_EUROPA_CENTRAL_DF.to_csv(\"Paises_europa_central-2010-2014.csv\")"
   ]
  }
 ],
 "metadata": {
  "kernelspec": {
   "display_name": "base",
   "language": "python",
   "name": "python3"
  },
  "language_info": {
   "codemirror_mode": {
    "name": "ipython",
    "version": 3
   },
   "file_extension": ".py",
   "mimetype": "text/x-python",
   "name": "python",
   "nbconvert_exporter": "python",
   "pygments_lexer": "ipython3",
   "version": "3.12.7"
  }
 },
 "nbformat": 4,
 "nbformat_minor": 2
}
