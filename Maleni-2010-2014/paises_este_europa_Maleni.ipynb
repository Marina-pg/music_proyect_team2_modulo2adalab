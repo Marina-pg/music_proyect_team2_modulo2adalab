{
 "cells": [
  {
   "cell_type": "code",
   "execution_count": 3,
   "metadata": {},
   "outputs": [],
   "source": [
    "import spotipy\n",
    "\n",
    "from spotipy.oauth2 import SpotifyClientCredentials"
   ]
  },
  {
   "cell_type": "code",
   "execution_count": 4,
   "metadata": {},
   "outputs": [],
   "source": [
    "# Coloca tus credenciales aquí\n",
    "CLIENT_ID = \"ab80ec144a1147ff8e7d16a6209e1268\"\n",
    "CLIENT_SECRET = \"a59b22d834b94af293d6cac49c6548ba\"\n",
    "# Autenticación\n",
    "auth_manager = SpotifyClientCredentials(client_id=CLIENT_ID, client_secret=CLIENT_SECRET)\n",
    "sp = spotipy.Spotify(auth_manager=auth_manager)"
   ]
  },
  {
   "cell_type": "code",
   "execution_count": 5,
   "metadata": {},
   "outputs": [],
   "source": [
    "paises_mediterraneos = {\n",
    "    \"ES\": \"España\",\n",
    "    \"FR\": \"Francia\",\n",
    "    \"MC\": \"Mónaco\",\n",
    "    \"IT\": \"Italia\",\n",
    "    \"SI\": \"Eslovenia\",\n",
    "    \"HR\": \"Croacia\",\n",
    "    \"BA\": \"Bosnia y Herzegovina\",\n",
    "    \"ME\": \"Montenegro\",\n",
    "    \"AL\": \"Albania\",\n",
    "    \"GR\": \"Grecia\",\n",
    "    \"MT\": \"Malta\",\n",
    "    \"CY\": \"Chipre\"}\n",
    "paises_este_europa = {\n",
    "    \"BY\": \"Bielorrusia\",\n",
    "    \"BG\": \"Bulgaria\",\n",
    "    \"CZ\": \"Chequia\",\n",
    "    \"SK\": \"Eslovaquia\",\n",
    "    \"HU\": \"Hungría\",\n",
    "    \"MD\": \"Moldavia\",\n",
    "    \"PL\": \"Polonia\",\n",
    "    \"RO\": \"Rumanía\",\n",
    "    \"UA\": \"Ucrania\"}\n",
    "paises_norte_europa = {\n",
    "    \"DK\": \"Dinamarca\",\n",
    "    \"EE\": \"Estonia\",\n",
    "    \"FI\": \"Finlandia\",\n",
    "    \"IS\": \"Islandia\",\n",
    "    \"IE\": \"Irlanda\",\n",
    "    \"LT\": \"Lituania\",\n",
    "    \"LV\": \"Letonia\",\n",
    "    \"NO\": \"Noruega\",\n",
    "    \"SE\": \"Suecia\",\n",
    "    \"GB\": \"Reino Unido\"}\n",
    "paises_europa_central = {\n",
    "    \"AT\": \"Austria\",\n",
    "    \"DE\": \"Alemania\",\n",
    "    \"CH\": \"Suiza\",\n",
    "    \"LI\": \"Liechtenstein\",\n",
    "    \"BE\": \"Bélgica\",\n",
    "    \"LU\": \"Luxemburgo\",\n",
    "    \"NL\": \"Países Bajos\"}"
   ]
  },
  {
   "cell_type": "code",
   "execution_count": 6,
   "metadata": {},
   "outputs": [],
   "source": [
    "datos_rango = sp.search(q = \"year:2010-2014\", limit=50, offset=0, type='track', market=\"ES\")"
   ]
  },
  {
   "cell_type": "code",
   "execution_count": 7,
   "metadata": {},
   "outputs": [],
   "source": [
    "def extraccion_por_paises(diccionario_zonas, años):\n",
    "    todos_los_datos = [] # Esto es una lista de dicts donde se van guardando los diccionarios de cada país\n",
    "    for pais in diccionario_zonas.keys():\n",
    "        datos_rango = sp.search(q = f'year:{años}', limit=50, offset=0, type='track', market={pais}) # Cada una tiene que cambiar en q el rango de años\n",
    "        datos_por_pais = {}\n",
    "        datos_por_pais['pais'] = pais\n",
    "        datos_por_pais['datos'] = datos_rango\n",
    "        todos_los_datos.append(datos_por_pais)\n",
    "    return todos_los_datos"
   ]
  },
  {
   "cell_type": "code",
   "execution_count": 8,
   "metadata": {},
   "outputs": [],
   "source": [
    "paises_este_europa = extraccion_por_paises(paises_este_europa, \"2010-2014\")"
   ]
  },
  {
   "cell_type": "code",
   "execution_count": 9,
   "metadata": {},
   "outputs": [],
   "source": [
    "prueba = {'nombre': [], 'popularity': [], 'artista': [], 'pais': [], 'genero': []}"
   ]
  },
  {
   "cell_type": "code",
   "execution_count": 15,
   "metadata": {},
   "outputs": [],
   "source": [
    "datos_paises_este_europa = {'nombre': [], 'popularity': [], 'artista': [], 'pais': [], 'genero': []}"
   ]
  },
  {
   "cell_type": "code",
   "execution_count": 16,
   "metadata": {},
   "outputs": [],
   "source": [
    "for datos_pais in paises_este_europa:\n",
    "    for element in datos_pais['datos']['tracks']['items']:\n",
    "        prueba['pais'].append(datos_pais['pais'])\n",
    "        prueba['popularity'].append(element['popularity'])\n",
    "        prueba['nombre'].append(element['name'])\n",
    "        artistas = []\n",
    "        for artista in element['artists']:\n",
    "            artistas.append(artista['name'])   \n",
    "        artistas_str = ', '.join(artistas)\n",
    "        prueba['artista'].append(artistas_str)"
   ]
  },
  {
   "cell_type": "code",
   "execution_count": 17,
   "metadata": {},
   "outputs": [
    {
     "name": "stdout",
     "output_type": "stream",
     "text": [
      "{'nombre': ['Жить в кайф', 'Cheri Cheri Lady (Peters Pop-Show 30.11.1985) - Live from Peters Pop Show, 1985', 'Стань', 'You Are Not Alone (Wetten, dass...? 20.02.1999) - Live from Wetten, dass...?, 1999', 'Батареи', 'Pani Da Rang (From \"Vicky Donor\") - Male Vocals', 'Эндорфин', 'You Can Win If You Want (Wetten, dass...? 18.05.1985) - Live from Wetten, dass...?, 1985', 'Нервы', \"Geronimo's Cadillac (Peters Pop-Show 06.12.1986) - Live from Peters Pop-Show, 1986\", 'Обломки чувств', \"Fragile (Director's Cut)\", 'О Yeah', 'The Real Slim Shady - Edited', 'Black Siemens', 'Atlantis Is Calling (Na, sowas! 17.05.1986) - Live from Na, sowas!, 1986', 'Вселенная бесконечна?', 'G.U.Y. - An ARTPOP Film', 'Sweater Weather', 'Heaven Will Know (Peters Pop-Show 30.11.1985) - Live from Peters Pop Show, 1985', 'Мотылёк', 'Red Light (feat. Snoop Lion)', 'Где твоя любовь?', 'Rum Whisky (From \"Vicky Donor\")', 'Все мои друзья', 'Muskurane (Film Version) [From \"Citylights\"]', 'Маленький', 'Eu Aposto - Ao Vivo', 'Lambada', \"Cups (Pitch Perfect’s “When I’m Gone”) - Director's Cut / Closed-Captioned\", 'Кайен', 'Kruhy', 'Парусник', \"Verlieben, verloren, vergessen, verzeih'n (ZDF Hitparade 30.01.1992) - VOD\", 'Ты не такая', 'Find Your Love - Extended Version', 'Дешёвые драмы', 'All By Myself (ZDF Tele-Illustrierte 17.01.1989) - VOD', 'Фанк', 'Pai', 'Бойсбэнд', \"Wrecking Ball - Director's Cut\", 'Небо поможет нам', 'Smooth Criminal', 'Judas', 'Magia - Intro', 'Наше лето', 'Se Eu Não Te Amasse Tanto Assim', 'Голая', 'Politik Kills', 'Losha', 'Bede Z Toba', 'Ne me zasluzhavash', 'Cheri Cheri Lady (Peters Pop-Show 30.11.1985) - Live from Peters Pop Show, 1985', 'Imame li vrazka', 'Heaven Will Know (Peters Pop-Show 30.11.1985) - Live from Peters Pop Show, 1985', 'Башмайсторска', \"Geronimo's Cadillac (Peters Pop-Show 06.12.1986) - Live from Peters Pop-Show, 1986\", 'Ot Moiata Usta', 'Atlantis Is Calling (Na, sowas! 17.05.1986) - Live from Na, sowas!, 1986', 'Moeto slabo myasto', 'Plastic Dreams 2003', 'Ministarat Na Veselieto', 'Bede Z Toba - Hangout Live', 'Rom-pom-pom', 'Ballada o Janku Wisniewskim', 'Sweater Weather', 'You Are Not Alone (Wetten, dass...? 20.02.1999) - Live from Wetten, dass...?, 1999', 'Полудей', 'Iré tras de ti', 'Sama Shte Si Govorish', 'Il fait chaud', 'I Wanna Be Yours', 'Lågsus (feat. Medina)', 'Ideal Petroff', 'Pani Da Rang (From \"Vicky Donor\") - Male Vocals', 'Kato Tebe Vtori Nyama', 'You Can Win If You Want (Wetten, dass...? 18.05.1985) - Live from Wetten, dass...?, 1985', 'She Will', '25 ปี (มีหวัง)', 'Love Me', \"Fragile (Director's Cut)\", 'Do I Wanna Know?', 'The Real Slim Shady - Edited', 'Pitam Te Posledno', 'Smile', 'Kradi, kradi', 'G.U.Y. - An ARTPOP Film', 'Nyama Nakade', '好不好', 'Кажи ми като мъж', 'Hardkor i disko', 'Ne e lyubov', 'Red Light (feat. Snoop Lion)', 'Locked out of Heaven', 'Losing You', 'Give Me Everything (feat. Nayer)', 'Byłem (feat. As)', 'S&M', 'Rum Whisky (From \"Vicky Donor\")', 'Sweater Weather', 'Atlantis Is Calling (Na, sowas! 17.05.1986) - Live from Na, sowas!, 1986', 'Another Love', 'Cheri Cheri Lady (Peters Pop-Show 30.11.1985) - Live from Peters Pop Show, 1985', 'Síla Starejch Vín', 'Plastic Dreams 2003', 'Give Me Everything (feat. Nayer)', 'Iré tras de ti', 'Wake Me Up', 'Wind Song', 'Timber', 'Bede Z Toba - Hangout Live', 'Counting Stars', 'Thoda Thoda', \"Can't Hold Us (feat. Ray Dalton)\", 'Bede Z Toba', 'Demons', \"Geronimo's Cadillac (Peters Pop-Show 06.12.1986) - Live from Peters Pop-Show, 1986\", 'Shut Up and Dance', 'Heaven Will Know (Peters Pop-Show 30.11.1985) - Live from Peters Pop Show, 1985', 'Zakazane uvolneni', 'You Can Win If You Want (Wetten, dass...? 18.05.1985) - Live from Wetten, dass...?, 1985', 'I Wanna Be Yours', 'Ulubiona Rzecz', 'A Sky Full of Stars', 'Naporad - Live Acoustic Version', 'Svaz českých bohémů', 'You Are Not Alone (Wetten, dass...? 20.02.1999) - Live from Wetten, dass...?, 1999', 'Call Me Maybe', 'Il fait chaud', 'Take Me To Church', 'Ballada o Janku Wisniewskim', 'International Love (feat. Chris Brown)', 'Lågsus (feat. Medina)', 'The Nights', 'Pani Da Rang (From \"Vicky Donor\") - Male Vocals', 'LoveHate Thing (feat. Sam Dew)', '25 ปี (มีหวัง)', 'Locked out of Heaven', \"Fragile (Director's Cut)\", 'Memories (feat. Kid Cudi)', 'The Real Slim Shady - Edited', 'TiK ToK', 'Smile', 'Summertime Sadness', 'G.U.Y. - An ARTPOP Film', 'Titanium (feat. Sia)', '好不好', 'Radioactive', 'Hardkor i disko', 'Give Me Everything (feat. Nayer)', 'Plastic Dreams 2003', 'Sweater Weather', 'Cheri Cheri Lady (Peters Pop-Show 30.11.1985) - Live from Peters Pop Show, 1985', 'Another Love', \"Geronimo's Cadillac (Peters Pop-Show 06.12.1986) - Live from Peters Pop-Show, 1986\", 'I Wanna Be Yours', 'Bede Z Toba - Hangout Live', 'Timber', 'Bede Z Toba', 'International Love (feat. Chris Brown)', 'You Can Win If You Want (Wetten, dass...? 18.05.1985) - Live from Wetten, dass...?, 1985', 'Wake Me Up', 'Atlantis Is Calling (Na, sowas! 17.05.1986) - Live from Na, sowas!, 1986', 'LoveHate Thing (feat. Sam Dew)', 'Heaven Will Know (Peters Pop-Show 30.11.1985) - Live from Peters Pop Show, 1985', 'A Sky Full of Stars', 'Ballada o Janku Wisniewskim', \"Can't Hold Us (feat. Ray Dalton)\", 'You Are Not Alone (Wetten, dass...? 20.02.1999) - Live from Wetten, dass...?, 1999', 'Counting Stars', 'Iré tras de ti', 'Demons', 'Il fait chaud', 'Locked out of Heaven', 'Lågsus (feat. Medina)', 'S&M', 'Pani Da Rang (From \"Vicky Donor\") - Male Vocals', 'We Found Love', '25 ปี (มีหวัง)', 'Only Girl (In The World)', \"Fragile (Director's Cut)\", 'Memories (feat. Kid Cudi)', 'The Real Slim Shady - Edited', 'TiK ToK', 'Smile', \"DJ Got Us Fallin' In Love (feat. Pitbull)\", 'G.U.Y. - An ARTPOP Film', 'No Role Modelz', '好不好', 'Shut Up and Dance', 'Hardkor i disko', 'Stolen Dance', 'Red Light (feat. Snoop Lion)', 'Do I Wanna Know?', 'Losing You', 'Call Me Maybe', 'Byłem (feat. As)', 'Just the Way You Are', 'Rum Whisky (From \"Vicky Donor\")', 'Sweater Weather', 'Plastic Dreams 2003', 'Give Me Everything (feat. Nayer)', 'Cheri Cheri Lady (Peters Pop-Show 30.11.1985) - Live from Peters Pop Show, 1985', 'LoveHate Thing (feat. Sam Dew)', 'Losing You', 'Wake Me Up', 'Bede Z Toba', 'Danza Kuduro', 'Wind Song', 'I Wanna Be Yours', 'My Love a Piece of My Love (feat. Snoop Dogg)', 'Timber', 'Heaven Will Know (Peters Pop-Show 30.11.1985) - Live from Peters Pop Show, 1985', 'Another Love', 'Atlantis Is Calling (Na, sowas! 17.05.1986) - Live from Na, sowas!, 1986', 'Shut Up and Dance', \"Geronimo's Cadillac (Peters Pop-Show 06.12.1986) - Live from Peters Pop-Show, 1986\", 'Beléd Estem', 'You Can Win If You Want (Wetten, dass...? 18.05.1985) - Live from Wetten, dass...?, 1985', \"Can't Hold Us (feat. Ray Dalton)\", 'Badman Riddim (Jump) (feat. Foreign Beggars)', 'Counting Stars', 'Bede Z Toba - Hangout Live', 'International Love (feat. Chris Brown)', 'Ballada o Janku Wisniewskim', 'Locked out of Heaven', 'You Are Not Alone (Wetten, dass...? 20.02.1999) - Live from Wetten, dass...?, 1999', 'Take Me To Church', 'Iré tras de ti', 'Demons', 'Il fait chaud', 'Do I Wanna Know?', 'Lågsus (feat. Medina)', 'A Sky Full of Stars', 'Pani Da Rang (From \"Vicky Donor\") - Male Vocals', 'S&M', '25 ปี (มีหวัง)', 'Memories (feat. Kid Cudi)', \"Fragile (Director's Cut)\", 'Élvezd', 'The Real Slim Shady - Edited', 'Only Girl (In The World)', 'Smile', 'The Nights', 'G.U.Y. - An ARTPOP Film', 'No Role Modelz', '好不好', 'TiK ToK', 'Samba Pras Moças', 'Sweater Weather', 'Cheri Cheri Lady (Peters Pop-Show 30.11.1985) - Live from Peters Pop Show, 1985', 'I Wanna Be Yours', 'You Are Not Alone (Wetten, dass...? 20.02.1999) - Live from Wetten, dass...?, 1999', 'Universe', 'Pani Da Rang (From \"Vicky Donor\") - Male Vocals', 'Парусник', 'You Can Win If You Want (Wetten, dass...? 18.05.1985) - Live from Wetten, dass...?, 1985', 'Жить в кайф', \"Geronimo's Cadillac (Peters Pop-Show 06.12.1986) - Live from Peters Pop-Show, 1986\", 'Do I Wanna Know?', \"Fragile (Director's Cut)\", 'Lovers Rock', 'The Real Slim Shady - Edited', 'Love Me', 'Atlantis Is Calling (Na, sowas! 17.05.1986) - Live from Na, sowas!, 1986', 'No. 1 Party Anthem', 'G.U.Y. - An ARTPOP Film', \"Why'd You Only Call Me When You're High?\", 'Heaven Will Know (Peters Pop-Show 30.11.1985) - Live from Peters Pop Show, 1985', 'Эндорфин', 'Red Light (feat. Snoop Lion)', 'Piesa Mea Preferată', 'Rum Whisky (From \"Vicky Donor\")', 'Доедешь - пиши', 'Muskurane (Film Version) [From \"Citylights\"]', 'i was all over her', 'Eu Aposto - Ao Vivo', 'Money Trees', 'Cloud 9 - From \"Cloud 9\" / Original TV Movie Soundtrack', 'Нервы', \"Cups (Pitch Perfect’s “When I’m Gone”) - Director's Cut / Closed-Captioned\", 'Skyfall', \"Verlieben, verloren, vergessen, verzeih'n (ZDF Hitparade 30.01.1992) - VOD\", 'Swimming Pools (Drank)', 'Find Your Love - Extended Version', 'Плановая', 'All By Myself (ZDF Tele-Illustrierte 17.01.1989) - VOD', 'She Will', 'Pai', 'Urban', \"Wrecking Ball - Director's Cut\", 'West Coast', 'Smooth Criminal', 'Lambada', 'Magia - Intro', 'Батареи', 'Se Eu Não Te Amasse Tanto Assim', 'Северное сияние', 'Politik Kills', 'Wiecznie', 'Bede Z Toba', 'Give Me Everything (feat. Nayer)', 'Bede Z Toba - Hangout Live', 'Sweater Weather', 'Ballada o Janku Wisniewskim', 'I Wanna Be Yours', 'Cheri Cheri Lady (Peters Pop-Show 30.11.1985) - Live from Peters Pop Show, 1985', 'Timber', 'Hardkor i disko', 'Do I Wanna Know?', 'Byłem (feat. As)', 'International Love (feat. Chris Brown)', 'Serpentyny i mydlane bańki', 'S&M', 'Plastic Dreams 2003', 'Only Girl (In The World)', 'Nice', 'Another Love', 'The Real Slim Shady - Edited', 'We Found Love', 'Il fait chaud', 'Counting Stars', \"Geronimo's Cadillac (Peters Pop-Show 06.12.1986) - Live from Peters Pop-Show, 1986\", 'Time of Our Lives', 'You Can Win If You Want (Wetten, dass...? 18.05.1985) - Live from Wetten, dass...?, 1985', 'Wake Me Up', 'Atlantis Is Calling (Na, sowas! 17.05.1986) - Live from Na, sowas!, 1986', 'Money Trees', 'Iré tras de ti', \"Why'd You Only Call Me When You're High?\", 'Heaven Will Know (Peters Pop-Show 30.11.1985) - Live from Peters Pop Show, 1985', 'Feel This Moment (feat. Christina Aguilera)', 'Losing You', 'Hey Baby (Drop It to the Floor) (feat. T-Pain)', 'Milczymy', 'Take Me To Church', 'Od dzisiaj - Wideosesja Uwolnij Muzyk?', \"Can't Hold Us (feat. Ray Dalton)\", 'Scarlett', 'Summertime Sadness', 'Zdrowia Smaki - Piosenki dla dzieci', \"DJ Got Us Fallin' In Love (feat. Pitbull)\", 'Jezusa Narodzonego Wszyscy Witajmy', 'Locked out of Heaven', 'Wind Song', 'Bez Strachu', 'Invisibili', 'Young And Beautiful', 'My Love a Piece of My Love (feat. Snoop Dogg)', 'Sweater Weather', 'Cheri Cheri Lady (Peters Pop-Show 30.11.1985) - Live from Peters Pop Show, 1985', 'Piesa Mea Preferată', 'Il fait chaud', 'I Wanna Be Yours', 'You Can Win If You Want (Wetten, dass...? 18.05.1985) - Live from Wetten, dass...?, 1985', 'Love Me', 'Atlantis Is Calling (Na, sowas! 17.05.1986) - Live from Na, sowas!, 1986', 'Deja Vu', 'Heaven Will Know (Peters Pop-Show 30.11.1985) - Live from Peters Pop Show, 1985', 'Minim Doi', 'Losing You', 'Saint Tropez', \"Geronimo's Cadillac (Peters Pop-Show 06.12.1986) - Live from Peters Pop-Show, 1986\", 'She Will', 'Second Best', 'Lovers Rock', \"Don't Judge Me (Dave Aude Remix) UK Video\", 'Mr. Saxobeat - Radio Edit', 'Bede Z Toba', 'Do I Wanna Know?', 'Plastic Dreams 2003', 'E Marfa Tare', 'Bede Z Toba - Hangout Live', 'No. 1 Party Anthem', 'Ballada o Janku Wisniewskim', 'Money Trees', 'You Are Not Alone (Wetten, dass...? 20.02.1999) - Live from Wetten, dass...?, 1999', 'Domnisoare (feat. Zhao & Spike)', 'Iré tras de ti', 'Defectul Tau Sunt Eu', 'Lågsus (feat. Medina)', 'Give Me Everything (feat. Nayer)', 'Pani Da Rang (From \"Vicky Donor\") - Male Vocals', \"Why'd You Only Call Me When You're High?\", '25 ปี (มีหวัง)', 'No Role Modelz', \"Fragile (Director's Cut)\", 'Brazilianca Mea', 'The Real Slim Shady - Edited', 'Ay Vamos', 'Smile', 'Hot', 'G.U.Y. - An ARTPOP Film', 'Locked out of Heaven', '好不好', 'Les', 'Hardkor i disko', 'LVL', 'Red Light (feat. Snoop Lion)', 'Sweater Weather', 'Cheri Cheri Lady (Peters Pop-Show 30.11.1985) - Live from Peters Pop Show, 1985', 'I Wanna Be Yours', 'You Are Not Alone (Wetten, dass...? 20.02.1999) - Live from Wetten, dass...?, 1999', 'Так гріє', 'Pani Da Rang (From \"Vicky Donor\") - Male Vocals', 'Батареи', 'You Can Win If You Want (Wetten, dass...? 18.05.1985) - Live from Wetten, dass...?, 1985', 'Do I Wanna Know?', \"Geronimo's Cadillac (Peters Pop-Show 06.12.1986) - Live from Peters Pop-Show, 1986\", 'Парусник', \"Fragile (Director's Cut)\", 'Нервы', 'The Real Slim Shady - Edited', 'Кайен', 'Atlantis Is Calling (Na, sowas! 17.05.1986) - Live from Na, sowas!, 1986', 'Judas', 'G.U.Y. - An ARTPOP Film', 'Все мои друзья', 'Heaven Will Know (Peters Pop-Show 30.11.1985) - Live from Peters Pop Show, 1985', \"Why'd You Only Call Me When You're High?\", 'Red Light (feat. Snoop Lion)', 'Жить в кайф', 'Rum Whisky (From \"Vicky Donor\")', 'На небі', 'Muskurane (Film Version) [From \"Citylights\"]', 'Ты не такая', 'Eu Aposto - Ao Vivo', 'Говорили і курили', 'Cloud 9 - From \"Cloud 9\" / Original TV Movie Soundtrack', 'Фанк', \"Cups (Pitch Perfect’s “When I’m Gone”) - Director's Cut / Closed-Captioned\", 'Lovers Rock', 'Kruhy', 'Дешёвые драмы', \"Verlieben, verloren, vergessen, verzeih'n (ZDF Hitparade 30.01.1992) - VOD\", 'Black Siemens', 'Find Your Love - Extended Version', 'No. 1 Party Anthem', 'All By Myself (ZDF Tele-Illustrierte 17.01.1989) - VOD', 'S&M', 'Pai', 'Обломки чувств', \"Wrecking Ball - Director's Cut\", 'Эверест', \"Let Me Love You (Until You Learn To Love Yourself) - Director's Cut (Explicit)\", 'Я так хочу...', 'Smooth Criminal', 'Северное сияние', 'Magia - Intro', 'Жить в кайф', 'Cheri Cheri Lady (Peters Pop-Show 30.11.1985) - Live from Peters Pop Show, 1985', 'Стань', 'You Are Not Alone (Wetten, dass...? 20.02.1999) - Live from Wetten, dass...?, 1999', 'Батареи', 'Pani Da Rang (From \"Vicky Donor\") - Male Vocals', 'Эндорфин', 'You Can Win If You Want (Wetten, dass...? 18.05.1985) - Live from Wetten, dass...?, 1985', 'Нервы', \"Geronimo's Cadillac (Peters Pop-Show 06.12.1986) - Live from Peters Pop-Show, 1986\", 'Обломки чувств', \"Fragile (Director's Cut)\", 'О Yeah', 'The Real Slim Shady - Edited', 'Black Siemens', 'Atlantis Is Calling (Na, sowas! 17.05.1986) - Live from Na, sowas!, 1986', 'Вселенная бесконечна?', 'G.U.Y. - An ARTPOP Film', 'Sweater Weather', 'Heaven Will Know (Peters Pop-Show 30.11.1985) - Live from Peters Pop Show, 1985', 'Мотылёк', 'Red Light (feat. Snoop Lion)', 'Где твоя любовь?', 'Rum Whisky (From \"Vicky Donor\")', 'Все мои друзья', 'Muskurane (Film Version) [From \"Citylights\"]', 'Маленький', 'Eu Aposto - Ao Vivo', 'Lambada', \"Cups (Pitch Perfect’s “When I’m Gone”) - Director's Cut / Closed-Captioned\", 'Кайен', 'Kruhy', 'Парусник', \"Verlieben, verloren, vergessen, verzeih'n (ZDF Hitparade 30.01.1992) - VOD\", 'Ты не такая', 'Find Your Love - Extended Version', 'Дешёвые драмы', 'All By Myself (ZDF Tele-Illustrierte 17.01.1989) - VOD', 'Фанк', 'Pai', 'Бойсбэнд', \"Wrecking Ball - Director's Cut\", 'Небо поможет нам', 'Smooth Criminal', 'Judas', 'Magia - Intro', 'Наше лето', 'Se Eu Não Te Amasse Tanto Assim', 'Голая', 'Politik Kills', 'Losha', 'Bede Z Toba', 'Ne me zasluzhavash', 'Cheri Cheri Lady (Peters Pop-Show 30.11.1985) - Live from Peters Pop Show, 1985', 'Imame li vrazka', 'Heaven Will Know (Peters Pop-Show 30.11.1985) - Live from Peters Pop Show, 1985', 'Башмайсторска', \"Geronimo's Cadillac (Peters Pop-Show 06.12.1986) - Live from Peters Pop-Show, 1986\", 'Ot Moiata Usta', 'Atlantis Is Calling (Na, sowas! 17.05.1986) - Live from Na, sowas!, 1986', 'Moeto slabo myasto', 'Plastic Dreams 2003', 'Ministarat Na Veselieto', 'Bede Z Toba - Hangout Live', 'Rom-pom-pom', 'Ballada o Janku Wisniewskim', 'Sweater Weather', 'You Are Not Alone (Wetten, dass...? 20.02.1999) - Live from Wetten, dass...?, 1999', 'Полудей', 'Iré tras de ti', 'Sama Shte Si Govorish', 'Il fait chaud', 'I Wanna Be Yours', 'Lågsus (feat. Medina)', 'Ideal Petroff', 'Pani Da Rang (From \"Vicky Donor\") - Male Vocals', 'Kato Tebe Vtori Nyama', 'You Can Win If You Want (Wetten, dass...? 18.05.1985) - Live from Wetten, dass...?, 1985', 'She Will', '25 ปี (มีหวัง)', 'Love Me', \"Fragile (Director's Cut)\", 'Do I Wanna Know?', 'The Real Slim Shady - Edited', 'Pitam Te Posledno', 'Smile', 'Kradi, kradi', 'G.U.Y. - An ARTPOP Film', 'Nyama Nakade', '好不好', 'Кажи ми като мъж', 'Hardkor i disko', 'Ne e lyubov', 'Red Light (feat. Snoop Lion)', 'Locked out of Heaven', 'Losing You', 'Give Me Everything (feat. Nayer)', 'Byłem (feat. As)', 'S&M', 'Rum Whisky (From \"Vicky Donor\")', 'Sweater Weather', 'Atlantis Is Calling (Na, sowas! 17.05.1986) - Live from Na, sowas!, 1986', 'Another Love', 'Cheri Cheri Lady (Peters Pop-Show 30.11.1985) - Live from Peters Pop Show, 1985', 'Síla Starejch Vín', 'Plastic Dreams 2003', 'Give Me Everything (feat. Nayer)', 'Iré tras de ti', 'Wake Me Up', 'Wind Song', 'Timber', 'Bede Z Toba - Hangout Live', 'Counting Stars', 'Thoda Thoda', \"Can't Hold Us (feat. Ray Dalton)\", 'Bede Z Toba', 'Demons', \"Geronimo's Cadillac (Peters Pop-Show 06.12.1986) - Live from Peters Pop-Show, 1986\", 'Shut Up and Dance', 'Heaven Will Know (Peters Pop-Show 30.11.1985) - Live from Peters Pop Show, 1985', 'Zakazane uvolneni', 'You Can Win If You Want (Wetten, dass...? 18.05.1985) - Live from Wetten, dass...?, 1985', 'I Wanna Be Yours', 'Ulubiona Rzecz', 'A Sky Full of Stars', 'Naporad - Live Acoustic Version', 'Svaz českých bohémů', 'You Are Not Alone (Wetten, dass...? 20.02.1999) - Live from Wetten, dass...?, 1999', 'Call Me Maybe', 'Il fait chaud', 'Take Me To Church', 'Ballada o Janku Wisniewskim', 'International Love (feat. Chris Brown)', 'Lågsus (feat. Medina)', 'The Nights', 'Pani Da Rang (From \"Vicky Donor\") - Male Vocals', 'LoveHate Thing (feat. Sam Dew)', '25 ปี (มีหวัง)', 'Locked out of Heaven', \"Fragile (Director's Cut)\", 'Memories (feat. Kid Cudi)', 'The Real Slim Shady - Edited', 'TiK ToK', 'Smile', 'Summertime Sadness', 'G.U.Y. - An ARTPOP Film', 'Titanium (feat. Sia)', '好不好', 'Radioactive', 'Hardkor i disko', 'Give Me Everything (feat. Nayer)', 'Plastic Dreams 2003', 'Sweater Weather', 'Cheri Cheri Lady (Peters Pop-Show 30.11.1985) - Live from Peters Pop Show, 1985', 'Another Love', \"Geronimo's Cadillac (Peters Pop-Show 06.12.1986) - Live from Peters Pop-Show, 1986\", 'I Wanna Be Yours', 'Bede Z Toba - Hangout Live', 'Timber', 'Bede Z Toba', 'International Love (feat. Chris Brown)', 'You Can Win If You Want (Wetten, dass...? 18.05.1985) - Live from Wetten, dass...?, 1985', 'Wake Me Up', 'Atlantis Is Calling (Na, sowas! 17.05.1986) - Live from Na, sowas!, 1986', 'LoveHate Thing (feat. Sam Dew)', 'Heaven Will Know (Peters Pop-Show 30.11.1985) - Live from Peters Pop Show, 1985', 'A Sky Full of Stars', 'Ballada o Janku Wisniewskim', \"Can't Hold Us (feat. Ray Dalton)\", 'You Are Not Alone (Wetten, dass...? 20.02.1999) - Live from Wetten, dass...?, 1999', 'Counting Stars', 'Iré tras de ti', 'Demons', 'Il fait chaud', 'Locked out of Heaven', 'Lågsus (feat. Medina)', 'S&M', 'Pani Da Rang (From \"Vicky Donor\") - Male Vocals', 'We Found Love', '25 ปี (มีหวัง)', 'Only Girl (In The World)', \"Fragile (Director's Cut)\", 'Memories (feat. Kid Cudi)', 'The Real Slim Shady - Edited', 'TiK ToK', 'Smile', \"DJ Got Us Fallin' In Love (feat. Pitbull)\", 'G.U.Y. - An ARTPOP Film', 'No Role Modelz', '好不好', 'Shut Up and Dance', 'Hardkor i disko', 'Stolen Dance', 'Red Light (feat. Snoop Lion)', 'Do I Wanna Know?', 'Losing You', 'Call Me Maybe', 'Byłem (feat. As)', 'Just the Way You Are', 'Rum Whisky (From \"Vicky Donor\")', 'Sweater Weather', 'Plastic Dreams 2003', 'Give Me Everything (feat. Nayer)', 'Cheri Cheri Lady (Peters Pop-Show 30.11.1985) - Live from Peters Pop Show, 1985', 'LoveHate Thing (feat. Sam Dew)', 'Losing You', 'Wake Me Up', 'Bede Z Toba', 'Danza Kuduro', 'Wind Song', 'I Wanna Be Yours', 'My Love a Piece of My Love (feat. Snoop Dogg)', 'Timber', 'Heaven Will Know (Peters Pop-Show 30.11.1985) - Live from Peters Pop Show, 1985', 'Another Love', 'Atlantis Is Calling (Na, sowas! 17.05.1986) - Live from Na, sowas!, 1986', 'Shut Up and Dance', \"Geronimo's Cadillac (Peters Pop-Show 06.12.1986) - Live from Peters Pop-Show, 1986\", 'Beléd Estem', 'You Can Win If You Want (Wetten, dass...? 18.05.1985) - Live from Wetten, dass...?, 1985', \"Can't Hold Us (feat. Ray Dalton)\", 'Badman Riddim (Jump) (feat. Foreign Beggars)', 'Counting Stars', 'Bede Z Toba - Hangout Live', 'International Love (feat. Chris Brown)', 'Ballada o Janku Wisniewskim', 'Locked out of Heaven', 'You Are Not Alone (Wetten, dass...? 20.02.1999) - Live from Wetten, dass...?, 1999', 'Take Me To Church', 'Iré tras de ti', 'Demons', 'Il fait chaud', 'Do I Wanna Know?', 'Lågsus (feat. Medina)', 'A Sky Full of Stars', 'Pani Da Rang (From \"Vicky Donor\") - Male Vocals', 'S&M', '25 ปี (มีหวัง)', 'Memories (feat. Kid Cudi)', \"Fragile (Director's Cut)\", 'Élvezd', 'The Real Slim Shady - Edited', 'Only Girl (In The World)', 'Smile', 'The Nights', 'G.U.Y. - An ARTPOP Film', 'No Role Modelz', '好不好', 'TiK ToK', 'Samba Pras Moças', 'Sweater Weather', 'Cheri Cheri Lady (Peters Pop-Show 30.11.1985) - Live from Peters Pop Show, 1985', 'I Wanna Be Yours', 'You Are Not Alone (Wetten, dass...? 20.02.1999) - Live from Wetten, dass...?, 1999', 'Universe', 'Pani Da Rang (From \"Vicky Donor\") - Male Vocals', 'Парусник', 'You Can Win If You Want (Wetten, dass...? 18.05.1985) - Live from Wetten, dass...?, 1985', 'Жить в кайф', \"Geronimo's Cadillac (Peters Pop-Show 06.12.1986) - Live from Peters Pop-Show, 1986\", 'Do I Wanna Know?', \"Fragile (Director's Cut)\", 'Lovers Rock', 'The Real Slim Shady - Edited', 'Love Me', 'Atlantis Is Calling (Na, sowas! 17.05.1986) - Live from Na, sowas!, 1986', 'No. 1 Party Anthem', 'G.U.Y. - An ARTPOP Film', \"Why'd You Only Call Me When You're High?\", 'Heaven Will Know (Peters Pop-Show 30.11.1985) - Live from Peters Pop Show, 1985', 'Эндорфин', 'Red Light (feat. Snoop Lion)', 'Piesa Mea Preferată', 'Rum Whisky (From \"Vicky Donor\")', 'Доедешь - пиши', 'Muskurane (Film Version) [From \"Citylights\"]', 'i was all over her', 'Eu Aposto - Ao Vivo', 'Money Trees', 'Cloud 9 - From \"Cloud 9\" / Original TV Movie Soundtrack', 'Нервы', \"Cups (Pitch Perfect’s “When I’m Gone”) - Director's Cut / Closed-Captioned\", 'Skyfall', \"Verlieben, verloren, vergessen, verzeih'n (ZDF Hitparade 30.01.1992) - VOD\", 'Swimming Pools (Drank)', 'Find Your Love - Extended Version', 'Плановая', 'All By Myself (ZDF Tele-Illustrierte 17.01.1989) - VOD', 'She Will', 'Pai', 'Urban', \"Wrecking Ball - Director's Cut\", 'West Coast', 'Smooth Criminal', 'Lambada', 'Magia - Intro', 'Батареи', 'Se Eu Não Te Amasse Tanto Assim', 'Северное сияние', 'Politik Kills', 'Wiecznie', 'Bede Z Toba', 'Give Me Everything (feat. Nayer)', 'Bede Z Toba - Hangout Live', 'Sweater Weather', 'Ballada o Janku Wisniewskim', 'I Wanna Be Yours', 'Cheri Cheri Lady (Peters Pop-Show 30.11.1985) - Live from Peters Pop Show, 1985', 'Timber', 'Hardkor i disko', 'Do I Wanna Know?', 'Byłem (feat. As)', 'International Love (feat. Chris Brown)', 'Serpentyny i mydlane bańki', 'S&M', 'Plastic Dreams 2003', 'Only Girl (In The World)', 'Nice', 'Another Love', 'The Real Slim Shady - Edited', 'We Found Love', 'Il fait chaud', 'Counting Stars', \"Geronimo's Cadillac (Peters Pop-Show 06.12.1986) - Live from Peters Pop-Show, 1986\", 'Time of Our Lives', 'You Can Win If You Want (Wetten, dass...? 18.05.1985) - Live from Wetten, dass...?, 1985', 'Wake Me Up', 'Atlantis Is Calling (Na, sowas! 17.05.1986) - Live from Na, sowas!, 1986', 'Money Trees', 'Iré tras de ti', \"Why'd You Only Call Me When You're High?\", 'Heaven Will Know (Peters Pop-Show 30.11.1985) - Live from Peters Pop Show, 1985', 'Feel This Moment (feat. Christina Aguilera)', 'Losing You', 'Hey Baby (Drop It to the Floor) (feat. T-Pain)', 'Milczymy', 'Take Me To Church', 'Od dzisiaj - Wideosesja Uwolnij Muzyk?', \"Can't Hold Us (feat. Ray Dalton)\", 'Scarlett', 'Summertime Sadness', 'Zdrowia Smaki - Piosenki dla dzieci', \"DJ Got Us Fallin' In Love (feat. Pitbull)\", 'Jezusa Narodzonego Wszyscy Witajmy', 'Locked out of Heaven', 'Wind Song', 'Bez Strachu', 'Invisibili', 'Young And Beautiful', 'My Love a Piece of My Love (feat. Snoop Dogg)', 'Sweater Weather', 'Cheri Cheri Lady (Peters Pop-Show 30.11.1985) - Live from Peters Pop Show, 1985', 'Piesa Mea Preferată', 'Il fait chaud', 'I Wanna Be Yours', 'You Can Win If You Want (Wetten, dass...? 18.05.1985) - Live from Wetten, dass...?, 1985', 'Love Me', 'Atlantis Is Calling (Na, sowas! 17.05.1986) - Live from Na, sowas!, 1986', 'Deja Vu', 'Heaven Will Know (Peters Pop-Show 30.11.1985) - Live from Peters Pop Show, 1985', 'Minim Doi', 'Losing You', 'Saint Tropez', \"Geronimo's Cadillac (Peters Pop-Show 06.12.1986) - Live from Peters Pop-Show, 1986\", 'She Will', 'Second Best', 'Lovers Rock', \"Don't Judge Me (Dave Aude Remix) UK Video\", 'Mr. Saxobeat - Radio Edit', 'Bede Z Toba', 'Do I Wanna Know?', 'Plastic Dreams 2003', 'E Marfa Tare', 'Bede Z Toba - Hangout Live', 'No. 1 Party Anthem', 'Ballada o Janku Wisniewskim', 'Money Trees', 'You Are Not Alone (Wetten, dass...? 20.02.1999) - Live from Wetten, dass...?, 1999', 'Domnisoare (feat. Zhao & Spike)', 'Iré tras de ti', 'Defectul Tau Sunt Eu', 'Lågsus (feat. Medina)', 'Give Me Everything (feat. Nayer)', 'Pani Da Rang (From \"Vicky Donor\") - Male Vocals', \"Why'd You Only Call Me When You're High?\", '25 ปี (มีหวัง)', 'No Role Modelz', \"Fragile (Director's Cut)\", 'Brazilianca Mea', 'The Real Slim Shady - Edited', 'Ay Vamos', 'Smile', 'Hot', 'G.U.Y. - An ARTPOP Film', 'Locked out of Heaven', '好不好', 'Les', 'Hardkor i disko', 'LVL', 'Red Light (feat. Snoop Lion)', 'Sweater Weather', 'Cheri Cheri Lady (Peters Pop-Show 30.11.1985) - Live from Peters Pop Show, 1985', 'I Wanna Be Yours', 'You Are Not Alone (Wetten, dass...? 20.02.1999) - Live from Wetten, dass...?, 1999', 'Так гріє', 'Pani Da Rang (From \"Vicky Donor\") - Male Vocals', 'Батареи', 'You Can Win If You Want (Wetten, dass...? 18.05.1985) - Live from Wetten, dass...?, 1985', 'Do I Wanna Know?', \"Geronimo's Cadillac (Peters Pop-Show 06.12.1986) - Live from Peters Pop-Show, 1986\", 'Парусник', \"Fragile (Director's Cut)\", 'Нервы', 'The Real Slim Shady - Edited', 'Кайен', 'Atlantis Is Calling (Na, sowas! 17.05.1986) - Live from Na, sowas!, 1986', 'Judas', 'G.U.Y. - An ARTPOP Film', 'Все мои друзья', 'Heaven Will Know (Peters Pop-Show 30.11.1985) - Live from Peters Pop Show, 1985', \"Why'd You Only Call Me When You're High?\", 'Red Light (feat. Snoop Lion)', 'Жить в кайф', 'Rum Whisky (From \"Vicky Donor\")', 'На небі', 'Muskurane (Film Version) [From \"Citylights\"]', 'Ты не такая', 'Eu Aposto - Ao Vivo', 'Говорили і курили', 'Cloud 9 - From \"Cloud 9\" / Original TV Movie Soundtrack', 'Фанк', \"Cups (Pitch Perfect’s “When I’m Gone”) - Director's Cut / Closed-Captioned\", 'Lovers Rock', 'Kruhy', 'Дешёвые драмы', \"Verlieben, verloren, vergessen, verzeih'n (ZDF Hitparade 30.01.1992) - VOD\", 'Black Siemens', 'Find Your Love - Extended Version', 'No. 1 Party Anthem', 'All By Myself (ZDF Tele-Illustrierte 17.01.1989) - VOD', 'S&M', 'Pai', 'Обломки чувств', \"Wrecking Ball - Director's Cut\", 'Эверест', \"Let Me Love You (Until You Learn To Love Yourself) - Director's Cut (Explicit)\", 'Я так хочу...', 'Smooth Criminal', 'Северное сияние', 'Magia - Intro'], 'popularity': [54, 2, 51, 0, 54, 0, 51, 0, 53, 0, 53, 0, 52, 0, 51, 0, 51, 0, 85, 0, 49, 0, 47, 0, 52, 0, 50, 0, 50, 0, 52, 0, 52, 0, 51, 0, 50, 0, 51, 0, 46, 0, 45, 0, 76, 0, 49, 0, 49, 0, 44, 9, 40, 2, 39, 0, 39, 0, 39, 0, 39, 2, 39, 2, 38, 1, 85, 0, 38, 0, 37, 0, 86, 0, 37, 0, 37, 0, 75, 0, 80, 0, 82, 0, 35, 0, 35, 0, 37, 0, 35, 0, 35, 0, 85, 0, 82, 0, 78, 0, 85, 0, 82, 2, 50, 2, 82, 0, 82, 0, 80, 2, 82, 0, 80, 9, 79, 0, 80, 0, 48, 0, 86, 0, 83, 0, 48, 0, 76, 0, 78, 1, 77, 0, 80, 0, 76, 0, 85, 0, 75, 0, 79, 0, 78, 0, 77, 0, 75, 0, 82, 2, 85, 2, 82, 0, 86, 2, 80, 9, 77, 0, 82, 0, 76, 0, 83, 1, 80, 0, 82, 0, 79, 0, 85, 0, 78, 0, 78, 0, 79, 0, 75, 0, 79, 0, 79, 0, 81, 0, 80, 0, 75, 0, 82, 0, 76, 0, 78, 0, 85, 2, 82, 2, 76, 0, 82, 9, 71, 0, 86, 0, 80, 0, 82, 0, 80, 0, 44, 0, 80, 0, 82, 2, 77, 1, 85, 0, 78, 0, 79, 0, 82, 0, 83, 0, 78, 0, 75, 0, 42, 0, 79, 0, 80, 0, 81, 0, 79, 0, 85, 2, 86, 0, 51, 0, 52, 0, 54, 0, 82, 0, 82, 0, 80, 0, 84, 0, 80, 0, 51, 0, 47, 0, 52, 0, 77, 0, 79, 0, 53, 0, 80, 0, 77, 0, 46, 0, 75, 0, 48, 0, 78, 0, 50, 0, 54, 0, 52, 0, 60, 9, 82, 2, 85, 1, 86, 2, 80, 0, 82, 0, 77, 0, 78, 2, 79, 0, 82, 0, 78, 0, 82, 0, 78, 0, 82, 0, 79, 0, 80, 0, 75, 0, 73, 0, 78, 0, 80, 0, 78, 0, 79, 0, 85, 0, 54, 0, 80, 0, 85, 2, 47, 0, 86, 0, 80, 0, 45, 0, 44, 0, 49, 0, 75, 0, 82, 0, 71, 9, 82, 2, 43, 2, 84, 1, 79, 0, 43, 0, 42, 0, 82, 0, 80, 0, 81, 0, 45, 0, 70, 0, 65, 0, 85, 0, 79, 0, 76, 0, 85, 2, 86, 0, 50, 0, 54, 0, 82, 0, 52, 0, 53, 0, 52, 0, 76, 0, 52, 0, 80, 0, 54, 0, 48, 0, 51, 0, 45, 0, 51, 0, 82, 0, 50, 0, 51, 0, 84, 0, 78, 0, 53, 0, 48, 0, 47, 0, 52, 0, 54, 2, 51, 0, 54, 0, 51, 0, 53, 0, 53, 0, 52, 0, 51, 0, 51, 0, 85, 0, 49, 0, 47, 0, 52, 0, 50, 0, 50, 0, 52, 0, 52, 0, 51, 0, 50, 0, 51, 0, 46, 0, 45, 0, 76, 0, 49, 0, 49, 0, 44, 9, 40, 2, 39, 0, 39, 0, 39, 0, 39, 2, 39, 2, 38, 1, 85, 0, 38, 0, 37, 0, 86, 0, 37, 0, 37, 0, 75, 0, 80, 0, 82, 0, 35, 0, 35, 0, 37, 0, 35, 0, 35, 0, 85, 0, 82, 0, 78, 0, 85, 0, 82, 2, 50, 2, 82, 0, 82, 0, 80, 2, 82, 0, 80, 9, 79, 0, 80, 0, 48, 0, 86, 0, 83, 0, 48, 0, 76, 0, 78, 1, 77, 0, 80, 0, 76, 0, 85, 0, 75, 0, 79, 0, 78, 0, 77, 0, 75, 0, 82, 2, 85, 2, 82, 0, 86, 2, 80, 9, 77, 0, 82, 0, 76, 0, 83, 1, 80, 0, 82, 0, 79, 0, 85, 0, 78, 0, 78, 0, 79, 0, 75, 0, 79, 0, 79, 0, 81, 0, 80, 0, 75, 0, 82, 0, 76, 0, 78, 0, 85, 2, 82, 2, 76, 0, 82, 9, 71, 0, 86, 0, 80, 0, 82, 0, 80, 0, 44, 0, 80, 0, 82, 2, 77, 1, 85, 0, 78, 0, 79, 0, 82, 0, 83, 0, 78, 0, 75, 0, 42, 0, 79, 0, 80, 0, 81, 0, 79, 0, 85, 2, 86, 0, 51, 0, 52, 0, 54, 0, 82, 0, 82, 0, 80, 0, 84, 0, 80, 0, 51, 0, 47, 0, 52, 0, 77, 0, 79, 0, 53, 0, 80, 0, 77, 0, 46, 0, 75, 0, 48, 0, 78, 0, 50, 0, 54, 0, 52, 0, 60, 9, 82, 2, 85, 1, 86, 2, 80, 0, 82, 0, 77, 0, 78, 2, 79, 0, 82, 0, 78, 0, 82, 0, 78, 0, 82, 0, 79, 0, 80, 0, 75, 0, 73, 0, 78, 0, 80, 0, 78, 0, 79, 0, 85, 0, 54, 0, 80, 0, 85, 2, 47, 0, 86, 0, 80, 0, 45, 0, 44, 0, 49, 0, 75, 0, 82, 0, 71, 9, 82, 2, 43, 2, 84, 1, 79, 0, 43, 0, 42, 0, 82, 0, 80, 0, 81, 0, 45, 0, 70, 0, 65, 0, 85, 0, 79, 0, 76, 0, 85, 2, 86, 0, 50, 0, 54, 0, 82, 0, 52, 0, 53, 0, 52, 0, 76, 0, 52, 0, 80, 0, 54, 0, 48, 0, 51, 0, 45, 0, 51, 0, 82, 0, 50, 0, 51, 0, 84, 0, 78, 0, 53, 0, 48, 0, 47, 0, 52, 0], 'artista': ['Max Korzh', 'Modern Talking', 'Max Korzh', 'Modern Talking', 'Нервы', 'Abhishek - Akshay, Ayushmann Khurrana', 'Max Korzh', 'Modern Talking', 'Нервы', 'Modern Talking', 'TERESHINA', 'Tech N9ne, Kendrick Lamar, ¡MAYDAY!, Kendall Morgan', 'Yin-Yang', 'Eminem', 'PHARAOH', 'Modern Talking', 'Noize MC', 'Lady Gaga', 'The Neighbourhood', 'Modern Talking', 'Max Korzh', 'Eddie Murphy, Snoop Lion', 'Max Korzh', 'Abhishek - Akshay, Akshay Verma', 'Valentin Strykalo', 'Jeet Gannguli, Arijit Singh', 'Дайте танк (!)', 'Eduardo Costa', 'N1NT3ND0', 'Anna Kendrick', 'Valentin Strykalo', 'Lipo, Yanna', 'KRBK', 'Wolfgang Petry', 'Valentin Strykalo', 'Drake', 'Valentin Strykalo', 'Peter Hofmann', 'Valentin Strykalo', 'Grupo Revelação', 'PHARAOH, Ca$$xttx', 'Miley Cyrus', 'Max Korzh', 'Michael Jackson', 'Lady Gaga', 'Maluma', 'Valentin Strykalo', 'Caetano Veloso, Gilberto Gil, Ivete Sangalo', 'Gradusy', 'Manu Chao', 'Andrea', 'Lemon', 'Konstantin, Emanuela', 'Modern Talking', 'Alisia', 'Modern Talking', 'Billy Hlapeto, Lexus, Dim4ou', 'Modern Talking', 'Emanuela, Jordan', 'Modern Talking', 'Preslava', 'JayDee', 'Krisko, Lora Karajova, Bobo', 'Lemon', 'Emanuela', 'Kazik', 'The Neighbourhood', 'Modern Talking', 'Djordan', 'Mr.', 'Djordan', 'Patrick Sébastien', 'Arctic Monkeys', 'Specktors, Medina', 'Krisko', 'Abhishek - Akshay, Ayushmann Khurrana', 'Azis, Vanko 1', 'Modern Talking', 'Lil Wayne, Drake', 'พงษ์สิทธิ์ คำภีร์', 'Lil Wayne, Drake, Future', 'Tech N9ne, Kendrick Lamar, ¡MAYDAY!, Kendall Morgan', 'Arctic Monkeys', 'Eminem', 'Emanuela, Serdar Ortac', 'Abel The Kid, Julio Iglesias Jr.', 'Bat Ventsi, Goodslav, Buch, 100 Kila', 'Lady Gaga', 'Azis', 'Evan Yo', 'Toni Storaro, Fiki', 'Sofa', 'Djena', 'Eddie Murphy, Snoop Lion', 'Bruno Mars', 'Revolver', 'Pitbull, AFROJACK, Ne-Yo, Nayer', 'Pezet, As', 'Rihanna', 'Abhishek - Akshay, Akshay Verma', 'The Neighbourhood', 'Modern Talking', 'Tom Odell', 'Modern Talking', 'ŠKWOR', 'JayDee', 'Pitbull, AFROJACK, Ne-Yo, Nayer', 'Mr.', 'Avicii', 'Revolver', 'Pitbull, Kesha', 'Lemon', 'OneRepublic', 'Shreya Ghoshal, Sachin', 'Macklemore, Ryan Lewis, Macklemore & Ryan Lewis, Ray Dalton', 'Lemon', 'Imagine Dragons', 'Modern Talking', 'WALK THE MOON', 'Modern Talking', 'Michal Hruza', 'Modern Talking', 'Arctic Monkeys', 'Ewa Farna', 'Coldplay', 'Michal Hruza', 'Wohnout', 'Modern Talking', 'Carly Rae Jepsen', 'Patrick Sébastien', 'Hozier', 'Kazik', 'Pitbull, Chris Brown', 'Specktors, Medina', 'Avicii', 'Abhishek - Akshay, Ayushmann Khurrana', 'Wale, Sam Dew', 'พงษ์สิทธิ์ คำภีร์', 'Bruno Mars', 'Tech N9ne, Kendrick Lamar, ¡MAYDAY!, Kendall Morgan', 'David Guetta, Kid Cudi', 'Eminem', 'Kesha', 'Abel The Kid, Julio Iglesias Jr.', 'Lana Del Rey', 'Lady Gaga', 'David Guetta, Sia', 'Evan Yo', 'Imagine Dragons', 'Sofa', 'Pitbull, AFROJACK, Ne-Yo, Nayer', 'JayDee', 'The Neighbourhood', 'Modern Talking', 'Tom Odell', 'Modern Talking', 'Arctic Monkeys', 'Lemon', 'Pitbull, Kesha', 'Lemon', 'Pitbull, Chris Brown', 'Modern Talking', 'Avicii', 'Modern Talking', 'Wale, Sam Dew', 'Modern Talking', 'Coldplay', 'Kazik', 'Macklemore, Ryan Lewis, Macklemore & Ryan Lewis, Ray Dalton', 'Modern Talking', 'OneRepublic', 'Mr.', 'Imagine Dragons', 'Patrick Sébastien', 'Bruno Mars', 'Specktors, Medina', 'Rihanna', 'Abhishek - Akshay, Ayushmann Khurrana', 'Rihanna, Calvin Harris', 'พงษ์สิทธิ์ คำภีร์', 'Rihanna', 'Tech N9ne, Kendrick Lamar, ¡MAYDAY!, Kendall Morgan', 'David Guetta, Kid Cudi', 'Eminem', 'Kesha', 'Abel The Kid, Julio Iglesias Jr.', 'USHER, Pitbull', 'Lady Gaga', 'J. Cole', 'Evan Yo', 'WALK THE MOON', 'Sofa', 'Milky Chance', 'Eddie Murphy, Snoop Lion', 'Arctic Monkeys', 'Revolver', 'Carly Rae Jepsen', 'Pezet, As', 'Bruno Mars', 'Abhishek - Akshay, Akshay Verma', 'The Neighbourhood', 'JayDee', 'Pitbull, AFROJACK, Ne-Yo, Nayer', 'Modern Talking', 'Wale, Sam Dew', 'Revolver', 'Avicii', 'Lemon', 'Don Omar, Lucenzo', 'Revolver', 'Arctic Monkeys', 'Abel The Kid, Julio Iglesias Jr.', 'Pitbull, Kesha', 'Modern Talking', 'Tom Odell', 'Modern Talking', 'WALK THE MOON', 'Modern Talking', 'Horváth Tamás, RAUL, Misshmusic', 'Modern Talking', 'Macklemore, Ryan Lewis, Macklemore & Ryan Lewis, Ray Dalton', 'Vato Gonzalez, Foreign Beggars', 'OneRepublic', 'Lemon', 'Pitbull, Chris Brown', 'Kazik', 'Bruno Mars', 'Modern Talking', 'Hozier', 'Mr.', 'Imagine Dragons', 'Patrick Sébastien', 'Arctic Monkeys', 'Specktors, Medina', 'Coldplay', 'Abhishek - Akshay, Ayushmann Khurrana', 'Rihanna', 'พงษ์สิทธิ์ คำภีร์', 'David Guetta, Kid Cudi', 'Tech N9ne, Kendrick Lamar, ¡MAYDAY!, Kendall Morgan', 'Punnany Massif', 'Eminem', 'Rihanna', 'Abel The Kid, Julio Iglesias Jr.', 'Avicii', 'Lady Gaga', 'J. Cole', 'Evan Yo', 'Kesha', 'Mariene De Castro', 'The Neighbourhood', 'Modern Talking', 'Arctic Monkeys', 'Modern Talking', 'Basta', 'Abhishek - Akshay, Ayushmann Khurrana', 'KRBK', 'Modern Talking', 'Max Korzh', 'Modern Talking', 'Arctic Monkeys', 'Tech N9ne, Kendrick Lamar, ¡MAYDAY!, Kendall Morgan', 'TV Girl', 'Eminem', 'Lil Wayne, Drake, Future', 'Modern Talking', 'Arctic Monkeys', 'Lady Gaga', 'Arctic Monkeys', 'Modern Talking', 'Max Korzh', 'Eddie Murphy, Snoop Lion', 'Vescan, Kamelia', 'Abhishek - Akshay, Akshay Verma', 'Kaspiyskiy Gruz', 'Jeet Gannguli, Arijit Singh', 'salvia palth', 'Eduardo Costa', 'Kendrick Lamar, Jay Rock', 'Dove Cameron, Luke Benward', 'Нервы', 'Anna Kendrick', 'Adele', 'Wolfgang Petry', 'Kendrick Lamar', 'Drake', '9 Gramm', 'Peter Hofmann', 'Lil Wayne, Drake', 'Grupo Revelação', 'Basta', 'Miley Cyrus', 'Lana Del Rey', 'Michael Jackson', 'N1NT3ND0', 'Maluma', 'Нервы', 'Caetano Veloso, Gilberto Gil, Ivete Sangalo', 'Ivan Dorn', 'Manu Chao', 'Sentino', 'Lemon', 'Pitbull, AFROJACK, Ne-Yo, Nayer', 'Lemon', 'The Neighbourhood', 'Kazik', 'Arctic Monkeys', 'Modern Talking', 'Pitbull, Kesha', 'Sofa', 'Arctic Monkeys', 'Pezet, As', 'Pitbull, Chris Brown', 'Sofa', 'Rihanna', 'JayDee', 'Rihanna', 'Lemon', 'Tom Odell', 'Eminem', 'Rihanna, Calvin Harris', 'Patrick Sébastien', 'OneRepublic', 'Modern Talking', 'Pitbull, Ne-Yo', 'Modern Talking', 'Avicii', 'Modern Talking', 'Kendrick Lamar, Jay Rock', 'Mr.', 'Arctic Monkeys', 'Modern Talking', 'Pitbull, Christina Aguilera', 'Revolver', 'Pitbull, T-Pain', 'MOMO', 'Hozier', 'MOMO', 'Macklemore, Ryan Lewis, Macklemore & Ryan Lewis, Ray Dalton', 'Lemon', 'Lana Del Rey', 'Centrum Uśmiechu', 'USHER, Pitbull', 'Jarzębina, Kapela Drewutnia', 'Bruno Mars', 'Revolver', 'Paluch', 'Ape Escape', 'Lana Del Rey', 'Abel The Kid, Julio Iglesias Jr.', 'The Neighbourhood', 'Modern Talking', 'Vescan, Kamelia', 'Patrick Sébastien', 'Arctic Monkeys', 'Modern Talking', 'Lil Wayne, Drake, Future', 'Modern Talking', 'Grasu XXL, AMI', 'Modern Talking', 'Alex Velea', 'Revolver', 'Florin Salam', 'Modern Talking', 'Lil Wayne, Drake', 'Janosch Moldau', 'TV Girl', 'Chris Brown, Dave Audé, Christian Dwiggins', 'Alexandra Stan', 'Lemon', 'Arctic Monkeys', 'JayDee', 'Alex Velea', 'Lemon', 'Arctic Monkeys', 'Kazik', 'Kendrick Lamar, Jay Rock', 'Modern Talking', 'Maximilian, Zhao, Spike', 'Mr.', 'Alex Velea', 'Specktors, Medina', 'Pitbull, AFROJACK, Ne-Yo, Nayer', 'Abhishek - Akshay, Ayushmann Khurrana', 'Arctic Monkeys', 'พงษ์สิทธิ์ คำภีร์', 'J. Cole', 'Tech N9ne, Kendrick Lamar, ¡MAYDAY!, Kendall Morgan', 'Florin Salam', 'Eminem', 'J Balvin', 'Abel The Kid, Julio Iglesias Jr.', 'INNA', 'Lady Gaga', 'Bruno Mars', 'Evan Yo', 'Childish Gambino', 'Sofa', 'A$AP Rocky', 'Eddie Murphy, Snoop Lion', 'The Neighbourhood', 'Modern Talking', 'Arctic Monkeys', 'Modern Talking', 'Valentin Strykalo', 'Abhishek - Akshay, Ayushmann Khurrana', 'Нервы', 'Modern Talking', 'Arctic Monkeys', 'Modern Talking', 'KRBK', 'Tech N9ne, Kendrick Lamar, ¡MAYDAY!, Kendall Morgan', 'Нервы', 'Eminem', 'Valentin Strykalo', 'Modern Talking', 'Lady Gaga', 'Lady Gaga', 'Valentin Strykalo', 'Modern Talking', 'Arctic Monkeys', 'Eddie Murphy, Snoop Lion', 'Max Korzh', 'Abhishek - Akshay, Akshay Verma', 'Okean Elzy', 'Jeet Gannguli, Arijit Singh', 'Valentin Strykalo', 'Eduardo Costa', 'Скрябін', 'Dove Cameron, Luke Benward', 'Valentin Strykalo', 'Anna Kendrick', 'TV Girl', 'Lipo, Yanna', 'Valentin Strykalo', 'Wolfgang Petry', 'PHARAOH', 'Drake', 'Arctic Monkeys', 'Peter Hofmann', 'Rihanna', 'Grupo Revelação', 'TERESHINA', 'Miley Cyrus', 'KRBK, Sимптом', 'Ne-Yo', 'Okean Elzy', 'Michael Jackson', 'Ivan Dorn', 'Maluma', 'Max Korzh', 'Modern Talking', 'Max Korzh', 'Modern Talking', 'Нервы', 'Abhishek - Akshay, Ayushmann Khurrana', 'Max Korzh', 'Modern Talking', 'Нервы', 'Modern Talking', 'TERESHINA', 'Tech N9ne, Kendrick Lamar, ¡MAYDAY!, Kendall Morgan', 'Yin-Yang', 'Eminem', 'PHARAOH', 'Modern Talking', 'Noize MC', 'Lady Gaga', 'The Neighbourhood', 'Modern Talking', 'Max Korzh', 'Eddie Murphy, Snoop Lion', 'Max Korzh', 'Abhishek - Akshay, Akshay Verma', 'Valentin Strykalo', 'Jeet Gannguli, Arijit Singh', 'Дайте танк (!)', 'Eduardo Costa', 'N1NT3ND0', 'Anna Kendrick', 'Valentin Strykalo', 'Lipo, Yanna', 'KRBK', 'Wolfgang Petry', 'Valentin Strykalo', 'Drake', 'Valentin Strykalo', 'Peter Hofmann', 'Valentin Strykalo', 'Grupo Revelação', 'PHARAOH, Ca$$xttx', 'Miley Cyrus', 'Max Korzh', 'Michael Jackson', 'Lady Gaga', 'Maluma', 'Valentin Strykalo', 'Caetano Veloso, Gilberto Gil, Ivete Sangalo', 'Gradusy', 'Manu Chao', 'Andrea', 'Lemon', 'Konstantin, Emanuela', 'Modern Talking', 'Alisia', 'Modern Talking', 'Billy Hlapeto, Lexus, Dim4ou', 'Modern Talking', 'Emanuela, Jordan', 'Modern Talking', 'Preslava', 'JayDee', 'Krisko, Lora Karajova, Bobo', 'Lemon', 'Emanuela', 'Kazik', 'The Neighbourhood', 'Modern Talking', 'Djordan', 'Mr.', 'Djordan', 'Patrick Sébastien', 'Arctic Monkeys', 'Specktors, Medina', 'Krisko', 'Abhishek - Akshay, Ayushmann Khurrana', 'Azis, Vanko 1', 'Modern Talking', 'Lil Wayne, Drake', 'พงษ์สิทธิ์ คำภีร์', 'Lil Wayne, Drake, Future', 'Tech N9ne, Kendrick Lamar, ¡MAYDAY!, Kendall Morgan', 'Arctic Monkeys', 'Eminem', 'Emanuela, Serdar Ortac', 'Abel The Kid, Julio Iglesias Jr.', 'Bat Ventsi, Goodslav, Buch, 100 Kila', 'Lady Gaga', 'Azis', 'Evan Yo', 'Toni Storaro, Fiki', 'Sofa', 'Djena', 'Eddie Murphy, Snoop Lion', 'Bruno Mars', 'Revolver', 'Pitbull, AFROJACK, Ne-Yo, Nayer', 'Pezet, As', 'Rihanna', 'Abhishek - Akshay, Akshay Verma', 'The Neighbourhood', 'Modern Talking', 'Tom Odell', 'Modern Talking', 'ŠKWOR', 'JayDee', 'Pitbull, AFROJACK, Ne-Yo, Nayer', 'Mr.', 'Avicii', 'Revolver', 'Pitbull, Kesha', 'Lemon', 'OneRepublic', 'Shreya Ghoshal, Sachin', 'Macklemore, Ryan Lewis, Macklemore & Ryan Lewis, Ray Dalton', 'Lemon', 'Imagine Dragons', 'Modern Talking', 'WALK THE MOON', 'Modern Talking', 'Michal Hruza', 'Modern Talking', 'Arctic Monkeys', 'Ewa Farna', 'Coldplay', 'Michal Hruza', 'Wohnout', 'Modern Talking', 'Carly Rae Jepsen', 'Patrick Sébastien', 'Hozier', 'Kazik', 'Pitbull, Chris Brown', 'Specktors, Medina', 'Avicii', 'Abhishek - Akshay, Ayushmann Khurrana', 'Wale, Sam Dew', 'พงษ์สิทธิ์ คำภีร์', 'Bruno Mars', 'Tech N9ne, Kendrick Lamar, ¡MAYDAY!, Kendall Morgan', 'David Guetta, Kid Cudi', 'Eminem', 'Kesha', 'Abel The Kid, Julio Iglesias Jr.', 'Lana Del Rey', 'Lady Gaga', 'David Guetta, Sia', 'Evan Yo', 'Imagine Dragons', 'Sofa', 'Pitbull, AFROJACK, Ne-Yo, Nayer', 'JayDee', 'The Neighbourhood', 'Modern Talking', 'Tom Odell', 'Modern Talking', 'Arctic Monkeys', 'Lemon', 'Pitbull, Kesha', 'Lemon', 'Pitbull, Chris Brown', 'Modern Talking', 'Avicii', 'Modern Talking', 'Wale, Sam Dew', 'Modern Talking', 'Coldplay', 'Kazik', 'Macklemore, Ryan Lewis, Macklemore & Ryan Lewis, Ray Dalton', 'Modern Talking', 'OneRepublic', 'Mr.', 'Imagine Dragons', 'Patrick Sébastien', 'Bruno Mars', 'Specktors, Medina', 'Rihanna', 'Abhishek - Akshay, Ayushmann Khurrana', 'Rihanna, Calvin Harris', 'พงษ์สิทธิ์ คำภีร์', 'Rihanna', 'Tech N9ne, Kendrick Lamar, ¡MAYDAY!, Kendall Morgan', 'David Guetta, Kid Cudi', 'Eminem', 'Kesha', 'Abel The Kid, Julio Iglesias Jr.', 'USHER, Pitbull', 'Lady Gaga', 'J. Cole', 'Evan Yo', 'WALK THE MOON', 'Sofa', 'Milky Chance', 'Eddie Murphy, Snoop Lion', 'Arctic Monkeys', 'Revolver', 'Carly Rae Jepsen', 'Pezet, As', 'Bruno Mars', 'Abhishek - Akshay, Akshay Verma', 'The Neighbourhood', 'JayDee', 'Pitbull, AFROJACK, Ne-Yo, Nayer', 'Modern Talking', 'Wale, Sam Dew', 'Revolver', 'Avicii', 'Lemon', 'Don Omar, Lucenzo', 'Revolver', 'Arctic Monkeys', 'Abel The Kid, Julio Iglesias Jr.', 'Pitbull, Kesha', 'Modern Talking', 'Tom Odell', 'Modern Talking', 'WALK THE MOON', 'Modern Talking', 'Horváth Tamás, RAUL, Misshmusic', 'Modern Talking', 'Macklemore, Ryan Lewis, Macklemore & Ryan Lewis, Ray Dalton', 'Vato Gonzalez, Foreign Beggars', 'OneRepublic', 'Lemon', 'Pitbull, Chris Brown', 'Kazik', 'Bruno Mars', 'Modern Talking', 'Hozier', 'Mr.', 'Imagine Dragons', 'Patrick Sébastien', 'Arctic Monkeys', 'Specktors, Medina', 'Coldplay', 'Abhishek - Akshay, Ayushmann Khurrana', 'Rihanna', 'พงษ์สิทธิ์ คำภีร์', 'David Guetta, Kid Cudi', 'Tech N9ne, Kendrick Lamar, ¡MAYDAY!, Kendall Morgan', 'Punnany Massif', 'Eminem', 'Rihanna', 'Abel The Kid, Julio Iglesias Jr.', 'Avicii', 'Lady Gaga', 'J. Cole', 'Evan Yo', 'Kesha', 'Mariene De Castro', 'The Neighbourhood', 'Modern Talking', 'Arctic Monkeys', 'Modern Talking', 'Basta', 'Abhishek - Akshay, Ayushmann Khurrana', 'KRBK', 'Modern Talking', 'Max Korzh', 'Modern Talking', 'Arctic Monkeys', 'Tech N9ne, Kendrick Lamar, ¡MAYDAY!, Kendall Morgan', 'TV Girl', 'Eminem', 'Lil Wayne, Drake, Future', 'Modern Talking', 'Arctic Monkeys', 'Lady Gaga', 'Arctic Monkeys', 'Modern Talking', 'Max Korzh', 'Eddie Murphy, Snoop Lion', 'Vescan, Kamelia', 'Abhishek - Akshay, Akshay Verma', 'Kaspiyskiy Gruz', 'Jeet Gannguli, Arijit Singh', 'salvia palth', 'Eduardo Costa', 'Kendrick Lamar, Jay Rock', 'Dove Cameron, Luke Benward', 'Нервы', 'Anna Kendrick', 'Adele', 'Wolfgang Petry', 'Kendrick Lamar', 'Drake', '9 Gramm', 'Peter Hofmann', 'Lil Wayne, Drake', 'Grupo Revelação', 'Basta', 'Miley Cyrus', 'Lana Del Rey', 'Michael Jackson', 'N1NT3ND0', 'Maluma', 'Нервы', 'Caetano Veloso, Gilberto Gil, Ivete Sangalo', 'Ivan Dorn', 'Manu Chao', 'Sentino', 'Lemon', 'Pitbull, AFROJACK, Ne-Yo, Nayer', 'Lemon', 'The Neighbourhood', 'Kazik', 'Arctic Monkeys', 'Modern Talking', 'Pitbull, Kesha', 'Sofa', 'Arctic Monkeys', 'Pezet, As', 'Pitbull, Chris Brown', 'Sofa', 'Rihanna', 'JayDee', 'Rihanna', 'Lemon', 'Tom Odell', 'Eminem', 'Rihanna, Calvin Harris', 'Patrick Sébastien', 'OneRepublic', 'Modern Talking', 'Pitbull, Ne-Yo', 'Modern Talking', 'Avicii', 'Modern Talking', 'Kendrick Lamar, Jay Rock', 'Mr.', 'Arctic Monkeys', 'Modern Talking', 'Pitbull, Christina Aguilera', 'Revolver', 'Pitbull, T-Pain', 'MOMO', 'Hozier', 'MOMO', 'Macklemore, Ryan Lewis, Macklemore & Ryan Lewis, Ray Dalton', 'Lemon', 'Lana Del Rey', 'Centrum Uśmiechu', 'USHER, Pitbull', 'Jarzębina, Kapela Drewutnia', 'Bruno Mars', 'Revolver', 'Paluch', 'Ape Escape', 'Lana Del Rey', 'Abel The Kid, Julio Iglesias Jr.', 'The Neighbourhood', 'Modern Talking', 'Vescan, Kamelia', 'Patrick Sébastien', 'Arctic Monkeys', 'Modern Talking', 'Lil Wayne, Drake, Future', 'Modern Talking', 'Grasu XXL, AMI', 'Modern Talking', 'Alex Velea', 'Revolver', 'Florin Salam', 'Modern Talking', 'Lil Wayne, Drake', 'Janosch Moldau', 'TV Girl', 'Chris Brown, Dave Audé, Christian Dwiggins', 'Alexandra Stan', 'Lemon', 'Arctic Monkeys', 'JayDee', 'Alex Velea', 'Lemon', 'Arctic Monkeys', 'Kazik', 'Kendrick Lamar, Jay Rock', 'Modern Talking', 'Maximilian, Zhao, Spike', 'Mr.', 'Alex Velea', 'Specktors, Medina', 'Pitbull, AFROJACK, Ne-Yo, Nayer', 'Abhishek - Akshay, Ayushmann Khurrana', 'Arctic Monkeys', 'พงษ์สิทธิ์ คำภีร์', 'J. Cole', 'Tech N9ne, Kendrick Lamar, ¡MAYDAY!, Kendall Morgan', 'Florin Salam', 'Eminem', 'J Balvin', 'Abel The Kid, Julio Iglesias Jr.', 'INNA', 'Lady Gaga', 'Bruno Mars', 'Evan Yo', 'Childish Gambino', 'Sofa', 'A$AP Rocky', 'Eddie Murphy, Snoop Lion', 'The Neighbourhood', 'Modern Talking', 'Arctic Monkeys', 'Modern Talking', 'Valentin Strykalo', 'Abhishek - Akshay, Ayushmann Khurrana', 'Нервы', 'Modern Talking', 'Arctic Monkeys', 'Modern Talking', 'KRBK', 'Tech N9ne, Kendrick Lamar, ¡MAYDAY!, Kendall Morgan', 'Нервы', 'Eminem', 'Valentin Strykalo', 'Modern Talking', 'Lady Gaga', 'Lady Gaga', 'Valentin Strykalo', 'Modern Talking', 'Arctic Monkeys', 'Eddie Murphy, Snoop Lion', 'Max Korzh', 'Abhishek - Akshay, Akshay Verma', 'Okean Elzy', 'Jeet Gannguli, Arijit Singh', 'Valentin Strykalo', 'Eduardo Costa', 'Скрябін', 'Dove Cameron, Luke Benward', 'Valentin Strykalo', 'Anna Kendrick', 'TV Girl', 'Lipo, Yanna', 'Valentin Strykalo', 'Wolfgang Petry', 'PHARAOH', 'Drake', 'Arctic Monkeys', 'Peter Hofmann', 'Rihanna', 'Grupo Revelação', 'TERESHINA', 'Miley Cyrus', 'KRBK, Sимптом', 'Ne-Yo', 'Okean Elzy', 'Michael Jackson', 'Ivan Dorn', 'Maluma'], 'pais': ['BY', 'BY', 'BY', 'BY', 'BY', 'BY', 'BY', 'BY', 'BY', 'BY', 'BY', 'BY', 'BY', 'BY', 'BY', 'BY', 'BY', 'BY', 'BY', 'BY', 'BY', 'BY', 'BY', 'BY', 'BY', 'BY', 'BY', 'BY', 'BY', 'BY', 'BY', 'BY', 'BY', 'BY', 'BY', 'BY', 'BY', 'BY', 'BY', 'BY', 'BY', 'BY', 'BY', 'BY', 'BY', 'BY', 'BY', 'BY', 'BY', 'BY', 'BG', 'BG', 'BG', 'BG', 'BG', 'BG', 'BG', 'BG', 'BG', 'BG', 'BG', 'BG', 'BG', 'BG', 'BG', 'BG', 'BG', 'BG', 'BG', 'BG', 'BG', 'BG', 'BG', 'BG', 'BG', 'BG', 'BG', 'BG', 'BG', 'BG', 'BG', 'BG', 'BG', 'BG', 'BG', 'BG', 'BG', 'BG', 'BG', 'BG', 'BG', 'BG', 'BG', 'BG', 'BG', 'BG', 'BG', 'BG', 'BG', 'BG', 'CZ', 'CZ', 'CZ', 'CZ', 'CZ', 'CZ', 'CZ', 'CZ', 'CZ', 'CZ', 'CZ', 'CZ', 'CZ', 'CZ', 'CZ', 'CZ', 'CZ', 'CZ', 'CZ', 'CZ', 'CZ', 'CZ', 'CZ', 'CZ', 'CZ', 'CZ', 'CZ', 'CZ', 'CZ', 'CZ', 'CZ', 'CZ', 'CZ', 'CZ', 'CZ', 'CZ', 'CZ', 'CZ', 'CZ', 'CZ', 'CZ', 'CZ', 'CZ', 'CZ', 'CZ', 'CZ', 'CZ', 'CZ', 'CZ', 'CZ', 'SK', 'SK', 'SK', 'SK', 'SK', 'SK', 'SK', 'SK', 'SK', 'SK', 'SK', 'SK', 'SK', 'SK', 'SK', 'SK', 'SK', 'SK', 'SK', 'SK', 'SK', 'SK', 'SK', 'SK', 'SK', 'SK', 'SK', 'SK', 'SK', 'SK', 'SK', 'SK', 'SK', 'SK', 'SK', 'SK', 'SK', 'SK', 'SK', 'SK', 'SK', 'SK', 'SK', 'SK', 'SK', 'SK', 'SK', 'SK', 'SK', 'SK', 'HU', 'HU', 'HU', 'HU', 'HU', 'HU', 'HU', 'HU', 'HU', 'HU', 'HU', 'HU', 'HU', 'HU', 'HU', 'HU', 'HU', 'HU', 'HU', 'HU', 'HU', 'HU', 'HU', 'HU', 'HU', 'HU', 'HU', 'HU', 'HU', 'HU', 'HU', 'HU', 'HU', 'HU', 'HU', 'HU', 'HU', 'HU', 'HU', 'HU', 'HU', 'HU', 'HU', 'HU', 'HU', 'HU', 'HU', 'HU', 'HU', 'HU', 'MD', 'MD', 'MD', 'MD', 'MD', 'MD', 'MD', 'MD', 'MD', 'MD', 'MD', 'MD', 'MD', 'MD', 'MD', 'MD', 'MD', 'MD', 'MD', 'MD', 'MD', 'MD', 'MD', 'MD', 'MD', 'MD', 'MD', 'MD', 'MD', 'MD', 'MD', 'MD', 'MD', 'MD', 'MD', 'MD', 'MD', 'MD', 'MD', 'MD', 'MD', 'MD', 'MD', 'MD', 'MD', 'MD', 'MD', 'MD', 'MD', 'MD', 'PL', 'PL', 'PL', 'PL', 'PL', 'PL', 'PL', 'PL', 'PL', 'PL', 'PL', 'PL', 'PL', 'PL', 'PL', 'PL', 'PL', 'PL', 'PL', 'PL', 'PL', 'PL', 'PL', 'PL', 'PL', 'PL', 'PL', 'PL', 'PL', 'PL', 'PL', 'PL', 'PL', 'PL', 'PL', 'PL', 'PL', 'PL', 'PL', 'PL', 'PL', 'PL', 'PL', 'PL', 'PL', 'PL', 'PL', 'PL', 'PL', 'PL', 'RO', 'RO', 'RO', 'RO', 'RO', 'RO', 'RO', 'RO', 'RO', 'RO', 'RO', 'RO', 'RO', 'RO', 'RO', 'RO', 'RO', 'RO', 'RO', 'RO', 'RO', 'RO', 'RO', 'RO', 'RO', 'RO', 'RO', 'RO', 'RO', 'RO', 'RO', 'RO', 'RO', 'RO', 'RO', 'RO', 'RO', 'RO', 'RO', 'RO', 'RO', 'RO', 'RO', 'RO', 'RO', 'RO', 'RO', 'RO', 'RO', 'RO', 'UA', 'UA', 'UA', 'UA', 'UA', 'UA', 'UA', 'UA', 'UA', 'UA', 'UA', 'UA', 'UA', 'UA', 'UA', 'UA', 'UA', 'UA', 'UA', 'UA', 'UA', 'UA', 'UA', 'UA', 'UA', 'UA', 'UA', 'UA', 'UA', 'UA', 'UA', 'UA', 'UA', 'UA', 'UA', 'UA', 'UA', 'UA', 'UA', 'UA', 'UA', 'UA', 'UA', 'UA', 'UA', 'UA', 'UA', 'UA', 'UA', 'UA', 'BY', 'BY', 'BY', 'BY', 'BY', 'BY', 'BY', 'BY', 'BY', 'BY', 'BY', 'BY', 'BY', 'BY', 'BY', 'BY', 'BY', 'BY', 'BY', 'BY', 'BY', 'BY', 'BY', 'BY', 'BY', 'BY', 'BY', 'BY', 'BY', 'BY', 'BY', 'BY', 'BY', 'BY', 'BY', 'BY', 'BY', 'BY', 'BY', 'BY', 'BY', 'BY', 'BY', 'BY', 'BY', 'BY', 'BY', 'BY', 'BY', 'BY', 'BG', 'BG', 'BG', 'BG', 'BG', 'BG', 'BG', 'BG', 'BG', 'BG', 'BG', 'BG', 'BG', 'BG', 'BG', 'BG', 'BG', 'BG', 'BG', 'BG', 'BG', 'BG', 'BG', 'BG', 'BG', 'BG', 'BG', 'BG', 'BG', 'BG', 'BG', 'BG', 'BG', 'BG', 'BG', 'BG', 'BG', 'BG', 'BG', 'BG', 'BG', 'BG', 'BG', 'BG', 'BG', 'BG', 'BG', 'BG', 'BG', 'BG', 'CZ', 'CZ', 'CZ', 'CZ', 'CZ', 'CZ', 'CZ', 'CZ', 'CZ', 'CZ', 'CZ', 'CZ', 'CZ', 'CZ', 'CZ', 'CZ', 'CZ', 'CZ', 'CZ', 'CZ', 'CZ', 'CZ', 'CZ', 'CZ', 'CZ', 'CZ', 'CZ', 'CZ', 'CZ', 'CZ', 'CZ', 'CZ', 'CZ', 'CZ', 'CZ', 'CZ', 'CZ', 'CZ', 'CZ', 'CZ', 'CZ', 'CZ', 'CZ', 'CZ', 'CZ', 'CZ', 'CZ', 'CZ', 'CZ', 'CZ', 'SK', 'SK', 'SK', 'SK', 'SK', 'SK', 'SK', 'SK', 'SK', 'SK', 'SK', 'SK', 'SK', 'SK', 'SK', 'SK', 'SK', 'SK', 'SK', 'SK', 'SK', 'SK', 'SK', 'SK', 'SK', 'SK', 'SK', 'SK', 'SK', 'SK', 'SK', 'SK', 'SK', 'SK', 'SK', 'SK', 'SK', 'SK', 'SK', 'SK', 'SK', 'SK', 'SK', 'SK', 'SK', 'SK', 'SK', 'SK', 'SK', 'SK', 'HU', 'HU', 'HU', 'HU', 'HU', 'HU', 'HU', 'HU', 'HU', 'HU', 'HU', 'HU', 'HU', 'HU', 'HU', 'HU', 'HU', 'HU', 'HU', 'HU', 'HU', 'HU', 'HU', 'HU', 'HU', 'HU', 'HU', 'HU', 'HU', 'HU', 'HU', 'HU', 'HU', 'HU', 'HU', 'HU', 'HU', 'HU', 'HU', 'HU', 'HU', 'HU', 'HU', 'HU', 'HU', 'HU', 'HU', 'HU', 'HU', 'HU', 'MD', 'MD', 'MD', 'MD', 'MD', 'MD', 'MD', 'MD', 'MD', 'MD', 'MD', 'MD', 'MD', 'MD', 'MD', 'MD', 'MD', 'MD', 'MD', 'MD', 'MD', 'MD', 'MD', 'MD', 'MD', 'MD', 'MD', 'MD', 'MD', 'MD', 'MD', 'MD', 'MD', 'MD', 'MD', 'MD', 'MD', 'MD', 'MD', 'MD', 'MD', 'MD', 'MD', 'MD', 'MD', 'MD', 'MD', 'MD', 'MD', 'MD', 'PL', 'PL', 'PL', 'PL', 'PL', 'PL', 'PL', 'PL', 'PL', 'PL', 'PL', 'PL', 'PL', 'PL', 'PL', 'PL', 'PL', 'PL', 'PL', 'PL', 'PL', 'PL', 'PL', 'PL', 'PL', 'PL', 'PL', 'PL', 'PL', 'PL', 'PL', 'PL', 'PL', 'PL', 'PL', 'PL', 'PL', 'PL', 'PL', 'PL', 'PL', 'PL', 'PL', 'PL', 'PL', 'PL', 'PL', 'PL', 'PL', 'PL', 'RO', 'RO', 'RO', 'RO', 'RO', 'RO', 'RO', 'RO', 'RO', 'RO', 'RO', 'RO', 'RO', 'RO', 'RO', 'RO', 'RO', 'RO', 'RO', 'RO', 'RO', 'RO', 'RO', 'RO', 'RO', 'RO', 'RO', 'RO', 'RO', 'RO', 'RO', 'RO', 'RO', 'RO', 'RO', 'RO', 'RO', 'RO', 'RO', 'RO', 'RO', 'RO', 'RO', 'RO', 'RO', 'RO', 'RO', 'RO', 'RO', 'RO', 'UA', 'UA', 'UA', 'UA', 'UA', 'UA', 'UA', 'UA', 'UA', 'UA', 'UA', 'UA', 'UA', 'UA', 'UA', 'UA', 'UA', 'UA', 'UA', 'UA', 'UA', 'UA', 'UA', 'UA', 'UA', 'UA', 'UA', 'UA', 'UA', 'UA', 'UA', 'UA', 'UA', 'UA', 'UA', 'UA', 'UA', 'UA', 'UA', 'UA', 'UA', 'UA', 'UA', 'UA', 'UA', 'UA', 'UA', 'UA', 'UA', 'UA'], 'genero': []}\n"
     ]
    }
   ],
   "source": [
    "print(prueba)"
   ]
  },
  {
   "cell_type": "code",
   "execution_count": 18,
   "metadata": {},
   "outputs": [],
   "source": [
    "def filtro_de_datos(lista_datos_zonas, datos):\n",
    "    for datos_pais in lista_datos_zonas:\n",
    "        for element in datos_pais['datos']['tracks']['items']:\n",
    "            datos['pais'].append(datos_pais['pais'])\n",
    "            datos['popularity'].append(element['popularity'])\n",
    "            datos['nombre'].append(element['name'])\n",
    "            artistas = []\n",
    "            for artista in element['artists']:\n",
    "                artistas.append(artista['name'])   \n",
    "            artistas_str = ', '.join(artistas)\n",
    "            datos['artista'].append(artistas_str)"
   ]
  },
  {
   "cell_type": "code",
   "execution_count": 19,
   "metadata": {},
   "outputs": [],
   "source": [
    "filtro_de_datos (paises_este_europa, datos_paises_este_europa)"
   ]
  },
  {
   "cell_type": "code",
   "execution_count": 20,
   "metadata": {},
   "outputs": [
    {
     "name": "stdout",
     "output_type": "stream",
     "text": [
      "{'nombre': ['Жить в кайф', 'Cheri Cheri Lady (Peters Pop-Show 30.11.1985) - Live from Peters Pop Show, 1985', 'Стань', 'You Are Not Alone (Wetten, dass...? 20.02.1999) - Live from Wetten, dass...?, 1999', 'Батареи', 'Pani Da Rang (From \"Vicky Donor\") - Male Vocals', 'Эндорфин', 'You Can Win If You Want (Wetten, dass...? 18.05.1985) - Live from Wetten, dass...?, 1985', 'Нервы', \"Geronimo's Cadillac (Peters Pop-Show 06.12.1986) - Live from Peters Pop-Show, 1986\", 'Обломки чувств', \"Fragile (Director's Cut)\", 'О Yeah', 'The Real Slim Shady - Edited', 'Black Siemens', 'Atlantis Is Calling (Na, sowas! 17.05.1986) - Live from Na, sowas!, 1986', 'Вселенная бесконечна?', 'G.U.Y. - An ARTPOP Film', 'Sweater Weather', 'Heaven Will Know (Peters Pop-Show 30.11.1985) - Live from Peters Pop Show, 1985', 'Мотылёк', 'Red Light (feat. Snoop Lion)', 'Где твоя любовь?', 'Rum Whisky (From \"Vicky Donor\")', 'Все мои друзья', 'Muskurane (Film Version) [From \"Citylights\"]', 'Маленький', 'Eu Aposto - Ao Vivo', 'Lambada', \"Cups (Pitch Perfect’s “When I’m Gone”) - Director's Cut / Closed-Captioned\", 'Кайен', 'Kruhy', 'Парусник', \"Verlieben, verloren, vergessen, verzeih'n (ZDF Hitparade 30.01.1992) - VOD\", 'Ты не такая', 'Find Your Love - Extended Version', 'Дешёвые драмы', 'All By Myself (ZDF Tele-Illustrierte 17.01.1989) - VOD', 'Фанк', 'Pai', 'Бойсбэнд', \"Wrecking Ball - Director's Cut\", 'Небо поможет нам', 'Smooth Criminal', 'Judas', 'Magia - Intro', 'Наше лето', 'Se Eu Não Te Amasse Tanto Assim', 'Голая', 'Politik Kills', 'Losha', 'Bede Z Toba', 'Ne me zasluzhavash', 'Cheri Cheri Lady (Peters Pop-Show 30.11.1985) - Live from Peters Pop Show, 1985', 'Imame li vrazka', 'Heaven Will Know (Peters Pop-Show 30.11.1985) - Live from Peters Pop Show, 1985', 'Башмайсторска', \"Geronimo's Cadillac (Peters Pop-Show 06.12.1986) - Live from Peters Pop-Show, 1986\", 'Ot Moiata Usta', 'Atlantis Is Calling (Na, sowas! 17.05.1986) - Live from Na, sowas!, 1986', 'Moeto slabo myasto', 'Plastic Dreams 2003', 'Ministarat Na Veselieto', 'Bede Z Toba - Hangout Live', 'Rom-pom-pom', 'Ballada o Janku Wisniewskim', 'Sweater Weather', 'You Are Not Alone (Wetten, dass...? 20.02.1999) - Live from Wetten, dass...?, 1999', 'Полудей', 'Iré tras de ti', 'Sama Shte Si Govorish', 'Il fait chaud', 'I Wanna Be Yours', 'Lågsus (feat. Medina)', 'Ideal Petroff', 'Pani Da Rang (From \"Vicky Donor\") - Male Vocals', 'Kato Tebe Vtori Nyama', 'You Can Win If You Want (Wetten, dass...? 18.05.1985) - Live from Wetten, dass...?, 1985', 'She Will', '25 ปี (มีหวัง)', 'Love Me', \"Fragile (Director's Cut)\", 'Do I Wanna Know?', 'The Real Slim Shady - Edited', 'Pitam Te Posledno', 'Smile', 'Kradi, kradi', 'G.U.Y. - An ARTPOP Film', 'Nyama Nakade', '好不好', 'Кажи ми като мъж', 'Hardkor i disko', 'Ne e lyubov', 'Red Light (feat. Snoop Lion)', 'Locked out of Heaven', 'Losing You', 'Give Me Everything (feat. Nayer)', 'Byłem (feat. As)', 'S&M', 'Rum Whisky (From \"Vicky Donor\")', 'Sweater Weather', 'Atlantis Is Calling (Na, sowas! 17.05.1986) - Live from Na, sowas!, 1986', 'Another Love', 'Cheri Cheri Lady (Peters Pop-Show 30.11.1985) - Live from Peters Pop Show, 1985', 'Síla Starejch Vín', 'Plastic Dreams 2003', 'Give Me Everything (feat. Nayer)', 'Iré tras de ti', 'Wake Me Up', 'Wind Song', 'Timber', 'Bede Z Toba - Hangout Live', 'Counting Stars', 'Thoda Thoda', \"Can't Hold Us (feat. Ray Dalton)\", 'Bede Z Toba', 'Demons', \"Geronimo's Cadillac (Peters Pop-Show 06.12.1986) - Live from Peters Pop-Show, 1986\", 'Shut Up and Dance', 'Heaven Will Know (Peters Pop-Show 30.11.1985) - Live from Peters Pop Show, 1985', 'Zakazane uvolneni', 'You Can Win If You Want (Wetten, dass...? 18.05.1985) - Live from Wetten, dass...?, 1985', 'I Wanna Be Yours', 'Ulubiona Rzecz', 'A Sky Full of Stars', 'Naporad - Live Acoustic Version', 'Svaz českých bohémů', 'You Are Not Alone (Wetten, dass...? 20.02.1999) - Live from Wetten, dass...?, 1999', 'Call Me Maybe', 'Il fait chaud', 'Take Me To Church', 'Ballada o Janku Wisniewskim', 'International Love (feat. Chris Brown)', 'Lågsus (feat. Medina)', 'The Nights', 'Pani Da Rang (From \"Vicky Donor\") - Male Vocals', 'LoveHate Thing (feat. Sam Dew)', '25 ปี (มีหวัง)', 'Locked out of Heaven', \"Fragile (Director's Cut)\", 'Memories (feat. Kid Cudi)', 'The Real Slim Shady - Edited', 'TiK ToK', 'Smile', 'Summertime Sadness', 'G.U.Y. - An ARTPOP Film', 'Titanium (feat. Sia)', '好不好', 'Radioactive', 'Hardkor i disko', 'Give Me Everything (feat. Nayer)', 'Plastic Dreams 2003', 'Sweater Weather', 'Cheri Cheri Lady (Peters Pop-Show 30.11.1985) - Live from Peters Pop Show, 1985', 'Another Love', \"Geronimo's Cadillac (Peters Pop-Show 06.12.1986) - Live from Peters Pop-Show, 1986\", 'I Wanna Be Yours', 'Bede Z Toba - Hangout Live', 'Timber', 'Bede Z Toba', 'International Love (feat. Chris Brown)', 'You Can Win If You Want (Wetten, dass...? 18.05.1985) - Live from Wetten, dass...?, 1985', 'Wake Me Up', 'Atlantis Is Calling (Na, sowas! 17.05.1986) - Live from Na, sowas!, 1986', 'LoveHate Thing (feat. Sam Dew)', 'Heaven Will Know (Peters Pop-Show 30.11.1985) - Live from Peters Pop Show, 1985', 'A Sky Full of Stars', 'Ballada o Janku Wisniewskim', \"Can't Hold Us (feat. Ray Dalton)\", 'You Are Not Alone (Wetten, dass...? 20.02.1999) - Live from Wetten, dass...?, 1999', 'Counting Stars', 'Iré tras de ti', 'Demons', 'Il fait chaud', 'Locked out of Heaven', 'Lågsus (feat. Medina)', 'S&M', 'Pani Da Rang (From \"Vicky Donor\") - Male Vocals', 'We Found Love', '25 ปี (มีหวัง)', 'Only Girl (In The World)', \"Fragile (Director's Cut)\", 'Memories (feat. Kid Cudi)', 'The Real Slim Shady - Edited', 'TiK ToK', 'Smile', \"DJ Got Us Fallin' In Love (feat. Pitbull)\", 'G.U.Y. - An ARTPOP Film', 'No Role Modelz', '好不好', 'Shut Up and Dance', 'Hardkor i disko', 'Stolen Dance', 'Red Light (feat. Snoop Lion)', 'Do I Wanna Know?', 'Losing You', 'Call Me Maybe', 'Byłem (feat. As)', 'Just the Way You Are', 'Rum Whisky (From \"Vicky Donor\")', 'Sweater Weather', 'Plastic Dreams 2003', 'Give Me Everything (feat. Nayer)', 'Cheri Cheri Lady (Peters Pop-Show 30.11.1985) - Live from Peters Pop Show, 1985', 'LoveHate Thing (feat. Sam Dew)', 'Losing You', 'Wake Me Up', 'Bede Z Toba', 'Danza Kuduro', 'Wind Song', 'I Wanna Be Yours', 'My Love a Piece of My Love (feat. Snoop Dogg)', 'Timber', 'Heaven Will Know (Peters Pop-Show 30.11.1985) - Live from Peters Pop Show, 1985', 'Another Love', 'Atlantis Is Calling (Na, sowas! 17.05.1986) - Live from Na, sowas!, 1986', 'Shut Up and Dance', \"Geronimo's Cadillac (Peters Pop-Show 06.12.1986) - Live from Peters Pop-Show, 1986\", 'Beléd Estem', 'You Can Win If You Want (Wetten, dass...? 18.05.1985) - Live from Wetten, dass...?, 1985', \"Can't Hold Us (feat. Ray Dalton)\", 'Badman Riddim (Jump) (feat. Foreign Beggars)', 'Counting Stars', 'Bede Z Toba - Hangout Live', 'International Love (feat. Chris Brown)', 'Ballada o Janku Wisniewskim', 'Locked out of Heaven', 'You Are Not Alone (Wetten, dass...? 20.02.1999) - Live from Wetten, dass...?, 1999', 'Take Me To Church', 'Iré tras de ti', 'Demons', 'Il fait chaud', 'Do I Wanna Know?', 'Lågsus (feat. Medina)', 'A Sky Full of Stars', 'Pani Da Rang (From \"Vicky Donor\") - Male Vocals', 'S&M', '25 ปี (มีหวัง)', 'Memories (feat. Kid Cudi)', \"Fragile (Director's Cut)\", 'Élvezd', 'The Real Slim Shady - Edited', 'Only Girl (In The World)', 'Smile', 'The Nights', 'G.U.Y. - An ARTPOP Film', 'No Role Modelz', '好不好', 'TiK ToK', 'Samba Pras Moças', 'Sweater Weather', 'Cheri Cheri Lady (Peters Pop-Show 30.11.1985) - Live from Peters Pop Show, 1985', 'I Wanna Be Yours', 'You Are Not Alone (Wetten, dass...? 20.02.1999) - Live from Wetten, dass...?, 1999', 'Universe', 'Pani Da Rang (From \"Vicky Donor\") - Male Vocals', 'Парусник', 'You Can Win If You Want (Wetten, dass...? 18.05.1985) - Live from Wetten, dass...?, 1985', 'Жить в кайф', \"Geronimo's Cadillac (Peters Pop-Show 06.12.1986) - Live from Peters Pop-Show, 1986\", 'Do I Wanna Know?', \"Fragile (Director's Cut)\", 'Lovers Rock', 'The Real Slim Shady - Edited', 'Love Me', 'Atlantis Is Calling (Na, sowas! 17.05.1986) - Live from Na, sowas!, 1986', 'No. 1 Party Anthem', 'G.U.Y. - An ARTPOP Film', \"Why'd You Only Call Me When You're High?\", 'Heaven Will Know (Peters Pop-Show 30.11.1985) - Live from Peters Pop Show, 1985', 'Эндорфин', 'Red Light (feat. Snoop Lion)', 'Piesa Mea Preferată', 'Rum Whisky (From \"Vicky Donor\")', 'Доедешь - пиши', 'Muskurane (Film Version) [From \"Citylights\"]', 'i was all over her', 'Eu Aposto - Ao Vivo', 'Money Trees', 'Cloud 9 - From \"Cloud 9\" / Original TV Movie Soundtrack', 'Нервы', \"Cups (Pitch Perfect’s “When I’m Gone”) - Director's Cut / Closed-Captioned\", 'Skyfall', \"Verlieben, verloren, vergessen, verzeih'n (ZDF Hitparade 30.01.1992) - VOD\", 'Swimming Pools (Drank)', 'Find Your Love - Extended Version', 'Плановая', 'All By Myself (ZDF Tele-Illustrierte 17.01.1989) - VOD', 'She Will', 'Pai', 'Urban', \"Wrecking Ball - Director's Cut\", 'West Coast', 'Smooth Criminal', 'Lambada', 'Magia - Intro', 'Батареи', 'Se Eu Não Te Amasse Tanto Assim', 'Северное сияние', 'Politik Kills', 'Wiecznie', 'Bede Z Toba', 'Give Me Everything (feat. Nayer)', 'Bede Z Toba - Hangout Live', 'Sweater Weather', 'Ballada o Janku Wisniewskim', 'I Wanna Be Yours', 'Cheri Cheri Lady (Peters Pop-Show 30.11.1985) - Live from Peters Pop Show, 1985', 'Timber', 'Hardkor i disko', 'Do I Wanna Know?', 'Byłem (feat. As)', 'International Love (feat. Chris Brown)', 'Serpentyny i mydlane bańki', 'S&M', 'Plastic Dreams 2003', 'Only Girl (In The World)', 'Nice', 'Another Love', 'The Real Slim Shady - Edited', 'We Found Love', 'Il fait chaud', 'Counting Stars', \"Geronimo's Cadillac (Peters Pop-Show 06.12.1986) - Live from Peters Pop-Show, 1986\", 'Time of Our Lives', 'You Can Win If You Want (Wetten, dass...? 18.05.1985) - Live from Wetten, dass...?, 1985', 'Wake Me Up', 'Atlantis Is Calling (Na, sowas! 17.05.1986) - Live from Na, sowas!, 1986', 'Money Trees', 'Iré tras de ti', \"Why'd You Only Call Me When You're High?\", 'Heaven Will Know (Peters Pop-Show 30.11.1985) - Live from Peters Pop Show, 1985', 'Feel This Moment (feat. Christina Aguilera)', 'Losing You', 'Hey Baby (Drop It to the Floor) (feat. T-Pain)', 'Milczymy', 'Take Me To Church', 'Od dzisiaj - Wideosesja Uwolnij Muzyk?', \"Can't Hold Us (feat. Ray Dalton)\", 'Scarlett', 'Summertime Sadness', 'Zdrowia Smaki - Piosenki dla dzieci', \"DJ Got Us Fallin' In Love (feat. Pitbull)\", 'Jezusa Narodzonego Wszyscy Witajmy', 'Locked out of Heaven', 'Wind Song', 'Bez Strachu', 'Invisibili', 'Young And Beautiful', 'My Love a Piece of My Love (feat. Snoop Dogg)', 'Sweater Weather', 'Cheri Cheri Lady (Peters Pop-Show 30.11.1985) - Live from Peters Pop Show, 1985', 'Piesa Mea Preferată', 'Il fait chaud', 'I Wanna Be Yours', 'You Can Win If You Want (Wetten, dass...? 18.05.1985) - Live from Wetten, dass...?, 1985', 'Love Me', 'Atlantis Is Calling (Na, sowas! 17.05.1986) - Live from Na, sowas!, 1986', 'Deja Vu', 'Heaven Will Know (Peters Pop-Show 30.11.1985) - Live from Peters Pop Show, 1985', 'Minim Doi', 'Losing You', 'Saint Tropez', \"Geronimo's Cadillac (Peters Pop-Show 06.12.1986) - Live from Peters Pop-Show, 1986\", 'She Will', 'Second Best', 'Lovers Rock', \"Don't Judge Me (Dave Aude Remix) UK Video\", 'Mr. Saxobeat - Radio Edit', 'Bede Z Toba', 'Do I Wanna Know?', 'Plastic Dreams 2003', 'E Marfa Tare', 'Bede Z Toba - Hangout Live', 'No. 1 Party Anthem', 'Ballada o Janku Wisniewskim', 'Money Trees', 'You Are Not Alone (Wetten, dass...? 20.02.1999) - Live from Wetten, dass...?, 1999', 'Domnisoare (feat. Zhao & Spike)', 'Iré tras de ti', 'Defectul Tau Sunt Eu', 'Lågsus (feat. Medina)', 'Give Me Everything (feat. Nayer)', 'Pani Da Rang (From \"Vicky Donor\") - Male Vocals', \"Why'd You Only Call Me When You're High?\", '25 ปี (มีหวัง)', 'No Role Modelz', \"Fragile (Director's Cut)\", 'Brazilianca Mea', 'The Real Slim Shady - Edited', 'Ay Vamos', 'Smile', 'Hot', 'G.U.Y. - An ARTPOP Film', 'Locked out of Heaven', '好不好', 'Les', 'Hardkor i disko', 'LVL', 'Red Light (feat. Snoop Lion)', 'Sweater Weather', 'Cheri Cheri Lady (Peters Pop-Show 30.11.1985) - Live from Peters Pop Show, 1985', 'I Wanna Be Yours', 'You Are Not Alone (Wetten, dass...? 20.02.1999) - Live from Wetten, dass...?, 1999', 'Так гріє', 'Pani Da Rang (From \"Vicky Donor\") - Male Vocals', 'Батареи', 'You Can Win If You Want (Wetten, dass...? 18.05.1985) - Live from Wetten, dass...?, 1985', 'Do I Wanna Know?', \"Geronimo's Cadillac (Peters Pop-Show 06.12.1986) - Live from Peters Pop-Show, 1986\", 'Парусник', \"Fragile (Director's Cut)\", 'Нервы', 'The Real Slim Shady - Edited', 'Кайен', 'Atlantis Is Calling (Na, sowas! 17.05.1986) - Live from Na, sowas!, 1986', 'Judas', 'G.U.Y. - An ARTPOP Film', 'Все мои друзья', 'Heaven Will Know (Peters Pop-Show 30.11.1985) - Live from Peters Pop Show, 1985', \"Why'd You Only Call Me When You're High?\", 'Red Light (feat. Snoop Lion)', 'Жить в кайф', 'Rum Whisky (From \"Vicky Donor\")', 'На небі', 'Muskurane (Film Version) [From \"Citylights\"]', 'Ты не такая', 'Eu Aposto - Ao Vivo', 'Говорили і курили', 'Cloud 9 - From \"Cloud 9\" / Original TV Movie Soundtrack', 'Фанк', \"Cups (Pitch Perfect’s “When I’m Gone”) - Director's Cut / Closed-Captioned\", 'Lovers Rock', 'Kruhy', 'Дешёвые драмы', \"Verlieben, verloren, vergessen, verzeih'n (ZDF Hitparade 30.01.1992) - VOD\", 'Black Siemens', 'Find Your Love - Extended Version', 'No. 1 Party Anthem', 'All By Myself (ZDF Tele-Illustrierte 17.01.1989) - VOD', 'S&M', 'Pai', 'Обломки чувств', \"Wrecking Ball - Director's Cut\", 'Эверест', \"Let Me Love You (Until You Learn To Love Yourself) - Director's Cut (Explicit)\", 'Я так хочу...', 'Smooth Criminal', 'Северное сияние', 'Magia - Intro'], 'popularity': [54, 2, 51, 0, 54, 0, 51, 0, 53, 0, 53, 0, 52, 0, 51, 0, 51, 0, 85, 0, 49, 0, 47, 0, 52, 0, 50, 0, 50, 0, 52, 0, 52, 0, 51, 0, 50, 0, 51, 0, 46, 0, 45, 0, 76, 0, 49, 0, 49, 0, 44, 9, 40, 2, 39, 0, 39, 0, 39, 0, 39, 2, 39, 2, 38, 1, 85, 0, 38, 0, 37, 0, 86, 0, 37, 0, 37, 0, 75, 0, 80, 0, 82, 0, 35, 0, 35, 0, 37, 0, 35, 0, 35, 0, 85, 0, 82, 0, 78, 0, 85, 0, 82, 2, 50, 2, 82, 0, 82, 0, 80, 2, 82, 0, 80, 9, 79, 0, 80, 0, 48, 0, 86, 0, 83, 0, 48, 0, 76, 0, 78, 1, 77, 0, 80, 0, 76, 0, 85, 0, 75, 0, 79, 0, 78, 0, 77, 0, 75, 0, 82, 2, 85, 2, 82, 0, 86, 2, 80, 9, 77, 0, 82, 0, 76, 0, 83, 1, 80, 0, 82, 0, 79, 0, 85, 0, 78, 0, 78, 0, 79, 0, 75, 0, 79, 0, 79, 0, 81, 0, 80, 0, 75, 0, 82, 0, 76, 0, 78, 0, 85, 2, 82, 2, 76, 0, 82, 9, 71, 0, 86, 0, 80, 0, 82, 0, 80, 0, 44, 0, 80, 0, 82, 2, 77, 1, 85, 0, 78, 0, 79, 0, 82, 0, 83, 0, 78, 0, 75, 0, 42, 0, 79, 0, 80, 0, 81, 0, 79, 0, 85, 2, 86, 0, 51, 0, 52, 0, 54, 0, 82, 0, 82, 0, 80, 0, 84, 0, 80, 0, 51, 0, 47, 0, 52, 0, 77, 0, 79, 0, 53, 0, 80, 0, 77, 0, 46, 0, 75, 0, 48, 0, 78, 0, 50, 0, 54, 0, 52, 0, 60, 9, 82, 2, 85, 1, 86, 2, 80, 0, 82, 0, 77, 0, 78, 2, 79, 0, 82, 0, 78, 0, 82, 0, 78, 0, 82, 0, 79, 0, 80, 0, 75, 0, 73, 0, 78, 0, 80, 0, 78, 0, 79, 0, 85, 0, 54, 0, 80, 0, 85, 2, 47, 0, 86, 0, 80, 0, 45, 0, 44, 0, 49, 0, 75, 0, 82, 0, 71, 9, 82, 2, 43, 2, 84, 1, 79, 0, 43, 0, 42, 0, 82, 0, 80, 0, 81, 0, 45, 0, 70, 0, 65, 0, 85, 0, 79, 0, 76, 0, 85, 2, 86, 0, 50, 0, 54, 0, 82, 0, 52, 0, 53, 0, 52, 0, 76, 0, 52, 0, 80, 0, 54, 0, 48, 0, 51, 0, 45, 0, 51, 0, 82, 0, 50, 0, 51, 0, 84, 0, 78, 0, 53, 0, 48, 0, 47, 0, 52, 0], 'artista': ['Max Korzh', 'Modern Talking', 'Max Korzh', 'Modern Talking', 'Нервы', 'Abhishek - Akshay, Ayushmann Khurrana', 'Max Korzh', 'Modern Talking', 'Нервы', 'Modern Talking', 'TERESHINA', 'Tech N9ne, Kendrick Lamar, ¡MAYDAY!, Kendall Morgan', 'Yin-Yang', 'Eminem', 'PHARAOH', 'Modern Talking', 'Noize MC', 'Lady Gaga', 'The Neighbourhood', 'Modern Talking', 'Max Korzh', 'Eddie Murphy, Snoop Lion', 'Max Korzh', 'Abhishek - Akshay, Akshay Verma', 'Valentin Strykalo', 'Jeet Gannguli, Arijit Singh', 'Дайте танк (!)', 'Eduardo Costa', 'N1NT3ND0', 'Anna Kendrick', 'Valentin Strykalo', 'Lipo, Yanna', 'KRBK', 'Wolfgang Petry', 'Valentin Strykalo', 'Drake', 'Valentin Strykalo', 'Peter Hofmann', 'Valentin Strykalo', 'Grupo Revelação', 'PHARAOH, Ca$$xttx', 'Miley Cyrus', 'Max Korzh', 'Michael Jackson', 'Lady Gaga', 'Maluma', 'Valentin Strykalo', 'Caetano Veloso, Gilberto Gil, Ivete Sangalo', 'Gradusy', 'Manu Chao', 'Andrea', 'Lemon', 'Konstantin, Emanuela', 'Modern Talking', 'Alisia', 'Modern Talking', 'Billy Hlapeto, Lexus, Dim4ou', 'Modern Talking', 'Emanuela, Jordan', 'Modern Talking', 'Preslava', 'JayDee', 'Krisko, Lora Karajova, Bobo', 'Lemon', 'Emanuela', 'Kazik', 'The Neighbourhood', 'Modern Talking', 'Djordan', 'Mr.', 'Djordan', 'Patrick Sébastien', 'Arctic Monkeys', 'Specktors, Medina', 'Krisko', 'Abhishek - Akshay, Ayushmann Khurrana', 'Azis, Vanko 1', 'Modern Talking', 'Lil Wayne, Drake', 'พงษ์สิทธิ์ คำภีร์', 'Lil Wayne, Drake, Future', 'Tech N9ne, Kendrick Lamar, ¡MAYDAY!, Kendall Morgan', 'Arctic Monkeys', 'Eminem', 'Emanuela, Serdar Ortac', 'Abel The Kid, Julio Iglesias Jr.', 'Bat Ventsi, Goodslav, Buch, 100 Kila', 'Lady Gaga', 'Azis', 'Evan Yo', 'Toni Storaro, Fiki', 'Sofa', 'Djena', 'Eddie Murphy, Snoop Lion', 'Bruno Mars', 'Revolver', 'Pitbull, AFROJACK, Ne-Yo, Nayer', 'Pezet, As', 'Rihanna', 'Abhishek - Akshay, Akshay Verma', 'The Neighbourhood', 'Modern Talking', 'Tom Odell', 'Modern Talking', 'ŠKWOR', 'JayDee', 'Pitbull, AFROJACK, Ne-Yo, Nayer', 'Mr.', 'Avicii', 'Revolver', 'Pitbull, Kesha', 'Lemon', 'OneRepublic', 'Shreya Ghoshal, Sachin', 'Macklemore, Ryan Lewis, Macklemore & Ryan Lewis, Ray Dalton', 'Lemon', 'Imagine Dragons', 'Modern Talking', 'WALK THE MOON', 'Modern Talking', 'Michal Hruza', 'Modern Talking', 'Arctic Monkeys', 'Ewa Farna', 'Coldplay', 'Michal Hruza', 'Wohnout', 'Modern Talking', 'Carly Rae Jepsen', 'Patrick Sébastien', 'Hozier', 'Kazik', 'Pitbull, Chris Brown', 'Specktors, Medina', 'Avicii', 'Abhishek - Akshay, Ayushmann Khurrana', 'Wale, Sam Dew', 'พงษ์สิทธิ์ คำภีร์', 'Bruno Mars', 'Tech N9ne, Kendrick Lamar, ¡MAYDAY!, Kendall Morgan', 'David Guetta, Kid Cudi', 'Eminem', 'Kesha', 'Abel The Kid, Julio Iglesias Jr.', 'Lana Del Rey', 'Lady Gaga', 'David Guetta, Sia', 'Evan Yo', 'Imagine Dragons', 'Sofa', 'Pitbull, AFROJACK, Ne-Yo, Nayer', 'JayDee', 'The Neighbourhood', 'Modern Talking', 'Tom Odell', 'Modern Talking', 'Arctic Monkeys', 'Lemon', 'Pitbull, Kesha', 'Lemon', 'Pitbull, Chris Brown', 'Modern Talking', 'Avicii', 'Modern Talking', 'Wale, Sam Dew', 'Modern Talking', 'Coldplay', 'Kazik', 'Macklemore, Ryan Lewis, Macklemore & Ryan Lewis, Ray Dalton', 'Modern Talking', 'OneRepublic', 'Mr.', 'Imagine Dragons', 'Patrick Sébastien', 'Bruno Mars', 'Specktors, Medina', 'Rihanna', 'Abhishek - Akshay, Ayushmann Khurrana', 'Rihanna, Calvin Harris', 'พงษ์สิทธิ์ คำภีร์', 'Rihanna', 'Tech N9ne, Kendrick Lamar, ¡MAYDAY!, Kendall Morgan', 'David Guetta, Kid Cudi', 'Eminem', 'Kesha', 'Abel The Kid, Julio Iglesias Jr.', 'USHER, Pitbull', 'Lady Gaga', 'J. Cole', 'Evan Yo', 'WALK THE MOON', 'Sofa', 'Milky Chance', 'Eddie Murphy, Snoop Lion', 'Arctic Monkeys', 'Revolver', 'Carly Rae Jepsen', 'Pezet, As', 'Bruno Mars', 'Abhishek - Akshay, Akshay Verma', 'The Neighbourhood', 'JayDee', 'Pitbull, AFROJACK, Ne-Yo, Nayer', 'Modern Talking', 'Wale, Sam Dew', 'Revolver', 'Avicii', 'Lemon', 'Don Omar, Lucenzo', 'Revolver', 'Arctic Monkeys', 'Abel The Kid, Julio Iglesias Jr.', 'Pitbull, Kesha', 'Modern Talking', 'Tom Odell', 'Modern Talking', 'WALK THE MOON', 'Modern Talking', 'Horváth Tamás, RAUL, Misshmusic', 'Modern Talking', 'Macklemore, Ryan Lewis, Macklemore & Ryan Lewis, Ray Dalton', 'Vato Gonzalez, Foreign Beggars', 'OneRepublic', 'Lemon', 'Pitbull, Chris Brown', 'Kazik', 'Bruno Mars', 'Modern Talking', 'Hozier', 'Mr.', 'Imagine Dragons', 'Patrick Sébastien', 'Arctic Monkeys', 'Specktors, Medina', 'Coldplay', 'Abhishek - Akshay, Ayushmann Khurrana', 'Rihanna', 'พงษ์สิทธิ์ คำภีร์', 'David Guetta, Kid Cudi', 'Tech N9ne, Kendrick Lamar, ¡MAYDAY!, Kendall Morgan', 'Punnany Massif', 'Eminem', 'Rihanna', 'Abel The Kid, Julio Iglesias Jr.', 'Avicii', 'Lady Gaga', 'J. Cole', 'Evan Yo', 'Kesha', 'Mariene De Castro', 'The Neighbourhood', 'Modern Talking', 'Arctic Monkeys', 'Modern Talking', 'Basta', 'Abhishek - Akshay, Ayushmann Khurrana', 'KRBK', 'Modern Talking', 'Max Korzh', 'Modern Talking', 'Arctic Monkeys', 'Tech N9ne, Kendrick Lamar, ¡MAYDAY!, Kendall Morgan', 'TV Girl', 'Eminem', 'Lil Wayne, Drake, Future', 'Modern Talking', 'Arctic Monkeys', 'Lady Gaga', 'Arctic Monkeys', 'Modern Talking', 'Max Korzh', 'Eddie Murphy, Snoop Lion', 'Vescan, Kamelia', 'Abhishek - Akshay, Akshay Verma', 'Kaspiyskiy Gruz', 'Jeet Gannguli, Arijit Singh', 'salvia palth', 'Eduardo Costa', 'Kendrick Lamar, Jay Rock', 'Dove Cameron, Luke Benward', 'Нервы', 'Anna Kendrick', 'Adele', 'Wolfgang Petry', 'Kendrick Lamar', 'Drake', '9 Gramm', 'Peter Hofmann', 'Lil Wayne, Drake', 'Grupo Revelação', 'Basta', 'Miley Cyrus', 'Lana Del Rey', 'Michael Jackson', 'N1NT3ND0', 'Maluma', 'Нервы', 'Caetano Veloso, Gilberto Gil, Ivete Sangalo', 'Ivan Dorn', 'Manu Chao', 'Sentino', 'Lemon', 'Pitbull, AFROJACK, Ne-Yo, Nayer', 'Lemon', 'The Neighbourhood', 'Kazik', 'Arctic Monkeys', 'Modern Talking', 'Pitbull, Kesha', 'Sofa', 'Arctic Monkeys', 'Pezet, As', 'Pitbull, Chris Brown', 'Sofa', 'Rihanna', 'JayDee', 'Rihanna', 'Lemon', 'Tom Odell', 'Eminem', 'Rihanna, Calvin Harris', 'Patrick Sébastien', 'OneRepublic', 'Modern Talking', 'Pitbull, Ne-Yo', 'Modern Talking', 'Avicii', 'Modern Talking', 'Kendrick Lamar, Jay Rock', 'Mr.', 'Arctic Monkeys', 'Modern Talking', 'Pitbull, Christina Aguilera', 'Revolver', 'Pitbull, T-Pain', 'MOMO', 'Hozier', 'MOMO', 'Macklemore, Ryan Lewis, Macklemore & Ryan Lewis, Ray Dalton', 'Lemon', 'Lana Del Rey', 'Centrum Uśmiechu', 'USHER, Pitbull', 'Jarzębina, Kapela Drewutnia', 'Bruno Mars', 'Revolver', 'Paluch', 'Ape Escape', 'Lana Del Rey', 'Abel The Kid, Julio Iglesias Jr.', 'The Neighbourhood', 'Modern Talking', 'Vescan, Kamelia', 'Patrick Sébastien', 'Arctic Monkeys', 'Modern Talking', 'Lil Wayne, Drake, Future', 'Modern Talking', 'Grasu XXL, AMI', 'Modern Talking', 'Alex Velea', 'Revolver', 'Florin Salam', 'Modern Talking', 'Lil Wayne, Drake', 'Janosch Moldau', 'TV Girl', 'Chris Brown, Dave Audé, Christian Dwiggins', 'Alexandra Stan', 'Lemon', 'Arctic Monkeys', 'JayDee', 'Alex Velea', 'Lemon', 'Arctic Monkeys', 'Kazik', 'Kendrick Lamar, Jay Rock', 'Modern Talking', 'Maximilian, Zhao, Spike', 'Mr.', 'Alex Velea', 'Specktors, Medina', 'Pitbull, AFROJACK, Ne-Yo, Nayer', 'Abhishek - Akshay, Ayushmann Khurrana', 'Arctic Monkeys', 'พงษ์สิทธิ์ คำภีร์', 'J. Cole', 'Tech N9ne, Kendrick Lamar, ¡MAYDAY!, Kendall Morgan', 'Florin Salam', 'Eminem', 'J Balvin', 'Abel The Kid, Julio Iglesias Jr.', 'INNA', 'Lady Gaga', 'Bruno Mars', 'Evan Yo', 'Childish Gambino', 'Sofa', 'A$AP Rocky', 'Eddie Murphy, Snoop Lion', 'The Neighbourhood', 'Modern Talking', 'Arctic Monkeys', 'Modern Talking', 'Valentin Strykalo', 'Abhishek - Akshay, Ayushmann Khurrana', 'Нервы', 'Modern Talking', 'Arctic Monkeys', 'Modern Talking', 'KRBK', 'Tech N9ne, Kendrick Lamar, ¡MAYDAY!, Kendall Morgan', 'Нервы', 'Eminem', 'Valentin Strykalo', 'Modern Talking', 'Lady Gaga', 'Lady Gaga', 'Valentin Strykalo', 'Modern Talking', 'Arctic Monkeys', 'Eddie Murphy, Snoop Lion', 'Max Korzh', 'Abhishek - Akshay, Akshay Verma', 'Okean Elzy', 'Jeet Gannguli, Arijit Singh', 'Valentin Strykalo', 'Eduardo Costa', 'Скрябін', 'Dove Cameron, Luke Benward', 'Valentin Strykalo', 'Anna Kendrick', 'TV Girl', 'Lipo, Yanna', 'Valentin Strykalo', 'Wolfgang Petry', 'PHARAOH', 'Drake', 'Arctic Monkeys', 'Peter Hofmann', 'Rihanna', 'Grupo Revelação', 'TERESHINA', 'Miley Cyrus', 'KRBK, Sимптом', 'Ne-Yo', 'Okean Elzy', 'Michael Jackson', 'Ivan Dorn', 'Maluma'], 'pais': ['BY', 'BY', 'BY', 'BY', 'BY', 'BY', 'BY', 'BY', 'BY', 'BY', 'BY', 'BY', 'BY', 'BY', 'BY', 'BY', 'BY', 'BY', 'BY', 'BY', 'BY', 'BY', 'BY', 'BY', 'BY', 'BY', 'BY', 'BY', 'BY', 'BY', 'BY', 'BY', 'BY', 'BY', 'BY', 'BY', 'BY', 'BY', 'BY', 'BY', 'BY', 'BY', 'BY', 'BY', 'BY', 'BY', 'BY', 'BY', 'BY', 'BY', 'BG', 'BG', 'BG', 'BG', 'BG', 'BG', 'BG', 'BG', 'BG', 'BG', 'BG', 'BG', 'BG', 'BG', 'BG', 'BG', 'BG', 'BG', 'BG', 'BG', 'BG', 'BG', 'BG', 'BG', 'BG', 'BG', 'BG', 'BG', 'BG', 'BG', 'BG', 'BG', 'BG', 'BG', 'BG', 'BG', 'BG', 'BG', 'BG', 'BG', 'BG', 'BG', 'BG', 'BG', 'BG', 'BG', 'BG', 'BG', 'BG', 'BG', 'CZ', 'CZ', 'CZ', 'CZ', 'CZ', 'CZ', 'CZ', 'CZ', 'CZ', 'CZ', 'CZ', 'CZ', 'CZ', 'CZ', 'CZ', 'CZ', 'CZ', 'CZ', 'CZ', 'CZ', 'CZ', 'CZ', 'CZ', 'CZ', 'CZ', 'CZ', 'CZ', 'CZ', 'CZ', 'CZ', 'CZ', 'CZ', 'CZ', 'CZ', 'CZ', 'CZ', 'CZ', 'CZ', 'CZ', 'CZ', 'CZ', 'CZ', 'CZ', 'CZ', 'CZ', 'CZ', 'CZ', 'CZ', 'CZ', 'CZ', 'SK', 'SK', 'SK', 'SK', 'SK', 'SK', 'SK', 'SK', 'SK', 'SK', 'SK', 'SK', 'SK', 'SK', 'SK', 'SK', 'SK', 'SK', 'SK', 'SK', 'SK', 'SK', 'SK', 'SK', 'SK', 'SK', 'SK', 'SK', 'SK', 'SK', 'SK', 'SK', 'SK', 'SK', 'SK', 'SK', 'SK', 'SK', 'SK', 'SK', 'SK', 'SK', 'SK', 'SK', 'SK', 'SK', 'SK', 'SK', 'SK', 'SK', 'HU', 'HU', 'HU', 'HU', 'HU', 'HU', 'HU', 'HU', 'HU', 'HU', 'HU', 'HU', 'HU', 'HU', 'HU', 'HU', 'HU', 'HU', 'HU', 'HU', 'HU', 'HU', 'HU', 'HU', 'HU', 'HU', 'HU', 'HU', 'HU', 'HU', 'HU', 'HU', 'HU', 'HU', 'HU', 'HU', 'HU', 'HU', 'HU', 'HU', 'HU', 'HU', 'HU', 'HU', 'HU', 'HU', 'HU', 'HU', 'HU', 'HU', 'MD', 'MD', 'MD', 'MD', 'MD', 'MD', 'MD', 'MD', 'MD', 'MD', 'MD', 'MD', 'MD', 'MD', 'MD', 'MD', 'MD', 'MD', 'MD', 'MD', 'MD', 'MD', 'MD', 'MD', 'MD', 'MD', 'MD', 'MD', 'MD', 'MD', 'MD', 'MD', 'MD', 'MD', 'MD', 'MD', 'MD', 'MD', 'MD', 'MD', 'MD', 'MD', 'MD', 'MD', 'MD', 'MD', 'MD', 'MD', 'MD', 'MD', 'PL', 'PL', 'PL', 'PL', 'PL', 'PL', 'PL', 'PL', 'PL', 'PL', 'PL', 'PL', 'PL', 'PL', 'PL', 'PL', 'PL', 'PL', 'PL', 'PL', 'PL', 'PL', 'PL', 'PL', 'PL', 'PL', 'PL', 'PL', 'PL', 'PL', 'PL', 'PL', 'PL', 'PL', 'PL', 'PL', 'PL', 'PL', 'PL', 'PL', 'PL', 'PL', 'PL', 'PL', 'PL', 'PL', 'PL', 'PL', 'PL', 'PL', 'RO', 'RO', 'RO', 'RO', 'RO', 'RO', 'RO', 'RO', 'RO', 'RO', 'RO', 'RO', 'RO', 'RO', 'RO', 'RO', 'RO', 'RO', 'RO', 'RO', 'RO', 'RO', 'RO', 'RO', 'RO', 'RO', 'RO', 'RO', 'RO', 'RO', 'RO', 'RO', 'RO', 'RO', 'RO', 'RO', 'RO', 'RO', 'RO', 'RO', 'RO', 'RO', 'RO', 'RO', 'RO', 'RO', 'RO', 'RO', 'RO', 'RO', 'UA', 'UA', 'UA', 'UA', 'UA', 'UA', 'UA', 'UA', 'UA', 'UA', 'UA', 'UA', 'UA', 'UA', 'UA', 'UA', 'UA', 'UA', 'UA', 'UA', 'UA', 'UA', 'UA', 'UA', 'UA', 'UA', 'UA', 'UA', 'UA', 'UA', 'UA', 'UA', 'UA', 'UA', 'UA', 'UA', 'UA', 'UA', 'UA', 'UA', 'UA', 'UA', 'UA', 'UA', 'UA', 'UA', 'UA', 'UA', 'UA', 'UA'], 'genero': []}\n"
     ]
    }
   ],
   "source": [
    "print(datos_paises_este_europa)"
   ]
  },
  {
   "cell_type": "code",
   "execution_count": 21,
   "metadata": {},
   "outputs": [],
   "source": [
    "import pandas as pd"
   ]
  },
  {
   "cell_type": "code",
   "execution_count": 22,
   "metadata": {},
   "outputs": [],
   "source": [
    "import requests"
   ]
  },
  {
   "cell_type": "markdown",
   "metadata": {},
   "source": [
    "Incluimos el API de LastFM para incluir el género"
   ]
  },
  {
   "cell_type": "code",
   "execution_count": 23,
   "metadata": {},
   "outputs": [],
   "source": [
    "CLIENT_ID = ''\n",
    "API_KEY = '11c5e60a4dfdfb5041552fadd375d31e'\n",
    "\n",
    "last_fm_connect = requests.get(f\"http://www.last.fm/api/auth/?api_key={API_KEY}\")"
   ]
  },
  {
   "cell_type": "code",
   "execution_count": 24,
   "metadata": {},
   "outputs": [],
   "source": [
    "test_2 = requests.get(f\"https://ws.audioscrobbler.com/2.0/?method=track.gettoptags&artist=Sasha&track=here+she+comes+again&api_key={API_KEY}&autocorrect=1&format=json\")"
   ]
  },
  {
   "cell_type": "code",
   "execution_count": 25,
   "metadata": {},
   "outputs": [
    {
     "data": {
      "text/plain": [
       "'pop'"
      ]
     },
     "execution_count": 25,
     "metadata": {},
     "output_type": "execute_result"
    }
   ],
   "source": [
    "test_2.json()['toptags']['tag'][0]['name'] "
   ]
  },
  {
   "cell_type": "code",
   "execution_count": 27,
   "metadata": {},
   "outputs": [],
   "source": [
    "lista_nombres_este_europa= list(datos_paises_este_europa.values())[0]\n",
    "lista_artistas_este_europa = list(datos_paises_este_europa.values())[2]"
   ]
  },
  {
   "cell_type": "code",
   "execution_count": 30,
   "metadata": {},
   "outputs": [
    {
     "data": {
      "text/plain": [
       "'Жить в кайф'"
      ]
     },
     "execution_count": 30,
     "metadata": {},
     "output_type": "execute_result"
    }
   ],
   "source": [
    "lista_nombres_este_europa [0]"
   ]
  },
  {
   "cell_type": "code",
   "execution_count": 31,
   "metadata": {},
   "outputs": [
    {
     "data": {
      "text/plain": [
       "'Max Korzh'"
      ]
     },
     "execution_count": 31,
     "metadata": {},
     "output_type": "execute_result"
    }
   ],
   "source": [
    "lista_artistas_este_europa [0]"
   ]
  },
  {
   "cell_type": "code",
   "execution_count": 32,
   "metadata": {},
   "outputs": [],
   "source": [
    "def llamada_lastfm(lista_nombres, lista_artistas,datos):\n",
    "    for i in range(len(lista_nombres)):\n",
    "        nombre = str(lista_nombres[i]).replace(' ', '+')\n",
    "        artista = lista_artistas[i].replace(' ', '+').replace(',', '+&')\n",
    "        llamada_genero = requests.get(f\"https://ws.audioscrobbler.com/2.0/?method=track.gettoptags&artist={artista}&track={nombre}&api_key={API_KEY}&autocorrect=1&format=json\")\n",
    "        try:\n",
    "            genero_cancion = llamada_genero.json()['toptags']['tag'][0]['name']\n",
    "            datos['genero'].append(genero_cancion)\n",
    "        except KeyError:\n",
    "            datos['genero'].append(\"NULL\")\n",
    "            print(f\"La canción {lista_nombres[i]} no está registrada en lastfm\")\n",
    "            \n",
    "        except IndexError:\n",
    "            datos['genero'].append(\"NULL\")\n",
    "            print(f\"La canción {lista_nombres[i]} no tiene tags\")"
   ]
  },
  {
   "cell_type": "code",
   "execution_count": 33,
   "metadata": {},
   "outputs": [
    {
     "name": "stdout",
     "output_type": "stream",
     "text": [
      "La canción Жить в кайф no tiene tags\n",
      "La canción Cheri Cheri Lady (Peters Pop-Show 30.11.1985) - Live from Peters Pop Show, 1985 no está registrada en lastfm\n",
      "La canción Стань no tiene tags\n",
      "La canción You Are Not Alone (Wetten, dass...? 20.02.1999) - Live from Wetten, dass...?, 1999 no está registrada en lastfm\n",
      "La canción Pani Da Rang (From \"Vicky Donor\") - Male Vocals no está registrada en lastfm\n",
      "La canción Эндорфин no tiene tags\n",
      "La canción You Can Win If You Want (Wetten, dass...? 18.05.1985) - Live from Wetten, dass...?, 1985 no está registrada en lastfm\n",
      "La canción Geronimo's Cadillac (Peters Pop-Show 06.12.1986) - Live from Peters Pop-Show, 1986 no está registrada en lastfm\n",
      "La canción Обломки чувств no tiene tags\n",
      "La canción Fragile (Director's Cut) no está registrada en lastfm\n",
      "La canción О Yeah no tiene tags\n",
      "La canción The Real Slim Shady - Edited no tiene tags\n",
      "La canción Black Siemens no tiene tags\n",
      "La canción Atlantis Is Calling (Na, sowas! 17.05.1986) - Live from Na, sowas!, 1986 no está registrada en lastfm\n",
      "La canción Heaven Will Know (Peters Pop-Show 30.11.1985) - Live from Peters Pop Show, 1985 no está registrada en lastfm\n",
      "La canción Мотылёк no tiene tags\n",
      "La canción Red Light (feat. Snoop Lion) no está registrada en lastfm\n",
      "La canción Где твоя любовь? no tiene tags\n",
      "La canción Rum Whisky (From \"Vicky Donor\") no está registrada en lastfm\n",
      "La canción Все мои друзья no tiene tags\n",
      "La canción Muskurane (Film Version) [From \"Citylights\"] no está registrada en lastfm\n",
      "La canción Маленький no tiene tags\n",
      "La canción Eu Aposto - Ao Vivo no está registrada en lastfm\n",
      "La canción Lambada no tiene tags\n",
      "La canción Cups (Pitch Perfect’s “When I’m Gone”) - Director's Cut / Closed-Captioned no tiene tags\n",
      "La canción Кайен no tiene tags\n",
      "La canción Kruhy no está registrada en lastfm\n",
      "La canción Парусник no tiene tags\n",
      "La canción Verlieben, verloren, vergessen, verzeih'n (ZDF Hitparade 30.01.1992) - VOD no está registrada en lastfm\n",
      "La canción Ты не такая no tiene tags\n",
      "La canción Find Your Love - Extended Version no está registrada en lastfm\n",
      "La canción Дешёвые драмы no tiene tags\n",
      "La canción All By Myself (ZDF Tele-Illustrierte 17.01.1989) - VOD no está registrada en lastfm\n",
      "La canción Фанк no tiene tags\n",
      "La canción Бойсбэнд no está registrada en lastfm\n",
      "La canción Wrecking Ball - Director's Cut no tiene tags\n",
      "La canción Небо поможет нам no tiene tags\n",
      "La canción Magia - Intro no está registrada en lastfm\n",
      "La canción Se Eu Não Te Amasse Tanto Assim no está registrada en lastfm\n",
      "La canción Голая no tiene tags\n",
      "La canción Losha no tiene tags\n",
      "La canción Bede Z Toba no tiene tags\n",
      "La canción Ne me zasluzhavash no está registrada en lastfm\n",
      "La canción Cheri Cheri Lady (Peters Pop-Show 30.11.1985) - Live from Peters Pop Show, 1985 no está registrada en lastfm\n",
      "La canción Imame li vrazka no tiene tags\n",
      "La canción Heaven Will Know (Peters Pop-Show 30.11.1985) - Live from Peters Pop Show, 1985 no está registrada en lastfm\n",
      "La canción Башмайсторска no está registrada en lastfm\n",
      "La canción Geronimo's Cadillac (Peters Pop-Show 06.12.1986) - Live from Peters Pop-Show, 1986 no está registrada en lastfm\n",
      "La canción Ot Moiata Usta no está registrada en lastfm\n",
      "La canción Atlantis Is Calling (Na, sowas! 17.05.1986) - Live from Na, sowas!, 1986 no está registrada en lastfm\n",
      "La canción Moeto slabo myasto no tiene tags\n",
      "La canción Plastic Dreams 2003 no tiene tags\n",
      "La canción Ministarat Na Veselieto no está registrada en lastfm\n",
      "La canción Bede Z Toba - Hangout Live no tiene tags\n",
      "La canción You Are Not Alone (Wetten, dass...? 20.02.1999) - Live from Wetten, dass...?, 1999 no está registrada en lastfm\n",
      "La canción Полудей no tiene tags\n",
      "La canción Iré tras de ti no está registrada en lastfm\n",
      "La canción Sama Shte Si Govorish no tiene tags\n",
      "La canción Lågsus (feat. Medina) no está registrada en lastfm\n",
      "La canción Ideal Petroff no tiene tags\n",
      "La canción Pani Da Rang (From \"Vicky Donor\") - Male Vocals no está registrada en lastfm\n",
      "La canción Kato Tebe Vtori Nyama no está registrada en lastfm\n",
      "La canción You Can Win If You Want (Wetten, dass...? 18.05.1985) - Live from Wetten, dass...?, 1985 no está registrada en lastfm\n",
      "La canción She Will no está registrada en lastfm\n",
      "La canción 25 ปี (มีหวัง) no tiene tags\n",
      "La canción Love Me no está registrada en lastfm\n",
      "La canción Fragile (Director's Cut) no está registrada en lastfm\n",
      "La canción The Real Slim Shady - Edited no tiene tags\n",
      "La canción Pitam Te Posledno no está registrada en lastfm\n",
      "La canción Smile no está registrada en lastfm\n",
      "La canción Kradi, kradi no está registrada en lastfm\n",
      "La canción Nyama Nakade no tiene tags\n",
      "La canción Кажи ми като мъж no está registrada en lastfm\n",
      "La canción Ne e lyubov no tiene tags\n",
      "La canción Red Light (feat. Snoop Lion) no está registrada en lastfm\n",
      "La canción Give Me Everything (feat. Nayer) no está registrada en lastfm\n",
      "La canción Byłem (feat. As) no está registrada en lastfm\n",
      "La canción Rum Whisky (From \"Vicky Donor\") no está registrada en lastfm\n",
      "La canción Atlantis Is Calling (Na, sowas! 17.05.1986) - Live from Na, sowas!, 1986 no está registrada en lastfm\n",
      "La canción Cheri Cheri Lady (Peters Pop-Show 30.11.1985) - Live from Peters Pop Show, 1985 no está registrada en lastfm\n",
      "La canción Síla Starejch Vín no tiene tags\n",
      "La canción Plastic Dreams 2003 no tiene tags\n",
      "La canción Give Me Everything (feat. Nayer) no está registrada en lastfm\n",
      "La canción Iré tras de ti no está registrada en lastfm\n",
      "La canción Timber no está registrada en lastfm\n",
      "La canción Bede Z Toba - Hangout Live no tiene tags\n",
      "La canción Thoda Thoda no está registrada en lastfm\n",
      "La canción Can't Hold Us (feat. Ray Dalton) no está registrada en lastfm\n",
      "La canción Bede Z Toba no tiene tags\n",
      "La canción Geronimo's Cadillac (Peters Pop-Show 06.12.1986) - Live from Peters Pop-Show, 1986 no está registrada en lastfm\n",
      "La canción Heaven Will Know (Peters Pop-Show 30.11.1985) - Live from Peters Pop Show, 1985 no está registrada en lastfm\n",
      "La canción Zakazane uvolneni no tiene tags\n",
      "La canción You Can Win If You Want (Wetten, dass...? 18.05.1985) - Live from Wetten, dass...?, 1985 no está registrada en lastfm\n",
      "La canción Naporad - Live Acoustic Version no tiene tags\n",
      "La canción You Are Not Alone (Wetten, dass...? 20.02.1999) - Live from Wetten, dass...?, 1999 no está registrada en lastfm\n",
      "La canción International Love (feat. Chris Brown) no está registrada en lastfm\n",
      "La canción Lågsus (feat. Medina) no está registrada en lastfm\n",
      "La canción Pani Da Rang (From \"Vicky Donor\") - Male Vocals no está registrada en lastfm\n",
      "La canción LoveHate Thing (feat. Sam Dew) no está registrada en lastfm\n",
      "La canción 25 ปี (มีหวัง) no tiene tags\n",
      "La canción Fragile (Director's Cut) no está registrada en lastfm\n",
      "La canción Memories (feat. Kid Cudi) no está registrada en lastfm\n",
      "La canción The Real Slim Shady - Edited no tiene tags\n",
      "La canción Smile no está registrada en lastfm\n",
      "La canción Titanium (feat. Sia) no está registrada en lastfm\n",
      "La canción Give Me Everything (feat. Nayer) no está registrada en lastfm\n",
      "La canción Plastic Dreams 2003 no tiene tags\n",
      "La canción Cheri Cheri Lady (Peters Pop-Show 30.11.1985) - Live from Peters Pop Show, 1985 no está registrada en lastfm\n",
      "La canción Geronimo's Cadillac (Peters Pop-Show 06.12.1986) - Live from Peters Pop-Show, 1986 no está registrada en lastfm\n",
      "La canción Bede Z Toba - Hangout Live no tiene tags\n",
      "La canción Timber no está registrada en lastfm\n",
      "La canción Bede Z Toba no tiene tags\n",
      "La canción International Love (feat. Chris Brown) no está registrada en lastfm\n",
      "La canción You Can Win If You Want (Wetten, dass...? 18.05.1985) - Live from Wetten, dass...?, 1985 no está registrada en lastfm\n",
      "La canción Atlantis Is Calling (Na, sowas! 17.05.1986) - Live from Na, sowas!, 1986 no está registrada en lastfm\n",
      "La canción LoveHate Thing (feat. Sam Dew) no está registrada en lastfm\n",
      "La canción Heaven Will Know (Peters Pop-Show 30.11.1985) - Live from Peters Pop Show, 1985 no está registrada en lastfm\n",
      "La canción Can't Hold Us (feat. Ray Dalton) no está registrada en lastfm\n",
      "La canción You Are Not Alone (Wetten, dass...? 20.02.1999) - Live from Wetten, dass...?, 1999 no está registrada en lastfm\n",
      "La canción Iré tras de ti no está registrada en lastfm\n",
      "La canción Lågsus (feat. Medina) no está registrada en lastfm\n",
      "La canción Pani Da Rang (From \"Vicky Donor\") - Male Vocals no está registrada en lastfm\n",
      "La canción We Found Love no está registrada en lastfm\n",
      "La canción 25 ปี (มีหวัง) no tiene tags\n",
      "La canción Fragile (Director's Cut) no está registrada en lastfm\n",
      "La canción Memories (feat. Kid Cudi) no está registrada en lastfm\n",
      "La canción The Real Slim Shady - Edited no tiene tags\n",
      "La canción Smile no está registrada en lastfm\n",
      "La canción DJ Got Us Fallin' In Love (feat. Pitbull) no está registrada en lastfm\n",
      "La canción Red Light (feat. Snoop Lion) no está registrada en lastfm\n",
      "La canción Byłem (feat. As) no está registrada en lastfm\n",
      "La canción Rum Whisky (From \"Vicky Donor\") no está registrada en lastfm\n",
      "La canción Plastic Dreams 2003 no tiene tags\n",
      "La canción Give Me Everything (feat. Nayer) no está registrada en lastfm\n",
      "La canción Cheri Cheri Lady (Peters Pop-Show 30.11.1985) - Live from Peters Pop Show, 1985 no está registrada en lastfm\n",
      "La canción LoveHate Thing (feat. Sam Dew) no está registrada en lastfm\n",
      "La canción Bede Z Toba no tiene tags\n",
      "La canción Danza Kuduro no está registrada en lastfm\n",
      "La canción My Love a Piece of My Love (feat. Snoop Dogg) no está registrada en lastfm\n",
      "La canción Timber no está registrada en lastfm\n",
      "La canción Heaven Will Know (Peters Pop-Show 30.11.1985) - Live from Peters Pop Show, 1985 no está registrada en lastfm\n",
      "La canción Atlantis Is Calling (Na, sowas! 17.05.1986) - Live from Na, sowas!, 1986 no está registrada en lastfm\n",
      "La canción Geronimo's Cadillac (Peters Pop-Show 06.12.1986) - Live from Peters Pop-Show, 1986 no está registrada en lastfm\n",
      "La canción Beléd Estem no está registrada en lastfm\n",
      "La canción You Can Win If You Want (Wetten, dass...? 18.05.1985) - Live from Wetten, dass...?, 1985 no está registrada en lastfm\n",
      "La canción Can't Hold Us (feat. Ray Dalton) no está registrada en lastfm\n",
      "La canción Badman Riddim (Jump) (feat. Foreign Beggars) no está registrada en lastfm\n",
      "La canción Bede Z Toba - Hangout Live no tiene tags\n",
      "La canción International Love (feat. Chris Brown) no está registrada en lastfm\n",
      "La canción You Are Not Alone (Wetten, dass...? 20.02.1999) - Live from Wetten, dass...?, 1999 no está registrada en lastfm\n",
      "La canción Iré tras de ti no está registrada en lastfm\n",
      "La canción Lågsus (feat. Medina) no está registrada en lastfm\n",
      "La canción Pani Da Rang (From \"Vicky Donor\") - Male Vocals no está registrada en lastfm\n",
      "La canción 25 ปี (มีหวัง) no tiene tags\n",
      "La canción Memories (feat. Kid Cudi) no está registrada en lastfm\n",
      "La canción Fragile (Director's Cut) no está registrada en lastfm\n",
      "La canción The Real Slim Shady - Edited no tiene tags\n",
      "La canción Smile no está registrada en lastfm\n",
      "La canción Samba Pras Moças no tiene tags\n",
      "La canción Cheri Cheri Lady (Peters Pop-Show 30.11.1985) - Live from Peters Pop Show, 1985 no está registrada en lastfm\n",
      "La canción You Are Not Alone (Wetten, dass...? 20.02.1999) - Live from Wetten, dass...?, 1999 no está registrada en lastfm\n",
      "La canción Universe no tiene tags\n",
      "La canción Pani Da Rang (From \"Vicky Donor\") - Male Vocals no está registrada en lastfm\n",
      "La canción Парусник no tiene tags\n",
      "La canción You Can Win If You Want (Wetten, dass...? 18.05.1985) - Live from Wetten, dass...?, 1985 no está registrada en lastfm\n",
      "La canción Жить в кайф no tiene tags\n",
      "La canción Geronimo's Cadillac (Peters Pop-Show 06.12.1986) - Live from Peters Pop-Show, 1986 no está registrada en lastfm\n",
      "La canción Fragile (Director's Cut) no está registrada en lastfm\n",
      "La canción The Real Slim Shady - Edited no tiene tags\n",
      "La canción Love Me no está registrada en lastfm\n",
      "La canción Atlantis Is Calling (Na, sowas! 17.05.1986) - Live from Na, sowas!, 1986 no está registrada en lastfm\n",
      "La canción Heaven Will Know (Peters Pop-Show 30.11.1985) - Live from Peters Pop Show, 1985 no está registrada en lastfm\n",
      "La canción Эндорфин no tiene tags\n",
      "La canción Red Light (feat. Snoop Lion) no está registrada en lastfm\n",
      "La canción Piesa Mea Preferată no está registrada en lastfm\n",
      "La canción Rum Whisky (From \"Vicky Donor\") no está registrada en lastfm\n",
      "La canción Доедешь - пиши no tiene tags\n",
      "La canción Muskurane (Film Version) [From \"Citylights\"] no está registrada en lastfm\n",
      "La canción Eu Aposto - Ao Vivo no está registrada en lastfm\n",
      "La canción Money Trees no está registrada en lastfm\n",
      "La canción Cloud 9 - From \"Cloud 9\" / Original TV Movie Soundtrack no está registrada en lastfm\n",
      "La canción Cups (Pitch Perfect’s “When I’m Gone”) - Director's Cut / Closed-Captioned no tiene tags\n",
      "La canción Verlieben, verloren, vergessen, verzeih'n (ZDF Hitparade 30.01.1992) - VOD no está registrada en lastfm\n",
      "La canción Find Your Love - Extended Version no está registrada en lastfm\n",
      "La canción Плановая no tiene tags\n",
      "La canción All By Myself (ZDF Tele-Illustrierte 17.01.1989) - VOD no está registrada en lastfm\n",
      "La canción She Will no está registrada en lastfm\n",
      "La canción Urban no tiene tags\n",
      "La canción Wrecking Ball - Director's Cut no tiene tags\n",
      "La canción Lambada no tiene tags\n",
      "La canción Magia - Intro no está registrada en lastfm\n",
      "La canción Se Eu Não Te Amasse Tanto Assim no está registrada en lastfm\n",
      "La canción Wiecznie no tiene tags\n",
      "La canción Bede Z Toba no tiene tags\n",
      "La canción Give Me Everything (feat. Nayer) no está registrada en lastfm\n",
      "La canción Bede Z Toba - Hangout Live no tiene tags\n",
      "La canción Cheri Cheri Lady (Peters Pop-Show 30.11.1985) - Live from Peters Pop Show, 1985 no está registrada en lastfm\n",
      "La canción Timber no está registrada en lastfm\n",
      "La canción Byłem (feat. As) no está registrada en lastfm\n",
      "La canción International Love (feat. Chris Brown) no está registrada en lastfm\n",
      "La canción Plastic Dreams 2003 no tiene tags\n",
      "La canción The Real Slim Shady - Edited no tiene tags\n",
      "La canción We Found Love no está registrada en lastfm\n",
      "La canción Geronimo's Cadillac (Peters Pop-Show 06.12.1986) - Live from Peters Pop-Show, 1986 no está registrada en lastfm\n",
      "La canción Time of Our Lives no está registrada en lastfm\n",
      "La canción You Can Win If You Want (Wetten, dass...? 18.05.1985) - Live from Wetten, dass...?, 1985 no está registrada en lastfm\n",
      "La canción Atlantis Is Calling (Na, sowas! 17.05.1986) - Live from Na, sowas!, 1986 no está registrada en lastfm\n",
      "La canción Money Trees no está registrada en lastfm\n",
      "La canción Iré tras de ti no está registrada en lastfm\n",
      "La canción Heaven Will Know (Peters Pop-Show 30.11.1985) - Live from Peters Pop Show, 1985 no está registrada en lastfm\n",
      "La canción Feel This Moment (feat. Christina Aguilera) no está registrada en lastfm\n",
      "La canción Hey Baby (Drop It to the Floor) (feat. T-Pain) no está registrada en lastfm\n",
      "La canción Od dzisiaj - Wideosesja Uwolnij Muzyk? no está registrada en lastfm\n",
      "La canción Can't Hold Us (feat. Ray Dalton) no está registrada en lastfm\n",
      "La canción Zdrowia Smaki - Piosenki dla dzieci no está registrada en lastfm\n",
      "La canción DJ Got Us Fallin' In Love (feat. Pitbull) no está registrada en lastfm\n",
      "La canción Jezusa Narodzonego Wszyscy Witajmy no está registrada en lastfm\n",
      "La canción Invisibili no tiene tags\n",
      "La canción My Love a Piece of My Love (feat. Snoop Dogg) no está registrada en lastfm\n",
      "La canción Cheri Cheri Lady (Peters Pop-Show 30.11.1985) - Live from Peters Pop Show, 1985 no está registrada en lastfm\n",
      "La canción Piesa Mea Preferată no está registrada en lastfm\n",
      "La canción You Can Win If You Want (Wetten, dass...? 18.05.1985) - Live from Wetten, dass...?, 1985 no está registrada en lastfm\n",
      "La canción Love Me no está registrada en lastfm\n",
      "La canción Atlantis Is Calling (Na, sowas! 17.05.1986) - Live from Na, sowas!, 1986 no está registrada en lastfm\n",
      "La canción Deja Vu no está registrada en lastfm\n",
      "La canción Heaven Will Know (Peters Pop-Show 30.11.1985) - Live from Peters Pop Show, 1985 no está registrada en lastfm\n",
      "La canción Minim Doi no tiene tags\n",
      "La canción Geronimo's Cadillac (Peters Pop-Show 06.12.1986) - Live from Peters Pop-Show, 1986 no está registrada en lastfm\n",
      "La canción She Will no está registrada en lastfm\n",
      "La canción Don't Judge Me (Dave Aude Remix) UK Video no está registrada en lastfm\n",
      "La canción Bede Z Toba no tiene tags\n",
      "La canción Plastic Dreams 2003 no tiene tags\n",
      "La canción E Marfa Tare no tiene tags\n",
      "La canción Bede Z Toba - Hangout Live no tiene tags\n",
      "La canción Money Trees no está registrada en lastfm\n",
      "La canción You Are Not Alone (Wetten, dass...? 20.02.1999) - Live from Wetten, dass...?, 1999 no está registrada en lastfm\n",
      "La canción Domnisoare (feat. Zhao & Spike) no está registrada en lastfm\n",
      "La canción Iré tras de ti no está registrada en lastfm\n",
      "La canción Lågsus (feat. Medina) no está registrada en lastfm\n",
      "La canción Give Me Everything (feat. Nayer) no está registrada en lastfm\n",
      "La canción Pani Da Rang (From \"Vicky Donor\") - Male Vocals no está registrada en lastfm\n",
      "La canción 25 ปี (มีหวัง) no tiene tags\n",
      "La canción Fragile (Director's Cut) no está registrada en lastfm\n",
      "La canción Brazilianca Mea no tiene tags\n",
      "La canción The Real Slim Shady - Edited no tiene tags\n",
      "La canción Smile no está registrada en lastfm\n",
      "La canción Red Light (feat. Snoop Lion) no está registrada en lastfm\n",
      "La canción Cheri Cheri Lady (Peters Pop-Show 30.11.1985) - Live from Peters Pop Show, 1985 no está registrada en lastfm\n",
      "La canción You Are Not Alone (Wetten, dass...? 20.02.1999) - Live from Wetten, dass...?, 1999 no está registrada en lastfm\n",
      "La canción Так гріє no tiene tags\n",
      "La canción Pani Da Rang (From \"Vicky Donor\") - Male Vocals no está registrada en lastfm\n",
      "La canción You Can Win If You Want (Wetten, dass...? 18.05.1985) - Live from Wetten, dass...?, 1985 no está registrada en lastfm\n",
      "La canción Geronimo's Cadillac (Peters Pop-Show 06.12.1986) - Live from Peters Pop-Show, 1986 no está registrada en lastfm\n",
      "La canción Парусник no tiene tags\n",
      "La canción Fragile (Director's Cut) no está registrada en lastfm\n",
      "La canción The Real Slim Shady - Edited no tiene tags\n",
      "La canción Кайен no tiene tags\n",
      "La canción Atlantis Is Calling (Na, sowas! 17.05.1986) - Live from Na, sowas!, 1986 no está registrada en lastfm\n",
      "La canción Все мои друзья no tiene tags\n",
      "La canción Heaven Will Know (Peters Pop-Show 30.11.1985) - Live from Peters Pop Show, 1985 no está registrada en lastfm\n",
      "La canción Red Light (feat. Snoop Lion) no está registrada en lastfm\n",
      "La canción Жить в кайф no tiene tags\n",
      "La canción Rum Whisky (From \"Vicky Donor\") no está registrada en lastfm\n",
      "La canción Muskurane (Film Version) [From \"Citylights\"] no está registrada en lastfm\n",
      "La canción Ты не такая no tiene tags\n",
      "La canción Eu Aposto - Ao Vivo no está registrada en lastfm\n",
      "La canción Cloud 9 - From \"Cloud 9\" / Original TV Movie Soundtrack no está registrada en lastfm\n",
      "La canción Фанк no tiene tags\n",
      "La canción Cups (Pitch Perfect’s “When I’m Gone”) - Director's Cut / Closed-Captioned no tiene tags\n",
      "La canción Kruhy no está registrada en lastfm\n",
      "La canción Дешёвые драмы no tiene tags\n",
      "La canción Verlieben, verloren, vergessen, verzeih'n (ZDF Hitparade 30.01.1992) - VOD no está registrada en lastfm\n",
      "La canción Black Siemens no tiene tags\n",
      "La canción Find Your Love - Extended Version no está registrada en lastfm\n",
      "La canción All By Myself (ZDF Tele-Illustrierte 17.01.1989) - VOD no está registrada en lastfm\n",
      "La canción Обломки чувств no tiene tags\n",
      "La canción Wrecking Ball - Director's Cut no tiene tags\n",
      "La canción Эверест no está registrada en lastfm\n",
      "La canción Let Me Love You (Until You Learn To Love Yourself) - Director's Cut (Explicit) no tiene tags\n",
      "La canción Magia - Intro no está registrada en lastfm\n"
     ]
    }
   ],
   "source": [
    "llamada_lastfm(lista_nombres_este_europa, lista_artistas_este_europa,datos_paises_este_europa)"
   ]
  },
  {
   "cell_type": "code",
   "execution_count": 34,
   "metadata": {},
   "outputs": [],
   "source": [
    "import pandas as pd"
   ]
  },
  {
   "cell_type": "code",
   "execution_count": 35,
   "metadata": {},
   "outputs": [],
   "source": [
    "CANCIONES_2010_2014_PAISES_ESTE_EUROPA_DF = pd.DataFrame(datos_paises_este_europa)"
   ]
  },
  {
   "cell_type": "code",
   "execution_count": 36,
   "metadata": {},
   "outputs": [
    {
     "data": {
      "text/html": [
       "<div>\n",
       "<style scoped>\n",
       "    .dataframe tbody tr th:only-of-type {\n",
       "        vertical-align: middle;\n",
       "    }\n",
       "\n",
       "    .dataframe tbody tr th {\n",
       "        vertical-align: top;\n",
       "    }\n",
       "\n",
       "    .dataframe thead th {\n",
       "        text-align: right;\n",
       "    }\n",
       "</style>\n",
       "<table border=\"1\" class=\"dataframe\">\n",
       "  <thead>\n",
       "    <tr style=\"text-align: right;\">\n",
       "      <th></th>\n",
       "      <th>nombre</th>\n",
       "      <th>popularity</th>\n",
       "      <th>artista</th>\n",
       "      <th>pais</th>\n",
       "      <th>genero</th>\n",
       "    </tr>\n",
       "  </thead>\n",
       "  <tbody>\n",
       "    <tr>\n",
       "      <th>0</th>\n",
       "      <td>Жить в кайф</td>\n",
       "      <td>54</td>\n",
       "      <td>Max Korzh</td>\n",
       "      <td>BY</td>\n",
       "      <td>NULL</td>\n",
       "    </tr>\n",
       "    <tr>\n",
       "      <th>1</th>\n",
       "      <td>Cheri Cheri Lady (Peters Pop-Show 30.11.1985) ...</td>\n",
       "      <td>2</td>\n",
       "      <td>Modern Talking</td>\n",
       "      <td>BY</td>\n",
       "      <td>NULL</td>\n",
       "    </tr>\n",
       "    <tr>\n",
       "      <th>2</th>\n",
       "      <td>Стань</td>\n",
       "      <td>51</td>\n",
       "      <td>Max Korzh</td>\n",
       "      <td>BY</td>\n",
       "      <td>NULL</td>\n",
       "    </tr>\n",
       "    <tr>\n",
       "      <th>3</th>\n",
       "      <td>You Are Not Alone (Wetten, dass...? 20.02.1999...</td>\n",
       "      <td>0</td>\n",
       "      <td>Modern Talking</td>\n",
       "      <td>BY</td>\n",
       "      <td>NULL</td>\n",
       "    </tr>\n",
       "    <tr>\n",
       "      <th>4</th>\n",
       "      <td>Батареи</td>\n",
       "      <td>54</td>\n",
       "      <td>Нервы</td>\n",
       "      <td>BY</td>\n",
       "      <td>romantic</td>\n",
       "    </tr>\n",
       "    <tr>\n",
       "      <th>...</th>\n",
       "      <td>...</td>\n",
       "      <td>...</td>\n",
       "      <td>...</td>\n",
       "      <td>...</td>\n",
       "      <td>...</td>\n",
       "    </tr>\n",
       "    <tr>\n",
       "      <th>445</th>\n",
       "      <td>Let Me Love You (Until You Learn To Love Yours...</td>\n",
       "      <td>0</td>\n",
       "      <td>Ne-Yo</td>\n",
       "      <td>UA</td>\n",
       "      <td>NULL</td>\n",
       "    </tr>\n",
       "    <tr>\n",
       "      <th>446</th>\n",
       "      <td>Я так хочу...</td>\n",
       "      <td>47</td>\n",
       "      <td>Okean Elzy</td>\n",
       "      <td>UA</td>\n",
       "      <td>Ukrainian</td>\n",
       "    </tr>\n",
       "    <tr>\n",
       "      <th>447</th>\n",
       "      <td>Smooth Criminal</td>\n",
       "      <td>0</td>\n",
       "      <td>Michael Jackson</td>\n",
       "      <td>UA</td>\n",
       "      <td>pop</td>\n",
       "    </tr>\n",
       "    <tr>\n",
       "      <th>448</th>\n",
       "      <td>Северное сияние</td>\n",
       "      <td>52</td>\n",
       "      <td>Ivan Dorn</td>\n",
       "      <td>UA</td>\n",
       "      <td>pop</td>\n",
       "    </tr>\n",
       "    <tr>\n",
       "      <th>449</th>\n",
       "      <td>Magia - Intro</td>\n",
       "      <td>0</td>\n",
       "      <td>Maluma</td>\n",
       "      <td>UA</td>\n",
       "      <td>NULL</td>\n",
       "    </tr>\n",
       "  </tbody>\n",
       "</table>\n",
       "<p>450 rows × 5 columns</p>\n",
       "</div>"
      ],
      "text/plain": [
       "                                                nombre  popularity  \\\n",
       "0                                          Жить в кайф          54   \n",
       "1    Cheri Cheri Lady (Peters Pop-Show 30.11.1985) ...           2   \n",
       "2                                                Стань          51   \n",
       "3    You Are Not Alone (Wetten, dass...? 20.02.1999...           0   \n",
       "4                                              Батареи          54   \n",
       "..                                                 ...         ...   \n",
       "445  Let Me Love You (Until You Learn To Love Yours...           0   \n",
       "446                                      Я так хочу...          47   \n",
       "447                                    Smooth Criminal           0   \n",
       "448                                    Северное сияние          52   \n",
       "449                                      Magia - Intro           0   \n",
       "\n",
       "             artista pais     genero  \n",
       "0          Max Korzh   BY       NULL  \n",
       "1     Modern Talking   BY       NULL  \n",
       "2          Max Korzh   BY       NULL  \n",
       "3     Modern Talking   BY       NULL  \n",
       "4              Нервы   BY   romantic  \n",
       "..               ...  ...        ...  \n",
       "445            Ne-Yo   UA       NULL  \n",
       "446       Okean Elzy   UA  Ukrainian  \n",
       "447  Michael Jackson   UA        pop  \n",
       "448        Ivan Dorn   UA        pop  \n",
       "449           Maluma   UA       NULL  \n",
       "\n",
       "[450 rows x 5 columns]"
      ]
     },
     "execution_count": 36,
     "metadata": {},
     "output_type": "execute_result"
    }
   ],
   "source": [
    "CANCIONES_2010_2014_PAISES_ESTE_EUROPA_DF"
   ]
  },
  {
   "cell_type": "code",
   "execution_count": 37,
   "metadata": {},
   "outputs": [],
   "source": [
    "CANCIONES_2010_2014_PAISES_ESTE_EUROPA_DF.to_csv(\"paises_este_europa-2010-2014.csv\")"
   ]
  }
 ],
 "metadata": {
  "kernelspec": {
   "display_name": "base",
   "language": "python",
   "name": "python3"
  },
  "language_info": {
   "codemirror_mode": {
    "name": "ipython",
    "version": 3
   },
   "file_extension": ".py",
   "mimetype": "text/x-python",
   "name": "python",
   "nbconvert_exporter": "python",
   "pygments_lexer": "ipython3",
   "version": "3.12.7"
  }
 },
 "nbformat": 4,
 "nbformat_minor": 2
}
