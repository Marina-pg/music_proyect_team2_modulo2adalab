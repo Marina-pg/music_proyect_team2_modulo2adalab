{
 "cells": [
  {
   "cell_type": "markdown",
   "metadata": {},
   "source": [
    "# 🛜 Set-up para la conexión entre mysql y python 🛜"
   ]
  },
  {
   "cell_type": "code",
   "execution_count": 1,
   "metadata": {},
   "outputs": [],
   "source": [
    "import json\n",
    "import pandas as pd\n",
    "import mysql.connector\n",
    "from mysql.connector import errorcode"
   ]
  },
  {
   "cell_type": "markdown",
   "metadata": {},
   "source": [
    "1. Nos conectamos a la base de datos (script de creación en _schema_bbdd.sql_)"
   ]
  },
  {
   "cell_type": "code",
   "execution_count": 2,
   "metadata": {},
   "outputs": [],
   "source": [
    "cnx = mysql.connector.connect(user='root', password='AlumnaAdalab',\n",
    "host='127.0.0.1',\n",
    "database='musicstream', \n",
    "auth_plugin ='mysql_native_password')"
   ]
  },
  {
   "cell_type": "markdown",
   "metadata": {},
   "source": [
    "2. Creamos el cursor"
   ]
  },
  {
   "cell_type": "code",
   "execution_count": 3,
   "metadata": {},
   "outputs": [],
   "source": [
    "mycursor = cnx.cursor()"
   ]
  },
  {
   "cell_type": "markdown",
   "metadata": {},
   "source": [
    "# 🏗️ Añadiendo datos desde los ficheros .csv 🏗️"
   ]
  },
  {
   "cell_type": "markdown",
   "metadata": {},
   "source": [
    "### Añadimos los datos a la tabla zonas"
   ]
  },
  {
   "cell_type": "code",
   "execution_count": 4,
   "metadata": {},
   "outputs": [],
   "source": [
    "query = \"INSERT INTO zonas(nombre_zona) VALUES(%s)\"\n",
    "val = [[('mediterraneo')], [('norte')], [('centro')], [('este')]]\n",
    "mycursor.executemany(query, val)\n",
    "cnx.commit()"
   ]
  },
  {
   "cell_type": "markdown",
   "metadata": {},
   "source": [
    "### Añadimos los datos a la tabla países"
   ]
  },
  {
   "cell_type": "markdown",
   "metadata": {},
   "source": [
    "1. Definimos los diccionarios con los paises para cada zona"
   ]
  },
  {
   "cell_type": "code",
   "execution_count": 5,
   "metadata": {},
   "outputs": [],
   "source": [
    "paises_mediterraneos = {\n",
    "    \"ES\": \"España\",\n",
    "    \"FR\": \"Francia\",\n",
    "    \"MC\": \"Mónaco\",\n",
    "    \"IT\": \"Italia\",\n",
    "    \"SI\": \"Eslovenia\",\n",
    "    \"HR\": \"Croacia\",\n",
    "    \"BA\": \"Bosnia y Herzegovina\",\n",
    "    \"ME\": \"Montenegro\",\n",
    "    \"AL\": \"Albania\",\n",
    "    \"GR\": \"Grecia\",\n",
    "    \"MT\": \"Malta\",\n",
    "    \"CY\": \"Chipre\"}\n",
    "paises_este_europa = {\n",
    "    \"BY\": \"Bielorrusia\",\n",
    "    \"BG\": \"Bulgaria\",\n",
    "    \"CZ\": \"Chequia\",\n",
    "    \"SK\": \"Eslovaquia\",\n",
    "    \"HU\": \"Hungría\",\n",
    "    \"MD\": \"Moldavia\",\n",
    "    \"PL\": \"Polonia\",\n",
    "    \"RO\": \"Rumanía\",\n",
    "    \"UA\": \"Ucrania\"}\n",
    "paises_norte_europa = {\n",
    "    \"DK\": \"Dinamarca\",\n",
    "    \"EE\": \"Estonia\",\n",
    "    \"FI\": \"Finlandia\",\n",
    "    \"IS\": \"Islandia\",\n",
    "    \"IE\": \"Irlanda\",\n",
    "    \"LT\": \"Lituania\",\n",
    "    \"LV\": \"Letonia\",\n",
    "    \"NO\": \"Noruega\",\n",
    "    \"SE\": \"Suecia\",\n",
    "    \"GB\": \"Reino Unido\"}\n",
    "paises_europa_central = {\n",
    "    \"AT\": \"Austria\",\n",
    "    \"DE\": \"Alemania\",\n",
    "    \"CH\": \"Suiza\",\n",
    "    \"LI\": \"Liechtenstein\",\n",
    "    \"BE\": \"Bélgica\",\n",
    "    \"LU\": \"Luxemburgo\",\n",
    "    \"NL\": \"Países Bajos\"}"
   ]
  },
  {
   "cell_type": "markdown",
   "metadata": {},
   "source": [
    "2. Definimos la función `añadir_pais`"
   ]
  },
  {
   "cell_type": "code",
   "execution_count": 6,
   "metadata": {},
   "outputs": [],
   "source": [
    "def añadir_pais(diccionario, id_zona):\n",
    "    ''' Añade datos a la tabla de paises.\n",
    "\n",
    "        Args: \n",
    "            diccionario (dict): Un diccionario de los definidos para cada zona donde se recogen los países y sus códigos.\n",
    "            id_zona (int): Número asignado a cada zona de europa en la tabla zonas. \n",
    "\n",
    "    '''\n",
    "    for id, pais in diccionario.items():\n",
    "        query = \"INSERT INTO paises(id_pais, nombre_pais, id_zona) VALUES(%s, %s, %s)\"\n",
    "        val = [(id, pais, id_zona)] \n",
    "        mycursor.executemany(query, val)\n",
    "        cnx.commit()"
   ]
  },
  {
   "cell_type": "markdown",
   "metadata": {},
   "source": [
    "Los id_zona quedan entonces como: \n",
    "- 1 mediterraneo\n",
    "- 2 norte\n",
    "- 3 centro \n",
    "- 4 este "
   ]
  },
  {
   "cell_type": "markdown",
   "metadata": {},
   "source": [
    "3. Llamamos a la función en bucle para añadir los países de cada zona de una sola vez. "
   ]
  },
  {
   "cell_type": "code",
   "execution_count": 7,
   "metadata": {},
   "outputs": [],
   "source": [
    "# Definimos estas dos listas, que nos van a servir para poder llamar en bucle a la función. Es MUY IMPORTANTE el orden, debe coincidir el nombre del diccionario con el id_zona asignado a cada zona.\n",
    "lista_diccionarios = [paises_mediterraneos, paises_norte_europa, paises_europa_central, paises_este_europa]\n",
    "lista_zonas = [i for i in range(1,5)]"
   ]
  },
  {
   "cell_type": "code",
   "execution_count": 8,
   "metadata": {},
   "outputs": [],
   "source": [
    "for i in range(len(lista_diccionarios)):\n",
    "    añadir_pais(lista_diccionarios[i], lista_zonas[i])"
   ]
  },
  {
   "cell_type": "markdown",
   "metadata": {},
   "source": [
    "### Añadimos los datos a la tabla años"
   ]
  },
  {
   "cell_type": "code",
   "execution_count": 9,
   "metadata": {},
   "outputs": [],
   "source": [
    "query_años = \"INSERT INTO años(rango_años) VALUES(%s)\"\n",
    "val_años = [[('2000-2004')], [('2005-2009')], [('2010-2014')], [('2015-2019')], [('2020-2024')]]\n",
    "mycursor.executemany(query_años, val_años)\n",
    "cnx.commit()"
   ]
  },
  {
   "cell_type": "markdown",
   "metadata": {},
   "source": [
    "### Añadimos los datos a la tabla artistas"
   ]
  },
  {
   "cell_type": "markdown",
   "metadata": {},
   "source": [
    "1. Definimos la función `convertir_csv`, que convierte cada uno de los csv que hemos creado en un DataFrame."
   ]
  },
  {
   "cell_type": "code",
   "execution_count": 10,
   "metadata": {},
   "outputs": [],
   "source": [
    "def convertir_csv(zona, años):\n",
    "    ''' Convierte el csv de cada zona y rango de años en un DataFrame.\n",
    "    \n",
    "        Args:\n",
    "            zona (str): Nombre de la zona.\n",
    "            años (str): Rango de años en la forma añoinicio_añofin. \n",
    "    '''\n",
    "    df = pd.read_csv(f'archivos_csv/paises_{zona}_{años}.csv',index_col = 0)\n",
    "    return df"
   ]
  },
  {
   "cell_type": "markdown",
   "metadata": {},
   "source": [
    "2. Llamamos a la función una vez por cada csv que debemos convertir."
   ]
  },
  {
   "cell_type": "code",
   "execution_count": 11,
   "metadata": {},
   "outputs": [],
   "source": [
    "# Definimos estas dos listas, que nos van a servir para poder llamar a la función.\n",
    "lista_nombre_zona = [\"este_europa\", \"europa_central\", \"mediterraneos\", \"norte_europa\"]\n",
    "lista_años = [\"2000_2004\", \"2005_2009\", \"2010_2014\", \"2015_2019\", \"2020_2024\"]"
   ]
  },
  {
   "cell_type": "code",
   "execution_count": 12,
   "metadata": {},
   "outputs": [],
   "source": [
    "# Países del este\n",
    "df_este_2000_2004 = convertir_csv(lista_nombre_zona[0], lista_años[0])\n",
    "df_este_2005_2009 = convertir_csv(lista_nombre_zona[0], lista_años[1])\n",
    "df_este_2010_2014 = convertir_csv(lista_nombre_zona[0], lista_años[2])\n",
    "df_este_2015_2019 = convertir_csv(lista_nombre_zona[0], lista_años[3])\n",
    "df_este_2020_2024 = convertir_csv(lista_nombre_zona[0], lista_años[4])"
   ]
  },
  {
   "cell_type": "code",
   "execution_count": 13,
   "metadata": {},
   "outputs": [],
   "source": [
    "# Países del centro\n",
    "df_centro_2000_2004 = convertir_csv(lista_nombre_zona[1], lista_años[0])\n",
    "df_centro_2005_2009 = convertir_csv(lista_nombre_zona[1], lista_años[1])\n",
    "df_centro_2010_2014 = convertir_csv(lista_nombre_zona[1], lista_años[2])\n",
    "df_centro_2015_2019 = convertir_csv(lista_nombre_zona[1], lista_años[3])\n",
    "df_centro_2020_2024 = convertir_csv(lista_nombre_zona[1], lista_años[4])"
   ]
  },
  {
   "cell_type": "code",
   "execution_count": 14,
   "metadata": {},
   "outputs": [],
   "source": [
    "# Países mediterráneos\n",
    "df_medit_2000_2004 = convertir_csv(lista_nombre_zona[2], lista_años[0])\n",
    "df_medit_2005_2009 = convertir_csv(lista_nombre_zona[2], lista_años[1])\n",
    "df_medit_2010_2014 = convertir_csv(lista_nombre_zona[2], lista_años[2])\n",
    "df_medit_2015_2019 = convertir_csv(lista_nombre_zona[2], lista_años[3])\n",
    "df_medit_2020_2024 = convertir_csv(lista_nombre_zona[2], lista_años[4])"
   ]
  },
  {
   "cell_type": "code",
   "execution_count": 15,
   "metadata": {},
   "outputs": [],
   "source": [
    "# Países del norte\n",
    "df_norte_2000_2004 = convertir_csv(lista_nombre_zona[3], lista_años[0])\n",
    "df_norte_2005_2009 = convertir_csv(lista_nombre_zona[3], lista_años[1])\n",
    "df_norte_2010_2014 = convertir_csv(lista_nombre_zona[3], lista_años[2])\n",
    "df_norte_2015_2019 = convertir_csv(lista_nombre_zona[3], lista_años[3])\n",
    "df_norte_2020_2024 = convertir_csv(lista_nombre_zona[3], lista_años[4])"
   ]
  },
  {
   "cell_type": "markdown",
   "metadata": {},
   "source": [
    "3. Creamos una lista de artistas vacía y luego un DataFrame con todos los artistas por zona."
   ]
  },
  {
   "cell_type": "code",
   "execution_count": 16,
   "metadata": {},
   "outputs": [],
   "source": [
    "artistas = []\n",
    "df_mediterraneo = pd.concat(\n",
    "    [df_medit_2000_2004['artista'], df_medit_2005_2009['artista'], df_medit_2010_2014['artista'], df_medit_2015_2019['artista'], df_medit_2020_2024['artista']],\n",
    "    axis=1,\n",
    "    keys=[\"00-04\", \"05-09\", \"10-14\", \"15-19\", \"20-24\"])\n",
    "df_este = pd.concat(\n",
    "    [df_este_2000_2004['artista'], df_este_2005_2009['artista'], df_este_2010_2014['artista'], df_este_2015_2019['artista'], df_este_2020_2024['artista']],\n",
    "    axis=1,\n",
    "    keys=[\"00-04\", \"05-09\", \"10-14\", \"15-19\", \"20-24\"])\n",
    "df_centro = pd.concat(\n",
    "    [df_centro_2000_2004['artista'], df_centro_2005_2009['artista'], df_centro_2010_2014['artista'], df_centro_2015_2019['artista'], df_centro_2020_2024['artista']],\n",
    "    axis=1,\n",
    "    keys=[\"00-04\", \"05-09\", \"10-14\", \"15-19\", \"20-24\"])\n",
    "df_norte = pd.concat(\n",
    "    [df_norte_2000_2004['artista'], df_norte_2005_2009['artista'], df_norte_2010_2014['artista'], df_norte_2015_2019['artista'], df_norte_2020_2024['artista']],\n",
    "    axis=1,\n",
    "    keys=[\"00-04\", \"05-09\", \"10-14\", \"15-19\", \"20-24\"])"
   ]
  },
  {
   "cell_type": "code",
   "execution_count": 17,
   "metadata": {},
   "outputs": [],
   "source": [
    "# Esta lista es para poder meter los datos de los df en bucle.\n",
    "lista_df = [df_mediterraneo, df_este, df_centro, df_norte]"
   ]
  },
  {
   "cell_type": "markdown",
   "metadata": {},
   "source": [
    "4. Con el siguiente bucle, convertimos cada artista en una lista y lo añadimos a la lista artistas."
   ]
  },
  {
   "cell_type": "code",
   "execution_count": 18,
   "metadata": {},
   "outputs": [],
   "source": [
    "for df in lista_df:\n",
    "    for i in df.itertuples(name=None, index=False):\n",
    "        for n in range(4):\n",
    "            if ([i[n]]) not in artistas:\n",
    "                artistas.append(([i[n]]))\n",
    "    "
   ]
  },
  {
   "cell_type": "code",
   "execution_count": 19,
   "metadata": {},
   "outputs": [
    {
     "data": {
      "text/plain": [
       "981"
      ]
     },
     "execution_count": 19,
     "metadata": {},
     "output_type": "execute_result"
    }
   ],
   "source": [
    "len(artistas)"
   ]
  },
  {
   "cell_type": "markdown",
   "metadata": {},
   "source": [
    "5. Ejecutamos la inserción "
   ]
  },
  {
   "cell_type": "code",
   "execution_count": 20,
   "metadata": {},
   "outputs": [],
   "source": [
    "query_artistas = \"INSERT INTO artistas(nombre_artista) VALUES(%s)\"\n",
    "for artista in artistas:\n",
    "    try:\n",
    "     mycursor.execute(query_artistas, artista)\n",
    "     cnx.commit()\n",
    "    except:\n",
    "      continue\n",
    "cnx.close()"
   ]
  },
  {
   "cell_type": "markdown",
   "metadata": {},
   "source": [
    "### Añadimos los datos a la tabla canciones "
   ]
  },
  {
   "cell_type": "markdown",
   "metadata": {},
   "source": [
    "Recordemos los id_lustro para cada conjunto de 5 años: \n",
    "- 1 = 2000-2004\n",
    "- 2 = 2005-2009\n",
    "- 3 = 2010-2014\n",
    "- 4 = 2015-2019\n",
    "- 5 = 2020-2024"
   ]
  },
  {
   "cell_type": "code",
   "execution_count": 21,
   "metadata": {},
   "outputs": [],
   "source": [
    "cnx = mysql.connector.connect(user='root', password='AlumnaAdalab', host='127.0.0.1',\n",
    "                                    database='musicstream', \n",
    "                                    auth_plugin ='mysql_native_password')\n",
    "mycursor = cnx.cursor()"
   ]
  },
  {
   "cell_type": "markdown",
   "metadata": {},
   "source": [
    "Definimos la query canciones:"
   ]
  },
  {
   "cell_type": "code",
   "execution_count": 22,
   "metadata": {},
   "outputs": [],
   "source": [
    "query_canciones = \"INSERT INTO canciones(cancion, genero, popularidad, id_lustro, id_pais) VALUES(%s, %s, %s, %s, %s)\""
   ]
  },
  {
   "cell_type": "markdown",
   "metadata": {},
   "source": [
    "Hay algunos datos que son `nan`. MySQL no los reconoce, por lo que hay que convertirlos a None:"
   ]
  },
  {
   "cell_type": "code",
   "execution_count": 23,
   "metadata": {},
   "outputs": [],
   "source": [
    "df_medit_2000_2004_notnull = df_medit_2000_2004.where(pd.notnull(df_medit_2000_2004), None)"
   ]
  },
  {
   "cell_type": "code",
   "execution_count": 24,
   "metadata": {},
   "outputs": [
    {
     "data": {
      "text/html": [
       "<div>\n",
       "<style scoped>\n",
       "    .dataframe tbody tr th:only-of-type {\n",
       "        vertical-align: middle;\n",
       "    }\n",
       "\n",
       "    .dataframe tbody tr th {\n",
       "        vertical-align: top;\n",
       "    }\n",
       "\n",
       "    .dataframe thead th {\n",
       "        text-align: right;\n",
       "    }\n",
       "</style>\n",
       "<table border=\"1\" class=\"dataframe\">\n",
       "  <thead>\n",
       "    <tr style=\"text-align: right;\">\n",
       "      <th></th>\n",
       "      <th>nombre</th>\n",
       "      <th>popularity</th>\n",
       "      <th>artista</th>\n",
       "      <th>pais</th>\n",
       "      <th>genero</th>\n",
       "    </tr>\n",
       "    <tr>\n",
       "      <th>id</th>\n",
       "      <th></th>\n",
       "      <th></th>\n",
       "      <th></th>\n",
       "      <th></th>\n",
       "      <th></th>\n",
       "    </tr>\n",
       "  </thead>\n",
       "  <tbody>\n",
       "    <tr>\n",
       "      <th>0</th>\n",
       "      <td>Soldadito marinero</td>\n",
       "      <td>62</td>\n",
       "      <td>Fito y Fitipaldis</td>\n",
       "      <td>ES</td>\n",
       "      <td>spanish</td>\n",
       "    </tr>\n",
       "    <tr>\n",
       "      <th>1</th>\n",
       "      <td>Angel</td>\n",
       "      <td>28</td>\n",
       "      <td>Shaggy, Rayvon</td>\n",
       "      <td>ES</td>\n",
       "      <td>NaN</td>\n",
       "    </tr>\n",
       "    <tr>\n",
       "      <th>2</th>\n",
       "      <td>Rosas</td>\n",
       "      <td>75</td>\n",
       "      <td>La Oreja de Van Gogh</td>\n",
       "      <td>ES</td>\n",
       "      <td>pop</td>\n",
       "    </tr>\n",
       "    <tr>\n",
       "      <th>3</th>\n",
       "      <td>Dímelo bajito</td>\n",
       "      <td>0</td>\n",
       "      <td>Manzanita</td>\n",
       "      <td>ES</td>\n",
       "      <td>NaN</td>\n",
       "    </tr>\n",
       "    <tr>\n",
       "      <th>4</th>\n",
       "      <td>La vereda de la puerta de atrás</td>\n",
       "      <td>60</td>\n",
       "      <td>Extremoduro</td>\n",
       "      <td>ES</td>\n",
       "      <td>rock</td>\n",
       "    </tr>\n",
       "  </tbody>\n",
       "</table>\n",
       "</div>"
      ],
      "text/plain": [
       "                             nombre  popularity               artista pais  \\\n",
       "id                                                                           \n",
       "0                Soldadito marinero          62     Fito y Fitipaldis   ES   \n",
       "1                             Angel          28        Shaggy, Rayvon   ES   \n",
       "2                             Rosas          75  La Oreja de Van Gogh   ES   \n",
       "3                     Dímelo bajito           0             Manzanita   ES   \n",
       "4   La vereda de la puerta de atrás          60           Extremoduro   ES   \n",
       "\n",
       "     genero  \n",
       "id           \n",
       "0   spanish  \n",
       "1       NaN  \n",
       "2       pop  \n",
       "3       NaN  \n",
       "4      rock  "
      ]
     },
     "execution_count": 24,
     "metadata": {},
     "output_type": "execute_result"
    }
   ],
   "source": [
    "df_medit_2000_2004.head()"
   ]
  },
  {
   "cell_type": "code",
   "execution_count": 25,
   "metadata": {},
   "outputs": [
    {
     "data": {
      "text/html": [
       "<div>\n",
       "<style scoped>\n",
       "    .dataframe tbody tr th:only-of-type {\n",
       "        vertical-align: middle;\n",
       "    }\n",
       "\n",
       "    .dataframe tbody tr th {\n",
       "        vertical-align: top;\n",
       "    }\n",
       "\n",
       "    .dataframe thead th {\n",
       "        text-align: right;\n",
       "    }\n",
       "</style>\n",
       "<table border=\"1\" class=\"dataframe\">\n",
       "  <thead>\n",
       "    <tr style=\"text-align: right;\">\n",
       "      <th></th>\n",
       "      <th>nombre</th>\n",
       "      <th>popularity</th>\n",
       "      <th>artista</th>\n",
       "      <th>pais</th>\n",
       "      <th>genero</th>\n",
       "    </tr>\n",
       "    <tr>\n",
       "      <th>id</th>\n",
       "      <th></th>\n",
       "      <th></th>\n",
       "      <th></th>\n",
       "      <th></th>\n",
       "      <th></th>\n",
       "    </tr>\n",
       "  </thead>\n",
       "  <tbody>\n",
       "    <tr>\n",
       "      <th>0</th>\n",
       "      <td>Soldadito marinero</td>\n",
       "      <td>62</td>\n",
       "      <td>Fito y Fitipaldis</td>\n",
       "      <td>ES</td>\n",
       "      <td>spanish</td>\n",
       "    </tr>\n",
       "    <tr>\n",
       "      <th>1</th>\n",
       "      <td>Angel</td>\n",
       "      <td>28</td>\n",
       "      <td>Shaggy, Rayvon</td>\n",
       "      <td>ES</td>\n",
       "      <td>None</td>\n",
       "    </tr>\n",
       "    <tr>\n",
       "      <th>2</th>\n",
       "      <td>Rosas</td>\n",
       "      <td>75</td>\n",
       "      <td>La Oreja de Van Gogh</td>\n",
       "      <td>ES</td>\n",
       "      <td>pop</td>\n",
       "    </tr>\n",
       "    <tr>\n",
       "      <th>3</th>\n",
       "      <td>Dímelo bajito</td>\n",
       "      <td>0</td>\n",
       "      <td>Manzanita</td>\n",
       "      <td>ES</td>\n",
       "      <td>None</td>\n",
       "    </tr>\n",
       "    <tr>\n",
       "      <th>4</th>\n",
       "      <td>La vereda de la puerta de atrás</td>\n",
       "      <td>60</td>\n",
       "      <td>Extremoduro</td>\n",
       "      <td>ES</td>\n",
       "      <td>rock</td>\n",
       "    </tr>\n",
       "  </tbody>\n",
       "</table>\n",
       "</div>"
      ],
      "text/plain": [
       "                             nombre  popularity               artista pais  \\\n",
       "id                                                                           \n",
       "0                Soldadito marinero          62     Fito y Fitipaldis   ES   \n",
       "1                             Angel          28        Shaggy, Rayvon   ES   \n",
       "2                             Rosas          75  La Oreja de Van Gogh   ES   \n",
       "3                     Dímelo bajito           0             Manzanita   ES   \n",
       "4   La vereda de la puerta de atrás          60           Extremoduro   ES   \n",
       "\n",
       "     genero  \n",
       "id           \n",
       "0   spanish  \n",
       "1      None  \n",
       "2       pop  \n",
       "3      None  \n",
       "4      rock  "
      ]
     },
     "execution_count": 25,
     "metadata": {},
     "output_type": "execute_result"
    }
   ],
   "source": [
    "df_medit_2000_2004_notnull.head()"
   ]
  },
  {
   "cell_type": "markdown",
   "metadata": {},
   "source": [
    "Con este bucle insertamos las canciones de un solo DataFrame:"
   ]
  },
  {
   "cell_type": "code",
   "execution_count": 26,
   "metadata": {},
   "outputs": [],
   "source": [
    "for i in range(len(df_medit_2000_2004_notnull)):\n",
    "    tupla_insercion = (df_medit_2000_2004_notnull['nombre'][i], df_medit_2000_2004_notnull['genero'][i], int(df_medit_2000_2004_notnull['popularity'][i]), 1, df_medit_2000_2004_notnull['pais'][i])\n",
    "    mycursor.execute(query_canciones, tupla_insercion)\n",
    "    cnx.commit()"
   ]
  },
  {
   "cell_type": "code",
   "execution_count": 27,
   "metadata": {},
   "outputs": [],
   "source": [
    "cnx.close()"
   ]
  }
 ],
 "metadata": {
  "kernelspec": {
   "display_name": "base",
   "language": "python",
   "name": "python3"
  },
  "language_info": {
   "codemirror_mode": {
    "name": "ipython",
    "version": 3
   },
   "file_extension": ".py",
   "mimetype": "text/x-python",
   "name": "python",
   "nbconvert_exporter": "python",
   "pygments_lexer": "ipython3",
   "version": "3.12.7"
  }
 },
 "nbformat": 4,
 "nbformat_minor": 2
}
