{
 "cells": [
  {
   "cell_type": "markdown",
   "metadata": {},
   "source": [
    "# 🛜 Set-up para la conexión entre mysql y python 🛜"
   ]
  },
  {
   "cell_type": "code",
   "execution_count": 2,
   "metadata": {},
   "outputs": [],
   "source": [
    "import json\n",
    "import pandas as pd\n",
    "import mysql.connector\n",
    "from mysql.connector import errorcode"
   ]
  },
  {
   "cell_type": "markdown",
   "metadata": {},
   "source": [
    "1. Nos conectamos a la base de datos (script de creación en _schema_bbdd.sql_)"
   ]
  },
  {
   "cell_type": "code",
   "execution_count": 3,
   "metadata": {},
   "outputs": [],
   "source": [
    "cnx = mysql.connector.connect(user='root', password='AlumnaAdalab',\n",
    "host='127.0.0.1',\n",
    "database='musicstream', \n",
    "auth_plugin ='mysql_native_password')"
   ]
  },
  {
   "cell_type": "markdown",
   "metadata": {},
   "source": [
    "2. Creamos el cursor"
   ]
  },
  {
   "cell_type": "code",
   "execution_count": 4,
   "metadata": {},
   "outputs": [],
   "source": [
    "mycursor = cnx.cursor()"
   ]
  },
  {
   "cell_type": "markdown",
   "metadata": {},
   "source": [
    "# 🏗️ Añadiendo datos desde los ficheros .csv 🏗️"
   ]
  },
  {
   "cell_type": "markdown",
   "metadata": {},
   "source": [
    "### Añadimos los datos a la tabla zonas"
   ]
  },
  {
   "cell_type": "code",
   "execution_count": 123,
   "metadata": {},
   "outputs": [],
   "source": [
    "query = \"INSERT INTO zonas(nombre_zona) VALUES(%s)\"\n",
    "val = [[('mediterraneo')], [('norte')], [('centro')], [('este')]]\n",
    "mycursor.executemany(query, val)\n",
    "cnx.commit()"
   ]
  },
  {
   "cell_type": "markdown",
   "metadata": {},
   "source": [
    "### Añadimos los datos a la tabla países"
   ]
  },
  {
   "cell_type": "markdown",
   "metadata": {},
   "source": [
    "1. Definimos los diccionarios con los paises para cada zona"
   ]
  },
  {
   "cell_type": "code",
   "execution_count": 5,
   "metadata": {},
   "outputs": [],
   "source": [
    "paises_mediterraneos = {\n",
    "    \"ES\": \"España\",\n",
    "    \"FR\": \"Francia\",\n",
    "    \"MC\": \"Mónaco\",\n",
    "    \"IT\": \"Italia\",\n",
    "    \"SI\": \"Eslovenia\",\n",
    "    \"HR\": \"Croacia\",\n",
    "    \"BA\": \"Bosnia y Herzegovina\",\n",
    "    \"ME\": \"Montenegro\",\n",
    "    \"AL\": \"Albania\",\n",
    "    \"GR\": \"Grecia\",\n",
    "    \"MT\": \"Malta\",\n",
    "    \"CY\": \"Chipre\"}\n",
    "paises_este_europa = {\n",
    "    \"BY\": \"Bielorrusia\",\n",
    "    \"BG\": \"Bulgaria\",\n",
    "    \"CZ\": \"Chequia\",\n",
    "    \"SK\": \"Eslovaquia\",\n",
    "    \"HU\": \"Hungría\",\n",
    "    \"MD\": \"Moldavia\",\n",
    "    \"PL\": \"Polonia\",\n",
    "    \"RO\": \"Rumanía\",\n",
    "    \"UA\": \"Ucrania\"}\n",
    "paises_norte_europa = {\n",
    "    \"DK\": \"Dinamarca\",\n",
    "    \"EE\": \"Estonia\",\n",
    "    \"FI\": \"Finlandia\",\n",
    "    \"IS\": \"Islandia\",\n",
    "    \"IE\": \"Irlanda\",\n",
    "    \"LT\": \"Lituania\",\n",
    "    \"LV\": \"Letonia\",\n",
    "    \"NO\": \"Noruega\",\n",
    "    \"SE\": \"Suecia\",\n",
    "    \"GB\": \"Reino Unido\"}\n",
    "paises_europa_central = {\n",
    "    \"AT\": \"Austria\",\n",
    "    \"DE\": \"Alemania\",\n",
    "    \"CH\": \"Suiza\",\n",
    "    \"LI\": \"Liechtenstein\",\n",
    "    \"BE\": \"Bélgica\",\n",
    "    \"LU\": \"Luxemburgo\",\n",
    "    \"NL\": \"Países Bajos\"}"
   ]
  },
  {
   "cell_type": "markdown",
   "metadata": {},
   "source": [
    "2. Definimos la función `añadir_pais`"
   ]
  },
  {
   "cell_type": "code",
   "execution_count": 125,
   "metadata": {},
   "outputs": [],
   "source": [
    "def añadir_pais(diccionario, id_zona):\n",
    "    ''' Añade datos a la tabla de paises.\n",
    "\n",
    "        Args: \n",
    "            diccionario (dict): Un diccionario de los definidos para cada zona donde se recogen los países y sus códigos.\n",
    "            id_zona (int): Número asignado a cada zona de europa en la tabla zonas. \n",
    "\n",
    "    '''\n",
    "    for id, pais in diccionario.items():\n",
    "        query = \"INSERT INTO paises(id_pais, nombre_pais, id_zona) VALUES(%s, %s, %s)\"\n",
    "        val = [(id, pais, id_zona)] \n",
    "        mycursor.executemany(query, val)\n",
    "        cnx.commit()"
   ]
  },
  {
   "cell_type": "markdown",
   "metadata": {},
   "source": [
    "Los id_zona quedan entonces como: \n",
    "- 1 mediterraneo\n",
    "- 2 norte\n",
    "- 3 centro \n",
    "- 4 este "
   ]
  },
  {
   "cell_type": "markdown",
   "metadata": {},
   "source": [
    "3. Llamamos a la función en bucle para añadir los países de cada zona de una sola vez. "
   ]
  },
  {
   "cell_type": "code",
   "execution_count": 6,
   "metadata": {},
   "outputs": [],
   "source": [
    "# Definimos estas dos listas, que nos van a servir para poder llamar en bucle a la función. Es MUY IMPORTANTE el orden, debe coincidir el nombre del diccionario con el id_zona asignado a cada zona.\n",
    "lista_diccionarios = [paises_mediterraneos, paises_norte_europa, paises_europa_central, paises_este_europa]\n",
    "lista_zonas = [i for i in range(1,5)]"
   ]
  },
  {
   "cell_type": "code",
   "execution_count": 127,
   "metadata": {},
   "outputs": [],
   "source": [
    "for i in range(len(lista_diccionarios)):\n",
    "    añadir_pais(lista_diccionarios[i], lista_zonas[i])"
   ]
  },
  {
   "cell_type": "markdown",
   "metadata": {},
   "source": [
    "### Añadimos los datos a la tabla años"
   ]
  },
  {
   "cell_type": "code",
   "execution_count": 128,
   "metadata": {},
   "outputs": [],
   "source": [
    "query_años = \"INSERT INTO años(rango_años) VALUES(%s)\"\n",
    "val_años = [[('2000-2004')], [('2005-2009')], [('2010-2014')], [('2015-2019')], [('2020-2024')]]\n",
    "mycursor.executemany(query_años, val_años)\n",
    "cnx.commit()"
   ]
  },
  {
   "cell_type": "markdown",
   "metadata": {},
   "source": [
    "### Añadimos los datos a la tabla artistas"
   ]
  },
  {
   "cell_type": "markdown",
   "metadata": {},
   "source": [
    "1. Definimos la función `convertir_csv`, que convierte cada uno de los csv que hemos creado en un DataFrame."
   ]
  },
  {
   "cell_type": "code",
   "execution_count": 9,
   "metadata": {},
   "outputs": [],
   "source": [
    "def convertir_csv(zona, años):\n",
    "    ''' Convierte el csv de cada zona y rango de años en un DataFrame.\n",
    "    \n",
    "        Args:\n",
    "            zona (str): Nombre de la zona.\n",
    "            años (str): Rango de años en la forma añoinicio_añofin. \n",
    "    '''\n",
    "    df = pd.read_csv(f'archivos_csv/paises_{zona}_{años}.csv',index_col = 0)\n",
    "    return df"
   ]
  },
  {
   "cell_type": "markdown",
   "metadata": {},
   "source": [
    "2. Llamamos a la función una vez por cada csv que debemos convertir."
   ]
  },
  {
   "cell_type": "code",
   "execution_count": 7,
   "metadata": {},
   "outputs": [],
   "source": [
    "# Definimos estas dos listas, que nos van a servir para poder llamar a la función.\n",
    "lista_nombre_zona = [\"este_europa\", \"europa_central\", \"mediterraneos\", \"norte_europa\"]\n",
    "lista_años = [\"2000_2004\", \"2005_2009\", \"2010_2014\", \"2015_2019\", \"2020_2024\"]"
   ]
  },
  {
   "cell_type": "code",
   "execution_count": 10,
   "metadata": {},
   "outputs": [],
   "source": [
    "# Países del este\n",
    "df_este_2000_2004 = convertir_csv(lista_nombre_zona[0], lista_años[0])\n",
    "df_este_2005_2009 = convertir_csv(lista_nombre_zona[0], lista_años[1])\n",
    "df_este_2010_2014 = convertir_csv(lista_nombre_zona[0], lista_años[2])\n",
    "df_este_2015_2019 = convertir_csv(lista_nombre_zona[0], lista_años[3])\n",
    "df_este_2020_2024 = convertir_csv(lista_nombre_zona[0], lista_años[4])"
   ]
  },
  {
   "cell_type": "code",
   "execution_count": 11,
   "metadata": {},
   "outputs": [],
   "source": [
    "# Países del centro\n",
    "df_centro_2000_2004 = convertir_csv(lista_nombre_zona[1], lista_años[0])\n",
    "df_centro_2005_2009 = convertir_csv(lista_nombre_zona[1], lista_años[1])\n",
    "df_centro_2010_2014 = convertir_csv(lista_nombre_zona[1], lista_años[2])\n",
    "df_centro_2015_2019 = convertir_csv(lista_nombre_zona[1], lista_años[3])\n",
    "df_centro_2020_2024 = convertir_csv(lista_nombre_zona[1], lista_años[4])"
   ]
  },
  {
   "cell_type": "code",
   "execution_count": 13,
   "metadata": {},
   "outputs": [],
   "source": [
    "# Países mediterráneos\n",
    "df_medit_2000_2004 = convertir_csv(lista_nombre_zona[2], lista_años[0])\n",
    "df_medit_2005_2009 = convertir_csv(lista_nombre_zona[2], lista_años[1])\n",
    "df_medit_2010_2014 = convertir_csv(lista_nombre_zona[2], lista_años[2])\n",
    "df_medit_2015_2019 = convertir_csv(lista_nombre_zona[2], lista_años[3])\n",
    "df_medit_2020_2024 = convertir_csv(lista_nombre_zona[2], lista_años[4])"
   ]
  },
  {
   "cell_type": "code",
   "execution_count": 14,
   "metadata": {},
   "outputs": [],
   "source": [
    "# Países del norte\n",
    "df_norte_2000_2004 = convertir_csv(lista_nombre_zona[3], lista_años[0])\n",
    "df_norte_2005_2009 = convertir_csv(lista_nombre_zona[3], lista_años[1])\n",
    "df_norte_2010_2014 = convertir_csv(lista_nombre_zona[3], lista_años[2])\n",
    "df_norte_2015_2019 = convertir_csv(lista_nombre_zona[3], lista_años[3])\n",
    "df_norte_2020_2024 = convertir_csv(lista_nombre_zona[3], lista_años[4])"
   ]
  },
  {
   "cell_type": "code",
   "execution_count": 15,
   "metadata": {},
   "outputs": [],
   "source": [
    "lista_df_csv = [df_este_2000_2004, df_este_2005_2009, df_este_2010_2014, df_este_2015_2019, df_este_2020_2024, df_centro_2000_2004, df_centro_2005_2009, df_centro_2010_2014,\n",
    "                df_centro_2015_2019, df_centro_2020_2024, df_medit_2000_2004, df_medit_2005_2009, df_medit_2010_2014, df_medit_2015_2019, df_medit_2020_2024,df_norte_2000_2004,\n",
    "                df_norte_2005_2009, df_norte_2010_2014, df_norte_2015_2019, df_norte_2020_2024]"
   ]
  },
  {
   "cell_type": "code",
   "execution_count": 16,
   "metadata": {},
   "outputs": [],
   "source": [
    "lista_def = []\n",
    "for l in lista_df_csv:\n",
    "    var = l.sort_values(['popularity', 'pais'], axis=0, ascending=[False, True])[0:50]\n",
    "    lista_def.append(var)\n",
    "\n"
   ]
  },
  {
   "cell_type": "markdown",
   "metadata": {},
   "source": [
    "3. Creamos una lista de artistas vacía y luego un DataFrame con todos los artistas por zona."
   ]
  },
  {
   "cell_type": "code",
   "execution_count": 17,
   "metadata": {},
   "outputs": [],
   "source": [
    "artistas = []\n",
    "df_mediterraneo = pd.concat(\n",
    "    [df_medit_2000_2004['artista'], df_medit_2005_2009['artista'], df_medit_2010_2014['artista'], df_medit_2015_2019['artista'], df_medit_2020_2024['artista']],\n",
    "    axis=1,\n",
    "    keys=[\"00-04\", \"05-09\", \"10-14\", \"15-19\", \"20-24\"])\n",
    "df_este = pd.concat(\n",
    "    [df_este_2000_2004['artista'], df_este_2005_2009['artista'], df_este_2010_2014['artista'], df_este_2015_2019['artista'], df_este_2020_2024['artista']],\n",
    "    axis=1,\n",
    "    keys=[\"00-04\", \"05-09\", \"10-14\", \"15-19\", \"20-24\"])\n",
    "df_centro = pd.concat(\n",
    "    [df_centro_2000_2004['artista'], df_centro_2005_2009['artista'], df_centro_2010_2014['artista'], df_centro_2015_2019['artista'], df_centro_2020_2024['artista']],\n",
    "    axis=1,\n",
    "    keys=[\"00-04\", \"05-09\", \"10-14\", \"15-19\", \"20-24\"])\n",
    "df_norte = pd.concat(\n",
    "    [df_norte_2000_2004['artista'], df_norte_2005_2009['artista'], df_norte_2010_2014['artista'], df_norte_2015_2019['artista'], df_norte_2020_2024['artista']],\n",
    "    axis=1,\n",
    "    keys=[\"00-04\", \"05-09\", \"10-14\", \"15-19\", \"20-24\"])"
   ]
  },
  {
   "cell_type": "code",
   "execution_count": 18,
   "metadata": {},
   "outputs": [],
   "source": [
    "# Esta lista es para poder meter los datos de los df en bucle.\n",
    "lista_df = [df_mediterraneo, df_este, df_centro, df_norte]"
   ]
  },
  {
   "cell_type": "markdown",
   "metadata": {},
   "source": [
    "4. Con el siguiente bucle, convertimos cada artista en una lista y lo añadimos a la lista artistas."
   ]
  },
  {
   "cell_type": "code",
   "execution_count": 19,
   "metadata": {},
   "outputs": [],
   "source": [
    "for df in lista_df:\n",
    "    for i in df.itertuples(name=None, index=False):\n",
    "        for n in range(4):\n",
    "            if ([i[n]]) not in artistas:\n",
    "                artistas.append(([i[n]]))\n",
    "    "
   ]
  },
  {
   "cell_type": "code",
   "execution_count": 56,
   "metadata": {},
   "outputs": [
    {
     "data": {
      "text/plain": [
       "981"
      ]
     },
     "execution_count": 56,
     "metadata": {},
     "output_type": "execute_result"
    }
   ],
   "source": [
    "len(artistas)"
   ]
  },
  {
   "cell_type": "markdown",
   "metadata": {},
   "source": [
    "5. Ejecutamos la inserción "
   ]
  },
  {
   "cell_type": "code",
   "execution_count": 140,
   "metadata": {},
   "outputs": [],
   "source": [
    "query_artistas = \"INSERT INTO artistas(nombre_artista) VALUES(%s)\"\n",
    "for artista in artistas:\n",
    "    try:\n",
    "     mycursor.execute(query_artistas, artista)\n",
    "     cnx.commit()\n",
    "    except:\n",
    "      continue\n",
    "cnx.close()"
   ]
  },
  {
   "cell_type": "markdown",
   "metadata": {},
   "source": [
    "### Añadimos los datos a la tabla canciones "
   ]
  },
  {
   "cell_type": "markdown",
   "metadata": {},
   "source": [
    "Recordemos los id_lustro para cada conjunto de 5 años: \n",
    "- 1 = 2000-2004\n",
    "- 2 = 2005-2009\n",
    "- 3 = 2010-2014\n",
    "- 4 = 2015-2019\n",
    "- 5 = 2020-2024"
   ]
  },
  {
   "cell_type": "code",
   "execution_count": 1,
   "metadata": {},
   "outputs": [
    {
     "ename": "NameError",
     "evalue": "name 'mysql' is not defined",
     "output_type": "error",
     "traceback": [
      "\u001b[1;31m---------------------------------------------------------------------------\u001b[0m",
      "\u001b[1;31mNameError\u001b[0m                                 Traceback (most recent call last)",
      "Cell \u001b[1;32mIn[1], line 1\u001b[0m\n\u001b[1;32m----> 1\u001b[0m cnx \u001b[38;5;241m=\u001b[39m mysql\u001b[38;5;241m.\u001b[39mconnector\u001b[38;5;241m.\u001b[39mconnect(user\u001b[38;5;241m=\u001b[39m\u001b[38;5;124m'\u001b[39m\u001b[38;5;124mroot\u001b[39m\u001b[38;5;124m'\u001b[39m, password\u001b[38;5;241m=\u001b[39m\u001b[38;5;124m'\u001b[39m\u001b[38;5;124mAlumnaAdalab\u001b[39m\u001b[38;5;124m'\u001b[39m, host\u001b[38;5;241m=\u001b[39m\u001b[38;5;124m'\u001b[39m\u001b[38;5;124m127.0.0.1\u001b[39m\u001b[38;5;124m'\u001b[39m,\n\u001b[0;32m      2\u001b[0m                                     database\u001b[38;5;241m=\u001b[39m\u001b[38;5;124m'\u001b[39m\u001b[38;5;124mmusicstream\u001b[39m\u001b[38;5;124m'\u001b[39m, \n\u001b[0;32m      3\u001b[0m                                     auth_plugin \u001b[38;5;241m=\u001b[39m\u001b[38;5;124m'\u001b[39m\u001b[38;5;124mmysql_native_password\u001b[39m\u001b[38;5;124m'\u001b[39m)\n\u001b[0;32m      4\u001b[0m mycursor \u001b[38;5;241m=\u001b[39m cnx\u001b[38;5;241m.\u001b[39mcursor()\n",
      "\u001b[1;31mNameError\u001b[0m: name 'mysql' is not defined"
     ]
    }
   ],
   "source": [
    "cnx = mysql.connector.connect(user='root', password='AlumnaAdalab', host='127.0.0.1',\n",
    "                                    database='musicstream', \n",
    "                                    auth_plugin ='mysql_native_password')\n",
    "mycursor = cnx.cursor()"
   ]
  },
  {
   "cell_type": "markdown",
   "metadata": {},
   "source": [
    "Definimos la query canciones:"
   ]
  },
  {
   "cell_type": "code",
   "execution_count": 20,
   "metadata": {},
   "outputs": [],
   "source": [
    "query_canciones = \"INSERT INTO canciones(cancion, genero, popularidad, id_lustro, id_pais) VALUES(%s, %s, %s, %s, %s)\""
   ]
  },
  {
   "cell_type": "markdown",
   "metadata": {},
   "source": [
    "Hay algunos datos que son `NaN`, y MySQL no los reconoce, por lo que hay que convertirlos a None:"
   ]
  },
  {
   "cell_type": "code",
   "execution_count": 21,
   "metadata": {},
   "outputs": [],
   "source": [
    "def eliminar_nan (df):\n",
    "    #df_limpio = df.where(pd.notnull(df), None)\n",
    "    df_limpio = df.replace({float('NaN'): None})\n",
    "    return df_limpio"
   ]
  },
  {
   "cell_type": "code",
   "execution_count": 22,
   "metadata": {},
   "outputs": [],
   "source": [
    "lista_df_limpios = []\n",
    "\n",
    "for data in lista_def:\n",
    "    df_limpio = eliminar_nan(data)\n",
    "    lista_df_limpios.append(df_limpio)\n",
    "    "
   ]
  },
  {
   "cell_type": "code",
   "execution_count": 145,
   "metadata": {},
   "outputs": [
    {
     "data": {
      "text/plain": [
       "20"
      ]
     },
     "execution_count": 145,
     "metadata": {},
     "output_type": "execute_result"
    }
   ],
   "source": [
    "len(lista_df_limpios)"
   ]
  },
  {
   "cell_type": "markdown",
   "metadata": {},
   "source": [
    "Con este bucle insertamos las canciones de un solo DataFrame:"
   ]
  },
  {
   "cell_type": "code",
   "execution_count": 23,
   "metadata": {},
   "outputs": [],
   "source": [
    "def insertar_canciones (df,id_lustro):\n",
    "    lista_querys = []\n",
    "    for i in range(len(df)):\n",
    "        tupla_insercion = (str(df['nombre'][i]), str(df['genero'][i]), int(df['popularity'][i]), id_lustro, df['pais'][i])\n",
    "        lista_querys.append(tupla_insercion)\n",
    "    return lista_querys"
   ]
  },
  {
   "cell_type": "code",
   "execution_count": 24,
   "metadata": {},
   "outputs": [
    {
     "data": {
      "text/plain": [
       "[('Unwritten', 'pop', 81, 1, 'AT'),\n",
       " ('Angel', 'nan', 28, 1, 'AT'),\n",
       " ('Mr. Brightside', 'rock', 82, 1, 'AT'),\n",
       " ('Rooftop', 'pop', 0, 1, 'AT'),\n",
       " ('Numb', 'rock', 83, 1, 'AT'),\n",
       " ('This Is My Time', 'pop', 0, 1, 'AT'),\n",
       " ('In the End', 'rock', 82, 1, 'AT'),\n",
       " ('Dímelo bajito', 'nan', 0, 1, 'AT'),\n",
       " ('Yellow', 'rock', 86, 1, 'AT'),\n",
       " ('La vita è', 'pop', 1, 1, 'AT'),\n",
       " ('Mockingbird', 'rap', 81, 1, 'AT'),\n",
       " ('Here She Comes Again', 'pop', 0, 1, 'AT'),\n",
       " ('Without Me', 'rap', 83, 1, 'AT'),\n",
       " ('Turn It into Something Special', 'pop', 0, 1, 'AT'),\n",
       " ('How You Remind Me', 'rock', 80, 1, 'AT'),\n",
       " ('San Pedro', 'nan', 0, 1, 'AT'),\n",
       " ('Faint', 'rock', 79, 1, 'AT'),\n",
       " ('Cabelo Raspadinho', 'brasil', 2, 1, 'AT'),\n",
       " ('The Scientist', 'Coldplay', 83, 1, 'AT'),\n",
       " ('Dar A Volta No Brasil - Ao Vivo', 'nan', 0, 1, 'AT'),\n",
       " ('Last Resort', 'rock', 76, 1, 'AT'),\n",
       " (\"David's Arm - from Deuce\", 'nan', 0, 1, 'AT'),\n",
       " (\"Can't Stop\", 'rock', 80, 1, 'AT'),\n",
       " ('Eso de saber', 'LO MAS', 0, 1, 'AT'),\n",
       " ('Irgendwie, irgendwo, irgendwann', '80s', 62, 1, 'AT'),\n",
       " ('Devolva-Me', 'mpb', 1, 1, 'AT'),\n",
       " ('The Real Slim Shady', 'rap', 81, 1, 'AT'),\n",
       " ('He Loves U Not', 'pop', 0, 1, 'AT'),\n",
       " (\"L'Amour Toujours\", 'dance', 71, 1, 'AT'),\n",
       " ('Stuck in the Middle with You', 'pop', 0, 1, 'AT'),\n",
       " ('Somewhere Only We Know', 'britpop', 80, 1, 'AT'),\n",
       " ('2 Faced', 'pop', 0, 1, 'AT'),\n",
       " ('Dancing in the Moonlight', 'pop', 51, 1, 'AT'),\n",
       " ('Kiedy góral umiera', 'polish', 0, 1, 'AT'),\n",
       " ('One Step Closer', 'Nu Metal', 78, 1, 'AT'),\n",
       " ('El peligro', 'metal', 0, 1, 'AT'),\n",
       " ('Crazy In Love (feat. JAY-Z)', 'nan', 76, 1, 'AT'),\n",
       " ('This Is Me', 'pop', 0, 1, 'AT'),\n",
       " ('Sonne', 'industrial metal', 73, 1, 'AT'),\n",
       " (\"American Life (Director's Cut) - 4K Remaster\", 'nan', 0, 1, 'AT'),\n",
       " ('Denkmal', 'german', 61, 1, 'AT'),\n",
       " ('Beautiful Inside', 'pop', 0, 1, 'AT'),\n",
       " ('Ein Kompliment', 'german', 61, 1, 'AT'),\n",
       " ('Wierz? w siebie', 'nan', 0, 1, 'AT'),\n",
       " ('Yeah! (feat. Lil Jon & Ludacris)', 'nan', 80, 1, 'AT'),\n",
       " ('Take Me Home', 'nan', 0, 1, 'AT'),\n",
       " ('Bring Me To Life', 'rock', 80, 1, 'AT'),\n",
       " ('Love Is Alive - Live; 2004 Remaster', 'nan', 0, 1, 'AT'),\n",
       " ('Till I Collapse', 'nan', 79, 1, 'AT'),\n",
       " ('Ni na no', 'nan', 0, 1, 'AT'),\n",
       " ('Unwritten', 'pop', 81, 1, 'DE'),\n",
       " ('Angel', 'nan', 28, 1, 'DE'),\n",
       " ('Numb', 'rock', 83, 1, 'DE'),\n",
       " ('This Is My Time', 'pop', 0, 1, 'DE'),\n",
       " ('Mr. Brightside', 'rock', 82, 1, 'DE'),\n",
       " ('Rooftop', 'pop', 0, 1, 'DE'),\n",
       " ('In the End', 'rock', 82, 1, 'DE'),\n",
       " ('La vita è', 'pop', 1, 1, 'DE'),\n",
       " ('Mockingbird', 'rap', 81, 1, 'DE'),\n",
       " ('Here She Comes Again', 'pop', 0, 1, 'DE'),\n",
       " ('Without Me', 'rap', 83, 1, 'DE'),\n",
       " ('Turn It into Something Special', 'pop', 0, 1, 'DE'),\n",
       " ('Yeah! (feat. Lil Jon & Ludacris)', 'nan', 80, 1, 'DE'),\n",
       " ('Love Is Alive - Live; 2004 Remaster', 'nan', 0, 1, 'DE'),\n",
       " ('Irgendwie, irgendwo, irgendwann', '80s', 62, 1, 'DE'),\n",
       " ('He Loves U Not', 'pop', 0, 1, 'DE'),\n",
       " ('How You Remind Me', 'rock', 80, 1, 'DE'),\n",
       " ('This Is Me', 'pop', 0, 1, 'DE'),\n",
       " ('Faint', 'rock', 79, 1, 'DE'),\n",
       " ('Dímelo bajito', 'nan', 0, 1, 'DE'),\n",
       " ('Yellow', 'rock', 86, 1, 'DE'),\n",
       " ('Respiration', 'nan', 0, 1, 'DE'),\n",
       " ('Crazy In Love (feat. JAY-Z)', 'nan', 76, 1, 'DE'),\n",
       " ('Csak Játék', 'Ballad', 0, 1, 'DE'),\n",
       " ('Denkmal', 'german', 61, 1, 'DE'),\n",
       " ('Stuck in the Middle with You', 'pop', 0, 1, 'DE'),\n",
       " ('Last Resort', 'rock', 76, 1, 'DE'),\n",
       " ('2 Faced', 'pop', 0, 1, 'DE'),\n",
       " ('Sonne', 'industrial metal', 73, 1, 'DE'),\n",
       " ('Dar A Volta No Brasil - Ao Vivo', 'nan', 0, 1, 'DE'),\n",
       " ('The Real Slim Shady', 'rap', 81, 1, 'DE'),\n",
       " ('Cabelo Raspadinho', 'brasil', 2, 1, 'DE'),\n",
       " ('Ein Kompliment', 'german', 61, 1, 'DE'),\n",
       " ('Kiedy góral umiera', 'polish', 0, 1, 'DE'),\n",
       " ('Till I Collapse', 'nan', 79, 1, 'DE'),\n",
       " ('Beautiful Inside', 'pop', 0, 1, 'DE'),\n",
       " ('One Step Closer', 'Nu Metal', 78, 1, 'DE'),\n",
       " ('The Way I Am', 'rap', 0, 1, 'DE'),\n",
       " ('Bring Me To Life', 'rock', 80, 1, 'DE'),\n",
       " ('Take Me Home', 'nan', 0, 1, 'DE'),\n",
       " (\"L'Amour Toujours\", 'dance', 71, 1, 'DE'),\n",
       " ('Fuer dich (ZDF-Fernsehgarten 08.06.2003) - VOD', 'nan', 0, 1, 'DE'),\n",
       " (\"Can't Stop\", 'rock', 80, 1, 'DE'),\n",
       " ('Mestizo', 'Revolver', 0, 1, 'DE'),\n",
       " ('Lose Yourself', 'rap', 76, 1, 'DE'),\n",
       " ('Fliegst Du mit mir zu den Sternen (ZDF-Fernsehgarten 06.07.2003) - VOD',\n",
       "  'nan',\n",
       "  0,\n",
       "  1,\n",
       "  'DE'),\n",
       " ('In Da Club', 'rap', 77, 1, 'DE'),\n",
       " (\"That's The Way - Live at Earls Court, London, England, 5/1975\",\n",
       "  'nan',\n",
       "  0,\n",
       "  1,\n",
       "  'DE'),\n",
       " ('Ms. Jackson', 'Hip-Hop', 78, 1, 'DE'),\n",
       " ('New Bibi-Hendl - Rap', 'nan', 0, 1, 'DE'),\n",
       " ('Mockingbird', 'rap', 81, 1, 'CH'),\n",
       " ('Angel', 'nan', 28, 1, 'CH'),\n",
       " ('Unwritten', 'pop', 81, 1, 'CH'),\n",
       " ('Rooftop', 'pop', 0, 1, 'CH'),\n",
       " ('Numb', 'rock', 83, 1, 'CH'),\n",
       " ('La vita è', 'pop', 1, 1, 'CH'),\n",
       " ('Yellow', 'rock', 86, 1, 'CH'),\n",
       " (\"'03 Bonnie & Clyde\", 'nan', 0, 1, 'CH'),\n",
       " ('Without Me', 'rap', 83, 1, 'CH'),\n",
       " ('St. Anger', 'metal', 0, 1, 'CH'),\n",
       " ('In the End', 'rock', 82, 1, 'CH'),\n",
       " ('This Is My Time', 'pop', 0, 1, 'CH'),\n",
       " ('The Scientist', 'Coldplay', 83, 1, 'CH'),\n",
       " ('Dímelo bajito', 'nan', 0, 1, 'CH'),\n",
       " ('The Real Slim Shady', 'rap', 81, 1, 'CH'),\n",
       " ('He Loves U Not', 'pop', 0, 1, 'CH'),\n",
       " ('Lose Yourself', 'rap', 76, 1, 'CH'),\n",
       " ('Here She Comes Again', 'pop', 0, 1, 'CH'),\n",
       " ('Somewhere Only We Know', 'britpop', 80, 1, 'CH'),\n",
       " ('Cabelo Raspadinho', 'brasil', 2, 1, 'CH'),\n",
       " ('Mr. Brightside', 'rock', 82, 1, 'CH'),\n",
       " ('Turn It into Something Special', 'pop', 0, 1, 'CH'),\n",
       " ('Crazy In Love (feat. JAY-Z)', 'nan', 76, 1, 'CH'),\n",
       " ('Dar A Volta No Brasil - Ao Vivo', 'nan', 0, 1, 'CH'),\n",
       " ('Till I Collapse', 'nan', 79, 1, 'CH'),\n",
       " ('The Call - Remix w/out Rap', 'nan', 0, 1, 'CH'),\n",
       " ('How You Remind Me', 'rock', 80, 1, 'CH'),\n",
       " ('Take Me Home', 'nan', 0, 1, 'CH'),\n",
       " (\"Can't Stop\", 'rock', 80, 1, 'CH'),\n",
       " ('Stuck in the Middle with You', 'pop', 0, 1, 'CH'),\n",
       " ('Yeah! (feat. Lil Jon & Ludacris)', 'nan', 80, 1, 'CH'),\n",
       " ('This Is Me', 'pop', 0, 1, 'CH'),\n",
       " ('In Da Club', 'rap', 77, 1, 'CH'),\n",
       " (\"Rome Wasn't Built in a Day\", 'trip-hop', 0, 1, 'CH'),\n",
       " ('Ms. Jackson', 'Hip-Hop', 78, 1, 'CH'),\n",
       " ('05:15', 'nan', 0, 1, 'CH'),\n",
       " ('Clocks', 'rock', 79, 1, 'CH'),\n",
       " ('Devolva-Me', 'mpb', 1, 1, 'CH'),\n",
       " ('Me Gustas Tu', 'reggae', 75, 1, 'CH'),\n",
       " ('2 Faced', 'pop', 0, 1, 'CH'),\n",
       " (\"Comptine d'un autre été, l'après-midi\", 'piano', 70, 1, 'CH'),\n",
       " ('Kiedy góral umiera', 'polish', 0, 1, 'CH'),\n",
       " ('Obsesion', 'nan', 73, 1, 'CH'),\n",
       " ('San Pedro', 'nan', 0, 1, 'CH'),\n",
       " ('Faint', 'rock', 79, 1, 'CH'),\n",
       " ('El peligro', 'metal', 0, 1, 'CH'),\n",
       " ('Bring Me To Life', 'rock', 80, 1, 'CH'),\n",
       " (\"American Life (Director's Cut) - 4K Remaster\", 'nan', 0, 1, 'CH'),\n",
       " ('Sparks', 'rock', 82, 1, 'CH'),\n",
       " ('Beautiful Inside', 'pop', 0, 1, 'CH'),\n",
       " ('Yellow', 'rock', 86, 1, 'LI'),\n",
       " ('Angel', 'nan', 28, 1, 'LI'),\n",
       " ('The Scientist', 'Coldplay', 83, 1, 'LI'),\n",
       " ('Cabelo Raspadinho', 'brasil', 2, 1, 'LI'),\n",
       " ('Without Me', 'rap', 83, 1, 'LI'),\n",
       " ('Devolva-Me', 'mpb', 1, 1, 'LI'),\n",
       " ('Numb', 'rock', 83, 1, 'LI'),\n",
       " ('La vita è', 'pop', 1, 1, 'LI'),\n",
       " ('Mr. Brightside', 'rock', 82, 1, 'LI'),\n",
       " ('This Is My Time', 'pop', 0, 1, 'LI'),\n",
       " ('In the End', 'rock', 82, 1, 'LI'),\n",
       " ('He Loves U Not', 'pop', 0, 1, 'LI'),\n",
       " ('Sparks', 'rock', 82, 1, 'LI'),\n",
       " ('Rooftop', 'pop', 0, 1, 'LI'),\n",
       " ('Mockingbird', 'rap', 81, 1, 'LI'),\n",
       " ('Stuck in the Middle with You', 'pop', 0, 1, 'LI'),\n",
       " ('Unwritten', 'pop', 81, 1, 'LI'),\n",
       " ('Dímelo bajito', 'nan', 0, 1, 'LI'),\n",
       " ('The Real Slim Shady', 'rap', 81, 1, 'LI'),\n",
       " ('Dar A Volta No Brasil - Ao Vivo', 'nan', 0, 1, 'LI'),\n",
       " ('Bring Me To Life', 'rock', 80, 1, 'LI'),\n",
       " ('2 Faced', 'pop', 0, 1, 'LI'),\n",
       " ('Yeah! (feat. Lil Jon & Ludacris)', 'nan', 80, 1, 'LI'),\n",
       " ('Kiedy góral umiera', 'polish', 0, 1, 'LI'),\n",
       " ('Somewhere Only We Know', 'britpop', 80, 1, 'LI'),\n",
       " ('San Pedro', 'nan', 0, 1, 'LI'),\n",
       " ('How You Remind Me', 'rock', 80, 1, 'LI'),\n",
       " ('El peligro', 'metal', 0, 1, 'LI'),\n",
       " ('Toxicity', 'metal', 80, 1, 'LI'),\n",
       " ('This Is Me', 'pop', 0, 1, 'LI'),\n",
       " ('Clocks', 'rock', 79, 1, 'LI'),\n",
       " ('Here She Comes Again', 'pop', 0, 1, 'LI'),\n",
       " ('Duvet', 'anime', 79, 1, 'LI'),\n",
       " ('Turn It into Something Special', 'pop', 0, 1, 'LI'),\n",
       " ('Till I Collapse', 'nan', 79, 1, 'LI'),\n",
       " (\"American Life (Director's Cut) - 4K Remaster\", 'nan', 0, 1, 'LI'),\n",
       " ('Faint', 'rock', 79, 1, 'LI'),\n",
       " ('Beautiful Inside', 'pop', 0, 1, 'LI'),\n",
       " ('Chop Suey!', 'alternative metal', 79, 1, 'LI'),\n",
       " ('Wierz? w siebie', 'nan', 0, 1, 'LI'),\n",
       " ('Seven Nation Army', 'rock', 78, 1, 'LI'),\n",
       " ('Eso de saber', 'LO MAS', 0, 1, 'LI'),\n",
       " ('One Step Closer', 'Nu Metal', 78, 1, 'LI'),\n",
       " ('Love Is Alive - Live; 2004 Remaster', 'nan', 0, 1, 'LI'),\n",
       " ('This Love', 'pop', 78, 1, 'LI'),\n",
       " ('Ni na no', 'nan', 0, 1, 'LI'),\n",
       " ('She Will Be Loved - Radio Mix', 'pop', 78, 1, 'LI'),\n",
       " ('Call Me', '80s', 0, 1, 'LI'),\n",
       " ('Bye Bye Bye - From Deadpool and Wolverine Soundtrack',\n",
       "  'mistitled',\n",
       "  78,\n",
       "  1,\n",
       "  'LI'),\n",
       " ('Mestizo', 'Revolver', 0, 1, 'LI'),\n",
       " ('Yellow', 'rock', 86, 1, 'BE'),\n",
       " ('Angel', 'nan', 28, 1, 'BE'),\n",
       " ('Mr. Brightside', 'rock', 82, 1, 'BE'),\n",
       " ('La vita è', 'pop', 1, 1, 'BE'),\n",
       " ('Numb', 'rock', 83, 1, 'BE'),\n",
       " ('Dímelo bajito', 'nan', 0, 1, 'BE'),\n",
       " ('In the End', 'rock', 82, 1, 'BE'),\n",
       " ('Stuck in the Middle with You', 'pop', 0, 1, 'BE'),\n",
       " ('Unwritten', 'pop', 81, 1, 'BE'),\n",
       " ('2 Faced', 'pop', 0, 1, 'BE'),\n",
       " ('Mockingbird', 'rap', 81, 1, 'BE'),\n",
       " ('Rooftop', 'pop', 0, 1, 'BE'),\n",
       " ('The Scientist', 'Coldplay', 83, 1, 'BE'),\n",
       " ('Here She Comes Again', 'pop', 0, 1, 'BE'),\n",
       " ('Somewhere Only We Know', 'britpop', 80, 1, 'BE'),\n",
       " ('This Is My Time', 'pop', 0, 1, 'BE'),\n",
       " ('Without Me', 'rap', 83, 1, 'BE'),\n",
       " ('He Loves U Not', 'pop', 0, 1, 'BE'),\n",
       " ('The Real Slim Shady', 'rap', 81, 1, 'BE'),\n",
       " ('Cabelo Raspadinho', 'brasil', 2, 1, 'BE'),\n",
       " ('How You Remind Me', 'rock', 80, 1, 'BE'),\n",
       " ('Take Me Home', 'nan', 0, 1, 'BE'),\n",
       " ('Clocks', 'rock', 79, 1, 'BE'),\n",
       " ('This Is Me', 'pop', 0, 1, 'BE'),\n",
       " ('Yeah! (feat. Lil Jon & Ludacris)', 'nan', 80, 1, 'BE'),\n",
       " ('Could I Have This Kiss Forever (with Enrique Iglesias)', 'nan', 0, 1, 'BE'),\n",
       " ('Bring Me To Life', 'rock', 80, 1, 'BE'),\n",
       " ('Beautiful Inside', 'pop', 0, 1, 'BE'),\n",
       " ('Lose Yourself', 'rap', 76, 1, 'BE'),\n",
       " ('Devolva-Me', 'mpb', 1, 1, 'BE'),\n",
       " (\"Can't Stop\", 'rock', 80, 1, 'BE'),\n",
       " ('Dar A Volta No Brasil - Ao Vivo', 'nan', 0, 1, 'BE'),\n",
       " ('Ms. Jackson', 'Hip-Hop', 78, 1, 'BE'),\n",
       " ('Kiedy góral umiera', 'polish', 0, 1, 'BE'),\n",
       " ('Crazy In Love (feat. JAY-Z)', 'nan', 76, 1, 'BE'),\n",
       " ('San Pedro', 'nan', 0, 1, 'BE'),\n",
       " ('Seven Nation Army', 'rock', 78, 1, 'BE'),\n",
       " ('El peligro', 'metal', 0, 1, 'BE'),\n",
       " ('Murder On The Dancefloor', 'pop', 76, 1, 'BE'),\n",
       " ('Turn It into Something Special', 'pop', 0, 1, 'BE'),\n",
       " ('Sparks', 'rock', 82, 1, 'BE'),\n",
       " (\"American Life (Director's Cut) - 4K Remaster\", 'nan', 0, 1, 'BE'),\n",
       " ('In Da Club', 'rap', 77, 1, 'BE'),\n",
       " ('Wierz? w siebie', 'nan', 0, 1, 'BE'),\n",
       " ('Toxicity', 'metal', 80, 1, 'BE'),\n",
       " ('Eso de saber', 'LO MAS', 0, 1, 'BE'),\n",
       " ('Kryptonite', 'rock', 76, 1, 'BE'),\n",
       " ('Love Is Alive - Live; 2004 Remaster', 'nan', 0, 1, 'BE'),\n",
       " ('Faint', 'rock', 79, 1, 'BE'),\n",
       " ('Ni na no', 'nan', 0, 1, 'BE'),\n",
       " ('Numb', 'rock', 83, 1, 'LU'),\n",
       " ('Angel', 'nan', 28, 1, 'LU'),\n",
       " ('Yellow', 'rock', 86, 1, 'LU'),\n",
       " ('Dímelo bajito', 'nan', 0, 1, 'LU'),\n",
       " ('In the End', 'rock', 82, 1, 'LU'),\n",
       " ('The Way I Am', 'rap', 0, 1, 'LU'),\n",
       " ('Unwritten', 'pop', 81, 1, 'LU'),\n",
       " ('Cabelo Raspadinho', 'brasil', 2, 1, 'LU'),\n",
       " ('Mockingbird', 'rap', 81, 1, 'LU'),\n",
       " ('Devolva-Me', 'mpb', 1, 1, 'LU'),\n",
       " ('The Scientist', 'Coldplay', 83, 1, 'LU'),\n",
       " ('La vita è', 'pop', 1, 1, 'LU'),\n",
       " ('Mr. Brightside', 'rock', 82, 1, 'LU'),\n",
       " ('This Is My Time', 'pop', 0, 1, 'LU'),\n",
       " ('Somewhere Only We Know', 'britpop', 80, 1, 'LU'),\n",
       " ('He Loves U Not', 'pop', 0, 1, 'LU'),\n",
       " ('Without Me', 'rap', 83, 1, 'LU'),\n",
       " ('Rooftop', 'pop', 0, 1, 'LU'),\n",
       " ('How You Remind Me', 'rock', 80, 1, 'LU'),\n",
       " ('Stuck in the Middle with You', 'pop', 0, 1, 'LU'),\n",
       " ('The Real Slim Shady', 'rap', 81, 1, 'LU'),\n",
       " ('Dar A Volta No Brasil - Ao Vivo', 'nan', 0, 1, 'LU'),\n",
       " ('Yeah! (feat. Lil Jon & Ludacris)', 'nan', 80, 1, 'LU'),\n",
       " ('2 Faced', 'pop', 0, 1, 'LU'),\n",
       " ('In Da Club', 'rap', 77, 1, 'LU'),\n",
       " ('Kiedy góral umiera', 'polish', 0, 1, 'LU'),\n",
       " ('Lose Yourself', 'rap', 76, 1, 'LU'),\n",
       " ('San Pedro', 'nan', 0, 1, 'LU'),\n",
       " (\"Can't Stop\", 'rock', 80, 1, 'LU'),\n",
       " ('El peligro', 'metal', 0, 1, 'LU'),\n",
       " ('Clocks', 'rock', 79, 1, 'LU'),\n",
       " ('This Is Me', 'pop', 0, 1, 'LU'),\n",
       " ('Bring Me To Life', 'rock', 80, 1, 'LU'),\n",
       " ('Here She Comes Again', 'pop', 0, 1, 'LU'),\n",
       " ('Faint', 'rock', 79, 1, 'LU'),\n",
       " ('Turn It into Something Special', 'pop', 0, 1, 'LU'),\n",
       " ('Seven Nation Army', 'rock', 78, 1, 'LU'),\n",
       " (\"American Life (Director's Cut) - 4K Remaster\", 'nan', 0, 1, 'LU'),\n",
       " ('Till I Collapse', 'nan', 79, 1, 'LU'),\n",
       " ('Beautiful Inside', 'pop', 0, 1, 'LU'),\n",
       " ('Ms. Jackson', 'Hip-Hop', 78, 1, 'LU'),\n",
       " ('Wierz? w siebie', 'nan', 0, 1, 'LU'),\n",
       " ('One Step Closer', 'Nu Metal', 78, 1, 'LU'),\n",
       " ('Eso de saber', 'LO MAS', 0, 1, 'LU'),\n",
       " ('Last Resort', 'rock', 76, 1, 'LU'),\n",
       " ('Take Me Home', 'nan', 0, 1, 'LU'),\n",
       " ('Dancing in the Moonlight', 'pop', 75, 1, 'LU'),\n",
       " ('Love Is Alive - Live; 2004 Remaster', 'nan', 0, 1, 'LU'),\n",
       " ('Crazy In Love (feat. JAY-Z)', 'nan', 76, 1, 'LU'),\n",
       " ('Ni na no', 'nan', 0, 1, 'LU'),\n",
       " ('Yellow', 'rock', 86, 1, 'NL'),\n",
       " ('Angel', 'nan', 28, 1, 'NL'),\n",
       " ('Unwritten', 'pop', 81, 1, 'NL'),\n",
       " ('He Loves U Not', 'pop', 0, 1, 'NL'),\n",
       " ('The Scientist', 'Coldplay', 83, 1, 'NL'),\n",
       " ('Spaceship', 'nan', 0, 1, 'NL'),\n",
       " ('Somewhere Only We Know', 'britpop', 80, 1, 'NL'),\n",
       " ('Cabelo Raspadinho', 'brasil', 2, 1, 'NL'),\n",
       " ('Onderweg', 'Nederlandstalig', 55, 1, 'NL'),\n",
       " ('Stuck in the Middle with You', 'pop', 0, 1, 'NL'),\n",
       " ('Mr. Brightside', 'rock', 82, 1, 'NL'),\n",
       " ('2 Faced', 'pop', 0, 1, 'NL'),\n",
       " ('Bloed, Zweet En Tranen', 'nederlands', 53, 1, 'NL'),\n",
       " ('This Is My Time', 'pop', 0, 1, 'NL'),\n",
       " ('Clocks', 'rock', 79, 1, 'NL'),\n",
       " ('Dímelo bajito', 'nan', 0, 1, 'NL'),\n",
       " ('Mockingbird', 'rap', 81, 1, 'NL'),\n",
       " ('This Is Me', 'pop', 0, 1, 'NL'),\n",
       " ('In the End', 'rock', 82, 1, 'NL'),\n",
       " ('Kiedy góral umiera', 'polish', 0, 1, 'NL'),\n",
       " ('Without Me', 'rap', 83, 1, 'NL'),\n",
       " ('La vita è', 'pop', 1, 1, 'NL'),\n",
       " ('Brabant', 'Nederlandstalig', 52, 1, 'NL'),\n",
       " ('Badi Eish', 'arabic pop', 0, 1, 'NL'),\n",
       " ('Sparks', 'rock', 82, 1, 'NL'),\n",
       " ('Beautiful Inside', 'pop', 0, 1, 'NL'),\n",
       " ('Numb', 'rock', 83, 1, 'NL'),\n",
       " ('Peaches - 2001 Remaster', 'nan', 0, 1, 'NL'),\n",
       " ('Murder On The Dancefloor', 'pop', 76, 1, 'NL'),\n",
       " ('Take Me Home', 'nan', 0, 1, 'NL'),\n",
       " ('The Real Slim Shady', 'rap', 81, 1, 'NL'),\n",
       " ('Here She Comes Again', 'pop', 0, 1, 'NL'),\n",
       " ('Yeah! (feat. Lil Jon & Ludacris)', 'nan', 80, 1, 'NL'),\n",
       " ('Turn It into Something Special', 'pop', 0, 1, 'NL'),\n",
       " ('How You Remind Me', 'rock', 80, 1, 'NL'),\n",
       " ('Kashmir - Live at Knebworth Festival, Hertfordshire, England, 8/1979',\n",
       "  'nan',\n",
       "  0,\n",
       "  1,\n",
       "  'NL'),\n",
       " ('Drops of Jupiter (Tell Me)', 'pop', 75, 1, 'NL'),\n",
       " ('New Bibi-Hendl - Rap', 'nan', 0, 1, 'NL'),\n",
       " (\"Can't Stop\", 'rock', 80, 1, 'NL'),\n",
       " ('Thoughtless', 'Nu Metal', 0, 1, 'NL'),\n",
       " ('Lose Yourself', 'rap', 76, 1, 'NL'),\n",
       " ('Sing For The Moment - Edited', 'nan', 0, 1, 'NL'),\n",
       " ('Seven Nation Army', 'rock', 78, 1, 'NL'),\n",
       " ('Haste to the Wedding (Pt. 1 & 2)', 'nan', 0, 1, 'NL'),\n",
       " ('Lady - Hear Me Tonight', 'House', 75, 1, 'NL'),\n",
       " ('Mzael Kel El Banat', 'nan', 0, 1, 'NL'),\n",
       " ('Ms. Jackson', 'Hip-Hop', 78, 1, 'NL'),\n",
       " ('Ergaa Lel Shoua', 'nan', 0, 1, 'NL'),\n",
       " ('Dansen Aan Zee', 'pop', 50, 1, 'NL'),\n",
       " ('Holding Back the Years', '80s', 0, 1, 'NL')]"
      ]
     },
     "execution_count": 24,
     "metadata": {},
     "output_type": "execute_result"
    }
   ],
   "source": [
    "insertar_canciones(df_centro_2000_2004, 1)"
   ]
  },
  {
   "cell_type": "code",
   "execution_count": 33,
   "metadata": {},
   "outputs": [
    {
     "data": {
      "text/html": [
       "<div>\n",
       "<style scoped>\n",
       "    .dataframe tbody tr th:only-of-type {\n",
       "        vertical-align: middle;\n",
       "    }\n",
       "\n",
       "    .dataframe tbody tr th {\n",
       "        vertical-align: top;\n",
       "    }\n",
       "\n",
       "    .dataframe thead th {\n",
       "        text-align: right;\n",
       "    }\n",
       "</style>\n",
       "<table border=\"1\" class=\"dataframe\">\n",
       "  <thead>\n",
       "    <tr style=\"text-align: right;\">\n",
       "      <th></th>\n",
       "      <th>nombre</th>\n",
       "      <th>popularity</th>\n",
       "      <th>artista</th>\n",
       "      <th>pais</th>\n",
       "      <th>genero</th>\n",
       "    </tr>\n",
       "    <tr>\n",
       "      <th>id</th>\n",
       "      <th></th>\n",
       "      <th></th>\n",
       "      <th></th>\n",
       "      <th></th>\n",
       "      <th></th>\n",
       "    </tr>\n",
       "  </thead>\n",
       "  <tbody>\n",
       "    <tr>\n",
       "      <th>0</th>\n",
       "      <td>Unwritten</td>\n",
       "      <td>81</td>\n",
       "      <td>Natasha Bedingfield</td>\n",
       "      <td>AT</td>\n",
       "      <td>pop</td>\n",
       "    </tr>\n",
       "    <tr>\n",
       "      <th>1</th>\n",
       "      <td>Angel</td>\n",
       "      <td>28</td>\n",
       "      <td>Shaggy, Rayvon</td>\n",
       "      <td>AT</td>\n",
       "      <td>NaN</td>\n",
       "    </tr>\n",
       "    <tr>\n",
       "      <th>2</th>\n",
       "      <td>Mr. Brightside</td>\n",
       "      <td>82</td>\n",
       "      <td>The Killers</td>\n",
       "      <td>AT</td>\n",
       "      <td>rock</td>\n",
       "    </tr>\n",
       "    <tr>\n",
       "      <th>3</th>\n",
       "      <td>Rooftop</td>\n",
       "      <td>0</td>\n",
       "      <td>Sasha</td>\n",
       "      <td>AT</td>\n",
       "      <td>pop</td>\n",
       "    </tr>\n",
       "    <tr>\n",
       "      <th>4</th>\n",
       "      <td>Numb</td>\n",
       "      <td>83</td>\n",
       "      <td>Linkin Park</td>\n",
       "      <td>AT</td>\n",
       "      <td>rock</td>\n",
       "    </tr>\n",
       "    <tr>\n",
       "      <th>...</th>\n",
       "      <td>...</td>\n",
       "      <td>...</td>\n",
       "      <td>...</td>\n",
       "      <td>...</td>\n",
       "      <td>...</td>\n",
       "    </tr>\n",
       "    <tr>\n",
       "      <th>345</th>\n",
       "      <td>Mzael Kel El Banat</td>\n",
       "      <td>0</td>\n",
       "      <td>Wael Kfoury</td>\n",
       "      <td>NL</td>\n",
       "      <td>NaN</td>\n",
       "    </tr>\n",
       "    <tr>\n",
       "      <th>346</th>\n",
       "      <td>Ms. Jackson</td>\n",
       "      <td>78</td>\n",
       "      <td>Outkast</td>\n",
       "      <td>NL</td>\n",
       "      <td>Hip-Hop</td>\n",
       "    </tr>\n",
       "    <tr>\n",
       "      <th>347</th>\n",
       "      <td>Ergaa Lel Shoua</td>\n",
       "      <td>0</td>\n",
       "      <td>Elissa</td>\n",
       "      <td>NL</td>\n",
       "      <td>NaN</td>\n",
       "    </tr>\n",
       "    <tr>\n",
       "      <th>348</th>\n",
       "      <td>Dansen Aan Zee</td>\n",
       "      <td>50</td>\n",
       "      <td>BLØF</td>\n",
       "      <td>NL</td>\n",
       "      <td>pop</td>\n",
       "    </tr>\n",
       "    <tr>\n",
       "      <th>349</th>\n",
       "      <td>Holding Back the Years</td>\n",
       "      <td>0</td>\n",
       "      <td>Simply Red</td>\n",
       "      <td>NL</td>\n",
       "      <td>80s</td>\n",
       "    </tr>\n",
       "  </tbody>\n",
       "</table>\n",
       "<p>350 rows × 5 columns</p>\n",
       "</div>"
      ],
      "text/plain": [
       "                     nombre  popularity              artista pais   genero\n",
       "id                                                                        \n",
       "0                 Unwritten          81  Natasha Bedingfield   AT      pop\n",
       "1                     Angel          28       Shaggy, Rayvon   AT      NaN\n",
       "2            Mr. Brightside          82          The Killers   AT     rock\n",
       "3                   Rooftop           0                Sasha   AT      pop\n",
       "4                      Numb          83          Linkin Park   AT     rock\n",
       "..                      ...         ...                  ...  ...      ...\n",
       "345      Mzael Kel El Banat           0          Wael Kfoury   NL      NaN\n",
       "346             Ms. Jackson          78              Outkast   NL  Hip-Hop\n",
       "347         Ergaa Lel Shoua           0               Elissa   NL      NaN\n",
       "348          Dansen Aan Zee          50                 BLØF   NL      pop\n",
       "349  Holding Back the Years           0           Simply Red   NL      80s\n",
       "\n",
       "[350 rows x 5 columns]"
      ]
     },
     "execution_count": 33,
     "metadata": {},
     "output_type": "execute_result"
    }
   ],
   "source": [
    "df_centro_2000_2004"
   ]
  },
  {
   "cell_type": "code",
   "execution_count": 25,
   "metadata": {},
   "outputs": [],
   "source": [
    "lustros = {1:\"2000-2004\", 2:\"2005-2009\", 3:\"2010-2014\", 4:\"2015-2019\", 5:\"2020-2024\"}"
   ]
  },
  {
   "cell_type": "code",
   "execution_count": 26,
   "metadata": {},
   "outputs": [
    {
     "ename": "KeyError",
     "evalue": "0",
     "output_type": "error",
     "traceback": [
      "\u001b[1;31m---------------------------------------------------------------------------\u001b[0m",
      "\u001b[1;31mKeyError\u001b[0m                                  Traceback (most recent call last)",
      "File \u001b[1;32mc:\\Users\\bfrai\\anaconda3\\Lib\\site-packages\\pandas\\core\\indexes\\base.py:3805\u001b[0m, in \u001b[0;36mIndex.get_loc\u001b[1;34m(self, key)\u001b[0m\n\u001b[0;32m   3804\u001b[0m \u001b[38;5;28;01mtry\u001b[39;00m:\n\u001b[1;32m-> 3805\u001b[0m     \u001b[38;5;28;01mreturn\u001b[39;00m \u001b[38;5;28mself\u001b[39m\u001b[38;5;241m.\u001b[39m_engine\u001b[38;5;241m.\u001b[39mget_loc(casted_key)\n\u001b[0;32m   3806\u001b[0m \u001b[38;5;28;01mexcept\u001b[39;00m \u001b[38;5;167;01mKeyError\u001b[39;00m \u001b[38;5;28;01mas\u001b[39;00m err:\n",
      "File \u001b[1;32mindex.pyx:167\u001b[0m, in \u001b[0;36mpandas._libs.index.IndexEngine.get_loc\u001b[1;34m()\u001b[0m\n",
      "File \u001b[1;32mindex.pyx:196\u001b[0m, in \u001b[0;36mpandas._libs.index.IndexEngine.get_loc\u001b[1;34m()\u001b[0m\n",
      "File \u001b[1;32mpandas\\\\_libs\\\\hashtable_class_helper.pxi:2606\u001b[0m, in \u001b[0;36mpandas._libs.hashtable.Int64HashTable.get_item\u001b[1;34m()\u001b[0m\n",
      "File \u001b[1;32mpandas\\\\_libs\\\\hashtable_class_helper.pxi:2630\u001b[0m, in \u001b[0;36mpandas._libs.hashtable.Int64HashTable.get_item\u001b[1;34m()\u001b[0m\n",
      "\u001b[1;31mKeyError\u001b[0m: 0",
      "\nThe above exception was the direct cause of the following exception:\n",
      "\u001b[1;31mKeyError\u001b[0m                                  Traceback (most recent call last)",
      "Cell \u001b[1;32mIn[26], line 3\u001b[0m\n\u001b[0;32m      1\u001b[0m \u001b[38;5;28;01mfor\u001b[39;00m df \u001b[38;5;129;01min\u001b[39;00m lista_df_limpios:    \n\u001b[0;32m      2\u001b[0m     \u001b[38;5;28;01mfor\u001b[39;00m i \u001b[38;5;129;01min\u001b[39;00m \u001b[38;5;28mrange\u001b[39m(\u001b[38;5;241m1\u001b[39m, \u001b[38;5;28mlen\u001b[39m(lustros)):\n\u001b[1;32m----> 3\u001b[0m         tupla \u001b[38;5;241m=\u001b[39m insertar_canciones(df,i)\n\u001b[0;32m      4\u001b[0m         mycursor\u001b[38;5;241m.\u001b[39mexecutemany(query_canciones, tupla)\n\u001b[0;32m      5\u001b[0m         cnx\u001b[38;5;241m.\u001b[39mcommit()\n",
      "Cell \u001b[1;32mIn[23], line 4\u001b[0m, in \u001b[0;36minsertar_canciones\u001b[1;34m(df, id_lustro)\u001b[0m\n\u001b[0;32m      2\u001b[0m lista_querys \u001b[38;5;241m=\u001b[39m []\n\u001b[0;32m      3\u001b[0m \u001b[38;5;28;01mfor\u001b[39;00m i \u001b[38;5;129;01min\u001b[39;00m \u001b[38;5;28mrange\u001b[39m(\u001b[38;5;28mlen\u001b[39m(df)):\n\u001b[1;32m----> 4\u001b[0m     tupla_insercion \u001b[38;5;241m=\u001b[39m (\u001b[38;5;28mstr\u001b[39m(df[\u001b[38;5;124m'\u001b[39m\u001b[38;5;124mnombre\u001b[39m\u001b[38;5;124m'\u001b[39m][i]), \u001b[38;5;28mstr\u001b[39m(df[\u001b[38;5;124m'\u001b[39m\u001b[38;5;124mgenero\u001b[39m\u001b[38;5;124m'\u001b[39m][i]), \u001b[38;5;28mint\u001b[39m(df[\u001b[38;5;124m'\u001b[39m\u001b[38;5;124mpopularity\u001b[39m\u001b[38;5;124m'\u001b[39m][i]), id_lustro, df[\u001b[38;5;124m'\u001b[39m\u001b[38;5;124mpais\u001b[39m\u001b[38;5;124m'\u001b[39m][i])\n\u001b[0;32m      5\u001b[0m     lista_querys\u001b[38;5;241m.\u001b[39mappend(tupla_insercion)\n\u001b[0;32m      6\u001b[0m \u001b[38;5;28;01mreturn\u001b[39;00m lista_querys\n",
      "File \u001b[1;32mc:\\Users\\bfrai\\anaconda3\\Lib\\site-packages\\pandas\\core\\series.py:1121\u001b[0m, in \u001b[0;36mSeries.__getitem__\u001b[1;34m(self, key)\u001b[0m\n\u001b[0;32m   1118\u001b[0m     \u001b[38;5;28;01mreturn\u001b[39;00m \u001b[38;5;28mself\u001b[39m\u001b[38;5;241m.\u001b[39m_values[key]\n\u001b[0;32m   1120\u001b[0m \u001b[38;5;28;01melif\u001b[39;00m key_is_scalar:\n\u001b[1;32m-> 1121\u001b[0m     \u001b[38;5;28;01mreturn\u001b[39;00m \u001b[38;5;28mself\u001b[39m\u001b[38;5;241m.\u001b[39m_get_value(key)\n\u001b[0;32m   1123\u001b[0m \u001b[38;5;66;03m# Convert generator to list before going through hashable part\u001b[39;00m\n\u001b[0;32m   1124\u001b[0m \u001b[38;5;66;03m# (We will iterate through the generator there to check for slices)\u001b[39;00m\n\u001b[0;32m   1125\u001b[0m \u001b[38;5;28;01mif\u001b[39;00m is_iterator(key):\n",
      "File \u001b[1;32mc:\\Users\\bfrai\\anaconda3\\Lib\\site-packages\\pandas\\core\\series.py:1237\u001b[0m, in \u001b[0;36mSeries._get_value\u001b[1;34m(self, label, takeable)\u001b[0m\n\u001b[0;32m   1234\u001b[0m     \u001b[38;5;28;01mreturn\u001b[39;00m \u001b[38;5;28mself\u001b[39m\u001b[38;5;241m.\u001b[39m_values[label]\n\u001b[0;32m   1236\u001b[0m \u001b[38;5;66;03m# Similar to Index.get_value, but we do not fall back to positional\u001b[39;00m\n\u001b[1;32m-> 1237\u001b[0m loc \u001b[38;5;241m=\u001b[39m \u001b[38;5;28mself\u001b[39m\u001b[38;5;241m.\u001b[39mindex\u001b[38;5;241m.\u001b[39mget_loc(label)\n\u001b[0;32m   1239\u001b[0m \u001b[38;5;28;01mif\u001b[39;00m is_integer(loc):\n\u001b[0;32m   1240\u001b[0m     \u001b[38;5;28;01mreturn\u001b[39;00m \u001b[38;5;28mself\u001b[39m\u001b[38;5;241m.\u001b[39m_values[loc]\n",
      "File \u001b[1;32mc:\\Users\\bfrai\\anaconda3\\Lib\\site-packages\\pandas\\core\\indexes\\base.py:3812\u001b[0m, in \u001b[0;36mIndex.get_loc\u001b[1;34m(self, key)\u001b[0m\n\u001b[0;32m   3807\u001b[0m     \u001b[38;5;28;01mif\u001b[39;00m \u001b[38;5;28misinstance\u001b[39m(casted_key, \u001b[38;5;28mslice\u001b[39m) \u001b[38;5;129;01mor\u001b[39;00m (\n\u001b[0;32m   3808\u001b[0m         \u001b[38;5;28misinstance\u001b[39m(casted_key, abc\u001b[38;5;241m.\u001b[39mIterable)\n\u001b[0;32m   3809\u001b[0m         \u001b[38;5;129;01mand\u001b[39;00m \u001b[38;5;28many\u001b[39m(\u001b[38;5;28misinstance\u001b[39m(x, \u001b[38;5;28mslice\u001b[39m) \u001b[38;5;28;01mfor\u001b[39;00m x \u001b[38;5;129;01min\u001b[39;00m casted_key)\n\u001b[0;32m   3810\u001b[0m     ):\n\u001b[0;32m   3811\u001b[0m         \u001b[38;5;28;01mraise\u001b[39;00m InvalidIndexError(key)\n\u001b[1;32m-> 3812\u001b[0m     \u001b[38;5;28;01mraise\u001b[39;00m \u001b[38;5;167;01mKeyError\u001b[39;00m(key) \u001b[38;5;28;01mfrom\u001b[39;00m \u001b[38;5;21;01merr\u001b[39;00m\n\u001b[0;32m   3813\u001b[0m \u001b[38;5;28;01mexcept\u001b[39;00m \u001b[38;5;167;01mTypeError\u001b[39;00m:\n\u001b[0;32m   3814\u001b[0m     \u001b[38;5;66;03m# If we have a listlike key, _check_indexing_error will raise\u001b[39;00m\n\u001b[0;32m   3815\u001b[0m     \u001b[38;5;66;03m#  InvalidIndexError. Otherwise we fall through and re-raise\u001b[39;00m\n\u001b[0;32m   3816\u001b[0m     \u001b[38;5;66;03m#  the TypeError.\u001b[39;00m\n\u001b[0;32m   3817\u001b[0m     \u001b[38;5;28mself\u001b[39m\u001b[38;5;241m.\u001b[39m_check_indexing_error(key)\n",
      "\u001b[1;31mKeyError\u001b[0m: 0"
     ]
    }
   ],
   "source": [
    "for df in lista_df_limpios:    \n",
    "    for i in range(1, len(lustros)):\n",
    "        tupla = insertar_canciones(df,i)\n",
    "        mycursor.executemany(query_canciones, tupla)\n",
    "        cnx.commit()\n",
    "    "
   ]
  },
  {
   "cell_type": "code",
   "execution_count": 27,
   "metadata": {},
   "outputs": [],
   "source": [
    "cnx.close()"
   ]
  },
  {
   "cell_type": "code",
   "execution_count": null,
   "metadata": {},
   "outputs": [],
   "source": []
  }
 ],
 "metadata": {
  "kernelspec": {
   "display_name": "base",
   "language": "python",
   "name": "python3"
  },
  "language_info": {
   "codemirror_mode": {
    "name": "ipython",
    "version": 3
   },
   "file_extension": ".py",
   "mimetype": "text/x-python",
   "name": "python",
   "nbconvert_exporter": "python",
   "pygments_lexer": "ipython3",
   "version": "3.12.7"
  }
 },
 "nbformat": 4,
 "nbformat_minor": 2
}
